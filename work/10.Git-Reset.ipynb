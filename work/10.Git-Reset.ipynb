{
 "cells": [
  {
   "cell_type": "markdown",
   "id": "8176d389-745d-49aa-bd7e-82bc857f4647",
   "metadata": {},
   "source": [
    "# Основы работы с Git - Сброс"
   ]
  },
  {
   "cell_type": "code",
   "execution_count": null,
   "id": "50dbf9f1-7b05-4ea7-ae5e-8724e5af3a40",
   "metadata": {
    "tags": []
   },
   "outputs": [],
   "source": [
    "cd ~/repo"
   ]
  },
  {
   "cell_type": "markdown",
   "id": "292a5322-ac8d-4b47-ac1f-f79f0fb2dcd0",
   "metadata": {},
   "source": [
    "## Мотивация"
   ]
  },
  {
   "cell_type": "markdown",
   "id": "66aa6db3-9479-4efb-ba63-c572f4b299ab",
   "metadata": {},
   "source": [
    "Команда `git reset` позволяет поменять коммит на который указывает активная ветка."
   ]
  },
  {
   "cell_type": "code",
   "execution_count": null,
   "id": "eacacbff-00f6-49ab-a7f4-5c07743c101c",
   "metadata": {
    "tags": []
   },
   "outputs": [],
   "source": [
    "git log -n 1"
   ]
  },
  {
   "cell_type": "markdown",
   "id": "a3abe24f-7f3b-4c65-84ca-181c4e7e46af",
   "metadata": {
    "tags": []
   },
   "source": [
    "### Создать новую ветку"
   ]
  },
  {
   "cell_type": "code",
   "execution_count": null,
   "id": "97c5866d-c787-4121-a689-fdf488bc2e39",
   "metadata": {
    "tags": []
   },
   "outputs": [],
   "source": [
    "git checkout -b reset-demo master"
   ]
  },
  {
   "cell_type": "code",
   "execution_count": 6,
   "id": "d3f24978-90cc-4122-9fb1-eba671288225",
   "metadata": {
    "tags": []
   },
   "outputs": [
    {
     "name": "stdout",
     "output_type": "stream",
     "text": [
      "commit 5605ce2ce6e1a9bc82795553765a284d4b900935 (HEAD -> reset-demo, tag: 0.1.0, master)\n",
      "Author: Nikita Eshkeev <neshkeev@yandex.ru>\n",
      "Date:   Tue Sep 5 20:27:58 2023 +0000\n",
      "\n",
      "    Добавить cherry-pick.txt\n"
     ]
    }
   ],
   "source": [
    "git log -n 1"
   ]
  },
  {
   "cell_type": "markdown",
   "id": "2bd4666d-2f00-4c45-a295-eb271bfb93f1",
   "metadata": {},
   "source": [
    "### Посмотреть список веток"
   ]
  },
  {
   "cell_type": "code",
   "execution_count": 7,
   "id": "b7c0b5fd-bbbb-47fb-b692-92d06dbe2cc2",
   "metadata": {
    "tags": []
   },
   "outputs": [
    {
     "name": "stdout",
     "output_type": "stream",
     "text": [
      "  master\n",
      "  new-feature\n",
      "  new-feature2\n",
      "* reset-demo\n"
     ]
    }
   ],
   "source": [
    "git branch"
   ]
  },
  {
   "cell_type": "code",
   "execution_count": 8,
   "id": "b2435612-a830-4a13-a7b4-50e6679016db",
   "metadata": {
    "tags": []
   },
   "outputs": [
    {
     "name": "stdout",
     "output_type": "stream",
     "text": [
      "commit e880c42a9f5b6277d3b1e71c057772f3c2227bc0 (new-feature2)\n",
      "Author: Nikita Eshkeev <neshkeev@yandex.ru>\n",
      "Date:   Tue Sep 5 19:35:31 2023 +0000\n",
      "\n",
      "    Добавить world.txt\n"
     ]
    }
   ],
   "source": [
    "git log -n 1 new-feature2"
   ]
  },
  {
   "cell_type": "markdown",
   "id": "ecda2ad3-9ada-42bd-a71c-bd2bb63f0f77",
   "metadata": {
    "tags": []
   },
   "source": [
    "### Переключить указатель текущей активной ветки"
   ]
  },
  {
   "cell_type": "code",
   "execution_count": 9,
   "id": "bb851f05-c949-4c59-8713-3385a94468ee",
   "metadata": {
    "tags": []
   },
   "outputs": [
    {
     "name": "stdout",
     "output_type": "stream",
     "text": [
      "commit 5605ce2ce6e1a9bc82795553765a284d4b900935 (HEAD -> reset-demo, tag: 0.1.0, master)\n",
      "Author: Nikita Eshkeev <neshkeev@yandex.ru>\n",
      "Date:   Tue Sep 5 20:27:58 2023 +0000\n",
      "\n",
      "    Добавить cherry-pick.txt\n"
     ]
    }
   ],
   "source": [
    "git log -n 1"
   ]
  },
  {
   "cell_type": "code",
   "execution_count": 10,
   "id": "175810fe-3588-4c7c-9b68-86c96296d6fb",
   "metadata": {
    "tags": []
   },
   "outputs": [
    {
     "name": "stdout",
     "output_type": "stream",
     "text": [
      "total 40\n",
      "-rw-r--r-- 1 jovyan users   3 Sep  5 19:41 42.txt\n",
      "-rw-r--r-- 1 jovyan users  99 Sep  5 20:31 cherry-pick2.txt\n",
      "-rw-r--r-- 1 jovyan users  99 Sep  5 20:28 cherry-pick.txt\n",
      "-rw-r--r-- 1 jovyan users   0 Sep  5 20:20 first\n",
      "-rw-r--r-- 1 jovyan users   6 Sep  5 19:41 hello.txt\n",
      "-rwxr-xr-x 1 jovyan users 100 Sep  5 20:03 index.html\n",
      "-rw-r--r-- 1 jovyan users   0 Sep  5 20:05 new_file.txt\n",
      "-rw-r--r-- 1 jovyan users 170 Sep  5 20:19 NOTICE.txt\n",
      "-rw-r--r-- 1 jovyan users 155 Sep  5 19:48 README.md\n",
      "-rw-r--r-- 1 jovyan users   0 Sep  5 20:20 second\n",
      "-rwxr-xr-x 1 jovyan users  75 Sep  5 20:04 styles.css\n",
      "-rw-r--r-- 1 jovyan users   6 Sep  5 20:11 version.txt\n",
      "-rw-r--r-- 1 jovyan users   6 Sep  5 19:41 world.txt\n"
     ]
    }
   ],
   "source": [
    "ls -l"
   ]
  },
  {
   "cell_type": "code",
   "execution_count": 11,
   "id": "a87a4f07-528d-40ec-b809-30ff9c99eb0d",
   "metadata": {
    "tags": []
   },
   "outputs": [
    {
     "name": "stdout",
     "output_type": "stream",
     "text": [
      "HEAD is now at e880c42 Добавить world.txt\n"
     ]
    }
   ],
   "source": [
    "git reset --hard new-feature2"
   ]
  },
  {
   "cell_type": "code",
   "execution_count": 12,
   "id": "d7134884-ca9a-4cd6-b8ce-14499a1170da",
   "metadata": {
    "tags": []
   },
   "outputs": [
    {
     "name": "stdout",
     "output_type": "stream",
     "text": [
      "commit e880c42a9f5b6277d3b1e71c057772f3c2227bc0 (HEAD -> reset-demo, new-feature2)\n",
      "Author: Nikita Eshkeev <neshkeev@yandex.ru>\n",
      "Date:   Tue Sep 5 19:35:31 2023 +0000\n",
      "\n",
      "    Добавить world.txt\n"
     ]
    }
   ],
   "source": [
    "git log -n 1"
   ]
  },
  {
   "cell_type": "code",
   "execution_count": 13,
   "id": "8ae51258-440b-4609-b1aa-d80106f7c152",
   "metadata": {
    "tags": []
   },
   "outputs": [
    {
     "name": "stdout",
     "output_type": "stream",
     "text": [
      "total 16\n",
      "-rwxr-xr-x 1 jovyan users 93 Sep  5 20:41 index.html\n",
      "-rw-r--r-- 1 jovyan users 47 Sep  5 20:41 README.md\n",
      "-rwxr-xr-x 1 jovyan users 57 Sep  5 20:41 styles.css\n",
      "-rw-r--r-- 1 jovyan users  6 Sep  5 19:41 world.txt\n"
     ]
    }
   ],
   "source": [
    "ls -l"
   ]
  },
  {
   "cell_type": "markdown",
   "id": "c084273e-a945-4561-93e2-f66657900417",
   "metadata": {
    "tags": []
   },
   "source": [
    "### Переключить указатель на коммит"
   ]
  },
  {
   "cell_type": "code",
   "execution_count": 14,
   "id": "0c5c1031-1e6b-4271-b101-c75bfc622d13",
   "metadata": {
    "tags": []
   },
   "outputs": [
    {
     "name": "stdout",
     "output_type": "stream",
     "text": [
      "HEAD is now at 5605ce2 Добавить cherry-pick.txt\n"
     ]
    }
   ],
   "source": [
    "git reset --hard 0.1.0"
   ]
  },
  {
   "cell_type": "code",
   "execution_count": 15,
   "id": "d0d4f12a-4a8f-4fa4-a05b-1f21ca6ff158",
   "metadata": {
    "tags": []
   },
   "outputs": [
    {
     "name": "stdout",
     "output_type": "stream",
     "text": [
      "commit 5605ce2ce6e1a9bc82795553765a284d4b900935 (HEAD -> reset-demo, tag: 0.1.0, master)\n",
      "Author: Nikita Eshkeev <neshkeev@yandex.ru>\n",
      "Date:   Tue Sep 5 20:27:58 2023 +0000\n",
      "\n",
      "    Добавить cherry-pick.txt\n"
     ]
    }
   ],
   "source": [
    "git log -n 1"
   ]
  },
  {
   "cell_type": "code",
   "execution_count": 16,
   "id": "4eb2a5bb-e5ac-46ad-a6c2-3a0ca8c2ba44",
   "metadata": {
    "tags": []
   },
   "outputs": [
    {
     "name": "stdout",
     "output_type": "stream",
     "text": [
      "total 40\n",
      "-rw-r--r-- 1 jovyan users   3 Sep  5 20:41 42.txt\n",
      "-rw-r--r-- 1 jovyan users  99 Sep  5 20:41 cherry-pick2.txt\n",
      "-rw-r--r-- 1 jovyan users  99 Sep  5 20:41 cherry-pick.txt\n",
      "-rw-r--r-- 1 jovyan users   0 Sep  5 20:41 first\n",
      "-rw-r--r-- 1 jovyan users   6 Sep  5 20:41 hello.txt\n",
      "-rwxr-xr-x 1 jovyan users 100 Sep  5 20:41 index.html\n",
      "-rw-r--r-- 1 jovyan users   0 Sep  5 20:41 new_file.txt\n",
      "-rw-r--r-- 1 jovyan users 170 Sep  5 20:41 NOTICE.txt\n",
      "-rw-r--r-- 1 jovyan users 155 Sep  5 20:41 README.md\n",
      "-rw-r--r-- 1 jovyan users   0 Sep  5 20:41 second\n",
      "-rwxr-xr-x 1 jovyan users  75 Sep  5 20:41 styles.css\n",
      "-rw-r--r-- 1 jovyan users   6 Sep  5 20:41 version.txt\n",
      "-rw-r--r-- 1 jovyan users   6 Sep  5 19:41 world.txt\n"
     ]
    }
   ],
   "source": [
    "ls -l"
   ]
  },
  {
   "cell_type": "markdown",
   "id": "ad8f09ff-346f-4054-8d9c-d4c9d3e26481",
   "metadata": {
    "tags": []
   },
   "source": [
    "### Удалить коммит"
   ]
  },
  {
   "cell_type": "markdown",
   "id": "d2732643-55c3-4a01-957d-09092828d13d",
   "metadata": {},
   "source": [
    "Команда `git reset` позволяет перекинуть указатель текущей ветки на другой коммит, а значит можно просто перекинуть указатель на предыдущий коммит, что позволит \"удалить\" текущий коммит:"
   ]
  },
  {
   "cell_type": "code",
   "execution_count": 17,
   "id": "b9d027f4-e14c-4160-b8e4-fe227e78e509",
   "metadata": {
    "tags": []
   },
   "outputs": [
    {
     "name": "stdout",
     "output_type": "stream",
     "text": [
      "commit 5605ce2ce6e1a9bc82795553765a284d4b900935 (HEAD -> reset-demo, tag: 0.1.0, master)\n",
      "Author: Nikita Eshkeev <neshkeev@yandex.ru>\n",
      "Date:   Tue Sep 5 20:27:58 2023 +0000\n",
      "\n",
      "    Добавить cherry-pick.txt\n",
      "\n",
      "commit 6c90d08c53c757616f7eb1697b2cfa481b19eb52\n",
      "Author: Nikita Eshkeev <neshkeev@yandex.ru>\n",
      "Date:   Tue Sep 5 20:28:11 2023 +0000\n",
      "\n",
      "    Добавить cherry-pick2.txt\n"
     ]
    }
   ],
   "source": [
    "git log -n 2"
   ]
  },
  {
   "cell_type": "code",
   "execution_count": 18,
   "id": "8a0e2e26-1135-4e69-8bab-84331233eddf",
   "metadata": {
    "tags": []
   },
   "outputs": [
    {
     "name": "stdout",
     "output_type": "stream",
     "text": [
      "HEAD is now at 6c90d08 Добавить cherry-pick2.txt\n"
     ]
    }
   ],
   "source": [
    "git reset --hard HEAD^"
   ]
  },
  {
   "cell_type": "code",
   "execution_count": 19,
   "id": "1b08c337-822a-4c86-a678-cc0864078fc3",
   "metadata": {
    "tags": []
   },
   "outputs": [
    {
     "name": "stdout",
     "output_type": "stream",
     "text": [
      "commit 6c90d08c53c757616f7eb1697b2cfa481b19eb52 (HEAD -> reset-demo)\n",
      "Author: Nikita Eshkeev <neshkeev@yandex.ru>\n",
      "Date:   Tue Sep 5 20:28:11 2023 +0000\n",
      "\n",
      "    Добавить cherry-pick2.txt\n"
     ]
    }
   ],
   "source": [
    "git log -n 1"
   ]
  },
  {
   "cell_type": "markdown",
   "id": "b9c0a79e-b612-411f-8335-4347f9ba2922",
   "metadata": {
    "tags": []
   },
   "source": [
    "### Восстановить коммит"
   ]
  },
  {
   "cell_type": "markdown",
   "id": "32946348-bf48-44ff-b4ed-06016a7f9c35",
   "metadata": {},
   "source": [
    "Удаленный коммит по прежнему доступен в репозитории"
   ]
  },
  {
   "cell_type": "code",
   "execution_count": 20,
   "id": "da2457c5-97dd-49d2-868b-4a154a65e0c3",
   "metadata": {
    "tags": []
   },
   "outputs": [
    {
     "name": "stdout",
     "output_type": "stream",
     "text": [
      "6c90d08 (HEAD -> reset-demo) HEAD@{0}: reset: moving to HEAD^\n",
      "5605ce2 (tag: 0.1.0, master) HEAD@{1}: reset: moving to 0.1.0\n",
      "e880c42 (new-feature2) HEAD@{2}: reset: moving to new-feature2\n",
      "5605ce2 (tag: 0.1.0, master) HEAD@{3}: checkout: moving from master to reset-demo\n",
      "5605ce2 (tag: 0.1.0, master) HEAD@{4}: checkout: moving from revert-demo to master\n"
     ]
    }
   ],
   "source": [
    "git reflog -n 5"
   ]
  },
  {
   "cell_type": "code",
   "execution_count": 21,
   "id": "ba4195e6-9948-44a1-8cbe-15dc6522e4bd",
   "metadata": {
    "tags": []
   },
   "outputs": [
    {
     "name": "stdout",
     "output_type": "stream",
     "text": [
      "commit 5605ce2ce6e1a9bc82795553765a284d4b900935 (tag: 0.1.0, master)\n",
      "Author: Nikita Eshkeev <neshkeev@yandex.ru>\n",
      "Date:   Tue Sep 5 20:27:58 2023 +0000\n",
      "\n",
      "    Добавить cherry-pick.txt\n",
      "\n",
      "diff --git a/cherry-pick.txt b/cherry-pick.txt\n",
      "new file mode 100644\n",
      "index 0000000..87b5cbc\n",
      "--- /dev/null\n",
      "+++ b/cherry-pick.txt\n",
      "@@ -0,0 +1 @@\n",
      "+Эта строка появится в коммите в ветке master через cherry-pick\n"
     ]
    }
   ],
   "source": [
    "git show HEAD@{1}"
   ]
  },
  {
   "cell_type": "markdown",
   "id": "5a462c53-2376-4e15-8317-e3cd86fcc70d",
   "metadata": {},
   "source": [
    "а значит его можно восстановить:"
   ]
  },
  {
   "cell_type": "code",
   "execution_count": 23,
   "id": "ea7e85ba-5b49-441f-8917-55656fd4046a",
   "metadata": {
    "tags": []
   },
   "outputs": [
    {
     "name": "stdout",
     "output_type": "stream",
     "text": [
      "HEAD is now at 6c90d08 Добавить cherry-pick2.txt\n"
     ]
    }
   ],
   "source": [
    "git reset --hard HEAD@{1}"
   ]
  },
  {
   "cell_type": "code",
   "execution_count": 24,
   "id": "8b926812-98c2-4155-a1db-104286451bde",
   "metadata": {
    "tags": []
   },
   "outputs": [
    {
     "name": "stdout",
     "output_type": "stream",
     "text": [
      "commit 6c90d08c53c757616f7eb1697b2cfa481b19eb52 (HEAD -> reset-demo)\n",
      "Author: Nikita Eshkeev <neshkeev@yandex.ru>\n",
      "Date:   Tue Sep 5 20:28:11 2023 +0000\n",
      "\n",
      "    Добавить cherry-pick2.txt\n"
     ]
    }
   ],
   "source": [
    "git log -n 1"
   ]
  },
  {
   "cell_type": "markdown",
   "id": "fee95f34-d328-47c2-8056-38e51daa9d51",
   "metadata": {
    "tags": []
   },
   "source": [
    "## Задание"
   ]
  },
  {
   "cell_type": "markdown",
   "id": "99bd1324-8c16-4c30-83cf-e6aa0a0a0580",
   "metadata": {},
   "source": [
    "1. Удалить последние два коммита из `new-feature`;\n",
    "1. Создать ветку `new-feature-restored` на базе коммита, на который указывал `new-feature` до удаления коммитов."
   ]
  },
  {
   "cell_type": "code",
   "execution_count": null,
   "id": "ebc6ae51-bfd8-4889-9be5-ec384dc03a2a",
   "metadata": {},
   "outputs": [],
   "source": []
  }
 ],
 "metadata": {
  "kernelspec": {
   "display_name": "Bash",
   "language": "bash",
   "name": "bash"
  },
  "language_info": {
   "codemirror_mode": "shell",
   "file_extension": ".sh",
   "mimetype": "text/x-sh",
   "name": "bash"
  }
 },
 "nbformat": 4,
 "nbformat_minor": 5
}
