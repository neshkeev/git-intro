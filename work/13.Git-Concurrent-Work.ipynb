{
 "cells": [
  {
   "cell_type": "markdown",
   "id": "de658c18-a3a8-4b71-9ec9-dbe55ce7c8ae",
   "metadata": {
    "tags": []
   },
   "source": [
    "# Основы работы с Git"
   ]
  },
  {
   "cell_type": "code",
   "execution_count": 5,
   "id": "61102b26-be8d-4cde-8117-fd1ddbe80c98",
   "metadata": {
    "tags": []
   },
   "outputs": [],
   "source": [
    "cd ~/repo"
   ]
  },
  {
   "cell_type": "markdown",
   "id": "d587e860-cef2-44a7-9e2c-73928a53b32d",
   "metadata": {
    "tags": []
   },
   "source": [
    "## Совместная работа над проектом"
   ]
  },
  {
   "cell_type": "markdown",
   "id": "9b12bbb3-2bf9-4dec-85b9-819717300650",
   "metadata": {},
   "source": [
    "При совместной работе над проектом существует один центральный репозиторий, а у каждого члена команды есть полная копия этого репозитория на локальном компьютере. При такой ситуации неизбежно могут возникать вопросы при синхронизации локальных репозиториев с центральным репозиторием. "
   ]
  },
  {
   "cell_type": "markdown",
   "id": "22812fa8-e7ce-4cc4-a8d0-26965bd48ba3",
   "metadata": {
    "tags": []
   },
   "source": [
    "## Локальные и удаленные ветки"
   ]
  },
  {
   "cell_type": "markdown",
   "id": "67893bd3-a943-4a67-9369-56da4a5c8684",
   "metadata": {},
   "source": [
    "Локальный репозиторий, для которого указана ссылка на центральный репозиторий, имеет два типа веток:\n",
    "\n",
    "- локальные - ветки, которые создал сам программист\n",
    "- удаленные - ветки, которые являются копиями веток в центральном репозитории\n",
    "\n",
    "При обновлении локального репозитория git обновляет удаленные ветки, из которых программист уже самостоятельно копирует изменения в свои локальные ветки"
   ]
  },
  {
   "cell_type": "markdown",
   "id": "a1e37c97-9d43-4eb4-8648-f5c9e0374baf",
   "metadata": {},
   "source": [
    "Получить список локальных веток:"
   ]
  },
  {
   "cell_type": "code",
   "execution_count": 6,
   "id": "d492f5b4-e1dd-4000-9cc1-d1b2d9e7138a",
   "metadata": {
    "tags": []
   },
   "outputs": [
    {
     "name": "stdout",
     "output_type": "stream",
     "text": [
      "* master\n",
      "  new-feature\n",
      "  new-feature2\n",
      "  reset-demo\n"
     ]
    }
   ],
   "source": [
    "git branch"
   ]
  },
  {
   "cell_type": "markdown",
   "id": "7dc02b9b-5176-409d-bc21-415a098521a1",
   "metadata": {
    "tags": []
   },
   "source": [
    "Получить список удаленных (remote) веток:"
   ]
  },
  {
   "cell_type": "code",
   "execution_count": 8,
   "id": "21bfdcaf-8ab2-4896-8e8d-563f2465d627",
   "metadata": {
    "tags": []
   },
   "outputs": [
    {
     "name": "stdout",
     "output_type": "stream",
     "text": [
      "  origin/master\n",
      "  origin/new-feature\n",
      "  origin/new-feature2\n",
      "  origin/reset-demo\n"
     ]
    }
   ],
   "source": [
    "git branch -r"
   ]
  },
  {
   "cell_type": "markdown",
   "id": "bed8ee73-e991-4f97-9d61-f6c14a11b979",
   "metadata": {
    "tags": []
   },
   "source": [
    "Получить список всех веток (локальных и удаленных):"
   ]
  },
  {
   "cell_type": "code",
   "execution_count": 10,
   "id": "3fa56a00-4504-4ede-8b5d-9238d2a1ade3",
   "metadata": {
    "tags": []
   },
   "outputs": [
    {
     "name": "stdout",
     "output_type": "stream",
     "text": [
      "* master\n",
      "  new-feature\n",
      "  new-feature2\n",
      "  reset-demo\n",
      "  remotes/origin/master\n",
      "  remotes/origin/new-feature\n",
      "  remotes/origin/new-feature2\n",
      "  remotes/origin/reset-demo\n"
     ]
    }
   ],
   "source": [
    "git branch -a"
   ]
  },
  {
   "cell_type": "markdown",
   "id": "a42a8426-52bd-4485-9e22-9815037e8ec8",
   "metadata": {},
   "source": [
    "## Команда `git fetch`"
   ]
  },
  {
   "cell_type": "markdown",
   "id": "a1eb843c-50ae-4b83-a18f-06697f17fc67",
   "metadata": {},
   "source": [
    "Команда `git fetch` позволяет обновить удаленные ветки в локальном репозитории:"
   ]
  },
  {
   "cell_type": "code",
   "execution_count": 11,
   "id": "7fb38b5d-8940-4fdc-8d5d-2af881d01aae",
   "metadata": {
    "tags": []
   },
   "outputs": [],
   "source": [
    "git fetch origin"
   ]
  },
  {
   "cell_type": "markdown",
   "id": "5864919a-d8cd-4d70-89ec-5a924312fd86",
   "metadata": {},
   "source": [
    "В качестве параметра команда `git fetch` принимает алиас центрального репозитория. Посмотреть все алиасы центральных репозиториев можно при помощи команды `git remote`:"
   ]
  },
  {
   "cell_type": "code",
   "execution_count": 12,
   "id": "6e54f5dc-2f7e-4de7-917a-e207e93ae492",
   "metadata": {
    "tags": []
   },
   "outputs": [
    {
     "name": "stdout",
     "output_type": "stream",
     "text": [
      "origin\t/home/jovyan/remote/origin.git (fetch)\n",
      "origin\t/home/jovyan/remote/origin.git (push)\n"
     ]
    }
   ],
   "source": [
    "git remote -v"
   ]
  },
  {
   "cell_type": "markdown",
   "id": "b80401a7-a3d8-4907-8689-86683903d691",
   "metadata": {},
   "source": [
    "После обновления удаленных веток необходимо обновить локальные ветки, для этих целей используется команда `git merge`"
   ]
  },
  {
   "cell_type": "code",
   "execution_count": 13,
   "id": "87e0b2ed-dfc8-439d-8935-8839a57e89cc",
   "metadata": {
    "tags": []
   },
   "outputs": [
    {
     "name": "stdout",
     "output_type": "stream",
     "text": [
      "Already on 'master'\n",
      "Your branch is up to date with 'origin/master'.\n"
     ]
    }
   ],
   "source": [
    "git checkout master"
   ]
  },
  {
   "cell_type": "code",
   "execution_count": 14,
   "id": "2a6113de-4802-49d8-a0f0-0191b04ea186",
   "metadata": {
    "tags": []
   },
   "outputs": [
    {
     "name": "stdout",
     "output_type": "stream",
     "text": [
      "Already up to date.\n"
     ]
    }
   ],
   "source": [
    "git merge origin/master"
   ]
  },
  {
   "cell_type": "markdown",
   "id": "13f0c062-cde0-4e17-9feb-779485ee5541",
   "metadata": {
    "tags": []
   },
   "source": [
    "## Команда `git pull`"
   ]
  },
  {
   "cell_type": "markdown",
   "id": "23566efc-43f9-4edd-9ec2-6d75fb852613",
   "metadata": {},
   "source": [
    "Очень часто команды `git fetch` и `git pull` идут друг за другом, поэтому в git существует команда `git pull` которая последовательно запускает их по очереди:"
   ]
  },
  {
   "cell_type": "code",
   "execution_count": 17,
   "id": "64ffadbe-2227-45cd-983e-af1ed085df4e",
   "metadata": {
    "tags": []
   },
   "outputs": [
    {
     "name": "stdout",
     "output_type": "stream",
     "text": [
      "From /home/jovyan/remote/origin\n",
      " * branch            master     -> FETCH_HEAD\n",
      "Already up to date.\n"
     ]
    }
   ],
   "source": [
    "git pull origin master"
   ]
  },
  {
   "cell_type": "markdown",
   "id": "923b4097-b8f3-4e03-ada3-4b26c53dee9e",
   "metadata": {},
   "source": [
    "Я на практике не использую команду `git pull`, потому что `git fetch` + `git merge` дает больше контроля над процессом"
   ]
  },
  {
   "cell_type": "markdown",
   "id": "0b0dcf8a-54d6-4bac-a48b-df6c95fd89d1",
   "metadata": {
    "tags": []
   },
   "source": [
    "## Обновление ветки `master`"
   ]
  },
  {
   "cell_type": "markdown",
   "id": "29c15880-ced2-408a-a2a8-ddbef1e59153",
   "metadata": {},
   "source": [
    "Хорошим правилом является исключение фиксации (коммита) любых изменений напрямую в локальной ветке `master`. Если следовать этому правилу, то можно обновлять ветку `master` при помощи комбинации команд `git fetch` + `git reset`:\n",
    "\n",
    "- git fetch - выкачает последние изменения из репозитория\n",
    "- git reset - просто переключит локальную ветку `master` на коммит, на который указывает `origin/master`"
   ]
  },
  {
   "cell_type": "code",
   "execution_count": 19,
   "id": "a6de5520-b532-4832-b3a1-54efb95295b0",
   "metadata": {
    "tags": []
   },
   "outputs": [],
   "source": [
    "git fetch origin"
   ]
  },
  {
   "cell_type": "code",
   "execution_count": 20,
   "id": "68be6cd6-49b0-43c6-9174-5be4a33a1925",
   "metadata": {
    "tags": []
   },
   "outputs": [
    {
     "name": "stdout",
     "output_type": "stream",
     "text": [
      "HEAD is now at 5299e1f Добавить cherry-pick.txt\n"
     ]
    }
   ],
   "source": [
    "git reset --hard origin/master"
   ]
  },
  {
   "cell_type": "markdown",
   "id": "0592b11f-6143-435f-85e0-2818992f82ae",
   "metadata": {},
   "source": [
    "## Команда `git rebase`"
   ]
  },
  {
   "cell_type": "markdown",
   "id": "f773a505-fe3c-418e-ae13-440f976d168b",
   "metadata": {},
   "source": [
    "Команда `git rebase` позволяет реорганизовать порядок коммитов в ветке таким образом, что сначала в текущей ветке появятся коммиты, которые есть только в другой ветке, а за ними пойдут коммиты, которых нет в той другой ветке: "
   ]
  },
  {
   "cell_type": "code",
   "execution_count": 21,
   "id": "7b828106-f7cb-4c1d-902f-abcb95381a33",
   "metadata": {
    "tags": []
   },
   "outputs": [
    {
     "name": "stdout",
     "output_type": "stream",
     "text": [
      "Switched to a new branch 'rebase-demo'\n"
     ]
    }
   ],
   "source": [
    "git checkout -b rebase-demo"
   ]
  },
  {
   "cell_type": "code",
   "execution_count": 22,
   "id": "20b07dc8-133b-4973-9074-40a9242a6105",
   "metadata": {
    "tags": []
   },
   "outputs": [],
   "source": [
    "echo \"Rebase\" > rebase.txt"
   ]
  },
  {
   "cell_type": "code",
   "execution_count": 23,
   "id": "1790842b-632e-4787-b1ff-d1aab9711245",
   "metadata": {
    "tags": []
   },
   "outputs": [
    {
     "name": "stdout",
     "output_type": "stream",
     "text": [
      "[rebase-demo fb73d4a] Добавить reabse.txt\n",
      " 1 file changed, 1 insertion(+)\n",
      " create mode 100644 rebase.txt\n"
     ]
    }
   ],
   "source": [
    "git add rebase.txt && git commit -m \"Добавить reabse.txt\""
   ]
  },
  {
   "cell_type": "code",
   "execution_count": 24,
   "id": "0df34a66-744e-46ad-bed2-82e6c2a07bca",
   "metadata": {
    "tags": []
   },
   "outputs": [],
   "source": [
    "echo \"Контент для rebase\" > rebase2.txt"
   ]
  },
  {
   "cell_type": "code",
   "execution_count": 25,
   "id": "7e361167-0b4f-4240-8117-729e3a3fed5a",
   "metadata": {
    "tags": []
   },
   "outputs": [
    {
     "name": "stdout",
     "output_type": "stream",
     "text": [
      "[rebase-demo f5f383b] Добавить reabse2.txt\n",
      " 1 file changed, 1 insertion(+)\n",
      " create mode 100644 rebase2.txt\n"
     ]
    }
   ],
   "source": [
    "git add rebase2.txt && git commit -m \"Добавить reabse2.txt\""
   ]
  },
  {
   "cell_type": "code",
   "execution_count": 42,
   "id": "9aece17a-9ffe-4c06-bcd7-5a46d9e34d10",
   "metadata": {
    "tags": []
   },
   "outputs": [
    {
     "name": "stdout",
     "output_type": "stream",
     "text": [
      "f5f383b (HEAD -> rebase-demo) Добавить reabse2.txt\n",
      "fb73d4a Добавить reabse.txt\n",
      "5299e1f (origin/master, master) Добавить cherry-pick.txt\n",
      "74722ab Добавить cherry-pick2.txt\n",
      "3329447 Установить 10% значение width в styles.css\n",
      "2c74b8f Установить 20% значение width в styles.css\n",
      "13cdfb7 Установить 30% значение width в styles.css\n",
      "c627f9d Установить 40% значение width в styles.css\n",
      "0189734 Установить 50% значение width в styles.css\n",
      "eec6f5f Установить 60% значение width в styles.css\n",
      "31834c2 Установить 70% значение width в styles.css\n",
      "4fae7fe Установить 80% значение width в styles.css\n",
      "28ba2ad Установить 90% значение width в styles.css\n",
      "a68afc3 Использовать styles.css в index.html\n",
      "3900b17 (tag: 0.1.0, origin/reset-demo, reset-demo) Зафиксировать изменения после git add --all\n",
      "68b7308 Добавить файл NOTICE.txt\n",
      "51e1493 Зафиксировать изменения после git add --all\n",
      "04e82ee Добавить файл NOTICE.txt\n",
      "e66c996 Изменить версию на 0.1.0 в файле version.txt\n",
      "5e91101 Добавить version.txt\n",
      "50ca3d3 Добавить new_file.txt\n",
      "e75edfb Изменить цвет фона и ширину <body>\n",
      "3f810d0 Обернуть First git repo в тэг <p>\n",
      "94f03e6 Добавить коммит при помощи алиаса co\n",
      "4579f51 Изменить заголовок index.html\n",
      "75b5b46 Добавить styles.css\n",
      "b110b6d Добавить index.html\n",
      "22c9e11 Мой первый файл в Git репозитории\n"
     ]
    }
   ],
   "source": [
    "git log -n 30 --oneline rebase-demo"
   ]
  },
  {
   "cell_type": "code",
   "execution_count": 43,
   "id": "b6a02e27-ae4d-4c1f-82bd-eae21b345d75",
   "metadata": {
    "tags": []
   },
   "outputs": [
    {
     "name": "stdout",
     "output_type": "stream",
     "text": [
      "d689615 (origin/new-feature, new-feature) Добавить 42.txt\n",
      "a7805e2 Добавить hello.txt\n"
     ]
    }
   ],
   "source": [
    "git log HEAD..new-feature --oneline"
   ]
  },
  {
   "cell_type": "code",
   "execution_count": 44,
   "id": "8681f4c3-e0af-4887-a063-1ef400c95205",
   "metadata": {
    "tags": []
   },
   "outputs": [
    {
     "name": "stdout",
     "output_type": "stream",
     "text": [
      "  master\n",
      "  new-feature\n",
      "  new-feature2\n",
      "* rebase-demo\n",
      "  reset-demo\n"
     ]
    }
   ],
   "source": [
    "git branch"
   ]
  },
  {
   "cell_type": "code",
   "execution_count": 45,
   "id": "032d164c-5083-416f-854f-7c9258068310",
   "metadata": {
    "tags": []
   },
   "outputs": [
    {
     "name": "stdout",
     "output_type": "stream",
     "text": [
      "Successfully rebased and updated refs/heads/rebase-demo.                                        \n"
     ]
    }
   ],
   "source": [
    "git rebase new-feature"
   ]
  },
  {
   "cell_type": "code",
   "execution_count": 46,
   "id": "99c1c515-e20d-43dd-8699-5264097d6ae8",
   "metadata": {
    "tags": []
   },
   "outputs": [
    {
     "name": "stdout",
     "output_type": "stream",
     "text": [
      "81df2e5 (HEAD -> rebase-demo) Добавить reabse2.txt\n",
      "56bb007 Добавить reabse.txt\n",
      "09287c7 Добавить cherry-pick.txt\n",
      "07fe77d Добавить cherry-pick2.txt\n",
      "7c38b73 Установить 10% значение width в styles.css\n",
      "2e82d38 Установить 20% значение width в styles.css\n",
      "b9faea5 Установить 30% значение width в styles.css\n",
      "4210f01 Установить 40% значение width в styles.css\n",
      "a706682 Установить 50% значение width в styles.css\n",
      "7317c9c Установить 60% значение width в styles.css\n",
      "29facb7 Установить 70% значение width в styles.css\n",
      "e61229b Установить 80% значение width в styles.css\n",
      "333c7da Установить 90% значение width в styles.css\n",
      "2a9119d Использовать styles.css в index.html\n",
      "d23730b Зафиксировать изменения после git add --all\n",
      "97ce041 Добавить файл NOTICE.txt\n",
      "dcbba5f Зафиксировать изменения после git add --all\n",
      "cc2f993 Добавить файл NOTICE.txt\n",
      "0c4c7f6 Изменить версию на 0.1.0 в файле version.txt\n",
      "e7d6f01 Добавить version.txt\n",
      "44b7743 Добавить new_file.txt\n",
      "b307be1 Изменить цвет фона и ширину <body>\n",
      "5513a3b Обернуть First git repo в тэг <p>\n",
      "904808d Добавить коммит при помощи алиаса co\n",
      "d689615 (origin/new-feature, new-feature) Добавить 42.txt\n",
      "a7805e2 Добавить hello.txt\n",
      "4579f51 Изменить заголовок index.html\n",
      "75b5b46 Добавить styles.css\n",
      "b110b6d Добавить index.html\n",
      "22c9e11 Мой первый файл в Git репозитории\n"
     ]
    }
   ],
   "source": [
    "git log --oneline rebase-demo"
   ]
  },
  {
   "cell_type": "markdown",
   "id": "af91352d-ad49-4c57-a7b4-cff1be5d6633",
   "metadata": {
    "tags": []
   },
   "source": [
    "## Команда `git rebase` при работе с `master`"
   ]
  },
  {
   "cell_type": "markdown",
   "id": "d0969942-5f0c-49c1-8657-e6af0430dcaf",
   "metadata": {},
   "source": [
    "В локальном репозитории обычно существует основная ветка, которую называют `master`, а все изменения выполняются в других ветках, которые растут от ветки `master`. Ветка `master` может обновляться независимо от обновления других веток, а значит перед объединением работы из ветки в ветку `master` необходимо выполнить `git rebase master`, чтобы обнаружить возмжные конфликты, а потом можно безопасно объединять (merge) `master` с веткой, в которой выполнялась работа. "
   ]
  },
  {
   "cell_type": "code",
   "execution_count": 50,
   "id": "88f94c73-b40b-4804-bff4-417e59a6e89a",
   "metadata": {
    "tags": []
   },
   "outputs": [
    {
     "name": "stdout",
     "output_type": "stream",
     "text": [
      "Switched to branch 'new-feature'\n",
      "Your branch is up to date with 'origin/new-feature'.\n"
     ]
    }
   ],
   "source": [
    "git checkout new-feature"
   ]
  },
  {
   "cell_type": "code",
   "execution_count": 52,
   "id": "2eeae8b8-32ed-4d8c-a530-5a3f2cc18ca9",
   "metadata": {
    "tags": []
   },
   "outputs": [
    {
     "name": "stdout",
     "output_type": "stream",
     "text": [
      "5299e1f (origin/master, master) Добавить cherry-pick.txt\n",
      "74722ab Добавить cherry-pick2.txt\n",
      "3329447 Установить 10% значение width в styles.css\n",
      "2c74b8f Установить 20% значение width в styles.css\n",
      "13cdfb7 Установить 30% значение width в styles.css\n",
      "c627f9d Установить 40% значение width в styles.css\n",
      "0189734 Установить 50% значение width в styles.css\n",
      "eec6f5f Установить 60% значение width в styles.css\n",
      "31834c2 Установить 70% значение width в styles.css\n",
      "4fae7fe Установить 80% значение width в styles.css\n",
      "28ba2ad Установить 90% значение width в styles.css\n",
      "a68afc3 Использовать styles.css в index.html\n",
      "3900b17 (tag: 0.1.0, origin/reset-demo, reset-demo) Зафиксировать изменения после git add --all\n",
      "68b7308 Добавить файл NOTICE.txt\n",
      "51e1493 Зафиксировать изменения после git add --all\n",
      "04e82ee Добавить файл NOTICE.txt\n",
      "e66c996 Изменить версию на 0.1.0 в файле version.txt\n",
      "5e91101 Добавить version.txt\n",
      "50ca3d3 Добавить new_file.txt\n",
      "e75edfb Изменить цвет фона и ширину <body>\n",
      "3f810d0 Обернуть First git repo в тэг <p>\n",
      "94f03e6 Добавить коммит при помощи алиаса co\n"
     ]
    }
   ],
   "source": [
    "git log new-feature..master --oneline"
   ]
  },
  {
   "cell_type": "code",
   "execution_count": 53,
   "id": "6f0bd562-1cd5-45b4-bd76-3e6e258259de",
   "metadata": {
    "tags": []
   },
   "outputs": [
    {
     "name": "stdout",
     "output_type": "stream",
     "text": [
      "Successfully rebased and updated refs/heads/new-feature.                                      \n"
     ]
    }
   ],
   "source": [
    "git rebase master"
   ]
  },
  {
   "cell_type": "code",
   "execution_count": 54,
   "id": "9bf05d53-7e67-4c76-a5e9-e0e0a93e4fcf",
   "metadata": {
    "tags": []
   },
   "outputs": [],
   "source": [
    "git log new-feature..master --oneline"
   ]
  },
  {
   "cell_type": "code",
   "execution_count": 55,
   "id": "00400a02-28fc-486d-92db-736f3645b6d7",
   "metadata": {
    "tags": []
   },
   "outputs": [
    {
     "name": "stdout",
     "output_type": "stream",
     "text": [
      "Switched to branch 'master'\n",
      "Your branch is up to date with 'origin/master'.\n"
     ]
    }
   ],
   "source": [
    "git checkout master"
   ]
  },
  {
   "cell_type": "code",
   "execution_count": 56,
   "id": "730ed2c1-1a5d-4458-8a2b-7f2cafd7e276",
   "metadata": {
    "tags": []
   },
   "outputs": [
    {
     "name": "stdout",
     "output_type": "stream",
     "text": [
      "0348b69 (new-feature) Добавить 42.txt\n",
      "c963481 Добавить hello.txt\n"
     ]
    }
   ],
   "source": [
    "git log master..new-feature --oneline"
   ]
  },
  {
   "cell_type": "code",
   "execution_count": 57,
   "id": "930326d8-762d-48be-972b-530ffc6ba9c0",
   "metadata": {
    "tags": []
   },
   "outputs": [
    {
     "name": "stdout",
     "output_type": "stream",
     "text": [
      "Updating 5299e1f..0348b69\n",
      "Fast-forward\n",
      " 42.txt    | 1 +\n",
      " hello.txt | 1 +\n",
      " 2 files changed, 2 insertions(+)\n",
      " create mode 100644 42.txt\n",
      " create mode 100644 hello.txt\n"
     ]
    }
   ],
   "source": [
    "git merge new-feature"
   ]
  }
 ],
 "metadata": {
  "kernelspec": {
   "display_name": "Bash",
   "language": "bash",
   "name": "bash"
  },
  "language_info": {
   "codemirror_mode": "shell",
   "file_extension": ".sh",
   "mimetype": "text/x-sh",
   "name": "bash"
  }
 },
 "nbformat": 4,
 "nbformat_minor": 5
}
