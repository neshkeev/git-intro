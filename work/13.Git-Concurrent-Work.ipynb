{
 "cells": [
  {
   "cell_type": "markdown",
   "id": "de658c18-a3a8-4b71-9ec9-dbe55ce7c8ae",
   "metadata": {
    "tags": []
   },
   "source": [
    "# Основы работы с Git - Совместная работа над проектом"
   ]
  },
  {
   "cell_type": "code",
   "execution_count": null,
   "id": "61102b26-be8d-4cde-8117-fd1ddbe80c98",
   "metadata": {
    "tags": []
   },
   "outputs": [],
   "source": [
    "cd ~/repo"
   ]
  },
  {
   "cell_type": "code",
   "execution_count": null,
   "id": "5a285790-5a86-4b03-99a2-7b3fb0c6ee6b",
   "metadata": {},
   "outputs": [],
   "source": [
    "rm -rf ~/repo/.ipynb_checkpoints"
   ]
  },
  {
   "cell_type": "markdown",
   "id": "d587e860-cef2-44a7-9e2c-73928a53b32d",
   "metadata": {
    "tags": []
   },
   "source": [
    "## Совместная работа над проектом"
   ]
  },
  {
   "cell_type": "markdown",
   "id": "9b12bbb3-2bf9-4dec-85b9-819717300650",
   "metadata": {},
   "source": [
    "При совместной работе над проектом существует один центральный репозиторий, а у каждого члена команды есть полная копия этого репозитория на локальном компьютере. При такой ситуации неизбежно могут возникать вопросы при синхронизации локальных репозиториев с центральным репозиторием. "
   ]
  },
  {
   "cell_type": "markdown",
   "id": "22812fa8-e7ce-4cc4-a8d0-26965bd48ba3",
   "metadata": {
    "tags": []
   },
   "source": [
    "## Локальные и удаленные ветки"
   ]
  },
  {
   "cell_type": "markdown",
   "id": "67893bd3-a943-4a67-9369-56da4a5c8684",
   "metadata": {},
   "source": [
    "Локальный репозиторий, для которого указана ссылка на центральный репозиторий, имеет два типа веток:\n",
    "\n",
    "- локальные - ветки, которые создал сам программист;\n",
    "- удаленные - ветки, которые являются копиями веток в центральном репозитории.\n",
    "\n",
    "При обновлении локального репозитория git обновляет удаленные ветки, из которых программист уже самостоятельно копирует изменения в свои локальные ветки."
   ]
  },
  {
   "cell_type": "markdown",
   "id": "a1e37c97-9d43-4eb4-8648-f5c9e0374baf",
   "metadata": {},
   "source": [
    "Получить список локальных веток:"
   ]
  },
  {
   "cell_type": "code",
   "execution_count": null,
   "id": "d492f5b4-e1dd-4000-9cc1-d1b2d9e7138a",
   "metadata": {
    "tags": []
   },
   "outputs": [],
   "source": [
    "git branch"
   ]
  },
  {
   "cell_type": "markdown",
   "id": "7dc02b9b-5176-409d-bc21-415a098521a1",
   "metadata": {
    "tags": []
   },
   "source": [
    "Получить список удаленных (remote) веток:"
   ]
  },
  {
   "cell_type": "code",
   "execution_count": null,
   "id": "21bfdcaf-8ab2-4896-8e8d-563f2465d627",
   "metadata": {
    "tags": []
   },
   "outputs": [],
   "source": [
    "git branch -r"
   ]
  },
  {
   "cell_type": "markdown",
   "id": "bed8ee73-e991-4f97-9d61-f6c14a11b979",
   "metadata": {
    "tags": []
   },
   "source": [
    "Получить список всех веток (локальных и удаленных):"
   ]
  },
  {
   "cell_type": "code",
   "execution_count": null,
   "id": "3fa56a00-4504-4ede-8b5d-9238d2a1ade3",
   "metadata": {
    "tags": []
   },
   "outputs": [],
   "source": [
    "git branch -a"
   ]
  },
  {
   "cell_type": "markdown",
   "id": "a42a8426-52bd-4485-9e22-9815037e8ec8",
   "metadata": {},
   "source": [
    "## Команда `git fetch`"
   ]
  },
  {
   "cell_type": "markdown",
   "id": "a1eb843c-50ae-4b83-a18f-06697f17fc67",
   "metadata": {},
   "source": [
    "Команда `git fetch` позволяет обновить удаленные (remote) ветки в локальном репозитории:"
   ]
  },
  {
   "cell_type": "code",
   "execution_count": null,
   "id": "7fb38b5d-8940-4fdc-8d5d-2af881d01aae",
   "metadata": {
    "tags": []
   },
   "outputs": [],
   "source": [
    "git fetch origin"
   ]
  },
  {
   "cell_type": "markdown",
   "id": "5864919a-d8cd-4d70-89ec-5a924312fd86",
   "metadata": {},
   "source": [
    "В качестве параметра команда `git fetch` принимает алиас центрального репозитория. Посмотреть все алиасы центральных репозиториев можно при помощи команды `git remote`:"
   ]
  },
  {
   "cell_type": "code",
   "execution_count": null,
   "id": "6e54f5dc-2f7e-4de7-917a-e207e93ae492",
   "metadata": {
    "tags": []
   },
   "outputs": [],
   "source": [
    "git remote -v"
   ]
  },
  {
   "cell_type": "markdown",
   "id": "b80401a7-a3d8-4907-8689-86683903d691",
   "metadata": {},
   "source": [
    "После обновления удаленных веток необходимо обновить локальные ветки, для этих целей используется команда `git merge`"
   ]
  },
  {
   "cell_type": "code",
   "execution_count": null,
   "id": "87e0b2ed-dfc8-439d-8935-8839a57e89cc",
   "metadata": {
    "tags": []
   },
   "outputs": [],
   "source": [
    "git checkout master"
   ]
  },
  {
   "cell_type": "code",
   "execution_count": null,
   "id": "2a6113de-4802-49d8-a0f0-0191b04ea186",
   "metadata": {
    "tags": []
   },
   "outputs": [],
   "source": [
    "git merge origin/master"
   ]
  },
  {
   "cell_type": "markdown",
   "id": "25338f93-5689-4158-8554-052653b81493",
   "metadata": {
    "tags": []
   },
   "source": [
    "Заметьте, что существует две ветки `master`:\n",
    "\n",
    "- `master` - главная локальная ветка,\n",
    "- `origin/master` - главная удаленная (remote) ветка.\n",
    "\n",
    "Ветку `origin/master` нужно явно мержить в `master`."
   ]
  },
  {
   "cell_type": "markdown",
   "id": "13f0c062-cde0-4e17-9feb-779485ee5541",
   "metadata": {
    "tags": []
   },
   "source": [
    "## Команда `git pull`"
   ]
  },
  {
   "cell_type": "markdown",
   "id": "23566efc-43f9-4edd-9ec2-6d75fb852613",
   "metadata": {},
   "source": [
    "Очень часто команды `git fetch` и `git pull` идут друг за другом, поэтому в git существует команда `git pull` которая последовательно запускает их по очереди:"
   ]
  },
  {
   "cell_type": "code",
   "execution_count": null,
   "id": "64ffadbe-2227-45cd-983e-af1ed085df4e",
   "metadata": {
    "tags": []
   },
   "outputs": [],
   "source": [
    "git pull origin master"
   ]
  },
  {
   "cell_type": "markdown",
   "id": "923b4097-b8f3-4e03-ada3-4b26c53dee9e",
   "metadata": {},
   "source": [
    "Я на практике не использую команду `git pull`, потому что `git fetch` + `git merge` дает больше контроля над процессом."
   ]
  },
  {
   "cell_type": "markdown",
   "id": "0b0dcf8a-54d6-4bac-a48b-df6c95fd89d1",
   "metadata": {
    "tags": []
   },
   "source": [
    "## Обновление ветки `master`"
   ]
  },
  {
   "cell_type": "markdown",
   "id": "29c15880-ced2-408a-a2a8-ddbef1e59153",
   "metadata": {},
   "source": [
    "Хорошим правилом является исключение фиксации (коммита) любых изменений напрямую в локальной ветке `master`. Если следовать этому правилу, то можно обновлять ветку `master` при помощи комбинации команд `git fetch` + `git reset`:\n",
    "\n",
    "- git fetch - выкачает последние изменения из репозитория;\n",
    "- git reset - просто переключит локальную ветку `master` на коммит, на который указывает `origin/master`."
   ]
  },
  {
   "cell_type": "code",
   "execution_count": null,
   "id": "a6de5520-b532-4832-b3a1-54efb95295b0",
   "metadata": {
    "tags": []
   },
   "outputs": [],
   "source": [
    "git fetch origin"
   ]
  },
  {
   "cell_type": "code",
   "execution_count": null,
   "id": "68be6cd6-49b0-43c6-9174-5be4a33a1925",
   "metadata": {
    "tags": []
   },
   "outputs": [],
   "source": [
    "git reset --hard origin/master"
   ]
  },
  {
   "cell_type": "markdown",
   "id": "0592b11f-6143-435f-85e0-2818992f82ae",
   "metadata": {},
   "source": [
    "## Команда `git rebase`"
   ]
  },
  {
   "cell_type": "markdown",
   "id": "f773a505-fe3c-418e-ae13-440f976d168b",
   "metadata": {},
   "source": [
    "Команда `git rebase` позволяет реорганизовать порядок коммитов в ветке таким образом, что сначала в текущей ветке появятся коммиты, которые есть только в другой ветке, а за ними пойдут коммиты, которых нет в той другой ветке: "
   ]
  },
  {
   "cell_type": "code",
   "execution_count": null,
   "id": "7b828106-f7cb-4c1d-902f-abcb95381a33",
   "metadata": {
    "tags": []
   },
   "outputs": [],
   "source": [
    "git checkout -b rebase-demo"
   ]
  },
  {
   "cell_type": "code",
   "execution_count": null,
   "id": "20b07dc8-133b-4973-9074-40a9242a6105",
   "metadata": {
    "tags": []
   },
   "outputs": [],
   "source": [
    "echo \"Rebase\" > rebase.txt"
   ]
  },
  {
   "cell_type": "code",
   "execution_count": null,
   "id": "1790842b-632e-4787-b1ff-d1aab9711245",
   "metadata": {
    "tags": []
   },
   "outputs": [],
   "source": [
    "git add rebase.txt && git commit -m \"Добавить reabse.txt\""
   ]
  },
  {
   "cell_type": "code",
   "execution_count": null,
   "id": "0df34a66-744e-46ad-bed2-82e6c2a07bca",
   "metadata": {
    "tags": []
   },
   "outputs": [],
   "source": [
    "echo \"Контент для rebase\" > rebase2.txt"
   ]
  },
  {
   "cell_type": "code",
   "execution_count": null,
   "id": "7e361167-0b4f-4240-8117-729e3a3fed5a",
   "metadata": {
    "tags": []
   },
   "outputs": [],
   "source": [
    "git add rebase2.txt && git commit -m \"Добавить reabse2.txt\""
   ]
  },
  {
   "cell_type": "code",
   "execution_count": null,
   "id": "9aece17a-9ffe-4c06-bcd7-5a46d9e34d10",
   "metadata": {
    "tags": []
   },
   "outputs": [],
   "source": [
    "git log -n 30 --oneline rebase-demo"
   ]
  },
  {
   "cell_type": "code",
   "execution_count": null,
   "id": "b6a02e27-ae4d-4c1f-82bd-eae21b345d75",
   "metadata": {
    "tags": []
   },
   "outputs": [],
   "source": [
    "git log HEAD..new-feature --oneline"
   ]
  },
  {
   "cell_type": "code",
   "execution_count": null,
   "id": "8681f4c3-e0af-4887-a063-1ef400c95205",
   "metadata": {
    "tags": []
   },
   "outputs": [],
   "source": [
    "git branch"
   ]
  },
  {
   "cell_type": "code",
   "execution_count": null,
   "id": "032d164c-5083-416f-854f-7c9258068310",
   "metadata": {
    "tags": []
   },
   "outputs": [],
   "source": [
    "git rebase new-feature"
   ]
  },
  {
   "cell_type": "code",
   "execution_count": null,
   "id": "99c1c515-e20d-43dd-8699-5264097d6ae8",
   "metadata": {
    "tags": []
   },
   "outputs": [],
   "source": [
    "git log --oneline rebase-demo"
   ]
  },
  {
   "cell_type": "markdown",
   "id": "af91352d-ad49-4c57-a7b4-cff1be5d6633",
   "metadata": {
    "tags": []
   },
   "source": [
    "## Команда `git rebase` при работе с `master`"
   ]
  },
  {
   "cell_type": "markdown",
   "id": "d0969942-5f0c-49c1-8657-e6af0430dcaf",
   "metadata": {},
   "source": [
    "В локальном репозитории обычно существует основная ветка, которую называют `master`, а все изменения выполняются в других ветках, которые растут от ветки `master`. Ветка `master` может обновляться независимо от обновления других веток, а значит перед объединением работы из ветки в ветку `master` необходимо выполнить `git rebase master`, чтобы обнаружить возможные конфликты, а потом можно безопасно объединять (merge) `master` с веткой, в которой выполнялась работа. "
   ]
  },
  {
   "cell_type": "code",
   "execution_count": null,
   "id": "88f94c73-b40b-4804-bff4-417e59a6e89a",
   "metadata": {
    "tags": []
   },
   "outputs": [],
   "source": [
    "git checkout new-feature"
   ]
  },
  {
   "cell_type": "code",
   "execution_count": null,
   "id": "2eeae8b8-32ed-4d8c-a530-5a3f2cc18ca9",
   "metadata": {
    "tags": []
   },
   "outputs": [],
   "source": [
    "git log new-feature..master --oneline"
   ]
  },
  {
   "cell_type": "code",
   "execution_count": null,
   "id": "6f0bd562-1cd5-45b4-bd76-3e6e258259de",
   "metadata": {
    "tags": []
   },
   "outputs": [],
   "source": [
    "git rebase master"
   ]
  },
  {
   "cell_type": "code",
   "execution_count": null,
   "id": "9bf05d53-7e67-4c76-a5e9-e0e0a93e4fcf",
   "metadata": {
    "tags": []
   },
   "outputs": [],
   "source": [
    "git log new-feature..master --oneline"
   ]
  },
  {
   "cell_type": "code",
   "execution_count": null,
   "id": "00400a02-28fc-486d-92db-736f3645b6d7",
   "metadata": {
    "tags": []
   },
   "outputs": [],
   "source": [
    "git checkout master"
   ]
  },
  {
   "cell_type": "code",
   "execution_count": null,
   "id": "730ed2c1-1a5d-4458-8a2b-7f2cafd7e276",
   "metadata": {
    "tags": []
   },
   "outputs": [],
   "source": [
    "git log master..new-feature --oneline"
   ]
  },
  {
   "cell_type": "code",
   "execution_count": null,
   "id": "930326d8-762d-48be-972b-530ffc6ba9c0",
   "metadata": {
    "tags": []
   },
   "outputs": [],
   "source": [
    "git merge new-feature"
   ]
  },
  {
   "cell_type": "code",
   "execution_count": null,
   "id": "fc681497-140f-4eb1-af4d-68f98bfeb28d",
   "metadata": {},
   "outputs": [],
   "source": []
  }
 ],
 "metadata": {
  "kernelspec": {
   "display_name": "Bash",
   "language": "bash",
   "name": "bash"
  },
  "language_info": {
   "codemirror_mode": "shell",
   "file_extension": ".sh",
   "mimetype": "text/x-sh",
   "name": "bash"
  }
 },
 "nbformat": 4,
 "nbformat_minor": 5
}
