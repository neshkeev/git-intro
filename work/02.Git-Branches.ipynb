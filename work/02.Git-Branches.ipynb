{
 "cells": [
  {
   "cell_type": "markdown",
   "id": "abe19f0d-35a5-419f-b0ef-92b8e7d2a0ec",
   "metadata": {},
   "source": [
    "# Основы работы с Git - Ветки"
   ]
  },
  {
   "cell_type": "markdown",
   "id": "5f606730-d2d2-499b-a79c-c5b37edba129",
   "metadata": {
    "jp-MarkdownHeadingCollapsed": true,
    "tags": []
   },
   "source": [
    "## Подготовка"
   ]
  },
  {
   "cell_type": "code",
   "execution_count": null,
   "id": "18bde58a-8a44-4526-afd1-91711020481c",
   "metadata": {
    "tags": []
   },
   "outputs": [],
   "source": [
    "cd ~/repo"
   ]
  },
  {
   "cell_type": "markdown",
   "id": "fdc23c10-95e3-49e6-9dde-606e1028c0a0",
   "metadata": {
    "tags": []
   },
   "source": [
    "## Мотивация"
   ]
  },
  {
   "cell_type": "markdown",
   "id": "8238c90d-de58-4b41-ae7a-dfdded0f7ef3",
   "metadata": {},
   "source": [
    "Иногда разработчику необходимо поставить текущую работу на паузу и заняться другой задачей. Для этих целей Git предлагает использовать ветки. Ветка - это все лишь указатель на коммит. Так разные ветки указывают на разные коммиты, а коммиты все вместе фомируют ацикличный направленный граф: будущий коммит будет указывать на текущий коммит"
   ]
  },
  {
   "cell_type": "code",
   "execution_count": null,
   "id": "ede2730b-6ad7-418c-8c5c-df9fc54e3f1f",
   "metadata": {
    "tags": []
   },
   "outputs": [],
   "source": [
    "git log"
   ]
  },
  {
   "cell_type": "markdown",
   "id": "269ed06a-3144-4a71-b2c9-fc14ae8f2fa5",
   "metadata": {},
   "source": [
    "## Создание ветки"
   ]
  },
  {
   "cell_type": "markdown",
   "id": "e4ed1d52-7c0e-43b7-9896-788ad71d913d",
   "metadata": {},
   "source": [
    "Команда `git branch` позволяет создать новую ветку. Переданный параметр будет использоваться в качестве имени новой ветки. Например, создание ветки `fix-title` будет выглядеть следующим образом:"
   ]
  },
  {
   "cell_type": "code",
   "execution_count": null,
   "id": "0677750b-f6bf-4944-afdd-17779932272d",
   "metadata": {
    "tags": []
   },
   "outputs": [],
   "source": [
    "git branch fix-title"
   ]
  },
  {
   "cell_type": "markdown",
   "id": "6ac4f4d8-cd85-4c6a-8c7a-94524180aaf5",
   "metadata": {},
   "source": [
    "Посмотреть список веток можно при помощи команды:"
   ]
  },
  {
   "cell_type": "code",
   "execution_count": null,
   "id": "ace1c7d7-a218-4059-be1a-cd34554ba8a4",
   "metadata": {
    "tags": []
   },
   "outputs": [],
   "source": [
    "git branch"
   ]
  },
  {
   "cell_type": "markdown",
   "id": "2ab851d7-8a30-4fb9-b0f4-d6f0aadb6dcf",
   "metadata": {},
   "source": [
    "Символ звездочки помечает какая ветка сейчас является активной. В данном случае, сейчас активна ветка `master`. Команда `git checkout` позволяет переключиться на ветку `fix-title`:"
   ]
  },
  {
   "cell_type": "code",
   "execution_count": null,
   "id": "5fef5f22-ee16-4665-b601-00e676c93ce3",
   "metadata": {
    "tags": []
   },
   "outputs": [],
   "source": [
    "git checkout fix-title"
   ]
  },
  {
   "cell_type": "code",
   "execution_count": null,
   "id": "c31eb754-5b9a-4ad0-a080-047abca3ce2d",
   "metadata": {
    "tags": []
   },
   "outputs": [],
   "source": [
    "git branch"
   ]
  },
  {
   "cell_type": "code",
   "execution_count": null,
   "id": "3e34ea0f-c26a-482a-9f05-9e9051157802",
   "metadata": {
    "tags": []
   },
   "outputs": [],
   "source": [
    "git log"
   ]
  },
  {
   "cell_type": "markdown",
   "id": "e2fb58d9-c922-4412-b311-1e4e4beea88b",
   "metadata": {
    "tags": []
   },
   "source": [
    "**Обратите внимание, что обе ветки `master` и `fix-title` указывают на один и тот же коммит**"
   ]
  },
  {
   "cell_type": "markdown",
   "id": "ae2af1aa-3cab-43af-9008-5beebda1b881",
   "metadata": {},
   "source": [
    "### Задание"
   ]
  },
  {
   "cell_type": "markdown",
   "id": "a634e97a-7508-4e0e-a3b1-26a03fb23249",
   "metadata": {},
   "source": [
    "1. Создать ветку с именем `new-feature`\n",
    "1. Переключиться на ветку `new-feature`"
   ]
  },
  {
   "cell_type": "markdown",
   "id": "3383efde-b2dd-47be-8cb8-62fdda41a5a5",
   "metadata": {
    "tags": []
   },
   "source": [
    "## Удаление ветки"
   ]
  },
  {
   "cell_type": "markdown",
   "id": "b5ea7e10-8ad5-4164-aab9-92594d03010a",
   "metadata": {},
   "source": [
    "Удалить ветку можно при помощи ключа `-d`:"
   ]
  },
  {
   "cell_type": "code",
   "execution_count": null,
   "id": "6a4809a4-f8b4-47d6-a797-3608919062bc",
   "metadata": {
    "tags": []
   },
   "outputs": [],
   "source": [
    "git branch -d fix-title || true"
   ]
  },
  {
   "cell_type": "markdown",
   "id": "8436a98e-5716-47ee-ad50-4890303ecdbd",
   "metadata": {},
   "source": [
    "**Произошла ошибка**: Нельзя удалять активную ветку."
   ]
  },
  {
   "cell_type": "code",
   "execution_count": null,
   "id": "badab7d9-6a97-4527-b781-94e914cee381",
   "metadata": {
    "tags": []
   },
   "outputs": [],
   "source": [
    "git branch"
   ]
  },
  {
   "cell_type": "markdown",
   "id": "6735b72a-53ed-43fa-9929-d10a145d6ae9",
   "metadata": {},
   "source": [
    "Чтобы удалить ветку `fix-title` необходимо переключиться на другую ветку, а потом можно удалить ветку `fix-title`:"
   ]
  },
  {
   "cell_type": "code",
   "execution_count": null,
   "id": "8a70cbc2-67a0-40b9-b784-8eb90f0a6531",
   "metadata": {
    "tags": []
   },
   "outputs": [],
   "source": [
    "git checkout master"
   ]
  },
  {
   "cell_type": "code",
   "execution_count": null,
   "id": "314b5359-0002-4ee5-b8cd-9d2b3546c669",
   "metadata": {
    "tags": []
   },
   "outputs": [],
   "source": [
    "git branch -d fix-title"
   ]
  },
  {
   "cell_type": "code",
   "execution_count": null,
   "id": "6f173a61-bd5e-4e19-84a8-2019613de959",
   "metadata": {
    "tags": []
   },
   "outputs": [],
   "source": [
    "git branch"
   ]
  },
  {
   "cell_type": "markdown",
   "id": "f2870165-6737-47a2-8782-9f7a94a5dfbf",
   "metadata": {},
   "source": [
    "### Задание"
   ]
  },
  {
   "cell_type": "markdown",
   "id": "3fcee44e-d19e-4272-96af-58c7f1ad2846",
   "metadata": {
    "tags": []
   },
   "source": [
    "1. Переключиться на ветку `new-feature`\n",
    "1. Удалить ветку `new-feature`"
   ]
  },
  {
   "cell_type": "markdown",
   "id": "2ce5298d-7e97-41a6-93a4-5112ad77a050",
   "metadata": {},
   "source": [
    "## Более удобный способ создания веток"
   ]
  },
  {
   "cell_type": "markdown",
   "id": "f562ec3f-3364-40d7-ae56-8c10b3f05fa1",
   "metadata": {},
   "source": [
    "Обратите внимание, что для того, чтобы начать работать над другой задачей, нам было необходимо:\n",
    "\n",
    "1. создать новую ветку,\n",
    "2. переключиться на вновь созданную ветку,\n",
    "\n",
    "т.е. необходимо выполнить два действия.\n",
    "\n",
    "Создание ветки с последующим переключением на нее на столько частая операция, что для операции `git checkout` сделали специальный ключ `-b`, который создаст ветку и сразу переключится на неё:"
   ]
  },
  {
   "cell_type": "code",
   "execution_count": null,
   "id": "d9e75fa6-4a7d-4dab-8bc7-5ef6dccd925c",
   "metadata": {
    "tags": []
   },
   "outputs": [],
   "source": [
    "git checkout -b fix-title"
   ]
  },
  {
   "cell_type": "code",
   "execution_count": null,
   "id": "00290209-1f23-4427-ab4e-b9158a4a083b",
   "metadata": {
    "tags": []
   },
   "outputs": [],
   "source": [
    "git branch"
   ]
  },
  {
   "cell_type": "markdown",
   "id": "fac23f21-89a5-4886-b651-9edc2fb83e66",
   "metadata": {},
   "source": [
    "Созданная ветка будет указывать на коммит, на который указвыает текущая активная ветка. Если необходимо создать ветку, которая будет указывать на другой коммит, то необходимо добавить еще один параметр:"
   ]
  },
  {
   "cell_type": "code",
   "execution_count": null,
   "id": "d1b4d56b-7d6a-411b-abc7-5193f8c5995b",
   "metadata": {
    "tags": []
   },
   "outputs": [],
   "source": [
    "git checkout -b fix-body master"
   ]
  },
  {
   "cell_type": "markdown",
   "id": "c2c230c3-16ff-4421-808e-0c68c757b19b",
   "metadata": {},
   "source": [
    "Расшифровка команды выше:\n",
    "\n",
    "- `git` - команда `git`,\n",
    "- `checkout` - переключиться на ветку,\n",
    "- `-b` - создать ветку, перед переключением,\n",
    "- `fix-body` - имя новой ветки,\n",
    "- `master` - имя ветки, на которой новая ветка будет основана (будет расти)."
   ]
  },
  {
   "cell_type": "code",
   "execution_count": null,
   "id": "e5af1ba2-d8d0-4fda-8709-8c11c822f47d",
   "metadata": {
    "tags": []
   },
   "outputs": [],
   "source": [
    "git branch"
   ]
  },
  {
   "cell_type": "code",
   "execution_count": null,
   "id": "17b21efd-5ee6-49f3-b8f5-289416f3b495",
   "metadata": {
    "tags": []
   },
   "outputs": [],
   "source": [
    "git checkout fix-title"
   ]
  },
  {
   "cell_type": "code",
   "execution_count": null,
   "id": "5255ebd0-3b07-4701-9d95-0c08d958afdb",
   "metadata": {
    "tags": []
   },
   "outputs": [],
   "source": [
    "git branch -d fix-body"
   ]
  },
  {
   "cell_type": "markdown",
   "id": "fa0b3e55-90b5-4277-9f8e-602df8c7c379",
   "metadata": {},
   "source": [
    "### Задание"
   ]
  },
  {
   "cell_type": "markdown",
   "id": "1f8bd113-4dfd-4279-89ec-ca48e33f2212",
   "metadata": {},
   "source": [
    "1. Создать ветку `new-feature` во время переключения на нее\n",
    "1. Удалить ветку `new-feature`"
   ]
  },
  {
   "cell_type": "markdown",
   "id": "d15a547b-c8e4-4e60-8539-6fab105e4baa",
   "metadata": {
    "tags": []
   },
   "source": [
    "## Работа в ветке"
   ]
  },
  {
   "cell_type": "markdown",
   "id": "cc06b14e-5296-4ad8-ba44-a84bdc690217",
   "metadata": {},
   "source": [
    "После переключения на новую ветку можно начинать работать с репозиторием и вносить изменения. Например, можно поправить `title` в `index.html`:"
   ]
  },
  {
   "cell_type": "code",
   "execution_count": null,
   "id": "327920b6-96a4-491a-af9b-d5b67950d100",
   "metadata": {
    "tags": []
   },
   "outputs": [],
   "source": [
    "sed -i '/<title>Hello gt<.title>/s/Hello gt/Hello, Git/' index.html"
   ]
  },
  {
   "cell_type": "markdown",
   "id": "7a420b0d-e62f-42db-8ef4-68ef4f46d635",
   "metadata": {},
   "source": [
    "Изменения можно вносить и при помощи обычного редактора, для этого необходимо открыть файл `/home/jovyan/repo/index.html` в текстовом редакторе (правой кнопкой мыши нажать на файл и выбрать \"Open With\" -> \"Editor\")"
   ]
  },
  {
   "cell_type": "code",
   "execution_count": null,
   "id": "bab14eec-3fc0-4918-88c9-0449219c34d1",
   "metadata": {
    "tags": []
   },
   "outputs": [],
   "source": [
    "git status"
   ]
  },
  {
   "cell_type": "markdown",
   "id": "75d5c3a4-8185-4d20-b04c-9c9e3941b34b",
   "metadata": {
    "tags": []
   },
   "source": [
    "### Получить список изменений"
   ]
  },
  {
   "cell_type": "markdown",
   "id": "00eba694-47dc-4aa2-b71e-adea0f153f02",
   "metadata": {
    "tags": []
   },
   "source": [
    "Команда `git diff` покажет изменения, т.е. разницу между новым кодом и кодом, который зафиксирован в репозитории:"
   ]
  },
  {
   "cell_type": "code",
   "execution_count": null,
   "id": "50937935-5be6-4c49-aee9-d85ddbfd192a",
   "metadata": {
    "tags": []
   },
   "outputs": [],
   "source": [
    "git diff"
   ]
  },
  {
   "cell_type": "markdown",
   "id": "a2ca40eb-dfdd-4b4d-aa63-46b6ba714d5c",
   "metadata": {},
   "source": [
    "Команда `git diff` в качестве параметра может принимать имя файла. Так `git diff` покажет разницу только для одного файла:"
   ]
  },
  {
   "cell_type": "code",
   "execution_count": null,
   "id": "04be6a91-d903-441b-b54f-7efb365b3a3b",
   "metadata": {
    "tags": []
   },
   "outputs": [],
   "source": [
    "git diff index.html"
   ]
  },
  {
   "cell_type": "markdown",
   "id": "0c823d39-9646-46be-b1e5-622cc1715347",
   "metadata": {
    "tags": []
   },
   "source": [
    "Изменений в `styles.css` нет, поэтому `git diff` ничего не выводит:"
   ]
  },
  {
   "cell_type": "code",
   "execution_count": null,
   "id": "f163a5af-0cd6-4a7c-92d7-4c28bd0c8fec",
   "metadata": {
    "tags": []
   },
   "outputs": [],
   "source": [
    "git diff styles.css"
   ]
  },
  {
   "cell_type": "markdown",
   "id": "4be44a2f-d736-4c19-abd3-5389c335e3b4",
   "metadata": {},
   "source": [
    "### Фиксация изменений в ветке"
   ]
  },
  {
   "cell_type": "markdown",
   "id": "b850f09a-df26-41d6-b5e9-e5226f1f0253",
   "metadata": {},
   "source": [
    "Фиксация изменений выполняется при помощи `git add + git commit`:"
   ]
  },
  {
   "cell_type": "code",
   "execution_count": null,
   "id": "8da6008f-a102-4fb6-a38c-d6da2f581219",
   "metadata": {
    "tags": []
   },
   "outputs": [],
   "source": [
    "git status"
   ]
  },
  {
   "cell_type": "code",
   "execution_count": null,
   "id": "a26805a4-4707-4d3d-bb82-9d419314365a",
   "metadata": {
    "tags": []
   },
   "outputs": [],
   "source": [
    "git add index.html"
   ]
  },
  {
   "cell_type": "code",
   "execution_count": null,
   "id": "80938c03-022d-4960-8e23-9e5fe93756a0",
   "metadata": {
    "tags": []
   },
   "outputs": [],
   "source": [
    "git status"
   ]
  },
  {
   "cell_type": "code",
   "execution_count": null,
   "id": "1279d58e-e03a-4fb4-9e7d-ceef2ffcca56",
   "metadata": {
    "tags": []
   },
   "outputs": [],
   "source": [
    "git commit -m \"Изменить заголовок index.html\""
   ]
  },
  {
   "cell_type": "code",
   "execution_count": null,
   "id": "7efeb705-7a7e-466f-bcba-f06458ade98f",
   "metadata": {
    "tags": []
   },
   "outputs": [],
   "source": [
    "git log"
   ]
  },
  {
   "cell_type": "markdown",
   "id": "56cfefa2-7588-40ec-94a1-dee9425d63e1",
   "metadata": {
    "tags": []
   },
   "source": [
    "### Задание"
   ]
  },
  {
   "cell_type": "markdown",
   "id": "625f8136-4382-4f25-8d0d-e613645ae937",
   "metadata": {
    "tags": []
   },
   "source": [
    "Текущая директория с репозиторием:"
   ]
  },
  {
   "cell_type": "code",
   "execution_count": 40,
   "id": "54a3a15b-9c89-49d9-af76-3b91ff1f4ca5",
   "metadata": {
    "tags": []
   },
   "outputs": [
    {
     "name": "stdout",
     "output_type": "stream",
     "text": [
      "/home/jovyan/repo\n"
     ]
    }
   ],
   "source": [
    "pwd"
   ]
  },
  {
   "cell_type": "markdown",
   "id": "50f3ab3b-fe00-4988-8aa1-5b15e8e0f773",
   "metadata": {
    "tags": []
   },
   "source": [
    "Файлы в текущей директории:"
   ]
  },
  {
   "cell_type": "code",
   "execution_count": 39,
   "id": "bf1a6486-1420-4c72-9ad8-16d6b990ea65",
   "metadata": {
    "tags": []
   },
   "outputs": [
    {
     "name": "stdout",
     "output_type": "stream",
     "text": [
      "/home/jovyan/repo\n",
      "total 12\n",
      "-rwxr-xr-x 1 jovyan users 93 Sep  5 19:12 index.html\n",
      "-rw-r--r-- 1 jovyan users 47 Sep  5 18:43 README.md\n",
      "-rwxr-xr-x 1 jovyan users 57 Sep  5 18:53 styles.css\n"
     ]
    }
   ],
   "source": [
    "ls -l"
   ]
  },
  {
   "cell_type": "markdown",
   "id": "b3273844-d8c6-45b4-81e1-112cad9c38ea",
   "metadata": {},
   "source": [
    "1. Создайте новую ветку `fix-body`;\n",
    "1. Переключитесь на новую ветку `fix-body`, если необходимо;\n",
    "1. Замените содержимое `/home/jovyan/repo/index.html` внутри тэга `<body>` на \"Первое изменение в Git ветке\";\n",
    "1. Сохраните файл;\n",
    "1. Проверьте разницу между кодом, который лежит в репозитории и текущим кодом в файле `index.html`;\n",
    "1. Зафиксируйте изменение;\n",
    "1. Подтвердите фиксацию изменения."
   ]
  },
  {
   "cell_type": "markdown",
   "id": "06c14db7-5db7-49d8-8a25-a9784c2796d5",
   "metadata": {
    "tags": []
   },
   "source": [
    "## Объединение изменений в ветках"
   ]
  },
  {
   "cell_type": "markdown",
   "id": "5651b7ca-ed25-4e93-8e6f-b9235e8af77a",
   "metadata": {},
   "source": [
    "После того, как работа в ветке завершена, необходимо ее объединить с веткой `master` - 'главной' веткой приложения. Для этих целей применяется команда `git merge`. Алгоритм следующий:\n",
    "\n",
    "1. Переключиться на ветку, где должны появиться изменения после объединения. Обычно это `master`;\n",
    "1. Выполнить команду `git merge`, которая в качестве параметра принимает имя ветки, из которой необходимо забрать изменения;\n",
    "1. Удалить ветку, изменения в которой были объединены с `master`."
   ]
  },
  {
   "cell_type": "code",
   "execution_count": null,
   "id": "b04d8b8a-6c87-49d1-9455-80818b2d8df5",
   "metadata": {
    "tags": []
   },
   "outputs": [],
   "source": [
    "git checkout master"
   ]
  },
  {
   "cell_type": "code",
   "execution_count": null,
   "id": "798b6763-b18e-4581-8273-0864c13c1815",
   "metadata": {
    "tags": []
   },
   "outputs": [],
   "source": [
    "git branch"
   ]
  },
  {
   "cell_type": "code",
   "execution_count": null,
   "id": "b6693775-3cc3-4847-8800-c191b98140f7",
   "metadata": {
    "tags": []
   },
   "outputs": [],
   "source": [
    "git merge fix-title"
   ]
  },
  {
   "cell_type": "code",
   "execution_count": null,
   "id": "6945fdcb-43f1-4bdc-9991-5bfe3a2d72a9",
   "metadata": {
    "tags": []
   },
   "outputs": [],
   "source": [
    "git status"
   ]
  },
  {
   "cell_type": "code",
   "execution_count": null,
   "id": "7b6c33af-8db8-4c65-846f-2170ad687be4",
   "metadata": {
    "tags": []
   },
   "outputs": [],
   "source": [
    "git log -n 1"
   ]
  },
  {
   "cell_type": "markdown",
   "id": "6dbabfb7-c253-45da-bd53-7a87e58a5591",
   "metadata": {},
   "source": [
    "Ключ `-n` команды `git log` позволяет указать количество коммитов, которы нужно отобразить. Более подробно команда `git log` будет разобрана далее."
   ]
  },
  {
   "cell_type": "markdown",
   "id": "4f238f65-c20a-4321-8f42-6f5b02f6d64e",
   "metadata": {
    "tags": []
   },
   "source": [
    "После слияния ветки `fix-title` с веткой `master` можно удалить ветку `fix-title`, т.к. все изменения из нее попали в `master`:"
   ]
  },
  {
   "cell_type": "code",
   "execution_count": null,
   "id": "0bffe033-bef3-4667-a3e9-0641f31fa76d",
   "metadata": {
    "tags": []
   },
   "outputs": [],
   "source": [
    "git branch -d fix-title"
   ]
  },
  {
   "cell_type": "markdown",
   "id": "c32e43a6-d221-4a90-84c1-0f3ca0760835",
   "metadata": {
    "tags": []
   },
   "source": [
    "### Задание"
   ]
  },
  {
   "cell_type": "markdown",
   "id": "0f9d51d6-01ef-4428-baf0-b1b3b622dfb5",
   "metadata": {
    "tags": []
   },
   "source": [
    "1. Объединить изменения из `fix-body` с веткой `master`;\n",
    "1. Проверить, что изменения из `fix-body` попали в `master`;\n",
    "1. Удалить `fix-body` после подтверджения, что изменения попали в `master`."
   ]
  },
  {
   "cell_type": "code",
   "execution_count": null,
   "id": "943b63aa-e594-4cbf-bc19-a9955f8fa4cc",
   "metadata": {},
   "outputs": [],
   "source": []
  }
 ],
 "metadata": {
  "kernelspec": {
   "display_name": "Bash",
   "language": "bash",
   "name": "bash"
  },
  "language_info": {
   "codemirror_mode": "shell",
   "file_extension": ".sh",
   "mimetype": "text/x-sh",
   "name": "bash"
  }
 },
 "nbformat": 4,
 "nbformat_minor": 5
}
