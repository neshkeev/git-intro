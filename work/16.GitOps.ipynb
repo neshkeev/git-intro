{
 "cells": [
  {
   "cell_type": "markdown",
   "id": "abe19f0d-35a5-419f-b0ef-92b8e7d2a0ec",
   "metadata": {
    "tags": []
   },
   "source": [
    "# Основы подхода GitOps"
   ]
  },
  {
   "cell_type": "markdown",
   "id": "384aac68-fb12-46ff-8123-abce67881c73",
   "metadata": {
    "jp-MarkdownHeadingCollapsed": true,
    "tags": []
   },
   "source": [
    "## Базовая настройка Git"
   ]
  },
  {
   "cell_type": "code",
   "execution_count": null,
   "id": "86e65aab-c6d7-4f11-b31c-96b145106221",
   "metadata": {
    "tags": []
   },
   "outputs": [],
   "source": [
    "git --version"
   ]
  },
  {
   "cell_type": "code",
   "execution_count": null,
   "id": "0949041f-a051-4973-977a-f2da0b11759f",
   "metadata": {
    "tags": []
   },
   "outputs": [],
   "source": [
    "# export USER_NAME=''"
   ]
  },
  {
   "cell_type": "code",
   "execution_count": null,
   "id": "dee7b5c6-bac3-4751-be74-1523fef10725",
   "metadata": {
    "tags": []
   },
   "outputs": [],
   "source": [
    "echo \"${USER_NAME}\""
   ]
  },
  {
   "cell_type": "code",
   "execution_count": null,
   "id": "e9b22e0c-eb01-4dc4-99f4-85c217f73c40",
   "metadata": {
    "tags": []
   },
   "outputs": [],
   "source": [
    "# export USER_EMAIL=''"
   ]
  },
  {
   "cell_type": "code",
   "execution_count": null,
   "id": "d4148c71-fd4d-43aa-ab0d-0f6f2264b30c",
   "metadata": {
    "tags": []
   },
   "outputs": [],
   "source": [
    "echo \"${USER_EMAIL}\""
   ]
  },
  {
   "cell_type": "markdown",
   "id": "89935685-7e82-429b-8b64-623672461c5c",
   "metadata": {},
   "source": [
    "Обязательно нужно указать кто будет автором изменений, которые совершаются на этом компьютере:"
   ]
  },
  {
   "cell_type": "code",
   "execution_count": null,
   "id": "4de5c911-97b0-412d-a58a-89ad467676d3",
   "metadata": {
    "tags": []
   },
   "outputs": [],
   "source": [
    "git config --global user.name \"${USER_NAME}\""
   ]
  },
  {
   "cell_type": "markdown",
   "id": "5add09e0-372d-452d-980b-73aa0358a51d",
   "metadata": {
    "tags": []
   },
   "source": [
    "А также email автора, чтобы с ним можно было связаться при желании:"
   ]
  },
  {
   "cell_type": "code",
   "execution_count": null,
   "id": "b8092a66-fd70-4b1c-93fb-b60c3ee2ebbe",
   "metadata": {
    "tags": []
   },
   "outputs": [],
   "source": [
    "git config --global user.email \"${USER_EMAIL}\""
   ]
  },
  {
   "cell_type": "markdown",
   "id": "33fc6123-31c1-450d-bb71-ddf8286e898a",
   "metadata": {},
   "source": [
    "Полный список параметров git можно посмотреть вот так:"
   ]
  },
  {
   "cell_type": "code",
   "execution_count": null,
   "id": "5cf7dce2-8137-431e-867d-14e3c2b0f1c2",
   "metadata": {
    "tags": []
   },
   "outputs": [],
   "source": [
    "git config --list"
   ]
  },
  {
   "cell_type": "markdown",
   "id": "27e19708-e234-4bf3-bd96-9a7ffed2c625",
   "metadata": {
    "tags": []
   },
   "source": [
    "## Настройка GitLab"
   ]
  },
  {
   "cell_type": "markdown",
   "id": "b0e8e2a2-cdb1-4c30-addc-a47510bf1b28",
   "metadata": {
    "tags": []
   },
   "source": [
    "### Настройка ssh"
   ]
  },
  {
   "cell_type": "code",
   "execution_count": null,
   "id": "a7e78255-d4b9-4330-8ac8-d7392eea9562",
   "metadata": {
    "tags": []
   },
   "outputs": [],
   "source": [
    "ssh-keygen -t ed25519 -f ~/.ssh/id_rsa -N '' -C \"$(git config user.email)\""
   ]
  },
  {
   "cell_type": "code",
   "execution_count": null,
   "id": "1f20af6e-bad0-4620-bfb1-d3a93bbe43b2",
   "metadata": {
    "tags": []
   },
   "outputs": [],
   "source": [
    "ssh-keyscan gitlab >> ~/.ssh/known_hosts"
   ]
  },
  {
   "cell_type": "markdown",
   "id": "64ece891-8153-4e8a-878c-dc2ee75e583b",
   "metadata": {
    "tags": []
   },
   "source": [
    "### Аутентификация"
   ]
  },
  {
   "cell_type": "markdown",
   "id": "7942faaa-18e2-432b-8afc-5e4f355e2dac",
   "metadata": {},
   "source": [
    "1. Открыть GitLab: [http://localhost:8080](http://localhost:8080),\n",
    "1. Username: `root`,\n",
    "1. Password: `protected`."
   ]
  },
  {
   "cell_type": "markdown",
   "id": "7b08297b-be25-4be2-b5ab-4a2d7e0172d6",
   "metadata": {
    "tags": []
   },
   "source": [
    "### Добавление публичного ключа в GitLab"
   ]
  },
  {
   "cell_type": "code",
   "execution_count": null,
   "id": "b83f98e4-3f4d-49f9-a256-3d4681704cd7",
   "metadata": {
    "tags": []
   },
   "outputs": [],
   "source": [
    "cat ~/.ssh/id_rsa.pub"
   ]
  },
  {
   "cell_type": "markdown",
   "id": "770bfd5c-2ed8-4938-a0f3-98ad877c46a0",
   "metadata": {
    "tags": []
   },
   "source": [
    "1. Открыть [GitLab](http://localhost:8080/-/profile/keys): `User` -> `Preferences` -> `SSH Keys` (Левая панель),\n",
    "1. Нажать `Add new key`,\n",
    "1. В поле `Key` ввести содержимое `~/.ssh/id_rsa.pub`,\n",
    "1. Нажать `Add key`."
   ]
  },
  {
   "cell_type": "markdown",
   "id": "dd2309f2-dc61-438f-bc05-cbedeb54cb44",
   "metadata": {},
   "source": [
    "### Создание проекта"
   ]
  },
  {
   "cell_type": "markdown",
   "id": "390328e1-3df1-4d5f-bdd7-40be8e70699d",
   "metadata": {},
   "source": [
    "1. Открыть [GitLab](http://localhost:8080/projects/new): `Home Page` -> `Create a Project`,\n",
    "1. Нажать [`Create blank project`](http://localhost:8080/projects/new#blank_project),\n",
    "1. Значения:\n",
    "    - `Project name`: `echo`,\n",
    "    - `Pick a group or namespace (Project URL)`: выбрать `root`,\n",
    "    - `Visibility Level`: `Public`,\n",
    "    - **Снять** галочку `Initizalize repository with a README`."
   ]
  },
  {
   "cell_type": "markdown",
   "id": "0f494217-f4be-493a-94fc-ab8e1f8e62c7",
   "metadata": {},
   "source": [
    "## Локальная разработка"
   ]
  },
  {
   "cell_type": "markdown",
   "id": "99258c00-2b94-4a5a-b216-9964fa73671d",
   "metadata": {},
   "source": [
    "### Создание проекта"
   ]
  },
  {
   "cell_type": "code",
   "execution_count": null,
   "id": "08f3c22c-9f6b-481d-9e51-d1c05d3066b0",
   "metadata": {
    "tags": []
   },
   "outputs": [],
   "source": [
    "mkdir ~/echo"
   ]
  },
  {
   "cell_type": "code",
   "execution_count": null,
   "id": "cbcfe0fe-76ab-40ab-9a9c-68a241942cdb",
   "metadata": {
    "tags": []
   },
   "outputs": [],
   "source": [
    "cd ~/echo"
   ]
  },
  {
   "cell_type": "code",
   "execution_count": null,
   "id": "16a8bbd9-d5b8-4b78-842d-a52d9bbed3c0",
   "metadata": {
    "tags": []
   },
   "outputs": [],
   "source": [
    "cp -v ~/work/data/{Dockerfile,main.py,requirements.txt} ."
   ]
  },
  {
   "cell_type": "code",
   "execution_count": null,
   "id": "d138b04d-18a9-4dd9-88a3-6c7f77387188",
   "metadata": {
    "tags": []
   },
   "outputs": [],
   "source": [
    "curl -k -Lo .gitignore 'https://www.toptal.com/developers/gitignore/api/jupyternotebooks,python,vim'"
   ]
  },
  {
   "cell_type": "markdown",
   "id": "b3a8a40f-c4e5-4659-8d0a-5f38db7dc2bb",
   "metadata": {},
   "source": [
    "### Инициализация репозитория"
   ]
  },
  {
   "cell_type": "code",
   "execution_count": null,
   "id": "69ac0dcf-6dcd-4002-9e59-4e35ecdc1031",
   "metadata": {
    "tags": []
   },
   "outputs": [],
   "source": [
    "git init"
   ]
  },
  {
   "cell_type": "code",
   "execution_count": null,
   "id": "9afdaec1-0421-49c8-9563-aaa8ab7a6868",
   "metadata": {
    "tags": []
   },
   "outputs": [],
   "source": [
    "echo 'TBA' > README.md"
   ]
  },
  {
   "cell_type": "code",
   "execution_count": null,
   "id": "100bb143-f388-4518-92ac-d24216524bda",
   "metadata": {
    "tags": []
   },
   "outputs": [],
   "source": [
    "git add README.md"
   ]
  },
  {
   "cell_type": "code",
   "execution_count": null,
   "id": "3be6cd33-0995-4427-b4b5-e4130ac9d5ea",
   "metadata": {
    "tags": []
   },
   "outputs": [],
   "source": [
    "git commit -m \"Initial Commit\""
   ]
  },
  {
   "cell_type": "code",
   "execution_count": null,
   "id": "4b4aa7d1-9c65-48ea-a4ac-c6b5d07377c9",
   "metadata": {
    "tags": []
   },
   "outputs": [],
   "source": [
    "git add -A"
   ]
  },
  {
   "cell_type": "code",
   "execution_count": null,
   "id": "4c530b4a-4fc3-4216-8df0-9569307ad9f5",
   "metadata": {
    "tags": []
   },
   "outputs": [],
   "source": [
    "git status"
   ]
  },
  {
   "cell_type": "code",
   "execution_count": null,
   "id": "0101b97d-3d14-44ce-8d49-40616a9c372a",
   "metadata": {
    "tags": []
   },
   "outputs": [],
   "source": [
    "git commit -m \"First placement of the project\""
   ]
  },
  {
   "cell_type": "markdown",
   "id": "a8bd5ba1-dc0f-41dd-b61a-49fe8e915073",
   "metadata": {
    "tags": []
   },
   "source": [
    "### Добавление внешнего репозитория"
   ]
  },
  {
   "cell_type": "code",
   "execution_count": null,
   "id": "04da0cf6-a11f-4a71-9546-14023a9cbaf1",
   "metadata": {
    "tags": []
   },
   "outputs": [],
   "source": [
    "git remote -v"
   ]
  },
  {
   "cell_type": "code",
   "execution_count": null,
   "id": "270154ad-a799-49f8-abdb-fed2a3bd7b2c",
   "metadata": {
    "tags": []
   },
   "outputs": [],
   "source": [
    "git remote add origin git@gitlab:root/echo.git"
   ]
  },
  {
   "cell_type": "code",
   "execution_count": null,
   "id": "e2a150c5-c980-4f1a-8925-04460c303f7e",
   "metadata": {
    "tags": []
   },
   "outputs": [],
   "source": [
    "git remote -v"
   ]
  },
  {
   "cell_type": "code",
   "execution_count": null,
   "id": "7af51ab7-c406-4766-99bf-883a41283674",
   "metadata": {
    "tags": []
   },
   "outputs": [],
   "source": [
    "git fetch origin"
   ]
  },
  {
   "cell_type": "code",
   "execution_count": null,
   "id": "f475cf49-171b-41ea-9a2d-46e5b34503fe",
   "metadata": {
    "tags": []
   },
   "outputs": [],
   "source": [
    "git status"
   ]
  },
  {
   "cell_type": "markdown",
   "id": "ea543bea-cd1e-4ff6-a480-c4703842297b",
   "metadata": {},
   "source": [
    "### Публикация проекта"
   ]
  },
  {
   "cell_type": "code",
   "execution_count": null,
   "id": "5595115b-1f9f-4647-b908-7a98b5ebeb54",
   "metadata": {
    "tags": []
   },
   "outputs": [],
   "source": [
    "git push origin master -u"
   ]
  },
  {
   "cell_type": "markdown",
   "id": "a61e8837-48e9-4b4e-930d-df81c68fe1a4",
   "metadata": {},
   "source": [
    "### Добавление тестов"
   ]
  },
  {
   "cell_type": "code",
   "execution_count": null,
   "id": "2a14c416-bb26-4448-9243-dfe2dc5a9ca0",
   "metadata": {
    "tags": []
   },
   "outputs": [],
   "source": [
    "git checkout -b add-tests"
   ]
  },
  {
   "cell_type": "code",
   "execution_count": null,
   "id": "ae4f1878-bca5-4df7-af23-813440d6007c",
   "metadata": {
    "tags": []
   },
   "outputs": [],
   "source": [
    "echo 'assert True' > tests.py"
   ]
  },
  {
   "cell_type": "code",
   "execution_count": null,
   "id": "37b07a07-e7a9-425c-8a8e-896efdaf33ad",
   "metadata": {
    "tags": []
   },
   "outputs": [],
   "source": [
    "sed -i '/COPY main.py/s,COPY main.py,COPY main.py tests.py,' Dockerfile"
   ]
  },
  {
   "cell_type": "code",
   "execution_count": null,
   "id": "c8af58e1-79ea-4311-9ecc-b759eb8cc4b0",
   "metadata": {
    "tags": []
   },
   "outputs": [],
   "source": [
    "python tests.py"
   ]
  },
  {
   "cell_type": "code",
   "execution_count": null,
   "id": "38a72ec0-d81f-441a-8691-fd636e81c161",
   "metadata": {
    "tags": []
   },
   "outputs": [],
   "source": [
    "echo 'assert False' > tests.py"
   ]
  },
  {
   "cell_type": "code",
   "execution_count": null,
   "id": "c2089780-41f3-4bd9-88a7-d188b3e3ac69",
   "metadata": {
    "tags": []
   },
   "outputs": [],
   "source": [
    "git status"
   ]
  },
  {
   "cell_type": "code",
   "execution_count": null,
   "id": "692c42e6-49f2-4256-86b2-4ed78d66069f",
   "metadata": {
    "tags": []
   },
   "outputs": [],
   "source": [
    "git diff"
   ]
  },
  {
   "cell_type": "code",
   "execution_count": null,
   "id": "6c0225eb-7ff1-452e-a211-e336017dfb68",
   "metadata": {
    "tags": []
   },
   "outputs": [],
   "source": [
    "git add -A"
   ]
  },
  {
   "cell_type": "code",
   "execution_count": null,
   "id": "ab91430e-3d8b-4e7c-9aab-5a204e33a562",
   "metadata": {
    "tags": []
   },
   "outputs": [],
   "source": [
    "git status"
   ]
  },
  {
   "cell_type": "code",
   "execution_count": null,
   "id": "7caa31d9-805f-4c1b-820c-afe6868295e3",
   "metadata": {
    "tags": []
   },
   "outputs": [],
   "source": [
    "git commit -m \"Add tests\""
   ]
  },
  {
   "cell_type": "code",
   "execution_count": null,
   "id": "c3df230b-bfe6-4e13-80ac-f9863a425943",
   "metadata": {
    "tags": []
   },
   "outputs": [],
   "source": [
    "git log"
   ]
  },
  {
   "cell_type": "code",
   "execution_count": null,
   "id": "cc50ca2d-12b2-43c2-8a07-fa3dca7021ee",
   "metadata": {
    "tags": []
   },
   "outputs": [],
   "source": [
    "git push origin HEAD:add-tests"
   ]
  },
  {
   "cell_type": "markdown",
   "id": "317f43f3-4263-49da-9c70-5e290c81a60f",
   "metadata": {},
   "source": [
    "Создайте Merge Request и замержите его в `master`"
   ]
  },
  {
   "cell_type": "markdown",
   "id": "f994ac8a-deb6-4a31-bc25-846dd4ffc9dc",
   "metadata": {},
   "source": [
    "### Обновить master после слияния"
   ]
  },
  {
   "cell_type": "code",
   "execution_count": null,
   "id": "e005f2c7-414f-4297-9e2b-659c58273862",
   "metadata": {
    "tags": []
   },
   "outputs": [],
   "source": [
    "git fetch origin"
   ]
  },
  {
   "cell_type": "code",
   "execution_count": null,
   "id": "8442d1fe-01d2-4d96-9fb8-b28ffea0886d",
   "metadata": {
    "tags": []
   },
   "outputs": [],
   "source": [
    "git checkout master"
   ]
  },
  {
   "cell_type": "code",
   "execution_count": null,
   "id": "bd3d0650-462d-4e62-bd57-c8b44b4daa5f",
   "metadata": {
    "tags": []
   },
   "outputs": [],
   "source": [
    "git merge origin/master"
   ]
  },
  {
   "cell_type": "markdown",
   "id": "2b229cdb-3f54-4bbf-8e05-34634a735cdf",
   "metadata": {
    "tags": []
   },
   "source": [
    "## Настройка GitLab CI"
   ]
  },
  {
   "cell_type": "markdown",
   "id": "9b8a5db3-b108-4bb6-ab16-34fcfd6330dd",
   "metadata": {
    "tags": []
   },
   "source": [
    "### Получить токен"
   ]
  },
  {
   "cell_type": "markdown",
   "id": "02546382-1c4d-4e01-b126-d6026265c3a3",
   "metadata": {},
   "source": [
    "1. Открыть [`Admin Area`](http://localhost:8080/admin) (Левая панель, первый комбо-бокс),\n",
    "1. Нажать [`Shared Runners`](http://localhost:8080/admin/runners) (Средняя колонка, `Features` -> `Shared Runners`),\n",
    "1. Нажать на кнопку с тремя вертикальными точками рядом с кнопкой `New instance runner`,\n",
    "1. Нажать на кнопку `Copy registration token` рядом с кнопкой с иконкой с глазом,\n",
    "1. Сохранить токен в переменную `RUNNER_TOKEN` ниже."
   ]
  },
  {
   "cell_type": "code",
   "execution_count": null,
   "id": "2ed9821c-c4bb-4b8a-b849-abca102af850",
   "metadata": {
    "tags": []
   },
   "outputs": [],
   "source": [
    "RUNNER_TOKEN=FQBbsyXm5JmxBsmeDz92"
   ]
  },
  {
   "cell_type": "markdown",
   "id": "83bb5db5-7fbd-4b19-9d87-9e46ebd04d10",
   "metadata": {},
   "source": [
    "### Конфигурация раннера"
   ]
  },
  {
   "cell_type": "markdown",
   "id": "201e789a-b78e-44da-8b38-2ce27fa5463c",
   "metadata": {},
   "source": [
    "Раннер будет запускать docker контейнеры, которые должны быть в одной сети с GitLab, поэтому необходимо сохранить значение сети в переменную:"
   ]
  },
  {
   "cell_type": "code",
   "execution_count": null,
   "id": "4e2bdf16-670a-43c5-9bb5-232795ce804f",
   "metadata": {
    "tags": []
   },
   "outputs": [],
   "source": [
    "GITLAB_NETWORK=$(docker inspect gitlab | sed -n '/git_network\":/s,\\s*\"\\([^\"]\\+\\)\".*,\\1,p')"
   ]
  },
  {
   "cell_type": "code",
   "execution_count": null,
   "id": "24a8d873-854f-45f1-b823-13e7cbb5673a",
   "metadata": {
    "tags": []
   },
   "outputs": [],
   "source": [
    "gitlab-runner register \\\n",
    "  --non-interactive \\\n",
    "  --url http://gitlab/ \\\n",
    "  --registration-token ${RUNNER_TOKEN} \\\n",
    "  --name dockerfile-runner \\\n",
    "  --maintenance-note 'Dockerfile Runner' \\\n",
    "  --tag-list 'docker' \\\n",
    "  --docker-network-mode ${GITLAB_NETWORK} \\\n",
    "  --executor docker \\\n",
    "  --docker-privileged \\\n",
    "  --docker-volumes '/var/run/docker.sock:/var/run/docker.sock' \\\n",
    "  --docker-image docker:stable-dind"
   ]
  },
  {
   "cell_type": "markdown",
   "id": "b00e2e44-b37a-40b7-9939-bbeaf98bbdda",
   "metadata": {
    "tags": []
   },
   "source": [
    "Проверьте, что раннер создался (обновить страницу с токеном): [`http://localhost:8080/admin/runners`](http://localhost:8080/admin/runners)"
   ]
  },
  {
   "cell_type": "markdown",
   "id": "b70e5ee0-5bab-4c49-9a9d-10e68a162e07",
   "metadata": {},
   "source": [
    "### Настройка проекта"
   ]
  },
  {
   "cell_type": "code",
   "execution_count": null,
   "id": "7dcd5da1-77c7-4384-89cb-9b2efbeb7d23",
   "metadata": {
    "tags": []
   },
   "outputs": [],
   "source": [
    "git checkout -b add-gitlab-ci master"
   ]
  },
  {
   "cell_type": "code",
   "execution_count": null,
   "id": "361c864e-e6ab-446a-87d7-36d89ce3ede5",
   "metadata": {
    "tags": []
   },
   "outputs": [],
   "source": [
    "cp -v ~/work/data/.gitlab-ci.yml ."
   ]
  },
  {
   "cell_type": "code",
   "execution_count": null,
   "id": "bd400cb7-8567-405c-9f0f-aa3bb51fef66",
   "metadata": {
    "tags": []
   },
   "outputs": [],
   "source": [
    "cat .gitlab-ci.yml"
   ]
  },
  {
   "cell_type": "code",
   "execution_count": null,
   "id": "917eb89a-9873-4b34-8e8c-14224c7ff2c3",
   "metadata": {
    "tags": []
   },
   "outputs": [],
   "source": [
    "git status"
   ]
  },
  {
   "cell_type": "code",
   "execution_count": null,
   "id": "96ee6f93-e2b9-4828-8c8d-8c334196d56c",
   "metadata": {
    "tags": []
   },
   "outputs": [],
   "source": [
    "git add .gitlab-ci.yml"
   ]
  },
  {
   "cell_type": "code",
   "execution_count": null,
   "id": "fd75e62f-3f3f-4d0a-8275-51e4282a61d5",
   "metadata": {
    "tags": []
   },
   "outputs": [],
   "source": [
    "git commit -m \"Add .gitlab-ci.yml\""
   ]
  },
  {
   "cell_type": "code",
   "execution_count": null,
   "id": "e42f0f92-cba3-4d55-87ee-6b51c90a45ea",
   "metadata": {
    "tags": []
   },
   "outputs": [],
   "source": [
    "git push origin HEAD:add-gitlab-ci"
   ]
  },
  {
   "cell_type": "markdown",
   "id": "5aac5538-ddd9-4af0-9e6d-116c72861555",
   "metadata": {
    "tags": []
   },
   "source": [
    "Откройте pipelines, чтобы увидеть, что CI запустился (левая панель, Build -> Pipelines): http://localhost:8080/root/echo/-/pipelines"
   ]
  },
  {
   "cell_type": "markdown",
   "id": "d9160956-1aba-4d39-b856-f0648b488f78",
   "metadata": {
    "tags": []
   },
   "source": [
    "**Внимание**: Пайплайн упадет, т.к. тесты в `tests.py` нерабочие."
   ]
  },
  {
   "cell_type": "markdown",
   "id": "d19fa6c4-cf7d-43d1-8e7e-10ab9d69e4bd",
   "metadata": {},
   "source": [
    "Создайте Merge Request и замержите его, тесты будут исправлены в следующем шаге."
   ]
  },
  {
   "cell_type": "code",
   "execution_count": null,
   "id": "675e0115-57bf-4541-82e4-7a4121ef0143",
   "metadata": {
    "tags": []
   },
   "outputs": [],
   "source": [
    "git fetch origin\n",
    "git checkout master\n",
    "git merge origin/master"
   ]
  },
  {
   "cell_type": "markdown",
   "id": "713fcd1e-a318-4cde-bf9c-f4ec84de3f35",
   "metadata": {},
   "source": [
    "### Починка тестов"
   ]
  },
  {
   "cell_type": "code",
   "execution_count": null,
   "id": "d86bc817-5c94-47ff-a600-c34e4623b385",
   "metadata": {
    "tags": []
   },
   "outputs": [],
   "source": [
    "git checkout -b fix-tests master"
   ]
  },
  {
   "cell_type": "code",
   "execution_count": null,
   "id": "360963ba-a89f-45aa-9ade-9df921c8db94",
   "metadata": {
    "tags": []
   },
   "outputs": [],
   "source": [
    "echo 'assert True' > tests.py"
   ]
  },
  {
   "cell_type": "code",
   "execution_count": null,
   "id": "47cc11a1-5afd-40c7-86be-655271648b8d",
   "metadata": {
    "tags": []
   },
   "outputs": [],
   "source": [
    "git add tests.py\n",
    "git commit -m \"Fix tests\""
   ]
  },
  {
   "cell_type": "code",
   "execution_count": null,
   "id": "63ddab0d-a3cf-4088-bd71-ddb3c6ed118d",
   "metadata": {
    "tags": []
   },
   "outputs": [],
   "source": [
    "git push origin HEAD:fix-tests"
   ]
  },
  {
   "cell_type": "markdown",
   "id": "9fc27be8-8611-4e26-8bf1-ca814eab08a0",
   "metadata": {},
   "source": [
    "Проверьте пайплайн, тесты должны проходить успешно\n",
    "\n",
    "Создайте Merge Request и замержите его в master."
   ]
  },
  {
   "cell_type": "code",
   "execution_count": null,
   "id": "607a9e00-c083-48ca-a63f-c756c77b2e79",
   "metadata": {
    "tags": []
   },
   "outputs": [],
   "source": [
    "git fetch origin\n",
    "git checkout master\n",
    "git merge origin/master"
   ]
  },
  {
   "cell_type": "markdown",
   "id": "fb2364da-5412-472b-b521-1fc6a0bb09fd",
   "metadata": {
    "tags": []
   },
   "source": [
    "## GitLab CD"
   ]
  },
  {
   "cell_type": "markdown",
   "id": "a6df9831-67b4-4f50-8dca-a70148a04106",
   "metadata": {
    "tags": []
   },
   "source": [
    "После мержа в master запустился новый pipeline, который автоматически задеплоит приложение в виде докер контейнера: http://localhost:8000/?message=hello"
   ]
  },
  {
   "cell_type": "markdown",
   "execution_count": null,
   "id": "d5b8442b-e885-4f88-a895-e633d5774aeb",
   "metadata": {
    "tags": []
   },
   "outputs": [],
   "source": [
    "Изменим логику:"
   ]
  },
  {
   "cell_type": "code",
   "execution_count": null,
   "id": "7b78b711-37e3-40d9-b389-32e9c0e43109",
   "metadata": {
    "tags": []
   },
   "outputs": [],
   "source": [
    "git checkout -b change-message master"
   ]
  },
  {
   "cell_type": "code",
   "execution_count": null,
   "id": "149e4d6a-128e-4312-adaf-db2a14da2c05",
   "metadata": {
    "tags": []
   },
   "outputs": [],
   "source": [
    "sed -i '/you_message/s,you_message,message,' main.py"
   ]
  },
  {
   "cell_type": "code",
   "execution_count": null,
   "id": "97aa9667-b537-44ad-8cfa-b5ae8836ca39",
   "metadata": {
    "tags": []
   },
   "outputs": [],
   "source": [
    "git diff"
   ]
  },
  {
   "cell_type": "code",
   "execution_count": null,
   "id": "0fbccbf1-a7d2-42e6-ae1d-ccf700c3f897",
   "metadata": {
    "tags": []
   },
   "outputs": [],
   "source": [
    "git commit -am \"Fix message\" && git push origin HEAD:fix-message"
   ]
  },
  {
   "cell_type": "markdown",
   "id": "1dee4d86-f45f-4c30-bf02-baea578a5179",
   "metadata": {},
   "source": [
    "Создайте Merge Request и замержите его в `master`. Откройте: http://localhost:8000/?message=hello"
   ]
  },
  {
   "cell_type": "code",
   "execution_count": null,
   "id": "a8859b76-0c0a-4073-82eb-2497f9598416",
   "metadata": {
    "tags": []
   },
   "outputs": [],
   "source": [
    "git fetch origin\n",
    "git checkout master\n",
    "git merge origin/master"
   ]
  },
  {
   "cell_type": "code",
   "execution_count": null,
   "id": "c3ade072-89d2-426c-afc1-53acea5f13f2",
   "metadata": {},
   "outputs": [],
   "source": []
  }
 ],
 "metadata": {
  "kernelspec": {
   "display_name": "Bash",
   "language": "bash",
   "name": "bash"
  },
  "language_info": {
   "codemirror_mode": "shell",
   "file_extension": ".sh",
   "mimetype": "text/x-sh",
   "name": "bash"
  }
 },
 "nbformat": 4,
 "nbformat_minor": 5
}
