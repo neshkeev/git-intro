{
 "cells": [
  {
   "cell_type": "markdown",
   "id": "abe19f0d-35a5-419f-b0ef-92b8e7d2a0ec",
   "metadata": {},
   "source": [
    "# Основы работы с Git"
   ]
  },
  {
   "cell_type": "markdown",
   "id": "269ed06a-3144-4a71-b2c9-fc14ae8f2fa5",
   "metadata": {},
   "source": [
    "## Создание Git репозитория"
   ]
  },
  {
   "cell_type": "code",
   "execution_count": null,
   "id": "46854314-955f-4676-b0d5-e05070156a6c",
   "metadata": {
    "tags": []
   },
   "outputs": [],
   "source": [
    "rm -rf ~/repo"
   ]
  },
  {
   "cell_type": "code",
   "execution_count": null,
   "id": "92e6b670-ff17-4946-a50b-d3cc59d96c4a",
   "metadata": {
    "tags": []
   },
   "outputs": [],
   "source": [
    "mkdir -vp ~/repo"
   ]
  },
  {
   "cell_type": "code",
   "execution_count": null,
   "id": "46aaa410-2881-451d-a77b-eb909bb4c470",
   "metadata": {
    "tags": []
   },
   "outputs": [],
   "source": [
    "cd ~/repo"
   ]
  },
  {
   "cell_type": "markdown",
   "id": "b0b46b7a-0c79-4b23-95ea-0885269fa96d",
   "metadata": {},
   "source": [
    "### Инициалиация репозитория"
   ]
  },
  {
   "cell_type": "markdown",
   "id": "d1c2323b-b383-4883-9cc9-69302d125d4b",
   "metadata": {
    "tags": []
   },
   "source": [
    "Пока Git ничего не знает о нашем репозитории, для этого нужно явно сообщить Git о своем намерении отслеживать изменения в проекте при помощи системы контроля версий Git. Для этого необходимо проинициализировать репозиторий:"
   ]
  },
  {
   "cell_type": "code",
   "execution_count": null,
   "id": "c9bd8850-323f-4256-993f-4ffc70761a68",
   "metadata": {
    "tags": []
   },
   "outputs": [],
   "source": [
    "git init"
   ]
  },
  {
   "cell_type": "code",
   "execution_count": null,
   "id": "7f5d2bec-7d83-4f7f-bb3f-48f53f79d2e1",
   "metadata": {
    "tags": []
   },
   "outputs": [],
   "source": [
    "ls -la"
   ]
  },
  {
   "cell_type": "markdown",
   "id": "a7f6738e-45fa-4e08-9d17-a85573029b05",
   "metadata": {
    "tags": []
   },
   "source": [
    "### Добавление первого файла в репозиторий"
   ]
  },
  {
   "cell_type": "markdown",
   "id": "ff458bb8-f110-4bd3-bb31-64cae0d545a5",
   "metadata": {
    "tags": []
   },
   "source": [
    "Первый коммит обычно содержит простой `README.md` файл:"
   ]
  },
  {
   "cell_type": "code",
   "execution_count": null,
   "id": "c4a8c8db-bd88-4698-ada2-d55cbb2da2a6",
   "metadata": {
    "tags": []
   },
   "outputs": [],
   "source": [
    "echo \"Мой первый Git репозиторий\" > README.md"
   ]
  },
  {
   "cell_type": "code",
   "execution_count": null,
   "id": "fef21595-5b71-4e9e-a4c0-2880ad76f2c3",
   "metadata": {
    "tags": []
   },
   "outputs": [],
   "source": [
    "cat README.md"
   ]
  },
  {
   "cell_type": "markdown",
   "id": "3b7db50a-b44c-489b-9264-371d2c216af7",
   "metadata": {
    "tags": []
   },
   "source": [
    "Перед фиксацией изменений при помощи `git status` можно проверить, что попадет в коммит:"
   ]
  },
  {
   "cell_type": "code",
   "execution_count": null,
   "id": "8b7e9831-5600-4a6d-bd9e-f2adf4aef25a",
   "metadata": {
    "tags": []
   },
   "outputs": [],
   "source": [
    "git status"
   ]
  },
  {
   "cell_type": "markdown",
   "id": "eb2aca88-77f4-46ac-bad0-ce1d0ede6ebf",
   "metadata": {
    "tags": []
   },
   "source": [
    "Файл `README.md` находится в секции `Untracked files`, т.е. Git видит его, но не следит за ним. Чтобы начать отслеживать изменения в файле `README.md` необходимо добавить его в индекс:"
   ]
  },
  {
   "cell_type": "code",
   "execution_count": null,
   "id": "76ce141a-7da4-485f-a65c-2d7f4536f361",
   "metadata": {
    "tags": []
   },
   "outputs": [],
   "source": [
    "git add README.md"
   ]
  },
  {
   "cell_type": "markdown",
   "id": "51e8ff45-3913-4ef3-84d7-504fa7e2e023",
   "metadata": {},
   "source": [
    "Индекс-область содержит файлы, которые готовы к фиксации. Индекс-область также иногда называют \"стейджинг\", \"staging area\", \"index\"."
   ]
  },
  {
   "cell_type": "markdown",
   "id": "aed2e30b-dd01-467f-984d-9847195eec91",
   "metadata": {},
   "source": [
    "После добавления файлов в индекс можно зафиксировать изменения при помощи команды `git commit`:"
   ]
  },
  {
   "cell_type": "code",
   "execution_count": null,
   "id": "7c17f4f9-f8f4-4ec3-af48-dcc78a859881",
   "metadata": {
    "tags": []
   },
   "outputs": [],
   "source": [
    "git commit -m \"Мой первый файл в Git репозитории\""
   ]
  },
  {
   "cell_type": "markdown",
   "id": "35a940c1-038b-44d8-8e81-52b49950c49f",
   "metadata": {
    "tags": []
   },
   "source": [
    "Все изменения из индекса зафиксируются вместе в рамках одного объекта, который называется коммит.\n",
    "\n",
    "> *Коммит* - это **неизменная** и *неделимая* единица репозитория."
   ]
  },
  {
   "cell_type": "markdown",
   "id": "264db698-2586-4b29-98b9-49fdf7b4baf4",
   "metadata": {
    "tags": []
   },
   "source": [
    "### Получение истории коммитов"
   ]
  },
  {
   "cell_type": "markdown",
   "id": "e718b273-9d65-4b8d-a3a6-4e83164013fd",
   "metadata": {},
   "source": [
    "После фиксации изменений можно посмотреть какие коммиты находятся в репозитории при помощи команды `git log`:"
   ]
  },
  {
   "cell_type": "code",
   "execution_count": null,
   "id": "e39fc136-508b-4769-874b-2e51d629231e",
   "metadata": {
    "tags": []
   },
   "outputs": [],
   "source": [
    "git log"
   ]
  },
  {
   "cell_type": "markdown",
   "id": "53208405-50f8-40bc-b837-de5dc9943dff",
   "metadata": {},
   "source": [
    "### Добавление второго файла в репозиторий"
   ]
  },
  {
   "cell_type": "code",
   "execution_count": null,
   "id": "f3b17ae5-8bc8-460d-bae3-9cfec63d8b57",
   "metadata": {
    "tags": []
   },
   "outputs": [],
   "source": [
    "cp -v ~/work/data/index.html ."
   ]
  },
  {
   "cell_type": "code",
   "execution_count": null,
   "id": "5ed3b518-bee3-494b-a2a3-cbc89efee8dc",
   "metadata": {
    "tags": []
   },
   "outputs": [],
   "source": [
    "git status"
   ]
  },
  {
   "cell_type": "code",
   "execution_count": null,
   "id": "106e2d70-bc41-45f0-944d-9908418997ee",
   "metadata": {
    "tags": []
   },
   "outputs": [],
   "source": [
    "git add index.html"
   ]
  },
  {
   "cell_type": "code",
   "execution_count": null,
   "id": "bf853ee0-2332-4af4-ae5d-6f922559fd1c",
   "metadata": {
    "tags": []
   },
   "outputs": [],
   "source": [
    "git status"
   ]
  },
  {
   "cell_type": "markdown",
   "id": "a0ed5df9-ed86-40c8-ade1-6418b8dddaa5",
   "metadata": {
    "tags": []
   },
   "source": [
    "Команду `git add` с одними и теми же файлами можно запускать неограниченное количество раз, эффект будет таким же как и при запуске команды `git add` один раз:"
   ]
  },
  {
   "cell_type": "code",
   "execution_count": null,
   "id": "0a52458c-1302-4070-a3a3-ae9972ed55dc",
   "metadata": {
    "tags": []
   },
   "outputs": [],
   "source": [
    "git add index.html"
   ]
  },
  {
   "cell_type": "code",
   "execution_count": null,
   "id": "18cd6952-8a45-4ccb-9770-2b05fbb06ae1",
   "metadata": {
    "tags": []
   },
   "outputs": [],
   "source": [
    "git status"
   ]
  },
  {
   "cell_type": "markdown",
   "id": "3c0024fc-32b8-4b31-b31f-b4c7cd7f7745",
   "metadata": {
    "tags": []
   },
   "source": [
    "Обратите внимание, что сейчас файл `index.html` находится в секции \"`Changes to be committed`\". Это и есть индекс секция текущего репозитория."
   ]
  },
  {
   "cell_type": "code",
   "execution_count": null,
   "id": "c38fb5f3-9899-422a-bd58-45d7604f56e3",
   "metadata": {
    "tags": []
   },
   "outputs": [],
   "source": [
    "git commit -m \"Добавить index.html\""
   ]
  },
  {
   "cell_type": "code",
   "execution_count": null,
   "id": "3b86f57f-23f8-4abf-ad9e-d9d4fd2dc549",
   "metadata": {
    "tags": []
   },
   "outputs": [],
   "source": [
    "git log"
   ]
  },
  {
   "cell_type": "markdown",
   "id": "449295ee-eafe-4c8b-ba36-4fc201d9cbba",
   "metadata": {
    "tags": []
   },
   "source": [
    "### Добавление третьего файла в репозиторий"
   ]
  },
  {
   "cell_type": "code",
   "execution_count": null,
   "id": "6ca6376d-e786-4ef2-b9b6-03c01dcaf77e",
   "metadata": {
    "tags": []
   },
   "outputs": [],
   "source": [
    "cp -v ~/work/data/styles.css ."
   ]
  },
  {
   "cell_type": "code",
   "execution_count": null,
   "id": "d896b2fd-5bbf-4085-aee3-1fdc64001253",
   "metadata": {
    "tags": []
   },
   "outputs": [],
   "source": [
    "git status"
   ]
  },
  {
   "cell_type": "code",
   "execution_count": null,
   "id": "c4f5484e-caa1-411d-89c3-b7fc502f40ed",
   "metadata": {
    "tags": []
   },
   "outputs": [],
   "source": [
    "git add styles.css"
   ]
  },
  {
   "cell_type": "code",
   "execution_count": null,
   "id": "4fbc6936-07d9-4f8f-9ca9-ad0e029af1af",
   "metadata": {
    "tags": []
   },
   "outputs": [],
   "source": [
    "git status"
   ]
  },
  {
   "cell_type": "code",
   "execution_count": null,
   "id": "d4d51db2-082b-47f6-b330-7a00bc75952a",
   "metadata": {
    "tags": []
   },
   "outputs": [],
   "source": [
    "git commit -m \"Добавить styles.css\""
   ]
  },
  {
   "cell_type": "code",
   "execution_count": null,
   "id": "6ca765d2-d298-4a6d-b5ed-0277563b9196",
   "metadata": {
    "tags": []
   },
   "outputs": [],
   "source": [
    "git log"
   ]
  },
  {
   "cell_type": "markdown",
   "id": "5d737d0c-362a-477b-8e6e-92d56ebb4f4e",
   "metadata": {
    "tags": []
   },
   "source": [
    "## Задание"
   ]
  },
  {
   "cell_type": "markdown",
   "id": "53ea687c-7b79-4264-815d-81946cfc2dae",
   "metadata": {
    "tags": []
   },
   "source": [
    "### 1. Создать файл `/home/jovyan/repo/index.js`:"
   ]
  },
  {
   "cell_type": "markdown",
   "id": "1d18c28e-4acd-4d9d-91fe-fc23dbbb8123",
   "metadata": {
    "tags": []
   },
   "source": [
    "Создать файл `/home/jovyan/repo/index.js` можно двумя способами:\n",
    "1. через `touch`\n",
    "```bash\n",
    "touch /home/jovyan/repo/index.js\n",
    "```\n",
    "2. через встроенный редактор:\n",
    "    1. Нажать на иконку папки на левой панели, т.е подняться на один уровень по файловой системе;\n",
    "    2. Зайти в директорию `repo`;\n",
    "    3. Нажать правой кнопкой мыши на пустом месте в левой панели;\n",
    "    4. Выбрать `New File`;\n",
    "    5. Назвать файл `index.js`."
   ]
  },
  {
   "cell_type": "code",
   "execution_count": null,
   "id": "9e4d2ddd-a65f-4b4e-8827-9cefb09d944c",
   "metadata": {},
   "outputs": [],
   "source": []
  },
  {
   "cell_type": "markdown",
   "id": "e5b7afdd-6c3f-49b0-bfbe-70087ebc7e93",
   "metadata": {},
   "source": [
    "### 2. Наполнить файл содержимым"
   ]
  },
  {
   "cell_type": "markdown",
   "id": "06d4386a-3139-4673-a483-489088a925a5",
   "metadata": {
    "tags": []
   },
   "source": [
    "Добавить в файл `/home/jovyan/repo/index.js` функцию:\n",
    "```javascript\n",
    "function main() {\n",
    "  console.log(\"Hello, World!\");\n",
    "}\n",
    "```\n",
    "\n",
    "Сделать это можно двумя способами:\n",
    "1. через HEREDOCUEMNT\n",
    "```bash\n",
    "cat <<EOF > /home/jovyan/repo/index.js\n",
    "function main() {\n",
    "  console.log(\"Hello, World!\");\n",
    "}\n",
    "EOF\n",
    "```\n",
    "2. через встроенный редактор:\n",
    "    1. Нажать на иконку папки на левой панели, т.е подняться на один уровень по файловой системе;\n",
    "    2. Зайти в директорию `repo`;\n",
    "    3. Нажать дважды на файл `index.js`;\n",
    "    4. Добавить функцию в редакторе;\n",
    "    5. Сохранить файл."
   ]
  },
  {
   "cell_type": "code",
   "execution_count": null,
   "id": "46ce9b77-9419-45c3-b655-f37b54dbdcb0",
   "metadata": {},
   "outputs": [],
   "source": []
  },
  {
   "cell_type": "markdown",
   "id": "b6ee0ee2-0d30-40b6-a758-4a1dcc229a46",
   "metadata": {
    "tags": []
   },
   "source": [
    "### 3. Добавить `/home/jovyan/repo/index.js` в репозиторий"
   ]
  },
  {
   "cell_type": "markdown",
   "id": "e8921936-b6bb-4bbb-bd39-03399a015772",
   "metadata": {
    "tags": []
   },
   "source": [
    "Сообщение коммита должно начинаться с глагола в повелительном наклонении"
   ]
  },
  {
   "cell_type": "code",
   "execution_count": null,
   "id": "55af3864-8bd6-4cf1-940a-e00082de7806",
   "metadata": {},
   "outputs": [],
   "source": []
  },
  {
   "cell_type": "markdown",
   "id": "b2968697-3cca-4a8e-80f3-9dd233ca1fea",
   "metadata": {
    "tags": []
   },
   "source": [
    "### 4. Получить историю"
   ]
  },
  {
   "cell_type": "code",
   "execution_count": null,
   "id": "ddbc16e0-daa8-44f5-95e7-65637a7aca5c",
   "metadata": {},
   "outputs": [],
   "source": []
  },
  {
   "cell_type": "markdown",
   "id": "722b975d-2823-42cd-8d27-9fdf42f073ba",
   "metadata": {
    "tags": []
   },
   "source": [
    "### 5. Убедиться, что фиксация произошла."
   ]
  },
  {
   "cell_type": "code",
   "execution_count": null,
   "id": "9b129f3a-505e-4c77-adb2-606a872a6178",
   "metadata": {},
   "outputs": [],
   "source": []
  }
 ],
 "metadata": {
  "kernelspec": {
   "display_name": "Bash",
   "language": "bash",
   "name": "bash"
  },
  "language_info": {
   "codemirror_mode": "shell",
   "file_extension": ".sh",
   "mimetype": "text/x-sh",
   "name": "bash"
  }
 },
 "nbformat": 4,
 "nbformat_minor": 5
}
