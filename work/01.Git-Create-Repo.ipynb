{
 "cells": [
  {
   "cell_type": "markdown",
   "id": "abe19f0d-35a5-419f-b0ef-92b8e7d2a0ec",
   "metadata": {},
   "source": [
    "# Основы работы с Git"
   ]
  },
  {
   "cell_type": "markdown",
   "id": "269ed06a-3144-4a71-b2c9-fc14ae8f2fa5",
   "metadata": {},
   "source": [
    "## Создание Git репозитория"
   ]
  },
  {
   "cell_type": "code",
   "execution_count": 24,
   "id": "46854314-955f-4676-b0d5-e05070156a6c",
   "metadata": {
    "tags": []
   },
   "outputs": [],
   "source": [
    "rm -rf ~/repo"
   ]
  },
  {
   "cell_type": "code",
   "execution_count": 25,
   "id": "92e6b670-ff17-4946-a50b-d3cc59d96c4a",
   "metadata": {
    "tags": []
   },
   "outputs": [
    {
     "name": "stdout",
     "output_type": "stream",
     "text": [
      "mkdir: created directory '/home/jovyan/repo'\n"
     ]
    }
   ],
   "source": [
    "mkdir -vp ~/repo"
   ]
  },
  {
   "cell_type": "code",
   "execution_count": 26,
   "id": "46aaa410-2881-451d-a77b-eb909bb4c470",
   "metadata": {
    "tags": []
   },
   "outputs": [],
   "source": [
    "cd ~/repo"
   ]
  },
  {
   "cell_type": "markdown",
   "id": "b0b46b7a-0c79-4b23-95ea-0885269fa96d",
   "metadata": {},
   "source": [
    "### Инициалиация репозитория"
   ]
  },
  {
   "cell_type": "markdown",
   "id": "d1c2323b-b383-4883-9cc9-69302d125d4b",
   "metadata": {
    "tags": []
   },
   "source": [
    "**Пока Git ничего не знает о нашем репозитории, для этого нужно явно сообщить Git о своем намерении отслеживать изменения в проекте при помощи системы контроля версии Git. Для этого необходимо проинициализировать репозиторий**"
   ]
  },
  {
   "cell_type": "code",
   "execution_count": 27,
   "id": "c9bd8850-323f-4256-993f-4ffc70761a68",
   "metadata": {
    "tags": []
   },
   "outputs": [
    {
     "name": "stdout",
     "output_type": "stream",
     "text": [
      "hint: Using 'master' as the name for the initial branch. This default branch name\n",
      "hint: is subject to change. To configure the initial branch name to use in all\n",
      "hint: of your new repositories, which will suppress this warning, call:\n",
      "hint: \n",
      "hint: \tgit config --global init.defaultBranch <name>\n",
      "hint: \n",
      "hint: Names commonly chosen instead of 'master' are 'main', 'trunk' and\n",
      "hint: 'development'. The just-created branch can be renamed via this command:\n",
      "hint: \n",
      "hint: \tgit branch -m <name>\n",
      "Initialized empty Git repository in /home/jovyan/repo/.git/\n"
     ]
    }
   ],
   "source": [
    "git init"
   ]
  },
  {
   "cell_type": "markdown",
   "id": "a7f6738e-45fa-4e08-9d17-a85573029b05",
   "metadata": {
    "tags": []
   },
   "source": [
    "### Добавление первого файла в репозиторий"
   ]
  },
  {
   "cell_type": "markdown",
   "id": "ff458bb8-f110-4bd3-bb31-64cae0d545a5",
   "metadata": {
    "tags": []
   },
   "source": [
    "Создать файл README.md"
   ]
  },
  {
   "cell_type": "code",
   "execution_count": 28,
   "id": "c4a8c8db-bd88-4698-ada2-d55cbb2da2a6",
   "metadata": {
    "tags": []
   },
   "outputs": [],
   "source": [
    "echo \"Мой первый Git репозиторий\" > README.md"
   ]
  },
  {
   "cell_type": "code",
   "execution_count": 29,
   "id": "fef21595-5b71-4e9e-a4c0-2880ad76f2c3",
   "metadata": {
    "tags": []
   },
   "outputs": [
    {
     "name": "stdout",
     "output_type": "stream",
     "text": [
      "Мой первый Git репозиторий\n"
     ]
    }
   ],
   "source": [
    "cat README.md"
   ]
  },
  {
   "cell_type": "markdown",
   "id": "3b7db50a-b44c-489b-9264-371d2c216af7",
   "metadata": {
    "tags": []
   },
   "source": [
    "Проверка статуса репозитория"
   ]
  },
  {
   "cell_type": "code",
   "execution_count": 30,
   "id": "8b7e9831-5600-4a6d-bd9e-f2adf4aef25a",
   "metadata": {
    "tags": []
   },
   "outputs": [
    {
     "name": "stdout",
     "output_type": "stream",
     "text": [
      "On branch master\n",
      "\n",
      "No commits yet\n",
      "\n",
      "Untracked files:\n",
      "  (use \"git add <file>...\" to include in what will be committed)\n",
      "\tREADME.md\n",
      "\n",
      "nothing added to commit but untracked files present (use \"git add\" to track)\n"
     ]
    }
   ],
   "source": [
    "git status"
   ]
  },
  {
   "cell_type": "markdown",
   "id": "eb2aca88-77f4-46ac-bad0-ce1d0ede6ebf",
   "metadata": {
    "tags": []
   },
   "source": [
    "**Добавить файл в индекс (так же известен под названием стейджинг, staging area, index)**"
   ]
  },
  {
   "cell_type": "code",
   "execution_count": 31,
   "id": "76ce141a-7da4-485f-a65c-2d7f4536f361",
   "metadata": {
    "tags": []
   },
   "outputs": [],
   "source": [
    "git add README.md"
   ]
  },
  {
   "cell_type": "markdown",
   "id": "aed2e30b-dd01-467f-984d-9847195eec91",
   "metadata": {},
   "source": [
    "**Зафиксировать изменения в репозитории**"
   ]
  },
  {
   "cell_type": "code",
   "execution_count": 32,
   "id": "7c17f4f9-f8f4-4ec3-af48-dcc78a859881",
   "metadata": {
    "tags": []
   },
   "outputs": [
    {
     "name": "stdout",
     "output_type": "stream",
     "text": [
      "[master (root-commit) af017cc] Мой первый файл в Git репозитории\n",
      " 1 file changed, 1 insertion(+)\n",
      " create mode 100644 README.md\n"
     ]
    }
   ],
   "source": [
    "git commit -m \"Мой первый файл в Git репозитории\""
   ]
  },
  {
   "cell_type": "markdown",
   "id": "264db698-2586-4b29-98b9-49fdf7b4baf4",
   "metadata": {
    "tags": []
   },
   "source": [
    "### Получение истории коммитов"
   ]
  },
  {
   "cell_type": "code",
   "execution_count": 33,
   "id": "e39fc136-508b-4769-874b-2e51d629231e",
   "metadata": {
    "tags": []
   },
   "outputs": [
    {
     "name": "stdout",
     "output_type": "stream",
     "text": [
      "commit af017cc5638ee2aa0c082834d3a72833d75fd850 (HEAD -> master)\n",
      "Author: Nikita Eshkeev <neshkeev@yandex.ru>\n",
      "Date:   Thu Mar 16 20:32:19 2023 +0000\n",
      "\n",
      "    Мой первый файл в Git репозитории\n"
     ]
    }
   ],
   "source": [
    "git log"
   ]
  },
  {
   "cell_type": "markdown",
   "id": "53208405-50f8-40bc-b837-de5dc9943dff",
   "metadata": {},
   "source": [
    "### Добавление второго файла в репозиторий"
   ]
  },
  {
   "cell_type": "code",
   "execution_count": 34,
   "id": "f3b17ae5-8bc8-460d-bae3-9cfec63d8b57",
   "metadata": {
    "tags": []
   },
   "outputs": [
    {
     "name": "stdout",
     "output_type": "stream",
     "text": [
      "'/home/jovyan/work/data/index.html' -> './index.html'\n"
     ]
    }
   ],
   "source": [
    "cp -v ~/work/data/index.html ."
   ]
  },
  {
   "cell_type": "code",
   "execution_count": 35,
   "id": "106e2d70-bc41-45f0-944d-9908418997ee",
   "metadata": {
    "tags": []
   },
   "outputs": [],
   "source": [
    "git add index.html"
   ]
  },
  {
   "cell_type": "code",
   "execution_count": 36,
   "id": "5ed3b518-bee3-494b-a2a3-cbc89efee8dc",
   "metadata": {
    "tags": []
   },
   "outputs": [
    {
     "name": "stdout",
     "output_type": "stream",
     "text": [
      "On branch master\n",
      "Changes to be committed:\n",
      "  (use \"git restore --staged <file>...\" to unstage)\n",
      "\tnew file:   index.html\n",
      "\n"
     ]
    }
   ],
   "source": [
    "git status"
   ]
  },
  {
   "cell_type": "code",
   "execution_count": 37,
   "id": "0a52458c-1302-4070-a3a3-ae9972ed55dc",
   "metadata": {
    "tags": []
   },
   "outputs": [],
   "source": [
    "git add index.html"
   ]
  },
  {
   "cell_type": "code",
   "execution_count": 38,
   "id": "c38fb5f3-9899-422a-bd58-45d7604f56e3",
   "metadata": {
    "tags": []
   },
   "outputs": [
    {
     "name": "stdout",
     "output_type": "stream",
     "text": [
      "[master d1f2b1a] Добавить index.html\n",
      " 1 file changed, 8 insertions(+)\n",
      " create mode 100644 index.html\n"
     ]
    }
   ],
   "source": [
    "git commit -m \"Добавить index.html\""
   ]
  },
  {
   "cell_type": "code",
   "execution_count": 39,
   "id": "3b86f57f-23f8-4abf-ad9e-d9d4fd2dc549",
   "metadata": {
    "tags": []
   },
   "outputs": [
    {
     "name": "stdout",
     "output_type": "stream",
     "text": [
      "commit d1f2b1a81cd2470c77b2a330096cc9be3a23cb5d (HEAD -> master)\n",
      "Author: Nikita Eshkeev <neshkeev@yandex.ru>\n",
      "Date:   Thu Mar 16 20:32:19 2023 +0000\n",
      "\n",
      "    Добавить index.html\n",
      "\n",
      "commit af017cc5638ee2aa0c082834d3a72833d75fd850\n",
      "Author: Nikita Eshkeev <neshkeev@yandex.ru>\n",
      "Date:   Thu Mar 16 20:32:19 2023 +0000\n",
      "\n",
      "    Мой первый файл в Git репозитории\n"
     ]
    }
   ],
   "source": [
    "git log"
   ]
  },
  {
   "cell_type": "markdown",
   "id": "449295ee-eafe-4c8b-ba36-4fc201d9cbba",
   "metadata": {
    "tags": []
   },
   "source": [
    "### Добавление третьего файла в репозиторий"
   ]
  },
  {
   "cell_type": "code",
   "execution_count": 41,
   "id": "6ca6376d-e786-4ef2-b9b6-03c01dcaf77e",
   "metadata": {
    "tags": []
   },
   "outputs": [
    {
     "name": "stdout",
     "output_type": "stream",
     "text": [
      "'/home/jovyan/work/data/styles.css' -> './styles.css'\n"
     ]
    }
   ],
   "source": [
    "cp -v ~/work/data/styles.css ."
   ]
  },
  {
   "cell_type": "code",
   "execution_count": 42,
   "id": "d896b2fd-5bbf-4085-aee3-1fdc64001253",
   "metadata": {
    "tags": []
   },
   "outputs": [
    {
     "name": "stdout",
     "output_type": "stream",
     "text": [
      "On branch master\n",
      "Untracked files:\n",
      "  (use \"git add <file>...\" to include in what will be committed)\n",
      "\tstyles.css\n",
      "\n",
      "nothing added to commit but untracked files present (use \"git add\" to track)\n"
     ]
    }
   ],
   "source": [
    "git status"
   ]
  },
  {
   "cell_type": "code",
   "execution_count": 43,
   "id": "c4f5484e-caa1-411d-89c3-b7fc502f40ed",
   "metadata": {
    "tags": []
   },
   "outputs": [],
   "source": [
    "git add styles.css"
   ]
  },
  {
   "cell_type": "code",
   "execution_count": 44,
   "id": "4fbc6936-07d9-4f8f-9ca9-ad0e029af1af",
   "metadata": {
    "tags": []
   },
   "outputs": [
    {
     "name": "stdout",
     "output_type": "stream",
     "text": [
      "On branch master\n",
      "Changes to be committed:\n",
      "  (use \"git restore --staged <file>...\" to unstage)\n",
      "\tnew file:   styles.css\n",
      "\n"
     ]
    }
   ],
   "source": [
    "git status"
   ]
  },
  {
   "cell_type": "code",
   "execution_count": 45,
   "id": "d4d51db2-082b-47f6-b330-7a00bc75952a",
   "metadata": {
    "tags": []
   },
   "outputs": [
    {
     "name": "stdout",
     "output_type": "stream",
     "text": [
      "[master 7f187cb] Добавить styles.css\n",
      " 1 file changed, 4 insertions(+)\n",
      " create mode 100644 styles.css\n"
     ]
    }
   ],
   "source": [
    "git commit -m \"Добавить styles.css\""
   ]
  },
  {
   "cell_type": "code",
   "execution_count": 46,
   "id": "6ca765d2-d298-4a6d-b5ed-0277563b9196",
   "metadata": {
    "tags": []
   },
   "outputs": [
    {
     "name": "stdout",
     "output_type": "stream",
     "text": [
      "commit 7f187cbfb4c56081c8a7b243094116003acaa301 (HEAD -> master)\n",
      "Author: Nikita Eshkeev <neshkeev@yandex.ru>\n",
      "Date:   Thu Mar 16 20:32:20 2023 +0000\n",
      "\n",
      "    Добавить styles.css\n",
      "\n",
      "commit d1f2b1a81cd2470c77b2a330096cc9be3a23cb5d\n",
      "Author: Nikita Eshkeev <neshkeev@yandex.ru>\n",
      "Date:   Thu Mar 16 20:32:19 2023 +0000\n",
      "\n",
      "    Добавить index.html\n",
      "\n",
      "commit af017cc5638ee2aa0c082834d3a72833d75fd850\n",
      "Author: Nikita Eshkeev <neshkeev@yandex.ru>\n",
      "Date:   Thu Mar 16 20:32:19 2023 +0000\n",
      "\n",
      "    Мой первый файл в Git репозитории\n"
     ]
    }
   ],
   "source": [
    "git log"
   ]
  },
  {
   "cell_type": "markdown",
   "id": "5d737d0c-362a-477b-8e6e-92d56ebb4f4e",
   "metadata": {
    "tags": []
   },
   "source": [
    "## Задание"
   ]
  },
  {
   "cell_type": "markdown",
   "id": "53ea687c-7b79-4264-815d-81946cfc2dae",
   "metadata": {
    "tags": []
   },
   "source": [
    "1. Создать файл `/home/jovyan/index.js`\n",
    "1. Добавить в него функцию\n",
    "```javascript\n",
    "function main() {\n",
    "  alert(\"Hello, World!\");\n",
    "}\n",
    "```\n",
    "3. Добавить `/home/jovyan/repo/index.js` в репозиторий. Сообщение коммита должно начинаться с глагола в повелительном наклонении\n",
    "3. Получить историю\n",
    "4. Убедиться, что фиксация произошла"
   ]
  }
 ],
 "metadata": {
  "kernelspec": {
   "display_name": "Bash",
   "language": "bash",
   "name": "bash"
  },
  "language_info": {
   "codemirror_mode": "shell",
   "file_extension": ".sh",
   "mimetype": "text/x-sh",
   "name": "bash"
  }
 },
 "nbformat": 4,
 "nbformat_minor": 5
}
