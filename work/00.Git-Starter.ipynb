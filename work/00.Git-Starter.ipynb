{
 "cells": [
  {
   "cell_type": "markdown",
   "id": "abe19f0d-35a5-419f-b0ef-92b8e7d2a0ec",
   "metadata": {},
   "source": [
    "# Основы работы с Git - Базовая настройка"
   ]
  },
  {
   "cell_type": "markdown",
   "id": "acb1d768-4dda-48f3-8500-9c3a5eb6aff2",
   "metadata": {},
   "source": [
    "Текущая версия Git:"
   ]
  },
  {
   "cell_type": "code",
   "execution_count": null,
   "id": "86e65aab-c6d7-4f11-b31c-96b145106221",
   "metadata": {
    "tags": []
   },
   "outputs": [],
   "source": [
    "git --version"
   ]
  },
  {
   "cell_type": "markdown",
   "id": "d7b651be-5d7c-46ba-a09f-2b9fe38d271a",
   "metadata": {},
   "source": [
    "## Настройка пользователя"
   ]
  },
  {
   "cell_type": "markdown",
   "id": "716c9396-f00b-4940-ba60-a537b819c519",
   "metadata": {},
   "source": [
    "### Настройка имени автора"
   ]
  },
  {
   "cell_type": "markdown",
   "id": "89935685-7e82-429b-8b64-623672461c5c",
   "metadata": {},
   "source": [
    "Обязательно нужно указать, кто будет автором изменений, которые совершаются на этом компьютере"
   ]
  },
  {
   "cell_type": "markdown",
   "id": "6cc52337-8dde-46ae-b052-4a0626fef269",
   "metadata": {},
   "source": [
    "Необходимо указать свое имя (например, `Nikita Eshkeev`):"
   ]
  },
  {
   "cell_type": "code",
   "execution_count": null,
   "id": "0949041f-a051-4973-977a-f2da0b11759f",
   "metadata": {
    "tags": []
   },
   "outputs": [],
   "source": [
    "export USER_NAME=''"
   ]
  },
  {
   "cell_type": "code",
   "execution_count": null,
   "id": "dee7b5c6-bac3-4751-be74-1523fef10725",
   "metadata": {
    "tags": []
   },
   "outputs": [],
   "source": [
    "echo \"${USER_NAME}\""
   ]
  },
  {
   "cell_type": "markdown",
   "id": "3852518e-b4cf-4c7e-8398-08dabd080d5a",
   "metadata": {},
   "source": [
    "Автоматическая проверка заполненности `USER_NAME`:"
   ]
  },
  {
   "cell_type": "code",
   "execution_count": null,
   "id": "2ffca871-048f-4cdf-afd6-fae4df3803b8",
   "metadata": {},
   "outputs": [],
   "source": [
    "[ -n \"${USER_NAME}\" ] || {\n",
    "    echo 'Пожалуйста, заполните USER_NAME: export USER_NAME=<YOUR_USERNAME>`'\n",
    "    false\n",
    "}"
   ]
  },
  {
   "cell_type": "markdown",
   "id": "d5155982-fce5-4fe3-8d20-537ec5481481",
   "metadata": {},
   "source": [
    "Установка имени пользователя:"
   ]
  },
  {
   "cell_type": "code",
   "execution_count": null,
   "id": "4de5c911-97b0-412d-a58a-89ad467676d3",
   "metadata": {
    "tags": []
   },
   "outputs": [],
   "source": [
    "git config --global user.name \"${USER_NAME}\""
   ]
  },
  {
   "cell_type": "markdown",
   "id": "c120b622-0060-4088-86ca-bce7975c0474",
   "metadata": {},
   "source": [
    "### Настройка email автора"
   ]
  },
  {
   "cell_type": "markdown",
   "id": "5add09e0-372d-452d-980b-73aa0358a51d",
   "metadata": {
    "tags": []
   },
   "source": [
    "Также необходимо указать email автора, чтобы с ним можно было связаться при желании:"
   ]
  },
  {
   "cell_type": "code",
   "execution_count": null,
   "id": "e9b22e0c-eb01-4dc4-99f4-85c217f73c40",
   "metadata": {
    "tags": []
   },
   "outputs": [],
   "source": [
    "export USER_EMAIL=''"
   ]
  },
  {
   "cell_type": "code",
   "execution_count": null,
   "id": "d4148c71-fd4d-43aa-ab0d-0f6f2264b30c",
   "metadata": {
    "tags": []
   },
   "outputs": [],
   "source": [
    "echo \"${USER_EMAIL}\""
   ]
  },
  {
   "cell_type": "markdown",
   "id": "3170833f-c1a0-48ce-a8ca-6c5c021ba9f8",
   "metadata": {},
   "source": [
    "Автоматическая проверка заполненности `USER_EMAIL`:"
   ]
  },
  {
   "cell_type": "code",
   "execution_count": null,
   "id": "4a48853e-ebb5-45cb-aa1c-11a4787d53b6",
   "metadata": {},
   "outputs": [],
   "source": [
    "[ -n \"${USER_EMAIL}\" ] || {\n",
    "    echo 'Пожалуйста, заполните USER_EMAIL: export USER_EMAIL=<YOUR_EMAIL>`'\n",
    "    false\n",
    "}"
   ]
  },
  {
   "cell_type": "markdown",
   "id": "0d25248a-a1d1-4a35-a7ae-d041694e81a3",
   "metadata": {},
   "source": [
    "Установка email пользователя:"
   ]
  },
  {
   "cell_type": "code",
   "execution_count": null,
   "id": "b8092a66-fd70-4b1c-93fb-b60c3ee2ebbe",
   "metadata": {
    "tags": []
   },
   "outputs": [],
   "source": [
    "git config --global user.email \"${USER_EMAIL}\""
   ]
  },
  {
   "cell_type": "markdown",
   "id": "8384346a-a454-45f6-bbd6-8567b119a20e",
   "metadata": {},
   "source": [
    "## Текущая конфигурация Git"
   ]
  },
  {
   "cell_type": "markdown",
   "id": "33fc6123-31c1-450d-bb71-ddf8286e898a",
   "metadata": {},
   "source": [
    "Полный список параметров git можно посмотреть вот так:"
   ]
  },
  {
   "cell_type": "code",
   "execution_count": null,
   "id": "5cf7dce2-8137-431e-867d-14e3c2b0f1c2",
   "metadata": {
    "tags": []
   },
   "outputs": [],
   "source": [
    "git config --list"
   ]
  },
  {
   "cell_type": "code",
   "execution_count": null,
   "id": "a7e78255-d4b9-4330-8ac8-d7392eea9562",
   "metadata": {},
   "outputs": [],
   "source": []
  }
 ],
 "metadata": {
  "kernelspec": {
   "display_name": "Bash",
   "language": "bash",
   "name": "bash"
  },
  "language_info": {
   "codemirror_mode": "shell",
   "file_extension": ".sh",
   "mimetype": "text/x-sh",
   "name": "bash"
  }
 },
 "nbformat": 4,
 "nbformat_minor": 5
}
