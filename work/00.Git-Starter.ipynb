{
 "cells": [
  {
   "cell_type": "markdown",
   "id": "abe19f0d-35a5-419f-b0ef-92b8e7d2a0ec",
   "metadata": {},
   "source": [
    "# Основы работы с Git"
   ]
  },
  {
   "cell_type": "markdown",
   "id": "384aac68-fb12-46ff-8123-abce67881c73",
   "metadata": {
    "tags": []
   },
   "source": [
    "## Базовая настройка Git"
   ]
  },
  {
   "cell_type": "code",
   "execution_count": 1,
   "id": "86e65aab-c6d7-4f11-b31c-96b145106221",
   "metadata": {
    "tags": []
   },
   "outputs": [
    {
     "name": "stdout",
     "output_type": "stream",
     "text": [
      "git version 2.34.1\n"
     ]
    }
   ],
   "source": [
    "git --version"
   ]
  },
  {
   "cell_type": "code",
   "execution_count": 2,
   "id": "0949041f-a051-4973-977a-f2da0b11759f",
   "metadata": {
    "tags": []
   },
   "outputs": [],
   "source": [
    "# export USER_NAME=''"
   ]
  },
  {
   "cell_type": "code",
   "execution_count": 3,
   "id": "dee7b5c6-bac3-4751-be74-1523fef10725",
   "metadata": {
    "tags": []
   },
   "outputs": [
    {
     "name": "stdout",
     "output_type": "stream",
     "text": [
      "Nikita Eshkeev\n"
     ]
    }
   ],
   "source": [
    "echo \"${USER_NAME}\""
   ]
  },
  {
   "cell_type": "code",
   "execution_count": 4,
   "id": "e9b22e0c-eb01-4dc4-99f4-85c217f73c40",
   "metadata": {
    "tags": []
   },
   "outputs": [],
   "source": [
    "# export USER_EMAIL=''"
   ]
  },
  {
   "cell_type": "code",
   "execution_count": 5,
   "id": "d4148c71-fd4d-43aa-ab0d-0f6f2264b30c",
   "metadata": {
    "tags": []
   },
   "outputs": [
    {
     "name": "stdout",
     "output_type": "stream",
     "text": [
      "neshkeev@yandex.ru\n"
     ]
    }
   ],
   "source": [
    "echo \"${USER_EMAIL}\""
   ]
  },
  {
   "cell_type": "markdown",
   "id": "89935685-7e82-429b-8b64-623672461c5c",
   "metadata": {},
   "source": [
    "**Обязательно нужно указать кто будет автором изменений, которые совершаются на этом компьютере**"
   ]
  },
  {
   "cell_type": "code",
   "execution_count": 6,
   "id": "4de5c911-97b0-412d-a58a-89ad467676d3",
   "metadata": {
    "tags": []
   },
   "outputs": [],
   "source": [
    "git config --global user.name \"${USER_NAME}\""
   ]
  },
  {
   "cell_type": "markdown",
   "id": "5add09e0-372d-452d-980b-73aa0358a51d",
   "metadata": {
    "tags": []
   },
   "source": [
    "**А также email автора, чтобы с ним можно было связаться при желании**"
   ]
  },
  {
   "cell_type": "code",
   "execution_count": 7,
   "id": "b8092a66-fd70-4b1c-93fb-b60c3ee2ebbe",
   "metadata": {
    "tags": []
   },
   "outputs": [],
   "source": [
    "git config --global user.email \"${USER_EMAIL}\""
   ]
  },
  {
   "cell_type": "markdown",
   "id": "33fc6123-31c1-450d-bb71-ddf8286e898a",
   "metadata": {},
   "source": [
    "**Полный список параметров git можно посмотреть вот так**"
   ]
  },
  {
   "cell_type": "code",
   "execution_count": 8,
   "id": "5cf7dce2-8137-431e-867d-14e3c2b0f1c2",
   "metadata": {
    "tags": []
   },
   "outputs": [
    {
     "name": "stdout",
     "output_type": "stream",
     "text": [
      "user.name=Nikita Eshkeev\n",
      "user.email=neshkeev@yandex.ru\n",
      "alias.co=commit\n"
     ]
    }
   ],
   "source": [
    "git config --list"
   ]
  }
 ],
 "metadata": {
  "kernelspec": {
   "display_name": "Bash",
   "language": "bash",
   "name": "bash"
  },
  "language_info": {
   "codemirror_mode": "shell",
   "file_extension": ".sh",
   "mimetype": "text/x-sh",
   "name": "bash"
  }
 },
 "nbformat": 4,
 "nbformat_minor": 5
}
