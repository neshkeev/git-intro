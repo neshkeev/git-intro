{
 "cells": [
  {
   "cell_type": "markdown",
   "id": "abe19f0d-35a5-419f-b0ef-92b8e7d2a0ec",
   "metadata": {},
   "source": [
    "# Основы работы с Git"
   ]
  },
  {
   "cell_type": "markdown",
   "id": "7f7fccb1-3973-45f0-92db-582411ea0e92",
   "metadata": {
    "tags": []
   },
   "source": [
    "## История изменений"
   ]
  },
  {
   "cell_type": "markdown",
   "id": "8238c90d-de58-4b41-ae7a-dfdded0f7ef3",
   "metadata": {},
   "source": [
    "**Основное преимущество использование систем контроля версий заключается в возможности увидеть историю изменений. Можно проследить как менялся проект или как менялся один конкретный файл со временем.**"
   ]
  },
  {
   "cell_type": "code",
   "execution_count": 1,
   "id": "18bde58a-8a44-4526-afd1-91711020481c",
   "metadata": {
    "tags": []
   },
   "outputs": [],
   "source": [
    "cd ~/repo"
   ]
  },
  {
   "cell_type": "markdown",
   "id": "19777a95-3cee-40f8-af97-811505059878",
   "metadata": {},
   "source": [
    "### Подготовка"
   ]
  },
  {
   "cell_type": "code",
   "execution_count": 2,
   "id": "8be9b82c-7ebe-412b-8297-d52f3dcd35c0",
   "metadata": {
    "tags": []
   },
   "outputs": [
    {
     "name": "stdout",
     "output_type": "stream",
     "text": [
      "Switched to a new branch 'new-feature'\n"
     ]
    }
   ],
   "source": [
    "git checkout -b new-feature"
   ]
  },
  {
   "cell_type": "code",
   "execution_count": 3,
   "id": "b3085050-dcaa-4d68-b0a5-6dd3f5d30920",
   "metadata": {
    "tags": []
   },
   "outputs": [],
   "source": [
    "echo hello > hello.txt"
   ]
  },
  {
   "cell_type": "code",
   "execution_count": 4,
   "id": "a8438247-8bb4-4b11-a9b1-166a570c20e6",
   "metadata": {
    "tags": []
   },
   "outputs": [
    {
     "name": "stdout",
     "output_type": "stream",
     "text": [
      "[new-feature a7805e2] Добавить hello.txt\n",
      " 1 file changed, 1 insertion(+)\n",
      " create mode 100644 hello.txt\n"
     ]
    }
   ],
   "source": [
    "git add hello.txt && git commit -m \"Добавить hello.txt\""
   ]
  },
  {
   "cell_type": "code",
   "execution_count": 5,
   "id": "13777c3d-6fdd-4408-bef9-de3d2caf7e4a",
   "metadata": {
    "tags": []
   },
   "outputs": [],
   "source": [
    "echo 42 > 42.txt"
   ]
  },
  {
   "cell_type": "code",
   "execution_count": 6,
   "id": "e732ff56-ff69-442f-81a2-ed3069053142",
   "metadata": {
    "tags": []
   },
   "outputs": [
    {
     "name": "stdout",
     "output_type": "stream",
     "text": [
      "[new-feature d689615] Добавить 42.txt\n",
      " 1 file changed, 1 insertion(+)\n",
      " create mode 100644 42.txt\n"
     ]
    }
   ],
   "source": [
    "git add 42.txt && git commit -m \"Добавить 42.txt\""
   ]
  },
  {
   "cell_type": "code",
   "execution_count": 7,
   "id": "2c601152-2815-4931-a235-97cf5a149b35",
   "metadata": {
    "tags": []
   },
   "outputs": [
    {
     "name": "stdout",
     "output_type": "stream",
     "text": [
      "Switched to a new branch 'new-feature2'\n"
     ]
    }
   ],
   "source": [
    "git checkout -b new-feature2 master"
   ]
  },
  {
   "cell_type": "code",
   "execution_count": 8,
   "id": "b69a88d8-950a-4224-bda4-b387796091df",
   "metadata": {
    "tags": []
   },
   "outputs": [],
   "source": [
    "echo world > world.txt"
   ]
  },
  {
   "cell_type": "code",
   "execution_count": 9,
   "id": "c0da55fd-623d-489f-b37c-3a0cdf71f006",
   "metadata": {
    "tags": []
   },
   "outputs": [
    {
     "name": "stdout",
     "output_type": "stream",
     "text": [
      "[new-feature2 8aa8ef8] Добавить world.txt\n",
      " 1 file changed, 1 insertion(+)\n",
      " create mode 100644 world.txt\n"
     ]
    }
   ],
   "source": [
    "git add world.txt && git commit -m \"Добавить world.txt\""
   ]
  },
  {
   "cell_type": "code",
   "execution_count": 10,
   "id": "aca981ac-b476-4719-b281-ad47b917da59",
   "metadata": {
    "tags": []
   },
   "outputs": [
    {
     "name": "stdout",
     "output_type": "stream",
     "text": [
      "Switched to branch 'master'\n"
     ]
    }
   ],
   "source": [
    "git checkout master"
   ]
  },
  {
   "cell_type": "markdown",
   "id": "095f574b-0944-451d-a581-825d5165f643",
   "metadata": {},
   "source": [
    "## Работа с историей"
   ]
  },
  {
   "cell_type": "markdown",
   "id": "47a50a27-1c44-4199-8091-40cc784b0d1b",
   "metadata": {
    "tags": []
   },
   "source": [
    "**Для просмотра истории используется команда `git log`, с которой мы уже частично познакомились.**"
   ]
  },
  {
   "cell_type": "code",
   "execution_count": 11,
   "id": "ede2730b-6ad7-418c-8c5c-df9fc54e3f1f",
   "metadata": {
    "tags": []
   },
   "outputs": [
    {
     "name": "stdout",
     "output_type": "stream",
     "text": [
      "commit 4579f51ce46ced67a3864ce1cfbf23a62e75bb83 (HEAD -> master)\n",
      "Author: Nikita Eshkeev <neshkeev@yandex.ru>\n",
      "Date:   Fri Mar 17 20:22:52 2023 +0000\n",
      "\n",
      "    Изменить заголовок index.html\n",
      "\n",
      "commit 75b5b46fdd8dc6150c9b3c469f8b1e34a6638cc9\n",
      "Author: Nikita Eshkeev <neshkeev@yandex.ru>\n",
      "Date:   Fri Mar 17 20:22:38 2023 +0000\n",
      "\n",
      "    Добавить styles.css\n",
      "\n",
      "commit b110b6da493707ebbc3e3e08aaf507f9540dba26\n",
      "Author: Nikita Eshkeev <neshkeev@yandex.ru>\n",
      "Date:   Fri Mar 17 20:22:37 2023 +0000\n",
      "\n",
      "    Добавить index.html\n",
      "\n",
      "commit 22c9e11ff169ea3a16d1e168e40e6fa85c475d4c\n",
      "Author: Nikita Eshkeev <neshkeev@yandex.ru>\n",
      "Date:   Fri Mar 17 20:22:36 2023 +0000\n",
      "\n",
      "    Мой первый файл в Git репозитории\n"
     ]
    }
   ],
   "source": [
    "git log"
   ]
  },
  {
   "cell_type": "markdown",
   "id": "f7c7e814-7f7d-490d-a92d-f5c242ef84bc",
   "metadata": {},
   "source": [
    "**По умолчанию `git log` показывает изменения только для одной ветки, если необходимо увидеть изменеия по всем веткам, то используется ключ `--all`:**"
   ]
  },
  {
   "cell_type": "code",
   "execution_count": 12,
   "id": "4fb4c965-1dec-40ff-ba99-692d0d73d8c7",
   "metadata": {
    "tags": []
   },
   "outputs": [
    {
     "name": "stdout",
     "output_type": "stream",
     "text": [
      "commit d6896158a6169c94eb330b02104d0918051298f5 (new-feature)\n",
      "Author: Nikita Eshkeev <neshkeev@yandex.ru>\n",
      "Date:   Fri Mar 17 20:22:56 2023 +0000\n",
      "\n",
      "    Добавить 42.txt\n",
      "\n",
      "commit 8aa8ef82a18caa0b4907a678222012bd1b3c0ca6 (new-feature2)\n",
      "Author: Nikita Eshkeev <neshkeev@yandex.ru>\n",
      "Date:   Fri Mar 17 20:22:56 2023 +0000\n",
      "\n",
      "    Добавить world.txt\n",
      "\n",
      "commit a7805e2a69bc16e1186a1b563b679c7bb99269e7\n",
      "Author: Nikita Eshkeev <neshkeev@yandex.ru>\n",
      "Date:   Fri Mar 17 20:22:55 2023 +0000\n",
      "\n",
      "    Добавить hello.txt\n",
      "\n",
      "commit 4579f51ce46ced67a3864ce1cfbf23a62e75bb83 (HEAD -> master)\n",
      "Author: Nikita Eshkeev <neshkeev@yandex.ru>\n",
      "Date:   Fri Mar 17 20:22:52 2023 +0000\n",
      "\n",
      "    Изменить заголовок index.html\n",
      "\n",
      "commit 75b5b46fdd8dc6150c9b3c469f8b1e34a6638cc9\n",
      "Author: Nikita Eshkeev <neshkeev@yandex.ru>\n",
      "Date:   Fri Mar 17 20:22:38 2023 +0000\n",
      "\n",
      "    Добавить styles.css\n",
      "\n",
      "commit b110b6da493707ebbc3e3e08aaf507f9540dba26\n",
      "Author: Nikita Eshkeev <neshkeev@yandex.ru>\n",
      "Date:   Fri Mar 17 20:22:37 2023 +0000\n",
      "\n",
      "    Добавить index.html\n",
      "\n",
      "commit 22c9e11ff169ea3a16d1e168e40e6fa85c475d4c\n",
      "Author: Nikita Eshkeev <neshkeev@yandex.ru>\n",
      "Date:   Fri Mar 17 20:22:36 2023 +0000\n",
      "\n",
      "    Мой первый файл в Git репозитории\n"
     ]
    }
   ],
   "source": [
    "git log --all"
   ]
  },
  {
   "cell_type": "markdown",
   "id": "5c64e6ec-fc76-4d57-b11d-af381e899d16",
   "metadata": {},
   "source": [
    "**Указанный способ работает только для простых репозиториев, где колличество коммитов невелико. Для более удобного просмотра истории используют ключ `--graph`, который рисует граф при помощи текстовых символов:**"
   ]
  },
  {
   "cell_type": "code",
   "execution_count": 13,
   "id": "dfaee202-b4a4-4482-a8c8-75ef9d2b8669",
   "metadata": {
    "tags": []
   },
   "outputs": [
    {
     "name": "stdout",
     "output_type": "stream",
     "text": [
      "* commit d6896158a6169c94eb330b02104d0918051298f5 (new-feature)\n",
      "| Author: Nikita Eshkeev <neshkeev@yandex.ru>\n",
      "| Date:   Fri Mar 17 20:22:56 2023 +0000\n",
      "| \n",
      "|     Добавить 42.txt\n",
      "| \n",
      "* commit a7805e2a69bc16e1186a1b563b679c7bb99269e7\n",
      "| Author: Nikita Eshkeev <neshkeev@yandex.ru>\n",
      "| Date:   Fri Mar 17 20:22:55 2023 +0000\n",
      "| \n",
      "|     Добавить hello.txt\n",
      "|   \n",
      "| * commit 8aa8ef82a18caa0b4907a678222012bd1b3c0ca6 (new-feature2)\n",
      "|/  Author: Nikita Eshkeev <neshkeev@yandex.ru>\n",
      "|   Date:   Fri Mar 17 20:22:56 2023 +0000\n",
      "|   \n",
      "|       Добавить world.txt\n",
      "| \n",
      "* commit 4579f51ce46ced67a3864ce1cfbf23a62e75bb83 (HEAD -> master)\n",
      "| Author: Nikita Eshkeev <neshkeev@yandex.ru>\n",
      "| Date:   Fri Mar 17 20:22:52 2023 +0000\n",
      "| \n",
      "|     Изменить заголовок index.html\n",
      "| \n",
      "* commit 75b5b46fdd8dc6150c9b3c469f8b1e34a6638cc9\n",
      "| Author: Nikita Eshkeev <neshkeev@yandex.ru>\n",
      "| Date:   Fri Mar 17 20:22:38 2023 +0000\n",
      "| \n",
      "|     Добавить styles.css\n",
      "| \n",
      "* commit b110b6da493707ebbc3e3e08aaf507f9540dba26\n",
      "| Author: Nikita Eshkeev <neshkeev@yandex.ru>\n",
      "| Date:   Fri Mar 17 20:22:37 2023 +0000\n",
      "| \n",
      "|     Добавить index.html\n",
      "| \n",
      "* commit 22c9e11ff169ea3a16d1e168e40e6fa85c475d4c\n",
      "  Author: Nikita Eshkeev <neshkeev@yandex.ru>\n",
      "  Date:   Fri Mar 17 20:22:36 2023 +0000\n",
      "  \n",
      "      Мой первый файл в Git репозитории\n"
     ]
    }
   ],
   "source": [
    "git log --graph --all"
   ]
  },
  {
   "cell_type": "markdown",
   "id": "64282d42-24d9-4156-bac7-265b23c626af",
   "metadata": {},
   "source": [
    "## Форматирование истории"
   ]
  },
  {
   "cell_type": "markdown",
   "id": "c3124ba2-2436-4fe1-9685-712a6b8d6d13",
   "metadata": {},
   "source": [
    "**Формат коммита по умолчанию предлагает достаточное количество данных для исследования, но иногда необходимо представить формат коммита в другом формате**"
   ]
  },
  {
   "cell_type": "markdown",
   "id": "7148d03d-76c9-4c73-bb83-ce71b74af813",
   "metadata": {
    "tags": []
   },
   "source": [
    "### Один коммит - Одна строка"
   ]
  },
  {
   "cell_type": "code",
   "execution_count": 14,
   "id": "f13468e3-0306-49cf-be3e-6360c79a1778",
   "metadata": {
    "tags": []
   },
   "outputs": [
    {
     "name": "stdout",
     "output_type": "stream",
     "text": [
      "4579f51 (HEAD -> master) Изменить заголовок index.html\n",
      "75b5b46 Добавить styles.css\n",
      "b110b6d Добавить index.html\n",
      "22c9e11 Мой первый файл в Git репозитории\n"
     ]
    }
   ],
   "source": [
    "git log --oneline"
   ]
  },
  {
   "cell_type": "code",
   "execution_count": 15,
   "id": "59bc0414-bb6b-40b9-9978-efe5226eee80",
   "metadata": {
    "tags": []
   },
   "outputs": [
    {
     "name": "stdout",
     "output_type": "stream",
     "text": [
      "4579f51ce46ced67a3864ce1cfbf23a62e75bb83 (HEAD -> master) Изменить заголовок index.html\n",
      "75b5b46fdd8dc6150c9b3c469f8b1e34a6638cc9 Добавить styles.css\n",
      "b110b6da493707ebbc3e3e08aaf507f9540dba26 Добавить index.html\n",
      "22c9e11ff169ea3a16d1e168e40e6fa85c475d4c Мой первый файл в Git репозитории\n"
     ]
    }
   ],
   "source": [
    "git log --format=oneline"
   ]
  },
  {
   "cell_type": "markdown",
   "id": "40f01023-418b-4006-a14b-584b366fc774",
   "metadata": {
    "tags": []
   },
   "source": [
    "### Краткая информация по коммиту"
   ]
  },
  {
   "cell_type": "code",
   "execution_count": 16,
   "id": "4c34a594-e0ed-43b4-978c-afbb223024a5",
   "metadata": {
    "tags": []
   },
   "outputs": [
    {
     "name": "stdout",
     "output_type": "stream",
     "text": [
      "commit 4579f51ce46ced67a3864ce1cfbf23a62e75bb83 (HEAD -> master)\n",
      "Author: Nikita Eshkeev <neshkeev@yandex.ru>\n",
      "\n",
      "    Изменить заголовок index.html\n",
      "\n",
      "commit 75b5b46fdd8dc6150c9b3c469f8b1e34a6638cc9\n",
      "Author: Nikita Eshkeev <neshkeev@yandex.ru>\n",
      "\n",
      "    Добавить styles.css\n",
      "\n",
      "commit b110b6da493707ebbc3e3e08aaf507f9540dba26\n",
      "Author: Nikita Eshkeev <neshkeev@yandex.ru>\n",
      "\n",
      "    Добавить index.html\n",
      "\n",
      "commit 22c9e11ff169ea3a16d1e168e40e6fa85c475d4c\n",
      "Author: Nikita Eshkeev <neshkeev@yandex.ru>\n",
      "\n",
      "    Мой первый файл в Git репозитории\n"
     ]
    }
   ],
   "source": [
    "git log --format=short"
   ]
  },
  {
   "cell_type": "markdown",
   "id": "c360a316-4c26-4410-aea9-fff63714eacb",
   "metadata": {
    "tags": []
   },
   "source": [
    "### Полная информация по коммиту"
   ]
  },
  {
   "cell_type": "code",
   "execution_count": 17,
   "id": "8ddd6c7d-c1d6-4bee-8bbc-69d46da5441c",
   "metadata": {
    "tags": []
   },
   "outputs": [
    {
     "name": "stdout",
     "output_type": "stream",
     "text": [
      "commit 4579f51ce46ced67a3864ce1cfbf23a62e75bb83 (HEAD -> master)\n",
      "Author: Nikita Eshkeev <neshkeev@yandex.ru>\n",
      "Commit: Nikita Eshkeev <neshkeev@yandex.ru>\n",
      "\n",
      "    Изменить заголовок index.html\n",
      "\n",
      "commit 75b5b46fdd8dc6150c9b3c469f8b1e34a6638cc9\n",
      "Author: Nikita Eshkeev <neshkeev@yandex.ru>\n",
      "Commit: Nikita Eshkeev <neshkeev@yandex.ru>\n",
      "\n",
      "    Добавить styles.css\n",
      "\n",
      "commit b110b6da493707ebbc3e3e08aaf507f9540dba26\n",
      "Author: Nikita Eshkeev <neshkeev@yandex.ru>\n",
      "Commit: Nikita Eshkeev <neshkeev@yandex.ru>\n",
      "\n",
      "    Добавить index.html\n",
      "\n",
      "commit 22c9e11ff169ea3a16d1e168e40e6fa85c475d4c\n",
      "Author: Nikita Eshkeev <neshkeev@yandex.ru>\n",
      "Commit: Nikita Eshkeev <neshkeev@yandex.ru>\n",
      "\n",
      "    Мой первый файл в Git репозитории\n"
     ]
    }
   ],
   "source": [
    "git log --format=full"
   ]
  },
  {
   "cell_type": "markdown",
   "id": "1e16ed6e-8d07-4fb9-8c3f-f1cc7310c4ff",
   "metadata": {
    "tags": []
   },
   "source": [
    "### Задание"
   ]
  },
  {
   "cell_type": "markdown",
   "id": "10a6f985-fb60-4559-bd03-2c40684a328b",
   "metadata": {},
   "source": [
    "Изучить другие готовые форматы в [документации](https://www.git-scm.com/docs/git-log#Documentation/git-log.txt---formatltformatgt)"
   ]
  },
  {
   "cell_type": "markdown",
   "id": "d719305b-78af-4f60-b8bc-bd23bf254577",
   "metadata": {
    "tags": []
   },
   "source": [
    "### Явное формирование формата коммита"
   ]
  },
  {
   "cell_type": "markdown",
   "id": "ddac4112-c95e-4ded-a9d6-7c4f23dc90c7",
   "metadata": {
    "tags": []
   },
   "source": [
    "**Помимо готовых форматов ключ `--format` может принимать строку, содержащую специальные символы (плейсхолдеры)**:"
   ]
  },
  {
   "cell_type": "code",
   "execution_count": 18,
   "id": "cb34697f-86c4-448e-9073-34f996983a66",
   "metadata": {
    "tags": []
   },
   "outputs": [
    {
     "name": "stdout",
     "output_type": "stream",
     "text": [
      "'Nikita Eshkeev' закоммитил '4579f51' в Fri Mar 17 20:22:52 2023 +0000\n",
      "'Nikita Eshkeev' закоммитил '75b5b46' в Fri Mar 17 20:22:38 2023 +0000\n",
      "'Nikita Eshkeev' закоммитил 'b110b6d' в Fri Mar 17 20:22:37 2023 +0000\n",
      "'Nikita Eshkeev' закоммитил '22c9e11' в Fri Mar 17 20:22:36 2023 +0000\n"
     ]
    }
   ],
   "source": [
    "git log --format=\"'%an' закоммитил '%h' в %ad\""
   ]
  },
  {
   "cell_type": "markdown",
   "id": "8421b988-cecb-4c83-b405-27ac5bfc7f27",
   "metadata": {
    "tags": []
   },
   "source": [
    "### Задание"
   ]
  },
  {
   "cell_type": "markdown",
   "id": "61d14647-5d9e-4c5a-bce3-8d27b30f7476",
   "metadata": {},
   "source": [
    "1. Изучить список [плейсхолдеров](https://www.git-scm.com/docs/git-log#Documentation/git-log.txt-emnem)\n",
    "1. Вывести коммиты в формате HASH -- email -- Тема коммита (subject)"
   ]
  },
  {
   "cell_type": "markdown",
   "id": "9209a12c-f102-440d-85d8-4c9313b1ab7d",
   "metadata": {},
   "source": [
    "## Ограничение истории"
   ]
  },
  {
   "cell_type": "markdown",
   "id": "1fb88c1f-ce50-4a16-8a45-9e5428e945c3",
   "metadata": {},
   "source": [
    "В проектах со времение накапливается большая история, что мешает эффективно искать информацию. Git предлагает инструменты для ограничения истории для анализа"
   ]
  },
  {
   "cell_type": "markdown",
   "id": "e98a3752-6ab9-4b11-b2e6-6204cd2464dc",
   "metadata": {
    "tags": []
   },
   "source": [
    "### Последние N коммитов"
   ]
  },
  {
   "cell_type": "code",
   "execution_count": 19,
   "id": "76198198-5dd6-4d5e-82ef-242802589360",
   "metadata": {
    "tags": []
   },
   "outputs": [
    {
     "name": "stdout",
     "output_type": "stream",
     "text": [
      "commit 4579f51ce46ced67a3864ce1cfbf23a62e75bb83 (HEAD -> master)\n",
      "Author: Nikita Eshkeev <neshkeev@yandex.ru>\n",
      "Date:   Fri Mar 17 20:22:52 2023 +0000\n",
      "\n",
      "    Изменить заголовок index.html\n",
      "\n",
      "commit 75b5b46fdd8dc6150c9b3c469f8b1e34a6638cc9\n",
      "Author: Nikita Eshkeev <neshkeev@yandex.ru>\n",
      "Date:   Fri Mar 17 20:22:38 2023 +0000\n",
      "\n",
      "    Добавить styles.css\n",
      "\n",
      "commit b110b6da493707ebbc3e3e08aaf507f9540dba26\n",
      "Author: Nikita Eshkeev <neshkeev@yandex.ru>\n",
      "Date:   Fri Mar 17 20:22:37 2023 +0000\n",
      "\n",
      "    Добавить index.html\n",
      "\n",
      "commit 22c9e11ff169ea3a16d1e168e40e6fa85c475d4c\n",
      "Author: Nikita Eshkeev <neshkeev@yandex.ru>\n",
      "Date:   Fri Mar 17 20:22:36 2023 +0000\n",
      "\n",
      "    Мой первый файл в Git репозитории\n"
     ]
    }
   ],
   "source": [
    "git log -n 5"
   ]
  },
  {
   "cell_type": "markdown",
   "id": "b4f1f076-d8f6-493d-a49b-61b07705fdcb",
   "metadata": {
    "tags": []
   },
   "source": [
    "### Последние 3 коммита в ветке new-feature"
   ]
  },
  {
   "cell_type": "code",
   "execution_count": 20,
   "id": "d3e9f27b-aad8-4e92-9846-e4e8f02acdca",
   "metadata": {
    "tags": []
   },
   "outputs": [
    {
     "name": "stdout",
     "output_type": "stream",
     "text": [
      "commit d6896158a6169c94eb330b02104d0918051298f5 (new-feature)\n",
      "Author: Nikita Eshkeev <neshkeev@yandex.ru>\n",
      "Date:   Fri Mar 17 20:22:56 2023 +0000\n",
      "\n",
      "    Добавить 42.txt\n",
      "\n",
      "commit a7805e2a69bc16e1186a1b563b679c7bb99269e7\n",
      "Author: Nikita Eshkeev <neshkeev@yandex.ru>\n",
      "Date:   Fri Mar 17 20:22:55 2023 +0000\n",
      "\n",
      "    Добавить hello.txt\n",
      "\n",
      "commit 4579f51ce46ced67a3864ce1cfbf23a62e75bb83 (HEAD -> master)\n",
      "Author: Nikita Eshkeev <neshkeev@yandex.ru>\n",
      "Date:   Fri Mar 17 20:22:52 2023 +0000\n",
      "\n",
      "    Изменить заголовок index.html\n"
     ]
    }
   ],
   "source": [
    "git log -n 3 new-feature"
   ]
  },
  {
   "cell_type": "markdown",
   "id": "9279db62-c2f6-4e00-8921-e7228d8eaf8b",
   "metadata": {
    "tags": []
   },
   "source": [
    "### Коммиты, которые есть в одной ветке, но нет в другой"
   ]
  },
  {
   "cell_type": "code",
   "execution_count": 21,
   "id": "beef4c05-cc52-43ab-ac2d-844ef98a47d8",
   "metadata": {
    "tags": []
   },
   "outputs": [
    {
     "name": "stdout",
     "output_type": "stream",
     "text": [
      "commit d6896158a6169c94eb330b02104d0918051298f5 (new-feature)\n",
      "Author: Nikita Eshkeev <neshkeev@yandex.ru>\n",
      "Date:   Fri Mar 17 20:22:56 2023 +0000\n",
      "\n",
      "    Добавить 42.txt\n",
      "\n",
      "commit a7805e2a69bc16e1186a1b563b679c7bb99269e7\n",
      "Author: Nikita Eshkeev <neshkeev@yandex.ru>\n",
      "Date:   Fri Mar 17 20:22:55 2023 +0000\n",
      "\n",
      "    Добавить hello.txt\n"
     ]
    }
   ],
   "source": [
    "git log master..new-feature"
   ]
  },
  {
   "cell_type": "code",
   "execution_count": 22,
   "id": "dbf62f3b-dbc9-4305-aefa-9b18b12e78ee",
   "metadata": {
    "tags": []
   },
   "outputs": [],
   "source": [
    "git log new-feature..master"
   ]
  },
  {
   "cell_type": "markdown",
   "id": "199cac28-d141-4e1d-aece-7f1582ebdddd",
   "metadata": {
    "tags": []
   },
   "source": [
    "### Фильтрация по автору"
   ]
  },
  {
   "cell_type": "code",
   "execution_count": 23,
   "id": "b71ff8ff-0f2d-4ef9-8836-9b261a3522a7",
   "metadata": {
    "tags": []
   },
   "outputs": [
    {
     "name": "stdout",
     "output_type": "stream",
     "text": [
      "commit 4579f51ce46ced67a3864ce1cfbf23a62e75bb83 (HEAD -> master)\n",
      "Author: Nikita Eshkeev <neshkeev@yandex.ru>\n",
      "Date:   Fri Mar 17 20:22:52 2023 +0000\n",
      "\n",
      "    Изменить заголовок index.html\n",
      "\n",
      "commit 75b5b46fdd8dc6150c9b3c469f8b1e34a6638cc9\n",
      "Author: Nikita Eshkeev <neshkeev@yandex.ru>\n",
      "Date:   Fri Mar 17 20:22:38 2023 +0000\n",
      "\n",
      "    Добавить styles.css\n",
      "\n",
      "commit b110b6da493707ebbc3e3e08aaf507f9540dba26\n",
      "Author: Nikita Eshkeev <neshkeev@yandex.ru>\n",
      "Date:   Fri Mar 17 20:22:37 2023 +0000\n",
      "\n",
      "    Добавить index.html\n",
      "\n",
      "commit 22c9e11ff169ea3a16d1e168e40e6fa85c475d4c\n",
      "Author: Nikita Eshkeev <neshkeev@yandex.ru>\n",
      "Date:   Fri Mar 17 20:22:36 2023 +0000\n",
      "\n",
      "    Мой первый файл в Git репозитории\n"
     ]
    }
   ],
   "source": [
    "git log --author=\"${USER_NAME}\""
   ]
  },
  {
   "cell_type": "code",
   "execution_count": 24,
   "id": "36b18bd8-77dd-4202-b476-2543f41c5733",
   "metadata": {
    "tags": []
   },
   "outputs": [],
   "source": [
    "author=$(sed 's,..\\(...\\).*,\\1,' <<<${USER_NAME})"
   ]
  },
  {
   "cell_type": "code",
   "execution_count": 25,
   "id": "7af7adfa-cf66-415e-97cf-35106bb3d1a0",
   "metadata": {
    "tags": []
   },
   "outputs": [
    {
     "name": "stdout",
     "output_type": "stream",
     "text": [
      "kit\n"
     ]
    }
   ],
   "source": [
    "echo \"$author\""
   ]
  },
  {
   "cell_type": "code",
   "execution_count": 26,
   "id": "de934a87-81bf-4b1a-8f04-b26fc2a43493",
   "metadata": {
    "tags": []
   },
   "outputs": [
    {
     "name": "stdout",
     "output_type": "stream",
     "text": [
      "commit 4579f51ce46ced67a3864ce1cfbf23a62e75bb83 (HEAD -> master)\n",
      "Author: Nikita Eshkeev <neshkeev@yandex.ru>\n",
      "Date:   Fri Mar 17 20:22:52 2023 +0000\n",
      "\n",
      "    Изменить заголовок index.html\n",
      "\n",
      "commit 75b5b46fdd8dc6150c9b3c469f8b1e34a6638cc9\n",
      "Author: Nikita Eshkeev <neshkeev@yandex.ru>\n",
      "Date:   Fri Mar 17 20:22:38 2023 +0000\n",
      "\n",
      "    Добавить styles.css\n",
      "\n",
      "commit b110b6da493707ebbc3e3e08aaf507f9540dba26\n",
      "Author: Nikita Eshkeev <neshkeev@yandex.ru>\n",
      "Date:   Fri Mar 17 20:22:37 2023 +0000\n",
      "\n",
      "    Добавить index.html\n",
      "\n",
      "commit 22c9e11ff169ea3a16d1e168e40e6fa85c475d4c\n",
      "Author: Nikita Eshkeev <neshkeev@yandex.ru>\n",
      "Date:   Fri Mar 17 20:22:36 2023 +0000\n",
      "\n",
      "    Мой первый файл в Git репозитории\n"
     ]
    }
   ],
   "source": [
    "git log --author=\"${author}\""
   ]
  },
  {
   "cell_type": "markdown",
   "id": "6446d7f3-2b20-4824-ab96-1a0e0bd3cf94",
   "metadata": {},
   "source": [
    "### Фильтрация по регулярному выражению"
   ]
  },
  {
   "cell_type": "code",
   "execution_count": 27,
   "id": "d626d677-469b-4086-ac6e-4db37a7c2cc0",
   "metadata": {
    "tags": []
   },
   "outputs": [
    {
     "name": "stdout",
     "output_type": "stream",
     "text": [
      "commit d6896158a6169c94eb330b02104d0918051298f5 (new-feature)\n",
      "Author: Nikita Eshkeev <neshkeev@yandex.ru>\n",
      "Date:   Fri Mar 17 20:22:56 2023 +0000\n",
      "\n",
      "    Добавить 42.txt\n",
      "\n",
      "commit a7805e2a69bc16e1186a1b563b679c7bb99269e7\n",
      "Author: Nikita Eshkeev <neshkeev@yandex.ru>\n",
      "Date:   Fri Mar 17 20:22:55 2023 +0000\n",
      "\n",
      "    Добавить hello.txt\n",
      "\n",
      "commit 75b5b46fdd8dc6150c9b3c469f8b1e34a6638cc9\n",
      "Author: Nikita Eshkeev <neshkeev@yandex.ru>\n",
      "Date:   Fri Mar 17 20:22:38 2023 +0000\n",
      "\n",
      "    Добавить styles.css\n",
      "\n",
      "commit b110b6da493707ebbc3e3e08aaf507f9540dba26\n",
      "Author: Nikita Eshkeev <neshkeev@yandex.ru>\n",
      "Date:   Fri Mar 17 20:22:37 2023 +0000\n",
      "\n",
      "    Добавить index.html\n"
     ]
    }
   ],
   "source": [
    "git log --grep='.*авит.' new-feature"
   ]
  }
 ],
 "metadata": {
  "kernelspec": {
   "display_name": "Bash",
   "language": "bash",
   "name": "bash"
  },
  "language_info": {
   "codemirror_mode": "shell",
   "file_extension": ".sh",
   "mimetype": "text/x-sh",
   "name": "bash"
  }
 },
 "nbformat": 4,
 "nbformat_minor": 5
}
