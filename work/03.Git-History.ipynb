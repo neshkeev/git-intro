{
 "cells": [
  {
   "cell_type": "markdown",
   "id": "abe19f0d-35a5-419f-b0ef-92b8e7d2a0ec",
   "metadata": {},
   "source": [
    "# Основы работы с Git"
   ]
  },
  {
   "cell_type": "markdown",
   "id": "7f7fccb1-3973-45f0-92db-582411ea0e92",
   "metadata": {
    "tags": []
   },
   "source": [
    "## История изменений"
   ]
  },
  {
   "cell_type": "markdown",
   "id": "8238c90d-de58-4b41-ae7a-dfdded0f7ef3",
   "metadata": {},
   "source": [
    "**Основное преимущество использование систем контроля версий заключается в возможности увидеть историю изменений. Можно проследить как менялся проект или как менялся один конкретный файл со временем.**"
   ]
  },
  {
   "cell_type": "code",
   "execution_count": 28,
   "id": "18bde58a-8a44-4526-afd1-91711020481c",
   "metadata": {
    "tags": []
   },
   "outputs": [],
   "source": [
    "cd ~/repo"
   ]
  },
  {
   "cell_type": "markdown",
   "id": "19777a95-3cee-40f8-af97-811505059878",
   "metadata": {},
   "source": [
    "### Подготовка"
   ]
  },
  {
   "cell_type": "code",
   "execution_count": 29,
   "id": "8be9b82c-7ebe-412b-8297-d52f3dcd35c0",
   "metadata": {
    "tags": []
   },
   "outputs": [
    {
     "name": "stdout",
     "output_type": "stream",
     "text": [
      "Switched to a new branch 'new-feature'\n"
     ]
    }
   ],
   "source": [
    "git checkout -b new-feature"
   ]
  },
  {
   "cell_type": "code",
   "execution_count": 30,
   "id": "b3085050-dcaa-4d68-b0a5-6dd3f5d30920",
   "metadata": {
    "tags": []
   },
   "outputs": [],
   "source": [
    "echo hello > hello.txt"
   ]
  },
  {
   "cell_type": "code",
   "execution_count": 31,
   "id": "a8438247-8bb4-4b11-a9b1-166a570c20e6",
   "metadata": {
    "tags": []
   },
   "outputs": [
    {
     "name": "stdout",
     "output_type": "stream",
     "text": [
      "[new-feature 64f5325] Добавить hello.txt\n",
      " 1 file changed, 1 insertion(+)\n",
      " create mode 100644 hello.txt\n"
     ]
    }
   ],
   "source": [
    "git add hello.txt && git commit -m \"Добавить hello.txt\""
   ]
  },
  {
   "cell_type": "code",
   "execution_count": 32,
   "id": "13777c3d-6fdd-4408-bef9-de3d2caf7e4a",
   "metadata": {
    "tags": []
   },
   "outputs": [],
   "source": [
    "echo 42 > 42.txt"
   ]
  },
  {
   "cell_type": "code",
   "execution_count": 33,
   "id": "e732ff56-ff69-442f-81a2-ed3069053142",
   "metadata": {
    "tags": []
   },
   "outputs": [
    {
     "name": "stdout",
     "output_type": "stream",
     "text": [
      "[new-feature 1e0f6ea] Добавить 42.txt\n",
      " 1 file changed, 1 insertion(+)\n",
      " create mode 100644 42.txt\n"
     ]
    }
   ],
   "source": [
    "git add 42.txt && git commit -m \"Добавить 42.txt\""
   ]
  },
  {
   "cell_type": "code",
   "execution_count": 34,
   "id": "2c601152-2815-4931-a235-97cf5a149b35",
   "metadata": {
    "tags": []
   },
   "outputs": [
    {
     "name": "stdout",
     "output_type": "stream",
     "text": [
      "Switched to a new branch 'new-feature2'\n"
     ]
    }
   ],
   "source": [
    "git checkout -b new-feature2 master"
   ]
  },
  {
   "cell_type": "code",
   "execution_count": 35,
   "id": "b69a88d8-950a-4224-bda4-b387796091df",
   "metadata": {
    "tags": []
   },
   "outputs": [],
   "source": [
    "echo world > world.txt"
   ]
  },
  {
   "cell_type": "code",
   "execution_count": 36,
   "id": "c0da55fd-623d-489f-b37c-3a0cdf71f006",
   "metadata": {
    "tags": []
   },
   "outputs": [
    {
     "name": "stdout",
     "output_type": "stream",
     "text": [
      "[new-feature2 d579579] Добавить world.txt\n",
      " 1 file changed, 1 insertion(+)\n",
      " create mode 100644 world.txt\n"
     ]
    }
   ],
   "source": [
    "git add world.txt && git commit -m \"Добавить world.txt\""
   ]
  },
  {
   "cell_type": "code",
   "execution_count": 37,
   "id": "aca981ac-b476-4719-b281-ad47b917da59",
   "metadata": {
    "tags": []
   },
   "outputs": [
    {
     "name": "stdout",
     "output_type": "stream",
     "text": [
      "Switched to branch 'master'\n"
     ]
    }
   ],
   "source": [
    "git checkout master"
   ]
  },
  {
   "cell_type": "markdown",
   "id": "095f574b-0944-451d-a581-825d5165f643",
   "metadata": {},
   "source": [
    "## Работа с историей"
   ]
  },
  {
   "cell_type": "markdown",
   "id": "47a50a27-1c44-4199-8091-40cc784b0d1b",
   "metadata": {
    "tags": []
   },
   "source": [
    "**Для просмотра истории используется команда `git log`, с которой мы уже частично познакомились.**"
   ]
  },
  {
   "cell_type": "code",
   "execution_count": 38,
   "id": "ede2730b-6ad7-418c-8c5c-df9fc54e3f1f",
   "metadata": {
    "tags": []
   },
   "outputs": [
    {
     "name": "stdout",
     "output_type": "stream",
     "text": [
      "commit c7f09b11680f0d2123c03cfcc1429f2a7a49dd08 (HEAD -> master)\n",
      "Author: Nikita Eshkeev <neshkeev@yandex.ru>\n",
      "Date:   Thu Mar 16 20:32:33 2023 +0000\n",
      "\n",
      "    Изменить заголовок index.html\n",
      "\n",
      "commit 7f187cbfb4c56081c8a7b243094116003acaa301\n",
      "Author: Nikita Eshkeev <neshkeev@yandex.ru>\n",
      "Date:   Thu Mar 16 20:32:20 2023 +0000\n",
      "\n",
      "    Добавить styles.css\n",
      "\n",
      "commit d1f2b1a81cd2470c77b2a330096cc9be3a23cb5d\n",
      "Author: Nikita Eshkeev <neshkeev@yandex.ru>\n",
      "Date:   Thu Mar 16 20:32:19 2023 +0000\n",
      "\n",
      "    Добавить index.html\n",
      "\n",
      "commit af017cc5638ee2aa0c082834d3a72833d75fd850\n",
      "Author: Nikita Eshkeev <neshkeev@yandex.ru>\n",
      "Date:   Thu Mar 16 20:32:19 2023 +0000\n",
      "\n",
      "    Мой первый файл в Git репозитории\n"
     ]
    }
   ],
   "source": [
    "git log"
   ]
  },
  {
   "cell_type": "markdown",
   "id": "f7c7e814-7f7d-490d-a92d-f5c242ef84bc",
   "metadata": {},
   "source": [
    "**По умолчанию `git log` показывает изменения только для одной ветки, если необходимо увидеть изменеия по всем веткам, то используется ключ `--all`:**"
   ]
  },
  {
   "cell_type": "code",
   "execution_count": 39,
   "id": "4fb4c965-1dec-40ff-ba99-692d0d73d8c7",
   "metadata": {
    "tags": []
   },
   "outputs": [
    {
     "name": "stdout",
     "output_type": "stream",
     "text": [
      "commit 1e0f6ea14b98ae884a8ca876e38fa7f79d94fc74 (new-feature)\n",
      "Author: Nikita Eshkeev <neshkeev@yandex.ru>\n",
      "Date:   Thu Mar 16 20:32:52 2023 +0000\n",
      "\n",
      "    Добавить 42.txt\n",
      "\n",
      "commit d579579c0576ad1b18f4cccff66bfce8c265af0d (new-feature2)\n",
      "Author: Nikita Eshkeev <neshkeev@yandex.ru>\n",
      "Date:   Thu Mar 16 20:32:52 2023 +0000\n",
      "\n",
      "    Добавить world.txt\n",
      "\n",
      "commit 64f532572c84188d8d461f79699e68a224cafe43\n",
      "Author: Nikita Eshkeev <neshkeev@yandex.ru>\n",
      "Date:   Thu Mar 16 20:32:52 2023 +0000\n",
      "\n",
      "    Добавить hello.txt\n",
      "\n",
      "commit c7f09b11680f0d2123c03cfcc1429f2a7a49dd08 (HEAD -> master)\n",
      "Author: Nikita Eshkeev <neshkeev@yandex.ru>\n",
      "Date:   Thu Mar 16 20:32:33 2023 +0000\n",
      "\n",
      "    Изменить заголовок index.html\n",
      "\n",
      "commit 7f187cbfb4c56081c8a7b243094116003acaa301\n",
      "Author: Nikita Eshkeev <neshkeev@yandex.ru>\n",
      "Date:   Thu Mar 16 20:32:20 2023 +0000\n",
      "\n",
      "    Добавить styles.css\n",
      "\n",
      "commit d1f2b1a81cd2470c77b2a330096cc9be3a23cb5d\n",
      "Author: Nikita Eshkeev <neshkeev@yandex.ru>\n",
      "Date:   Thu Mar 16 20:32:19 2023 +0000\n",
      "\n",
      "    Добавить index.html\n",
      "\n",
      "commit af017cc5638ee2aa0c082834d3a72833d75fd850\n",
      "Author: Nikita Eshkeev <neshkeev@yandex.ru>\n",
      "Date:   Thu Mar 16 20:32:19 2023 +0000\n",
      "\n",
      "    Мой первый файл в Git репозитории\n"
     ]
    }
   ],
   "source": [
    "git log --all"
   ]
  },
  {
   "cell_type": "markdown",
   "id": "5c64e6ec-fc76-4d57-b11d-af381e899d16",
   "metadata": {},
   "source": [
    "**Указанный способ работает только для простых репозиториев, где колличество коммитов невелико. Для более удобного просмотра истории используют ключ `--graph`, который рисует граф при помощи текстовых символов:**"
   ]
  },
  {
   "cell_type": "code",
   "execution_count": 40,
   "id": "dfaee202-b4a4-4482-a8c8-75ef9d2b8669",
   "metadata": {
    "tags": []
   },
   "outputs": [
    {
     "name": "stdout",
     "output_type": "stream",
     "text": [
      "* commit 1e0f6ea14b98ae884a8ca876e38fa7f79d94fc74 (new-feature)\n",
      "| Author: Nikita Eshkeev <neshkeev@yandex.ru>\n",
      "| Date:   Thu Mar 16 20:32:52 2023 +0000\n",
      "| \n",
      "|     Добавить 42.txt\n",
      "| \n",
      "* commit 64f532572c84188d8d461f79699e68a224cafe43\n",
      "| Author: Nikita Eshkeev <neshkeev@yandex.ru>\n",
      "| Date:   Thu Mar 16 20:32:52 2023 +0000\n",
      "| \n",
      "|     Добавить hello.txt\n",
      "|   \n",
      "| * commit d579579c0576ad1b18f4cccff66bfce8c265af0d (new-feature2)\n",
      "|/  Author: Nikita Eshkeev <neshkeev@yandex.ru>\n",
      "|   Date:   Thu Mar 16 20:32:52 2023 +0000\n",
      "|   \n",
      "|       Добавить world.txt\n",
      "| \n",
      "* commit c7f09b11680f0d2123c03cfcc1429f2a7a49dd08 (HEAD -> master)\n",
      "| Author: Nikita Eshkeev <neshkeev@yandex.ru>\n",
      "| Date:   Thu Mar 16 20:32:33 2023 +0000\n",
      "| \n",
      "|     Изменить заголовок index.html\n",
      "| \n",
      "* commit 7f187cbfb4c56081c8a7b243094116003acaa301\n",
      "| Author: Nikita Eshkeev <neshkeev@yandex.ru>\n",
      "| Date:   Thu Mar 16 20:32:20 2023 +0000\n",
      "| \n",
      "|     Добавить styles.css\n",
      "| \n",
      "* commit d1f2b1a81cd2470c77b2a330096cc9be3a23cb5d\n",
      "| Author: Nikita Eshkeev <neshkeev@yandex.ru>\n",
      "| Date:   Thu Mar 16 20:32:19 2023 +0000\n",
      "| \n",
      "|     Добавить index.html\n",
      "| \n",
      "* commit af017cc5638ee2aa0c082834d3a72833d75fd850\n",
      "  Author: Nikita Eshkeev <neshkeev@yandex.ru>\n",
      "  Date:   Thu Mar 16 20:32:19 2023 +0000\n",
      "  \n",
      "      Мой первый файл в Git репозитории\n"
     ]
    }
   ],
   "source": [
    "git log --graph --all"
   ]
  },
  {
   "cell_type": "markdown",
   "id": "64282d42-24d9-4156-bac7-265b23c626af",
   "metadata": {},
   "source": [
    "## Форматирование истории"
   ]
  },
  {
   "cell_type": "markdown",
   "id": "c3124ba2-2436-4fe1-9685-712a6b8d6d13",
   "metadata": {},
   "source": [
    "**Формат коммита по умолчанию предлагает достаточное количество данных для исследования, но иногда необходимо представить формат коммита в другом формате**"
   ]
  },
  {
   "cell_type": "markdown",
   "id": "7148d03d-76c9-4c73-bb83-ce71b74af813",
   "metadata": {
    "tags": []
   },
   "source": [
    "### Один коммит - Одна строка"
   ]
  },
  {
   "cell_type": "code",
   "execution_count": 41,
   "id": "f13468e3-0306-49cf-be3e-6360c79a1778",
   "metadata": {
    "tags": []
   },
   "outputs": [
    {
     "name": "stdout",
     "output_type": "stream",
     "text": [
      "c7f09b1 (HEAD -> master) Изменить заголовок index.html\n",
      "7f187cb Добавить styles.css\n",
      "d1f2b1a Добавить index.html\n",
      "af017cc Мой первый файл в Git репозитории\n"
     ]
    }
   ],
   "source": [
    "git log --oneline"
   ]
  },
  {
   "cell_type": "code",
   "execution_count": 42,
   "id": "59bc0414-bb6b-40b9-9978-efe5226eee80",
   "metadata": {
    "tags": []
   },
   "outputs": [
    {
     "name": "stdout",
     "output_type": "stream",
     "text": [
      "c7f09b11680f0d2123c03cfcc1429f2a7a49dd08 (HEAD -> master) Изменить заголовок index.html\n",
      "7f187cbfb4c56081c8a7b243094116003acaa301 Добавить styles.css\n",
      "d1f2b1a81cd2470c77b2a330096cc9be3a23cb5d Добавить index.html\n",
      "af017cc5638ee2aa0c082834d3a72833d75fd850 Мой первый файл в Git репозитории\n"
     ]
    }
   ],
   "source": [
    "git log --format=oneline"
   ]
  },
  {
   "cell_type": "markdown",
   "id": "40f01023-418b-4006-a14b-584b366fc774",
   "metadata": {
    "tags": []
   },
   "source": [
    "### Краткая информация по коммиту"
   ]
  },
  {
   "cell_type": "code",
   "execution_count": 43,
   "id": "4c34a594-e0ed-43b4-978c-afbb223024a5",
   "metadata": {
    "tags": []
   },
   "outputs": [
    {
     "name": "stdout",
     "output_type": "stream",
     "text": [
      "commit c7f09b11680f0d2123c03cfcc1429f2a7a49dd08 (HEAD -> master)\n",
      "Author: Nikita Eshkeev <neshkeev@yandex.ru>\n",
      "\n",
      "    Изменить заголовок index.html\n",
      "\n",
      "commit 7f187cbfb4c56081c8a7b243094116003acaa301\n",
      "Author: Nikita Eshkeev <neshkeev@yandex.ru>\n",
      "\n",
      "    Добавить styles.css\n",
      "\n",
      "commit d1f2b1a81cd2470c77b2a330096cc9be3a23cb5d\n",
      "Author: Nikita Eshkeev <neshkeev@yandex.ru>\n",
      "\n",
      "    Добавить index.html\n",
      "\n",
      "commit af017cc5638ee2aa0c082834d3a72833d75fd850\n",
      "Author: Nikita Eshkeev <neshkeev@yandex.ru>\n",
      "\n",
      "    Мой первый файл в Git репозитории\n"
     ]
    }
   ],
   "source": [
    "git log --format=short"
   ]
  },
  {
   "cell_type": "markdown",
   "id": "c360a316-4c26-4410-aea9-fff63714eacb",
   "metadata": {
    "tags": []
   },
   "source": [
    "### Полная информация по коммиту"
   ]
  },
  {
   "cell_type": "code",
   "execution_count": 44,
   "id": "8ddd6c7d-c1d6-4bee-8bbc-69d46da5441c",
   "metadata": {
    "tags": []
   },
   "outputs": [
    {
     "name": "stdout",
     "output_type": "stream",
     "text": [
      "commit c7f09b11680f0d2123c03cfcc1429f2a7a49dd08 (HEAD -> master)\n",
      "Author: Nikita Eshkeev <neshkeev@yandex.ru>\n",
      "Commit: Nikita Eshkeev <neshkeev@yandex.ru>\n",
      "\n",
      "    Изменить заголовок index.html\n",
      "\n",
      "commit 7f187cbfb4c56081c8a7b243094116003acaa301\n",
      "Author: Nikita Eshkeev <neshkeev@yandex.ru>\n",
      "Commit: Nikita Eshkeev <neshkeev@yandex.ru>\n",
      "\n",
      "    Добавить styles.css\n",
      "\n",
      "commit d1f2b1a81cd2470c77b2a330096cc9be3a23cb5d\n",
      "Author: Nikita Eshkeev <neshkeev@yandex.ru>\n",
      "Commit: Nikita Eshkeev <neshkeev@yandex.ru>\n",
      "\n",
      "    Добавить index.html\n",
      "\n",
      "commit af017cc5638ee2aa0c082834d3a72833d75fd850\n",
      "Author: Nikita Eshkeev <neshkeev@yandex.ru>\n",
      "Commit: Nikita Eshkeev <neshkeev@yandex.ru>\n",
      "\n",
      "    Мой первый файл в Git репозитории\n"
     ]
    }
   ],
   "source": [
    "git log --format=full"
   ]
  },
  {
   "cell_type": "markdown",
   "id": "1e16ed6e-8d07-4fb9-8c3f-f1cc7310c4ff",
   "metadata": {
    "tags": []
   },
   "source": [
    "### Задание"
   ]
  },
  {
   "cell_type": "markdown",
   "id": "10a6f985-fb60-4559-bd03-2c40684a328b",
   "metadata": {},
   "source": [
    "Изучить другие готовые форматы в [документации](https://www.git-scm.com/docs/git-log#Documentation/git-log.txt---formatltformatgt)"
   ]
  },
  {
   "cell_type": "markdown",
   "id": "d719305b-78af-4f60-b8bc-bd23bf254577",
   "metadata": {
    "tags": []
   },
   "source": [
    "### Явное формирование формата коммита"
   ]
  },
  {
   "cell_type": "markdown",
   "id": "ddac4112-c95e-4ded-a9d6-7c4f23dc90c7",
   "metadata": {
    "tags": []
   },
   "source": [
    "**Помимо готовых форматов ключ `--format` может принимать строку, содержащую специальные символы (плейсхолдеры)**:"
   ]
  },
  {
   "cell_type": "code",
   "execution_count": 45,
   "id": "cb34697f-86c4-448e-9073-34f996983a66",
   "metadata": {
    "tags": []
   },
   "outputs": [
    {
     "name": "stdout",
     "output_type": "stream",
     "text": [
      "'Nikita Eshkeev' закоммитил 'c7f09b1' в Thu Mar 16 20:32:33 2023 +0000\n",
      "'Nikita Eshkeev' закоммитил '7f187cb' в Thu Mar 16 20:32:20 2023 +0000\n",
      "'Nikita Eshkeev' закоммитил 'd1f2b1a' в Thu Mar 16 20:32:19 2023 +0000\n",
      "'Nikita Eshkeev' закоммитил 'af017cc' в Thu Mar 16 20:32:19 2023 +0000\n"
     ]
    }
   ],
   "source": [
    "git log --format=\"'%an' закоммитил '%h' в %ad\""
   ]
  },
  {
   "cell_type": "markdown",
   "id": "8421b988-cecb-4c83-b405-27ac5bfc7f27",
   "metadata": {
    "tags": []
   },
   "source": [
    "### Задание"
   ]
  },
  {
   "cell_type": "markdown",
   "id": "61d14647-5d9e-4c5a-bce3-8d27b30f7476",
   "metadata": {},
   "source": [
    "1. Изучить список [плейсхолдеров](https://www.git-scm.com/docs/git-log#Documentation/git-log.txt-emnem)\n",
    "1. Вывести коммиты в формате HASH -- email -- Тема коммита (subject)"
   ]
  },
  {
   "cell_type": "markdown",
   "id": "9209a12c-f102-440d-85d8-4c9313b1ab7d",
   "metadata": {},
   "source": [
    "## Ограничение истории"
   ]
  },
  {
   "cell_type": "markdown",
   "id": "1fb88c1f-ce50-4a16-8a45-9e5428e945c3",
   "metadata": {},
   "source": [
    "В проектах со времение накапливается большая история, что мешает эффективно искать информацию. Git предлагает инструменты для ограничения истории для анализа"
   ]
  },
  {
   "cell_type": "markdown",
   "id": "e98a3752-6ab9-4b11-b2e6-6204cd2464dc",
   "metadata": {
    "tags": []
   },
   "source": [
    "### Последние N коммитов"
   ]
  },
  {
   "cell_type": "code",
   "execution_count": 46,
   "id": "76198198-5dd6-4d5e-82ef-242802589360",
   "metadata": {
    "tags": []
   },
   "outputs": [
    {
     "name": "stdout",
     "output_type": "stream",
     "text": [
      "commit c7f09b11680f0d2123c03cfcc1429f2a7a49dd08 (HEAD -> master)\n",
      "Author: Nikita Eshkeev <neshkeev@yandex.ru>\n",
      "Date:   Thu Mar 16 20:32:33 2023 +0000\n",
      "\n",
      "    Изменить заголовок index.html\n",
      "\n",
      "commit 7f187cbfb4c56081c8a7b243094116003acaa301\n",
      "Author: Nikita Eshkeev <neshkeev@yandex.ru>\n",
      "Date:   Thu Mar 16 20:32:20 2023 +0000\n",
      "\n",
      "    Добавить styles.css\n",
      "\n",
      "commit d1f2b1a81cd2470c77b2a330096cc9be3a23cb5d\n",
      "Author: Nikita Eshkeev <neshkeev@yandex.ru>\n",
      "Date:   Thu Mar 16 20:32:19 2023 +0000\n",
      "\n",
      "    Добавить index.html\n",
      "\n",
      "commit af017cc5638ee2aa0c082834d3a72833d75fd850\n",
      "Author: Nikita Eshkeev <neshkeev@yandex.ru>\n",
      "Date:   Thu Mar 16 20:32:19 2023 +0000\n",
      "\n",
      "    Мой первый файл в Git репозитории\n"
     ]
    }
   ],
   "source": [
    "git log -n 5"
   ]
  },
  {
   "cell_type": "markdown",
   "id": "b4f1f076-d8f6-493d-a49b-61b07705fdcb",
   "metadata": {
    "tags": []
   },
   "source": [
    "### Последние 3 коммита в ветке new-feature"
   ]
  },
  {
   "cell_type": "code",
   "execution_count": 47,
   "id": "d3e9f27b-aad8-4e92-9846-e4e8f02acdca",
   "metadata": {
    "tags": []
   },
   "outputs": [
    {
     "name": "stdout",
     "output_type": "stream",
     "text": [
      "commit 1e0f6ea14b98ae884a8ca876e38fa7f79d94fc74 (new-feature)\n",
      "Author: Nikita Eshkeev <neshkeev@yandex.ru>\n",
      "Date:   Thu Mar 16 20:32:52 2023 +0000\n",
      "\n",
      "    Добавить 42.txt\n",
      "\n",
      "commit 64f532572c84188d8d461f79699e68a224cafe43\n",
      "Author: Nikita Eshkeev <neshkeev@yandex.ru>\n",
      "Date:   Thu Mar 16 20:32:52 2023 +0000\n",
      "\n",
      "    Добавить hello.txt\n",
      "\n",
      "commit c7f09b11680f0d2123c03cfcc1429f2a7a49dd08 (HEAD -> master)\n",
      "Author: Nikita Eshkeev <neshkeev@yandex.ru>\n",
      "Date:   Thu Mar 16 20:32:33 2023 +0000\n",
      "\n",
      "    Изменить заголовок index.html\n"
     ]
    }
   ],
   "source": [
    "git log -n 3 new-feature"
   ]
  },
  {
   "cell_type": "markdown",
   "id": "9279db62-c2f6-4e00-8921-e7228d8eaf8b",
   "metadata": {
    "tags": []
   },
   "source": [
    "### Коммиты, которые есть в одной ветке, но нет в другой"
   ]
  },
  {
   "cell_type": "code",
   "execution_count": 48,
   "id": "beef4c05-cc52-43ab-ac2d-844ef98a47d8",
   "metadata": {
    "tags": []
   },
   "outputs": [
    {
     "name": "stdout",
     "output_type": "stream",
     "text": [
      "commit 1e0f6ea14b98ae884a8ca876e38fa7f79d94fc74 (new-feature)\n",
      "Author: Nikita Eshkeev <neshkeev@yandex.ru>\n",
      "Date:   Thu Mar 16 20:32:52 2023 +0000\n",
      "\n",
      "    Добавить 42.txt\n",
      "\n",
      "commit 64f532572c84188d8d461f79699e68a224cafe43\n",
      "Author: Nikita Eshkeev <neshkeev@yandex.ru>\n",
      "Date:   Thu Mar 16 20:32:52 2023 +0000\n",
      "\n",
      "    Добавить hello.txt\n"
     ]
    }
   ],
   "source": [
    "git log master..new-feature"
   ]
  },
  {
   "cell_type": "code",
   "execution_count": 49,
   "id": "dbf62f3b-dbc9-4305-aefa-9b18b12e78ee",
   "metadata": {
    "tags": []
   },
   "outputs": [],
   "source": [
    "git log new-feature..master"
   ]
  },
  {
   "cell_type": "markdown",
   "id": "199cac28-d141-4e1d-aece-7f1582ebdddd",
   "metadata": {
    "tags": []
   },
   "source": [
    "### Фильтрация по автору"
   ]
  },
  {
   "cell_type": "code",
   "execution_count": 50,
   "id": "b71ff8ff-0f2d-4ef9-8836-9b261a3522a7",
   "metadata": {
    "tags": []
   },
   "outputs": [
    {
     "name": "stdout",
     "output_type": "stream",
     "text": [
      "commit c7f09b11680f0d2123c03cfcc1429f2a7a49dd08 (HEAD -> master)\n",
      "Author: Nikita Eshkeev <neshkeev@yandex.ru>\n",
      "Date:   Thu Mar 16 20:32:33 2023 +0000\n",
      "\n",
      "    Изменить заголовок index.html\n",
      "\n",
      "commit 7f187cbfb4c56081c8a7b243094116003acaa301\n",
      "Author: Nikita Eshkeev <neshkeev@yandex.ru>\n",
      "Date:   Thu Mar 16 20:32:20 2023 +0000\n",
      "\n",
      "    Добавить styles.css\n",
      "\n",
      "commit d1f2b1a81cd2470c77b2a330096cc9be3a23cb5d\n",
      "Author: Nikita Eshkeev <neshkeev@yandex.ru>\n",
      "Date:   Thu Mar 16 20:32:19 2023 +0000\n",
      "\n",
      "    Добавить index.html\n",
      "\n",
      "commit af017cc5638ee2aa0c082834d3a72833d75fd850\n",
      "Author: Nikita Eshkeev <neshkeev@yandex.ru>\n",
      "Date:   Thu Mar 16 20:32:19 2023 +0000\n",
      "\n",
      "    Мой первый файл в Git репозитории\n"
     ]
    }
   ],
   "source": [
    "git log --author=\"${USER_NAME}\""
   ]
  },
  {
   "cell_type": "code",
   "execution_count": 51,
   "id": "36b18bd8-77dd-4202-b476-2543f41c5733",
   "metadata": {
    "tags": []
   },
   "outputs": [],
   "source": [
    "author=$(sed 's,..\\(...\\).*,\\1,' <<<${USER_NAME})"
   ]
  },
  {
   "cell_type": "code",
   "execution_count": 52,
   "id": "7af7adfa-cf66-415e-97cf-35106bb3d1a0",
   "metadata": {
    "tags": []
   },
   "outputs": [
    {
     "name": "stdout",
     "output_type": "stream",
     "text": [
      "kit\n"
     ]
    }
   ],
   "source": [
    "echo \"$author\""
   ]
  },
  {
   "cell_type": "code",
   "execution_count": 53,
   "id": "de934a87-81bf-4b1a-8f04-b26fc2a43493",
   "metadata": {
    "tags": []
   },
   "outputs": [
    {
     "name": "stdout",
     "output_type": "stream",
     "text": [
      "commit c7f09b11680f0d2123c03cfcc1429f2a7a49dd08 (HEAD -> master)\n",
      "Author: Nikita Eshkeev <neshkeev@yandex.ru>\n",
      "Date:   Thu Mar 16 20:32:33 2023 +0000\n",
      "\n",
      "    Изменить заголовок index.html\n",
      "\n",
      "commit 7f187cbfb4c56081c8a7b243094116003acaa301\n",
      "Author: Nikita Eshkeev <neshkeev@yandex.ru>\n",
      "Date:   Thu Mar 16 20:32:20 2023 +0000\n",
      "\n",
      "    Добавить styles.css\n",
      "\n",
      "commit d1f2b1a81cd2470c77b2a330096cc9be3a23cb5d\n",
      "Author: Nikita Eshkeev <neshkeev@yandex.ru>\n",
      "Date:   Thu Mar 16 20:32:19 2023 +0000\n",
      "\n",
      "    Добавить index.html\n",
      "\n",
      "commit af017cc5638ee2aa0c082834d3a72833d75fd850\n",
      "Author: Nikita Eshkeev <neshkeev@yandex.ru>\n",
      "Date:   Thu Mar 16 20:32:19 2023 +0000\n",
      "\n",
      "    Мой первый файл в Git репозитории\n"
     ]
    }
   ],
   "source": [
    "git log --author=\"${author}\""
   ]
  },
  {
   "cell_type": "markdown",
   "id": "6446d7f3-2b20-4824-ab96-1a0e0bd3cf94",
   "metadata": {},
   "source": [
    "### Фильтрация по регулярному выражению"
   ]
  },
  {
   "cell_type": "code",
   "execution_count": 54,
   "id": "d626d677-469b-4086-ac6e-4db37a7c2cc0",
   "metadata": {
    "tags": []
   },
   "outputs": [
    {
     "name": "stdout",
     "output_type": "stream",
     "text": [
      "commit 1e0f6ea14b98ae884a8ca876e38fa7f79d94fc74 (new-feature)\n",
      "Author: Nikita Eshkeev <neshkeev@yandex.ru>\n",
      "Date:   Thu Mar 16 20:32:52 2023 +0000\n",
      "\n",
      "    Добавить 42.txt\n",
      "\n",
      "commit 64f532572c84188d8d461f79699e68a224cafe43\n",
      "Author: Nikita Eshkeev <neshkeev@yandex.ru>\n",
      "Date:   Thu Mar 16 20:32:52 2023 +0000\n",
      "\n",
      "    Добавить hello.txt\n",
      "\n",
      "commit 7f187cbfb4c56081c8a7b243094116003acaa301\n",
      "Author: Nikita Eshkeev <neshkeev@yandex.ru>\n",
      "Date:   Thu Mar 16 20:32:20 2023 +0000\n",
      "\n",
      "    Добавить styles.css\n",
      "\n",
      "commit d1f2b1a81cd2470c77b2a330096cc9be3a23cb5d\n",
      "Author: Nikita Eshkeev <neshkeev@yandex.ru>\n",
      "Date:   Thu Mar 16 20:32:19 2023 +0000\n",
      "\n",
      "    Добавить index.html\n"
     ]
    }
   ],
   "source": [
    "git log --grep='.*авит.' new-feature"
   ]
  }
 ],
 "metadata": {
  "kernelspec": {
   "display_name": "Bash",
   "language": "bash",
   "name": "bash"
  },
  "language_info": {
   "codemirror_mode": "shell",
   "file_extension": ".sh",
   "mimetype": "text/x-sh",
   "name": "bash"
  }
 },
 "nbformat": 4,
 "nbformat_minor": 5
}
