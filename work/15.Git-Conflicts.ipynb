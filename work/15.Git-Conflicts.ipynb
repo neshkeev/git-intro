{
 "cells": [
  {
   "cell_type": "markdown",
   "id": "eed5e66c-4641-4dad-bd70-d0ffbe9713a2",
   "metadata": {
    "tags": []
   },
   "source": [
    "# Основы работы с Git - Разрешение конфликтов"
   ]
  },
  {
   "cell_type": "markdown",
   "id": "66496b50-7b39-42c4-b800-713a2554b4d2",
   "metadata": {
    "tags": []
   },
   "source": [
    "## Мотивация"
   ]
  },
  {
   "cell_type": "markdown",
   "id": "c17ed9d9-687e-4288-936c-a44fde7a5ab5",
   "metadata": {},
   "source": [
    "Когда несколько членов команды работают с одним удаленным репозиторием, то неизбежно будут возникать конфликты при синхронизации изменений."
   ]
  },
  {
   "cell_type": "markdown",
   "id": "32074ad0-d92a-485d-a042-efe387cd387a",
   "metadata": {
    "tags": []
   },
   "source": [
    "### Первый разработчик"
   ]
  },
  {
   "cell_type": "code",
   "execution_count": null,
   "id": "e1e6f946-6206-4a2a-af7c-4343d568af09",
   "metadata": {
    "tags": []
   },
   "outputs": [],
   "source": [
    "cd ~/repo"
   ]
  },
  {
   "cell_type": "code",
   "execution_count": null,
   "id": "d932f579-8165-443f-aa06-45d4ac8c2642",
   "metadata": {},
   "outputs": [],
   "source": [
    "rm -rf ~/repo/.ipynb_checkpoints"
   ]
  },
  {
   "cell_type": "code",
   "execution_count": null,
   "id": "a880b85b-03a3-46f1-922b-b859058719c5",
   "metadata": {
    "tags": []
   },
   "outputs": [],
   "source": [
    "echo \"Эта строка не вызывает конфликт\" >> README.md"
   ]
  },
  {
   "cell_type": "code",
   "execution_count": null,
   "id": "ab7dffe2-9b43-453c-a87a-cbaa547cad08",
   "metadata": {
    "tags": []
   },
   "outputs": [],
   "source": [
    "echo \"0.2.0\" > version.txt"
   ]
  },
  {
   "cell_type": "code",
   "execution_count": null,
   "id": "f7425bac-9064-4d7c-af07-a6aacb2f3e2b",
   "metadata": {
    "tags": []
   },
   "outputs": [],
   "source": [
    "git commit -am \"Добавить коммит для демонстрации конфликта\""
   ]
  },
  {
   "cell_type": "code",
   "execution_count": null,
   "id": "5e272b30-14a6-4c8f-aa39-07f9fe19c32b",
   "metadata": {
    "tags": []
   },
   "outputs": [],
   "source": [
    "git push origin HEAD:master"
   ]
  },
  {
   "cell_type": "markdown",
   "id": "fe9d9be2-c975-4b88-84da-dc11ada2e38f",
   "metadata": {
    "tags": []
   },
   "source": [
    "### Второй разработчик"
   ]
  },
  {
   "cell_type": "code",
   "execution_count": null,
   "id": "3c1cee05-56b4-444e-8ebb-a186945fa376",
   "metadata": {
    "tags": []
   },
   "outputs": [],
   "source": [
    "cd ~/local"
   ]
  },
  {
   "cell_type": "code",
   "execution_count": null,
   "id": "dfdd9487-d043-4d49-b334-f7404743611b",
   "metadata": {
    "tags": []
   },
   "outputs": [],
   "source": [
    "git checkout master"
   ]
  },
  {
   "cell_type": "code",
   "execution_count": null,
   "id": "814d1e69-c921-410b-9f3b-5488f43a217f",
   "metadata": {
    "tags": []
   },
   "outputs": [],
   "source": [
    "echo \"# Version\" > version.txt\n",
    "echo \"0.2.1\" >> version.txt"
   ]
  },
  {
   "cell_type": "code",
   "execution_count": null,
   "id": "d71bccaa-9960-45a4-a76e-23e73c013175",
   "metadata": {
    "tags": []
   },
   "outputs": [],
   "source": [
    "git status"
   ]
  },
  {
   "cell_type": "code",
   "execution_count": null,
   "id": "65e8420c-61fb-4f4d-b1f5-b8bf1374a454",
   "metadata": {
    "tags": []
   },
   "outputs": [],
   "source": [
    "git commit -am \"Изменить версию на 0.2.1\""
   ]
  },
  {
   "cell_type": "code",
   "execution_count": null,
   "id": "c93a4264-43a6-4a84-af50-5fcde3cca330",
   "metadata": {
    "tags": []
   },
   "outputs": [],
   "source": [
    "commit=$(git log -n 1 --format=\"%H\")"
   ]
  },
  {
   "cell_type": "code",
   "execution_count": null,
   "id": "2db60ccc-3002-4abd-8eaa-000e07805fc5",
   "metadata": {
    "tags": []
   },
   "outputs": [],
   "source": [
    "git fetch origin"
   ]
  },
  {
   "cell_type": "code",
   "execution_count": null,
   "id": "659ae092-7117-48f3-be6f-de2da7b322b8",
   "metadata": {
    "tags": []
   },
   "outputs": [],
   "source": [
    "git log -n 1 origin/master"
   ]
  },
  {
   "cell_type": "code",
   "execution_count": null,
   "id": "1ecefaf1-63bf-48f8-a127-40ec024f8faf",
   "metadata": {
    "tags": []
   },
   "outputs": [],
   "source": [
    "git rebase origin/master || true"
   ]
  },
  {
   "cell_type": "code",
   "execution_count": null,
   "id": "1e544da4-495c-4264-8def-c1c2a4e244e7",
   "metadata": {
    "tags": []
   },
   "outputs": [],
   "source": [
    "git status"
   ]
  },
  {
   "cell_type": "markdown",
   "id": "b8bbc675-f1b2-4e97-90be-c9e942a61f26",
   "metadata": {},
   "source": [
    "### Способ 0: Самое простое - это остановить rebase, передав ключ `--abort` команде `git rebase`:"
   ]
  },
  {
   "cell_type": "code",
   "execution_count": null,
   "id": "635d9f33-e41d-42b9-93f5-9fdc90cd63fd",
   "metadata": {
    "tags": []
   },
   "outputs": [],
   "source": [
    "git rebase --abort"
   ]
  },
  {
   "cell_type": "code",
   "execution_count": null,
   "id": "57f6bd36-94e5-42f7-8969-9aefc09fa69c",
   "metadata": {
    "tags": []
   },
   "outputs": [],
   "source": [
    "git status"
   ]
  },
  {
   "cell_type": "markdown",
   "id": "308a7d3a-3c90-4722-ad0f-969c1fdce44e",
   "metadata": {
    "tags": []
   },
   "source": [
    "### Способ 1: Применить изменения из `origin/master`"
   ]
  },
  {
   "cell_type": "code",
   "execution_count": null,
   "id": "f3f23948-bfcf-4f6a-bd9a-2875294d95d4",
   "metadata": {
    "tags": []
   },
   "outputs": [],
   "source": [
    "git rebase origin/master \\\n",
    "  || true"
   ]
  },
  {
   "cell_type": "code",
   "execution_count": null,
   "id": "72145ce2-92d0-4254-9d07-8d2057eb0866",
   "metadata": {
    "tags": []
   },
   "outputs": [],
   "source": [
    "git status"
   ]
  },
  {
   "cell_type": "code",
   "execution_count": null,
   "id": "2af96469-a0fe-490c-b418-9cafc1d808fe",
   "metadata": {
    "tags": []
   },
   "outputs": [],
   "source": [
    "cat version.txt"
   ]
  },
  {
   "cell_type": "code",
   "execution_count": null,
   "id": "12ebe3ae-8af2-4af6-a698-b6ee1f7ced3e",
   "metadata": {
    "tags": []
   },
   "outputs": [],
   "source": [
    "git checkout origin/master -- version.txt"
   ]
  },
  {
   "cell_type": "code",
   "execution_count": null,
   "id": "2c46635c-6db0-4c9a-9072-d12c4fa70d99",
   "metadata": {
    "tags": []
   },
   "outputs": [],
   "source": [
    "git status"
   ]
  },
  {
   "cell_type": "code",
   "execution_count": null,
   "id": "918f8de2-c988-4f53-884d-040570de742c",
   "metadata": {
    "tags": []
   },
   "outputs": [],
   "source": [
    "git rebase --continue"
   ]
  },
  {
   "cell_type": "code",
   "execution_count": null,
   "id": "b51e6850-0d39-4fed-8315-a50d3d557653",
   "metadata": {
    "tags": []
   },
   "outputs": [],
   "source": [
    "git status"
   ]
  },
  {
   "cell_type": "code",
   "execution_count": null,
   "id": "58a51fa6-721c-4fc8-8290-cfa06c58576e",
   "metadata": {
    "tags": []
   },
   "outputs": [],
   "source": [
    "git log -n 3"
   ]
  },
  {
   "cell_type": "markdown",
   "id": "0205ba5f-1917-4c83-a9c1-72c5485941e1",
   "metadata": {
    "tags": []
   },
   "source": [
    "### Способ 2: Применить локальные изменения"
   ]
  },
  {
   "cell_type": "code",
   "execution_count": null,
   "id": "aff12e1c-4ec7-454c-b6ce-527704a4baf9",
   "metadata": {
    "tags": []
   },
   "outputs": [],
   "source": [
    "git reset --hard \"$commit\""
   ]
  },
  {
   "cell_type": "code",
   "execution_count": null,
   "id": "f19d2e6a-337b-4dba-966b-e73f2b3ff79c",
   "metadata": {
    "tags": []
   },
   "outputs": [],
   "source": [
    "git log -n 1"
   ]
  },
  {
   "cell_type": "code",
   "execution_count": null,
   "id": "7fdad54d-5650-45fd-937b-f1c581e7d56f",
   "metadata": {
    "tags": []
   },
   "outputs": [],
   "source": [
    "git rebase origin/master \\\n",
    "  || true"
   ]
  },
  {
   "cell_type": "code",
   "execution_count": null,
   "id": "f9c934c4-b027-45dc-ad1a-420d764497a9",
   "metadata": {
    "tags": []
   },
   "outputs": [],
   "source": [
    "git status"
   ]
  },
  {
   "cell_type": "code",
   "execution_count": null,
   "id": "e510a861-8d39-4c6f-8c7b-7657fb274d06",
   "metadata": {
    "tags": []
   },
   "outputs": [],
   "source": [
    "git checkout master -- version.txt"
   ]
  },
  {
   "cell_type": "code",
   "execution_count": null,
   "id": "e77119d2-9889-4e7d-ad6d-4eb5e2a4da33",
   "metadata": {
    "tags": []
   },
   "outputs": [],
   "source": [
    "git status"
   ]
  },
  {
   "cell_type": "code",
   "execution_count": null,
   "id": "34bbc33d-372f-4d40-82e8-18c21610490f",
   "metadata": {
    "tags": []
   },
   "outputs": [],
   "source": [
    "GIT_EDITOR=true git rebase --continue"
   ]
  },
  {
   "cell_type": "code",
   "execution_count": null,
   "id": "8e6f97df-87c4-462f-8670-eb27e11e958c",
   "metadata": {
    "tags": []
   },
   "outputs": [],
   "source": [
    "git log -n 1"
   ]
  },
  {
   "cell_type": "markdown",
   "id": "879243a6-b06b-4c86-905f-3f4e2195644e",
   "metadata": {
    "tags": []
   },
   "source": [
    "### Способ 3: Ручное решение конфликта"
   ]
  },
  {
   "cell_type": "code",
   "execution_count": null,
   "id": "dc8b9fca-3b4a-4e53-a811-bee0182e6db9",
   "metadata": {
    "tags": []
   },
   "outputs": [],
   "source": [
    "git reset --hard \"$commit\""
   ]
  },
  {
   "cell_type": "code",
   "execution_count": null,
   "id": "f7f4d09f-360d-4858-a95d-46893ee7b301",
   "metadata": {
    "tags": []
   },
   "outputs": [],
   "source": [
    "git rebase origin/master \\\n",
    "  || true"
   ]
  },
  {
   "cell_type": "code",
   "execution_count": null,
   "id": "1a26ca57-f02b-4001-a1b0-865658c269ac",
   "metadata": {
    "tags": []
   },
   "outputs": [],
   "source": [
    "git status"
   ]
  },
  {
   "cell_type": "code",
   "execution_count": null,
   "id": "cc2419c3-c2c5-4ac8-9766-a47e1dabac36",
   "metadata": {
    "tags": []
   },
   "outputs": [],
   "source": [
    "cat version.txt"
   ]
  },
  {
   "cell_type": "code",
   "execution_count": null,
   "id": "1e2e22ca-a10f-477a-9c2c-ab2da1810d78",
   "metadata": {
    "tags": []
   },
   "outputs": [],
   "source": [
    "echo \"#Version\" > version.txt\n",
    "echo \"0.2.0\" >> version.txt"
   ]
  },
  {
   "cell_type": "code",
   "execution_count": null,
   "id": "dadf18a1-e0db-4a60-878c-38106d60eac6",
   "metadata": {
    "tags": []
   },
   "outputs": [],
   "source": [
    "git status"
   ]
  },
  {
   "cell_type": "code",
   "execution_count": null,
   "id": "a91b92d1-8907-49bc-9408-9b1ddc7bf8b8",
   "metadata": {
    "tags": []
   },
   "outputs": [],
   "source": [
    "git add version.txt"
   ]
  },
  {
   "cell_type": "code",
   "execution_count": null,
   "id": "75192991-802e-4281-86ec-1e7ff33b278e",
   "metadata": {
    "tags": []
   },
   "outputs": [],
   "source": [
    "git status"
   ]
  },
  {
   "cell_type": "code",
   "execution_count": null,
   "id": "1461e943-8561-4f4c-94c8-4df602d816f2",
   "metadata": {
    "tags": []
   },
   "outputs": [],
   "source": [
    "git diff --cached"
   ]
  },
  {
   "cell_type": "code",
   "execution_count": null,
   "id": "cbf77208-0b36-455a-8175-c2270e4e6a4d",
   "metadata": {
    "tags": []
   },
   "outputs": [],
   "source": [
    "GIT_EDITOR=true git rebase --continue"
   ]
  },
  {
   "cell_type": "code",
   "execution_count": null,
   "id": "5f9dbfdc-bb85-4ad7-997e-2fb4fc0c0d8f",
   "metadata": {
    "tags": []
   },
   "outputs": [],
   "source": [
    "git log -n 3"
   ]
  },
  {
   "cell_type": "code",
   "execution_count": null,
   "id": "781cec4e-a0d3-41a9-a3bc-e45371604f3b",
   "metadata": {
    "tags": []
   },
   "outputs": [],
   "source": [
    "cat version.txt"
   ]
  },
  {
   "cell_type": "code",
   "execution_count": null,
   "id": "ea6b60fc-ba79-44f2-a8a2-2a2c5acc51a8",
   "metadata": {},
   "outputs": [],
   "source": []
  }
 ],
 "metadata": {
  "kernelspec": {
   "display_name": "Bash",
   "language": "bash",
   "name": "bash"
  },
  "language_info": {
   "codemirror_mode": "shell",
   "file_extension": ".sh",
   "mimetype": "text/x-sh",
   "name": "bash"
  }
 },
 "nbformat": 4,
 "nbformat_minor": 5
}
