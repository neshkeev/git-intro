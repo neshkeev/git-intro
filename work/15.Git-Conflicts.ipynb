{
 "cells": [
  {
   "cell_type": "markdown",
   "id": "eed5e66c-4641-4dad-bd70-d0ffbe9713a2",
   "metadata": {
    "tags": []
   },
   "source": [
    "# Основы работы с Git"
   ]
  },
  {
   "cell_type": "markdown",
   "id": "66496b50-7b39-42c4-b800-713a2554b4d2",
   "metadata": {
    "tags": []
   },
   "source": [
    "## Разрешение конфликтов"
   ]
  },
  {
   "cell_type": "markdown",
   "id": "c17ed9d9-687e-4288-936c-a44fde7a5ab5",
   "metadata": {},
   "source": [
    "Когда несколько членов команды работают с репозиторием, то неизбежно будут возникать конфликты при синхронизации изменений."
   ]
  },
  {
   "cell_type": "markdown",
   "id": "32074ad0-d92a-485d-a042-efe387cd387a",
   "metadata": {
    "tags": []
   },
   "source": [
    "### Первый разработчик"
   ]
  },
  {
   "cell_type": "code",
   "execution_count": 2,
   "id": "e1e6f946-6206-4a2a-af7c-4343d568af09",
   "metadata": {
    "tags": []
   },
   "outputs": [],
   "source": [
    "cd ~/repo"
   ]
  },
  {
   "cell_type": "code",
   "execution_count": 5,
   "id": "a880b85b-03a3-46f1-922b-b859058719c5",
   "metadata": {
    "tags": []
   },
   "outputs": [],
   "source": [
    "echo \"Эта строка не вызывает конфликт\" >> README.md"
   ]
  },
  {
   "cell_type": "code",
   "execution_count": 7,
   "id": "ab7dffe2-9b43-453c-a87a-cbaa547cad08",
   "metadata": {
    "tags": []
   },
   "outputs": [],
   "source": [
    "echo \"0.2.0\" > version.txt"
   ]
  },
  {
   "cell_type": "code",
   "execution_count": 8,
   "id": "f7425bac-9064-4d7c-af07-a6aacb2f3e2b",
   "metadata": {
    "tags": []
   },
   "outputs": [
    {
     "name": "stdout",
     "output_type": "stream",
     "text": [
      "[master d1d8db0] Добавить коммит для демонстрации конфликта\n",
      " 2 files changed, 2 insertions(+), 1 deletion(-)\n"
     ]
    }
   ],
   "source": [
    "git commit -am \"Добавить коммит для демонстрации конфликта\""
   ]
  },
  {
   "cell_type": "code",
   "execution_count": 10,
   "id": "5e272b30-14a6-4c8f-aa39-07f9fe19c32b",
   "metadata": {
    "tags": []
   },
   "outputs": [
    {
     "name": "stdout",
     "output_type": "stream",
     "text": [
      "Enumerating objects: 13, done.\n",
      "Counting objects: 100% (13/13), done.\n",
      "Delta compression using up to 8 threads\n",
      "Compressing objects: 100% (7/7), done.\n",
      "Writing objects: 100% (10/10), 1011 bytes | 1011.00 KiB/s, done.\n",
      "Total 10 (delta 4), reused 0 (delta 0), pack-reused 0\n",
      "To /home/jovyan/remote/origin.git\n",
      "   5299e1f..d1d8db0  HEAD -> master\n"
     ]
    }
   ],
   "source": [
    "git push origin HEAD:master"
   ]
  },
  {
   "cell_type": "markdown",
   "id": "fe9d9be2-c975-4b88-84da-dc11ada2e38f",
   "metadata": {
    "tags": []
   },
   "source": [
    "### Второй разработчик"
   ]
  },
  {
   "cell_type": "code",
   "execution_count": 1,
   "id": "3c1cee05-56b4-444e-8ebb-a186945fa376",
   "metadata": {
    "tags": []
   },
   "outputs": [],
   "source": [
    "cd ../local"
   ]
  },
  {
   "cell_type": "code",
   "execution_count": 23,
   "id": "dfdd9487-d043-4d49-b334-f7404743611b",
   "metadata": {
    "tags": []
   },
   "outputs": [
    {
     "name": "stdout",
     "output_type": "stream",
     "text": [
      "Switched to branch 'master'\n",
      "Your branch is up to date with 'origin/master'.\n"
     ]
    }
   ],
   "source": [
    "git checkout master"
   ]
  },
  {
   "cell_type": "code",
   "execution_count": 24,
   "id": "814d1e69-c921-410b-9f3b-5488f43a217f",
   "metadata": {
    "tags": []
   },
   "outputs": [],
   "source": [
    "echo \"# Version\" > version.txt\n",
    "echo \"0.2.1\" >> version.txt"
   ]
  },
  {
   "cell_type": "code",
   "execution_count": 25,
   "id": "d71bccaa-9960-45a4-a76e-23e73c013175",
   "metadata": {
    "tags": []
   },
   "outputs": [
    {
     "name": "stdout",
     "output_type": "stream",
     "text": [
      "On branch master\n",
      "Your branch is up to date with 'origin/master'.\n",
      "\n",
      "Changes not staged for commit:\n",
      "  (use \"git add <file>...\" to update what will be committed)\n",
      "  (use \"git restore <file>...\" to discard changes in working directory)\n",
      "\tmodified:   version.txt\n",
      "\n",
      "no changes added to commit (use \"git add\" and/or \"git commit -a\")\n"
     ]
    }
   ],
   "source": [
    "git status"
   ]
  },
  {
   "cell_type": "code",
   "execution_count": 26,
   "id": "65e8420c-61fb-4f4d-b1f5-b8bf1374a454",
   "metadata": {
    "tags": []
   },
   "outputs": [
    {
     "name": "stdout",
     "output_type": "stream",
     "text": [
      "[master a4e2c40] Изменить версию на 0.2.1\n",
      " 1 file changed, 2 insertions(+), 1 deletion(-)\n"
     ]
    }
   ],
   "source": [
    "git commit -am \"Изменить версию на 0.2.1\""
   ]
  },
  {
   "cell_type": "code",
   "execution_count": 11,
   "id": "c93a4264-43a6-4a84-af50-5fcde3cca330",
   "metadata": {
    "tags": []
   },
   "outputs": [],
   "source": [
    "commit=$(git log -n 1 --format=\"%H\")"
   ]
  },
  {
   "cell_type": "code",
   "execution_count": 27,
   "id": "2db60ccc-3002-4abd-8eaa-000e07805fc5",
   "metadata": {
    "tags": []
   },
   "outputs": [
    {
     "name": "stdout",
     "output_type": "stream",
     "text": [
      "remote: Enumerating objects: 13, done.        \n",
      "remote: Counting objects: 100% (13/13), done.        \n",
      "remote: Compressing objects: 100% (7/7), done.        \n",
      "remote: Total 10 (delta 4), reused 0 (delta 0), pack-reused 0        \n",
      "Unpacking objects: 100% (10/10), 991 bytes | 247.00 KiB/s, done.\n",
      "From /home/jovyan/remote/origin\n",
      "   5299e1f..d1d8db0  master     -> origin/master\n"
     ]
    }
   ],
   "source": [
    "git fetch origin"
   ]
  },
  {
   "cell_type": "code",
   "execution_count": 29,
   "id": "659ae092-7117-48f3-be6f-de2da7b322b8",
   "metadata": {
    "tags": []
   },
   "outputs": [
    {
     "name": "stdout",
     "output_type": "stream",
     "text": [
      "commit d1d8db0c4d9c78dd133ccba48957be67713ca738 (origin/master)\n",
      "Author: Nikita Eshkeev <neshkeev@yandex.ru>\n",
      "Date:   Sat Mar 18 08:00:37 2023 +0000\n",
      "\n",
      "    Добавить коммит для демонстрации конфликта\n"
     ]
    }
   ],
   "source": [
    "git log -n 1 origin/master"
   ]
  },
  {
   "cell_type": "code",
   "execution_count": 32,
   "id": "1ecefaf1-63bf-48f8-a127-40ec024f8faf",
   "metadata": {
    "tags": []
   },
   "outputs": [
    {
     "name": "stdout",
     "output_type": "stream",
     "text": [
      "Auto-merging version.txt\n",
      "CONFLICT (content): Merge conflict in version.txt\n",
      "error: could not apply a4e2c40... Изменить версию на 0.2.1\n",
      "hint: Resolve all conflicts manually, mark them as resolved with\n",
      "hint: \"git add/rm <conflicted_files>\", then run \"git rebase --continue\".\n",
      "hint: You can instead skip this commit: run \"git rebase --skip\".\n",
      "hint: To abort and get back to the state before \"git rebase\", run \"git rebase --abort\".\n",
      "Could not apply a4e2c40... Изменить версию на 0.2.1\n"
     ]
    }
   ],
   "source": [
    "git rebase origin/master || true"
   ]
  },
  {
   "cell_type": "code",
   "execution_count": 33,
   "id": "1e544da4-495c-4264-8def-c1c2a4e244e7",
   "metadata": {
    "tags": []
   },
   "outputs": [
    {
     "name": "stdout",
     "output_type": "stream",
     "text": [
      "interactive rebase in progress; onto d1d8db0\n",
      "Last command done (1 command done):\n",
      "   pick a4e2c40 Изменить версию на 0.2.1\n",
      "No commands remaining.\n",
      "You are currently rebasing branch 'master' on 'd1d8db0'.\n",
      "  (fix conflicts and then run \"git rebase --continue\")\n",
      "  (use \"git rebase --skip\" to skip this patch)\n",
      "  (use \"git rebase --abort\" to check out the original branch)\n",
      "\n",
      "Unmerged paths:\n",
      "  (use \"git restore --staged <file>...\" to unstage)\n",
      "  (use \"git add <file>...\" to mark resolution)\n",
      "\tboth modified:   version.txt\n",
      "\n",
      "no changes added to commit (use \"git add\" and/or \"git commit -a\")\n"
     ]
    }
   ],
   "source": [
    "git status"
   ]
  },
  {
   "cell_type": "markdown",
   "id": "b8bbc675-f1b2-4e97-90be-c9e942a61f26",
   "metadata": {},
   "source": [
    "**Способ 0**: Самое простое - это остановить rebase, передав ключ `--abort` команде `git rebase`:"
   ]
  },
  {
   "cell_type": "code",
   "execution_count": 34,
   "id": "635d9f33-e41d-42b9-93f5-9fdc90cd63fd",
   "metadata": {
    "tags": []
   },
   "outputs": [],
   "source": [
    "git rebase --abort"
   ]
  },
  {
   "cell_type": "code",
   "execution_count": 35,
   "id": "57f6bd36-94e5-42f7-8969-9aefc09fa69c",
   "metadata": {
    "tags": []
   },
   "outputs": [
    {
     "name": "stdout",
     "output_type": "stream",
     "text": [
      "On branch master\n",
      "Your branch and 'origin/master' have diverged,\n",
      "and have 1 and 3 different commits each, respectively.\n",
      "  (use \"git pull\" to merge the remote branch into yours)\n",
      "\n",
      "nothing to commit, working tree clean\n"
     ]
    }
   ],
   "source": [
    "git status"
   ]
  },
  {
   "cell_type": "markdown",
   "id": "b86450e4-96e0-46a2-823c-c172687f4bca",
   "metadata": {
    "tags": []
   },
   "source": [
    "### Решение конфликта"
   ]
  },
  {
   "cell_type": "code",
   "execution_count": 39,
   "id": "f3f23948-bfcf-4f6a-bd9a-2875294d95d4",
   "metadata": {
    "tags": []
   },
   "outputs": [
    {
     "name": "stdout",
     "output_type": "stream",
     "text": [
      "Auto-merging version.txt\n",
      "CONFLICT (content): Merge conflict in version.txt\n",
      "error: could not apply a4e2c40... Изменить версию на 0.2.1\n",
      "hint: Resolve all conflicts manually, mark them as resolved with\n",
      "hint: \"git add/rm <conflicted_files>\", then run \"git rebase --continue\".\n",
      "hint: You can instead skip this commit: run \"git rebase --skip\".\n",
      "hint: To abort and get back to the state before \"git rebase\", run \"git rebase --abort\".\n",
      "Could not apply a4e2c40... Изменить версию на 0.2.1\n"
     ]
    }
   ],
   "source": [
    "git rebase origin/master || true"
   ]
  },
  {
   "cell_type": "code",
   "execution_count": 40,
   "id": "72145ce2-92d0-4254-9d07-8d2057eb0866",
   "metadata": {
    "tags": []
   },
   "outputs": [
    {
     "name": "stdout",
     "output_type": "stream",
     "text": [
      "interactive rebase in progress; onto d1d8db0\n",
      "Last command done (1 command done):\n",
      "   pick a4e2c40 Изменить версию на 0.2.1\n",
      "No commands remaining.\n",
      "You are currently rebasing branch 'master' on 'd1d8db0'.\n",
      "  (fix conflicts and then run \"git rebase --continue\")\n",
      "  (use \"git rebase --skip\" to skip this patch)\n",
      "  (use \"git rebase --abort\" to check out the original branch)\n",
      "\n",
      "Unmerged paths:\n",
      "  (use \"git restore --staged <file>...\" to unstage)\n",
      "  (use \"git add <file>...\" to mark resolution)\n",
      "\tboth modified:   version.txt\n",
      "\n",
      "no changes added to commit (use \"git add\" and/or \"git commit -a\")\n"
     ]
    }
   ],
   "source": [
    "git status"
   ]
  },
  {
   "cell_type": "code",
   "execution_count": 41,
   "id": "2af96469-a0fe-490c-b418-9cafc1d808fe",
   "metadata": {
    "tags": []
   },
   "outputs": [
    {
     "name": "stdout",
     "output_type": "stream",
     "text": [
      "<<<<<<< HEAD\n",
      "0.2.0\n",
      "=======\n",
      "# Version\n",
      "0.2.1\n",
      ">>>>>>> a4e2c40 (Изменить версию на 0.2.1)\n"
     ]
    }
   ],
   "source": [
    "cat version.txt"
   ]
  },
  {
   "cell_type": "markdown",
   "id": "308a7d3a-3c90-4722-ad0f-969c1fdce44e",
   "metadata": {
    "tags": []
   },
   "source": [
    "**Способ 1:** Применить изменения из `origin/master`"
   ]
  },
  {
   "cell_type": "code",
   "execution_count": 44,
   "id": "12ebe3ae-8af2-4af6-a698-b6ee1f7ced3e",
   "metadata": {
    "tags": []
   },
   "outputs": [],
   "source": [
    "git checkout origin/master -- version.txt"
   ]
  },
  {
   "cell_type": "code",
   "execution_count": 45,
   "id": "2c46635c-6db0-4c9a-9072-d12c4fa70d99",
   "metadata": {
    "tags": []
   },
   "outputs": [
    {
     "name": "stdout",
     "output_type": "stream",
     "text": [
      "interactive rebase in progress; onto d1d8db0\n",
      "Last command done (1 command done):\n",
      "   pick a4e2c40 Изменить версию на 0.2.1\n",
      "No commands remaining.\n",
      "You are currently rebasing branch 'master' on 'd1d8db0'.\n",
      "  (all conflicts fixed: run \"git rebase --continue\")\n",
      "\n",
      "nothing to commit, working tree clean\n"
     ]
    }
   ],
   "source": [
    "git status"
   ]
  },
  {
   "cell_type": "code",
   "execution_count": 46,
   "id": "918f8de2-c988-4f53-884d-040570de742c",
   "metadata": {
    "tags": []
   },
   "outputs": [
    {
     "name": "stdout",
     "output_type": "stream",
     "text": [
      "Successfully rebased and updated refs/heads/master.                             \n"
     ]
    }
   ],
   "source": [
    "git rebase --continue"
   ]
  },
  {
   "cell_type": "code",
   "execution_count": 47,
   "id": "b51e6850-0d39-4fed-8315-a50d3d557653",
   "metadata": {
    "tags": []
   },
   "outputs": [
    {
     "name": "stdout",
     "output_type": "stream",
     "text": [
      "On branch master\n",
      "Your branch is up to date with 'origin/master'.\n",
      "\n",
      "nothing to commit, working tree clean\n"
     ]
    }
   ],
   "source": [
    "git status"
   ]
  },
  {
   "cell_type": "code",
   "execution_count": 48,
   "id": "58a51fa6-721c-4fc8-8290-cfa06c58576e",
   "metadata": {
    "tags": []
   },
   "outputs": [
    {
     "name": "stdout",
     "output_type": "stream",
     "text": [
      "commit d1d8db0c4d9c78dd133ccba48957be67713ca738 (HEAD -> master, origin/master)\n",
      "Author: Nikita Eshkeev <neshkeev@yandex.ru>\n",
      "Date:   Sat Mar 18 08:00:37 2023 +0000\n",
      "\n",
      "    Добавить коммит для демонстрации конфликта\n",
      "\n",
      "commit 0348b6978d51030ea92b89ee55a49dfb73fc8bf6\n",
      "Author: Nikita Eshkeev <neshkeev@yandex.ru>\n",
      "Date:   Fri Mar 17 20:22:56 2023 +0000\n",
      "\n",
      "    Добавить 42.txt\n",
      "\n",
      "commit c963481a65554d3700813048e84751896619ea57\n",
      "Author: Nikita Eshkeev <neshkeev@yandex.ru>\n",
      "Date:   Fri Mar 17 20:22:55 2023 +0000\n",
      "\n",
      "    Добавить hello.txt\n"
     ]
    }
   ],
   "source": [
    "git log -n 3"
   ]
  },
  {
   "cell_type": "markdown",
   "id": "0205ba5f-1917-4c83-a9c1-72c5485941e1",
   "metadata": {
    "tags": []
   },
   "source": [
    "**Способ 2:** Применить локальные изменения"
   ]
  },
  {
   "cell_type": "code",
   "execution_count": 13,
   "id": "aff12e1c-4ec7-454c-b6ce-527704a4baf9",
   "metadata": {
    "tags": []
   },
   "outputs": [
    {
     "name": "stdout",
     "output_type": "stream",
     "text": [
      "HEAD is now at a4e2c40 Изменить версию на 0.2.1\n"
     ]
    }
   ],
   "source": [
    "git reset --hard \"$commit\""
   ]
  },
  {
   "cell_type": "code",
   "execution_count": 51,
   "id": "f19d2e6a-337b-4dba-966b-e73f2b3ff79c",
   "metadata": {
    "tags": []
   },
   "outputs": [
    {
     "name": "stdout",
     "output_type": "stream",
     "text": [
      "commit a4e2c4075b1a868e1e2b40f00f83ea4a7c7205d8 (HEAD -> master)\n",
      "Author: Nikita Eshkeev <neshkeev@yandex.ru>\n",
      "Date:   Sat Mar 18 08:05:40 2023 +0000\n",
      "\n",
      "    Изменить версию на 0.2.1\n"
     ]
    }
   ],
   "source": [
    "git log -n 1"
   ]
  },
  {
   "cell_type": "code",
   "execution_count": 53,
   "id": "7fdad54d-5650-45fd-937b-f1c581e7d56f",
   "metadata": {
    "tags": []
   },
   "outputs": [
    {
     "name": "stdout",
     "output_type": "stream",
     "text": [
      "Auto-merging version.txt\n",
      "CONFLICT (content): Merge conflict in version.txt\n",
      "error: could not apply a4e2c40... Изменить версию на 0.2.1\n",
      "hint: Resolve all conflicts manually, mark them as resolved with\n",
      "hint: \"git add/rm <conflicted_files>\", then run \"git rebase --continue\".\n",
      "hint: You can instead skip this commit: run \"git rebase --skip\".\n",
      "hint: To abort and get back to the state before \"git rebase\", run \"git rebase --abort\".\n",
      "Could not apply a4e2c40... Изменить версию на 0.2.1\n"
     ]
    }
   ],
   "source": [
    "git rebase origin/master || true"
   ]
  },
  {
   "cell_type": "code",
   "execution_count": 54,
   "id": "f9c934c4-b027-45dc-ad1a-420d764497a9",
   "metadata": {
    "tags": []
   },
   "outputs": [
    {
     "name": "stdout",
     "output_type": "stream",
     "text": [
      "interactive rebase in progress; onto d1d8db0\n",
      "Last command done (1 command done):\n",
      "   pick a4e2c40 Изменить версию на 0.2.1\n",
      "No commands remaining.\n",
      "You are currently rebasing branch 'master' on 'd1d8db0'.\n",
      "  (fix conflicts and then run \"git rebase --continue\")\n",
      "  (use \"git rebase --skip\" to skip this patch)\n",
      "  (use \"git rebase --abort\" to check out the original branch)\n",
      "\n",
      "Unmerged paths:\n",
      "  (use \"git restore --staged <file>...\" to unstage)\n",
      "  (use \"git add <file>...\" to mark resolution)\n",
      "\tboth modified:   version.txt\n",
      "\n",
      "no changes added to commit (use \"git add\" and/or \"git commit -a\")\n"
     ]
    }
   ],
   "source": [
    "git status"
   ]
  },
  {
   "cell_type": "code",
   "execution_count": 55,
   "id": "e510a861-8d39-4c6f-8c7b-7657fb274d06",
   "metadata": {
    "tags": []
   },
   "outputs": [],
   "source": [
    "git checkout master -- version.txt"
   ]
  },
  {
   "cell_type": "code",
   "execution_count": 56,
   "id": "e77119d2-9889-4e7d-ad6d-4eb5e2a4da33",
   "metadata": {
    "tags": []
   },
   "outputs": [
    {
     "name": "stdout",
     "output_type": "stream",
     "text": [
      "interactive rebase in progress; onto d1d8db0\n",
      "Last command done (1 command done):\n",
      "   pick a4e2c40 Изменить версию на 0.2.1\n",
      "No commands remaining.\n",
      "You are currently rebasing branch 'master' on 'd1d8db0'.\n",
      "  (all conflicts fixed: run \"git rebase --continue\")\n",
      "\n",
      "Changes to be committed:\n",
      "  (use \"git restore --staged <file>...\" to unstage)\n",
      "\tmodified:   version.txt\n",
      "\n"
     ]
    }
   ],
   "source": [
    "git status"
   ]
  },
  {
   "cell_type": "code",
   "execution_count": 2,
   "id": "34bbc33d-372f-4d40-82e8-18c21610490f",
   "metadata": {
    "tags": []
   },
   "outputs": [
    {
     "name": "stdout",
     "output_type": "stream",
     "text": [
      "hint: Waiting for your editor to close the file...\n",
      "[detached HEAD f59e4a7] Изменить версию на 0.2.1\n",
      " 1 file changed, 2 insertions(+), 1 deletion(-)\n",
      "Successfully rebased and updated refs/heads/master.                             \n"
     ]
    }
   ],
   "source": [
    "GIT_EDITOR=true git rebase --continue"
   ]
  },
  {
   "cell_type": "code",
   "execution_count": 3,
   "id": "8e6f97df-87c4-462f-8670-eb27e11e958c",
   "metadata": {
    "tags": []
   },
   "outputs": [
    {
     "name": "stdout",
     "output_type": "stream",
     "text": [
      "commit f59e4a725284f6c6c6ec0af66003d360d2ed6d21 (HEAD -> master)\n",
      "Author: Nikita Eshkeev <neshkeev@yandex.ru>\n",
      "Date:   Sat Mar 18 08:05:40 2023 +0000\n",
      "\n",
      "    Изменить версию на 0.2.1\n"
     ]
    }
   ],
   "source": [
    "git log -n 1"
   ]
  },
  {
   "cell_type": "markdown",
   "id": "879243a6-b06b-4c86-905f-3f4e2195644e",
   "metadata": {
    "tags": []
   },
   "source": [
    "**Способ 3:** Ручное решение конфликта"
   ]
  },
  {
   "cell_type": "code",
   "execution_count": 18,
   "id": "dc8b9fca-3b4a-4e53-a811-bee0182e6db9",
   "metadata": {
    "tags": []
   },
   "outputs": [
    {
     "name": "stdout",
     "output_type": "stream",
     "text": [
      "HEAD is now at a4e2c40 Изменить версию на 0.2.1\n"
     ]
    }
   ],
   "source": [
    "git reset --hard \"$commit\""
   ]
  },
  {
   "cell_type": "code",
   "execution_count": 19,
   "id": "f7f4d09f-360d-4858-a95d-46893ee7b301",
   "metadata": {
    "tags": []
   },
   "outputs": [
    {
     "name": "stdout",
     "output_type": "stream",
     "text": [
      "Auto-merging version.txt\n",
      "CONFLICT (content): Merge conflict in version.txt\n",
      "error: could not apply a4e2c40... Изменить версию на 0.2.1\n",
      "hint: Resolve all conflicts manually, mark them as resolved with\n",
      "hint: \"git add/rm <conflicted_files>\", then run \"git rebase --continue\".\n",
      "hint: You can instead skip this commit: run \"git rebase --skip\".\n",
      "hint: To abort and get back to the state before \"git rebase\", run \"git rebase --abort\".\n",
      "Could not apply a4e2c40... Изменить версию на 0.2.1\n"
     ]
    }
   ],
   "source": [
    "git rebase origin/master || true"
   ]
  },
  {
   "cell_type": "code",
   "execution_count": 20,
   "id": "1a26ca57-f02b-4001-a1b0-865658c269ac",
   "metadata": {
    "tags": []
   },
   "outputs": [
    {
     "name": "stdout",
     "output_type": "stream",
     "text": [
      "interactive rebase in progress; onto d1d8db0\n",
      "Last command done (1 command done):\n",
      "   pick a4e2c40 Изменить версию на 0.2.1\n",
      "No commands remaining.\n",
      "You are currently rebasing branch 'master' on 'd1d8db0'.\n",
      "  (fix conflicts and then run \"git rebase --continue\")\n",
      "  (use \"git rebase --skip\" to skip this patch)\n",
      "  (use \"git rebase --abort\" to check out the original branch)\n",
      "\n",
      "Unmerged paths:\n",
      "  (use \"git restore --staged <file>...\" to unstage)\n",
      "  (use \"git add <file>...\" to mark resolution)\n",
      "\tboth modified:   version.txt\n",
      "\n",
      "no changes added to commit (use \"git add\" and/or \"git commit -a\")\n"
     ]
    }
   ],
   "source": [
    "git status"
   ]
  },
  {
   "cell_type": "code",
   "execution_count": 21,
   "id": "cc2419c3-c2c5-4ac8-9766-a47e1dabac36",
   "metadata": {
    "tags": []
   },
   "outputs": [
    {
     "name": "stdout",
     "output_type": "stream",
     "text": [
      "<<<<<<< HEAD\n",
      "0.2.0\n",
      "=======\n",
      "# Version\n",
      "0.2.1\n",
      ">>>>>>> a4e2c40 (Изменить версию на 0.2.1)\n"
     ]
    }
   ],
   "source": [
    "cat version.txt"
   ]
  },
  {
   "cell_type": "code",
   "execution_count": 23,
   "id": "1e2e22ca-a10f-477a-9c2c-ab2da1810d78",
   "metadata": {
    "tags": []
   },
   "outputs": [],
   "source": [
    "echo \"#Version\" > version.txt\n",
    "echo \"0.2.0\" >> version.txt"
   ]
  },
  {
   "cell_type": "code",
   "execution_count": 24,
   "id": "dadf18a1-e0db-4a60-878c-38106d60eac6",
   "metadata": {
    "tags": []
   },
   "outputs": [
    {
     "name": "stdout",
     "output_type": "stream",
     "text": [
      "interactive rebase in progress; onto d1d8db0\n",
      "Last command done (1 command done):\n",
      "   pick a4e2c40 Изменить версию на 0.2.1\n",
      "No commands remaining.\n",
      "You are currently rebasing branch 'master' on 'd1d8db0'.\n",
      "  (fix conflicts and then run \"git rebase --continue\")\n",
      "  (use \"git rebase --skip\" to skip this patch)\n",
      "  (use \"git rebase --abort\" to check out the original branch)\n",
      "\n",
      "Unmerged paths:\n",
      "  (use \"git restore --staged <file>...\" to unstage)\n",
      "  (use \"git add <file>...\" to mark resolution)\n",
      "\tboth modified:   version.txt\n",
      "\n",
      "no changes added to commit (use \"git add\" and/or \"git commit -a\")\n"
     ]
    }
   ],
   "source": [
    "git status"
   ]
  },
  {
   "cell_type": "code",
   "execution_count": 25,
   "id": "a91b92d1-8907-49bc-9408-9b1ddc7bf8b8",
   "metadata": {
    "tags": []
   },
   "outputs": [],
   "source": [
    "git add version.txt"
   ]
  },
  {
   "cell_type": "code",
   "execution_count": 26,
   "id": "75192991-802e-4281-86ec-1e7ff33b278e",
   "metadata": {
    "tags": []
   },
   "outputs": [
    {
     "name": "stdout",
     "output_type": "stream",
     "text": [
      "interactive rebase in progress; onto d1d8db0\n",
      "Last command done (1 command done):\n",
      "   pick a4e2c40 Изменить версию на 0.2.1\n",
      "No commands remaining.\n",
      "You are currently rebasing branch 'master' on 'd1d8db0'.\n",
      "  (all conflicts fixed: run \"git rebase --continue\")\n",
      "\n",
      "Changes to be committed:\n",
      "  (use \"git restore --staged <file>...\" to unstage)\n",
      "\tmodified:   version.txt\n",
      "\n"
     ]
    }
   ],
   "source": [
    "git status"
   ]
  },
  {
   "cell_type": "code",
   "execution_count": 27,
   "id": "1461e943-8561-4f4c-94c8-4df602d816f2",
   "metadata": {
    "tags": []
   },
   "outputs": [
    {
     "name": "stdout",
     "output_type": "stream",
     "text": [
      "diff --git a/version.txt b/version.txt\n",
      "index 0ea3a94..0d701dc 100644\n",
      "--- a/version.txt\n",
      "+++ b/version.txt\n",
      "@@ -1 +1,2 @@\n",
      "+#Version\n",
      " 0.2.0\n"
     ]
    }
   ],
   "source": [
    "git diff --cached"
   ]
  },
  {
   "cell_type": "code",
   "execution_count": 28,
   "id": "cbf77208-0b36-455a-8175-c2270e4e6a4d",
   "metadata": {
    "tags": []
   },
   "outputs": [
    {
     "name": "stdout",
     "output_type": "stream",
     "text": [
      "hint: Waiting for your editor to close the file...\n",
      "[detached HEAD bea2e89] Изменить версию на 0.2.1\n",
      " 1 file changed, 1 insertion(+)\n",
      "Successfully rebased and updated refs/heads/master.                             \n"
     ]
    }
   ],
   "source": [
    "GIT_EDITOR=true git rebase --continue"
   ]
  },
  {
   "cell_type": "code",
   "execution_count": 30,
   "id": "5f9dbfdc-bb85-4ad7-997e-2fb4fc0c0d8f",
   "metadata": {
    "tags": []
   },
   "outputs": [
    {
     "name": "stdout",
     "output_type": "stream",
     "text": [
      "commit bea2e8967ef4b52db5ba3f27f54ae777703c840e (HEAD -> master)\n",
      "Author: Nikita Eshkeev <neshkeev@yandex.ru>\n",
      "Date:   Sat Mar 18 08:05:40 2023 +0000\n",
      "\n",
      "    Изменить версию на 0.2.1\n",
      "\n",
      "commit d1d8db0c4d9c78dd133ccba48957be67713ca738 (origin/master)\n",
      "Author: Nikita Eshkeev <neshkeev@yandex.ru>\n",
      "Date:   Sat Mar 18 08:00:37 2023 +0000\n",
      "\n",
      "    Добавить коммит для демонстрации конфликта\n",
      "\n",
      "commit 0348b6978d51030ea92b89ee55a49dfb73fc8bf6\n",
      "Author: Nikita Eshkeev <neshkeev@yandex.ru>\n",
      "Date:   Fri Mar 17 20:22:56 2023 +0000\n",
      "\n",
      "    Добавить 42.txt\n"
     ]
    }
   ],
   "source": [
    "git log -n 3"
   ]
  }
 ],
 "metadata": {
  "kernelspec": {
   "display_name": "Bash",
   "language": "bash",
   "name": "bash"
  },
  "language_info": {
   "codemirror_mode": "shell",
   "file_extension": ".sh",
   "mimetype": "text/x-sh",
   "name": "bash"
  }
 },
 "nbformat": 4,
 "nbformat_minor": 5
}
