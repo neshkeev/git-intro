{
 "cells": [
  {
   "cell_type": "markdown",
   "id": "b63dc65a-77f8-454a-83bf-38aaa6c91c7f",
   "metadata": {
    "tags": []
   },
   "source": [
    "# Основы работы с Git"
   ]
  },
  {
   "cell_type": "code",
   "execution_count": 2,
   "id": "8e762246-5ca5-4313-b11c-bfc3c2562546",
   "metadata": {
    "tags": []
   },
   "outputs": [],
   "source": [
    "cd ~/repo"
   ]
  },
  {
   "cell_type": "code",
   "execution_count": null,
   "id": "6e6153a6-2308-49eb-a971-5b17022ebbd1",
   "metadata": {},
   "outputs": [],
   "source": []
  }
 ],
 "metadata": {
  "kernelspec": {
   "display_name": "Bash",
   "language": "bash",
   "name": "bash"
  },
  "language_info": {
   "codemirror_mode": "shell",
   "file_extension": ".sh",
   "mimetype": "text/x-sh",
   "name": "bash"
  }
 },
 "nbformat": 4,
 "nbformat_minor": 5
}
