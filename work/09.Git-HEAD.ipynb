{
 "cells": [
  {
   "cell_type": "markdown",
   "id": "f7c8ca09-4872-4946-ac0d-2bced213ea52",
   "metadata": {},
   "source": [
    "# Основы работы с Git"
   ]
  },
  {
   "cell_type": "code",
   "execution_count": 1,
   "id": "a2afbd6f-6919-4c53-b640-bcc6e3bcc278",
   "metadata": {
    "tags": []
   },
   "outputs": [],
   "source": [
    "cd ~/repo"
   ]
  },
  {
   "cell_type": "markdown",
   "id": "facce2e1-b699-410a-9ace-6aaae5602171",
   "metadata": {},
   "source": [
    "## Указатель HEAD"
   ]
  },
  {
   "cell_type": "markdown",
   "id": "f9fb19b9-3e77-4bf8-bfce-98714a485ce0",
   "metadata": {},
   "source": [
    "`HEAD` указывает на коммит, на который указывает текущая ветка, что позволяет его использовать в местах, где обычно используется ветка (например, при создании новых веток). `HEAD` можно рассматривать как некоторый аналог `this` в `java` или `C++` или `self` в `Python`"
   ]
  },
  {
   "cell_type": "code",
   "execution_count": 2,
   "id": "cac687e6-1d07-4af0-956b-1eca362f4f56",
   "metadata": {
    "tags": []
   },
   "outputs": [
    {
     "name": "stdout",
     "output_type": "stream",
     "text": [
      "commit 3900b17dd78b04b8db929d84470ad4fc1f9615f2 (HEAD -> master, tag: 0.1.0)\n",
      "Author: Nikita Eshkeev <neshkeev@yandex.ru>\n",
      "Date:   Fri Mar 17 20:27:45 2023 +0000\n",
      "\n",
      "    Зафиксировать изменения после git add --all\n"
     ]
    }
   ],
   "source": [
    "git log -n 1 HEAD"
   ]
  },
  {
   "cell_type": "markdown",
   "id": "22972f18-7440-4b2f-8070-a1230136c8d6",
   "metadata": {
    "tags": []
   },
   "source": [
    "### Список коммитов на которые указывал HEAD"
   ]
  },
  {
   "cell_type": "markdown",
   "id": "141affe5-0f8d-4ac8-b6b4-89aefc76cd5e",
   "metadata": {},
   "source": [
    "`HEAD` поддерживает список коммитов на которые он указывал в виде стека, т.е. на вершите стэка находится текущий коммит. Этот стек можно посмотреть при помощи команды `git reflog`"
   ]
  },
  {
   "cell_type": "code",
   "execution_count": 3,
   "id": "c8725f51-f9b6-4256-bd27-593ebd8380b1",
   "metadata": {
    "tags": []
   },
   "outputs": [
    {
     "name": "stdout",
     "output_type": "stream",
     "text": [
      "3900b17 (HEAD -> master, tag: 0.1.0) HEAD@{0}: commit: Зафиксировать изменения после git add --all\n",
      "68b7308 HEAD@{1}: reset: moving to HEAD\n",
      "68b7308 HEAD@{2}: reset: moving to HEAD\n",
      "68b7308 HEAD@{3}: commit: Добавить файл NOTICE.txt\n",
      "51e1493 HEAD@{4}: commit: Зафиксировать изменения после git add --all\n",
      "04e82ee HEAD@{5}: reset: moving to HEAD\n",
      "04e82ee HEAD@{6}: reset: moving to HEAD\n",
      "04e82ee HEAD@{7}: commit: Добавить файл NOTICE.txt\n",
      "e66c996 HEAD@{8}: commit (amend): Изменить версию на 0.1.0 в файле version.txt\n",
      "b3f1314 HEAD@{9}: commit (amend): Изменить версию на 0.0.2 в файле version.txt\n"
     ]
    }
   ],
   "source": [
    "git reflog -n 10"
   ]
  },
  {
   "cell_type": "markdown",
   "id": "50fab887-b570-4e5c-b181-cd73bd9a7734",
   "metadata": {},
   "source": [
    "Этот стэк позволяет быстро найти коммит, и изучить его при необходимости:"
   ]
  },
  {
   "cell_type": "code",
   "execution_count": 4,
   "id": "898630af-1461-4460-a869-0618835579cf",
   "metadata": {
    "tags": []
   },
   "outputs": [
    {
     "name": "stdout",
     "output_type": "stream",
     "text": [
      "commit 04e82eeaea9364884a3c9192fdecaa63b4643648\n",
      "Author: Nikita Eshkeev <neshkeev@yandex.ru>\n",
      "Date:   Fri Mar 17 20:24:52 2023 +0000\n",
      "\n",
      "    Добавить файл NOTICE.txt\n",
      "\n",
      "diff --git a/NOTICE.txt b/NOTICE.txt\n",
      "new file mode 100644\n",
      "index 0000000..9e7d7a9\n",
      "--- /dev/null\n",
      "+++ b/NOTICE.txt\n",
      "@@ -0,0 +1 @@\n",
      "+Проект не содержит никаких дополнительных зависимостей\n"
     ]
    }
   ],
   "source": [
    "git show HEAD@{7}"
   ]
  },
  {
   "cell_type": "markdown",
   "id": "08cb57f6-53a3-485b-aec9-3c7ee2e4918e",
   "metadata": {},
   "source": [
    "## Ссылка на родительский коммит"
   ]
  },
  {
   "cell_type": "markdown",
   "id": "6e0d0c7d-21b3-4a27-9dff-bbcc81ad6ab3",
   "metadata": {},
   "source": [
    "Коммиты в репозитории Git образуют ацикличный направленный граф, в котором каждый новый коммит указывает на предыдущий. Получение информации о родителе на столько частая операция, что в Git существует специальный символ для получения коммита родителя:"
   ]
  },
  {
   "cell_type": "code",
   "execution_count": 5,
   "id": "2c98590d-da76-4cf4-9d87-9b65112cdd46",
   "metadata": {
    "tags": []
   },
   "outputs": [
    {
     "name": "stdout",
     "output_type": "stream",
     "text": [
      "3900b17 (HEAD -> master, tag: 0.1.0) Зафиксировать изменения после git add --all\n",
      "68b7308 Добавить файл NOTICE.txt\n"
     ]
    }
   ],
   "source": [
    "git log -n 2 HEAD --oneline"
   ]
  },
  {
   "cell_type": "code",
   "execution_count": 6,
   "id": "8b2640a5-8aa2-4a23-a08b-4f57b36c9828",
   "metadata": {
    "tags": []
   },
   "outputs": [
    {
     "name": "stdout",
     "output_type": "stream",
     "text": [
      "commit 68b7308647fa2603af5af0e3ed84f92ecfac1ef7\n",
      "Author: Nikita Eshkeev <neshkeev@yandex.ru>\n",
      "Date:   Fri Mar 17 20:27:43 2023 +0000\n",
      "\n",
      "    Добавить файл NOTICE.txt\n",
      "\n",
      " NOTICE.txt | 2 +-\n",
      " 1 file changed, 1 insertion(+), 1 deletion(-)\n"
     ]
    }
   ],
   "source": [
    "git show HEAD^ --stat"
   ]
  },
  {
   "cell_type": "markdown",
   "id": "135d84c2-de0e-4540-be03-566aa0a945ce",
   "metadata": {},
   "source": [
    "Символ `^` можно использовать с любым объектом который имеет нотацию ссылки на коммит: ветки, тэги, HEAD"
   ]
  },
  {
   "cell_type": "code",
   "execution_count": 7,
   "id": "05940989-1c37-414e-a2ff-bc30078fd4e8",
   "metadata": {
    "tags": []
   },
   "outputs": [
    {
     "name": "stdout",
     "output_type": "stream",
     "text": [
      "commit 68b7308647fa2603af5af0e3ed84f92ecfac1ef7\n",
      "Author: Nikita Eshkeev <neshkeev@yandex.ru>\n",
      "Date:   Fri Mar 17 20:27:43 2023 +0000\n",
      "\n",
      "    Добавить файл NOTICE.txt\n"
     ]
    }
   ],
   "source": [
    "git log -n 1 master^"
   ]
  },
  {
   "cell_type": "code",
   "execution_count": 8,
   "id": "b85a2f78-ae60-4c6e-8cb3-618091308a81",
   "metadata": {
    "tags": []
   },
   "outputs": [
    {
     "name": "stdout",
     "output_type": "stream",
     "text": [
      "commit 68b7308647fa2603af5af0e3ed84f92ecfac1ef7\n",
      "Author: Nikita Eshkeev <neshkeev@yandex.ru>\n",
      "Date:   Fri Mar 17 20:27:43 2023 +0000\n",
      "\n",
      "    Добавить файл NOTICE.txt\n"
     ]
    }
   ],
   "source": [
    "git log -n 1 0.1.0^"
   ]
  },
  {
   "cell_type": "markdown",
   "id": "ac59a6b4-ed36-41ad-badc-84963236e046",
   "metadata": {},
   "source": [
    "При этом результат применения операции `^` так же является ссылкой на коммит, а значит к нему снова можно применить этот символ `^`:"
   ]
  },
  {
   "cell_type": "code",
   "execution_count": 9,
   "id": "6f9d78e0-8fb0-4735-aefa-aa906a374b62",
   "metadata": {
    "tags": []
   },
   "outputs": [
    {
     "name": "stdout",
     "output_type": "stream",
     "text": [
      "commit 51e149342b219c254482004ef42e33029557e009\n",
      "Author: Nikita Eshkeev <neshkeev@yandex.ru>\n",
      "Date:   Fri Mar 17 20:24:55 2023 +0000\n",
      "\n",
      "    Зафиксировать изменения после git add --all\n"
     ]
    }
   ],
   "source": [
    "git log -n 1 master^^"
   ]
  },
  {
   "cell_type": "code",
   "execution_count": 10,
   "id": "be405235-57dc-47a6-a846-558a5cbccb8b",
   "metadata": {
    "tags": []
   },
   "outputs": [
    {
     "name": "stdout",
     "output_type": "stream",
     "text": [
      "commit 50ca3d3fb1a8e7cca93f4644f5d7477502ab8068\n",
      "Author: Nikita Eshkeev <neshkeev@yandex.ru>\n",
      "Date:   Fri Mar 17 20:23:25 2023 +0000\n",
      "\n",
      "    Добавить new_file.txt\n"
     ]
    }
   ],
   "source": [
    "git log -n 1 HEAD^^^^^^"
   ]
  },
  {
   "cell_type": "markdown",
   "id": "efe28ae2-d72f-4248-bce7-5e7df5d535dd",
   "metadata": {
    "tags": []
   },
   "source": [
    "## Задание"
   ]
  },
  {
   "cell_type": "markdown",
   "id": "a15a767a-391e-4b52-86af-5c3e67430a19",
   "metadata": {},
   "source": [
    "1. Получить восьмой коммит с конца, на который когда-либо указывал `HEAD`\n",
    "1. Получить третий родительский коммит для ветки `new-feature`"
   ]
  }
 ],
 "metadata": {
  "kernelspec": {
   "display_name": "Bash",
   "language": "bash",
   "name": "bash"
  },
  "language_info": {
   "codemirror_mode": "shell",
   "file_extension": ".sh",
   "mimetype": "text/x-sh",
   "name": "bash"
  }
 },
 "nbformat": 4,
 "nbformat_minor": 5
}
