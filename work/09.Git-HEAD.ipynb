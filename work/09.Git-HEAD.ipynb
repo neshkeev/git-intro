{
 "cells": [
  {
   "cell_type": "markdown",
   "id": "f7c8ca09-4872-4946-ac0d-2bced213ea52",
   "metadata": {},
   "source": [
    "# Основы работы с Git"
   ]
  },
  {
   "cell_type": "code",
   "execution_count": 1,
   "id": "a2afbd6f-6919-4c53-b640-bcc6e3bcc278",
   "metadata": {
    "tags": []
   },
   "outputs": [],
   "source": [
    "cd ~/repo"
   ]
  },
  {
   "cell_type": "markdown",
   "id": "facce2e1-b699-410a-9ace-6aaae5602171",
   "metadata": {},
   "source": [
    "## Указатель HEAD"
   ]
  },
  {
   "cell_type": "markdown",
   "id": "f9fb19b9-3e77-4bf8-bfce-98714a485ce0",
   "metadata": {},
   "source": [
    "`HEAD` указывает на коммит, на который указывает текущая ветка, что позволяет его использовать в местах, где обычно используется ветка (например, при создании новых веток). `HEAD` можно рассматривать как некоторый аналог `this` в `java` или `C++` или `self` в `Python`"
   ]
  },
  {
   "cell_type": "code",
   "execution_count": 2,
   "id": "cac687e6-1d07-4af0-956b-1eca362f4f56",
   "metadata": {
    "tags": []
   },
   "outputs": [
    {
     "name": "stdout",
     "output_type": "stream",
     "text": [
      "commit 205cdcd24351287b0985af5a70c93104e2dcd1be (HEAD -> master, tag: 0.1.0)\n",
      "Author: Nikita Eshkeev <neshkeev@yandex.ru>\n",
      "Date:   Thu Mar 16 20:26:18 2023 +0000\n",
      "\n",
      "    Изменить версию на 0.1.0 в файле version.txt\n"
     ]
    }
   ],
   "source": [
    "git log -n 1 HEAD"
   ]
  },
  {
   "cell_type": "markdown",
   "id": "22972f18-7440-4b2f-8070-a1230136c8d6",
   "metadata": {
    "tags": []
   },
   "source": [
    "### Список коммитов на которые указывал HEAD"
   ]
  },
  {
   "cell_type": "markdown",
   "id": "141affe5-0f8d-4ac8-b6b4-89aefc76cd5e",
   "metadata": {},
   "source": [
    "`HEAD` поддерживает список коммитов на которые он указывал в виде стека, т.е. на вершите стэка находится текущий коммит. Этот стек можно посмотреть при помощи команды `git reflog`"
   ]
  },
  {
   "cell_type": "code",
   "execution_count": 3,
   "id": "c8725f51-f9b6-4256-bd27-593ebd8380b1",
   "metadata": {
    "tags": []
   },
   "outputs": [
    {
     "name": "stdout",
     "output_type": "stream",
     "text": [
      "205cdcd (HEAD -> master, tag: 0.1.0) HEAD@{0}: commit (amend): Изменить версию на 0.1.0 в файле version.txt\n",
      "b20e639 HEAD@{1}: commit (amend): Изменить версию на 0.0.2 в файле version.txt\n",
      "34c4d0d HEAD@{2}: commit: Изменить версию на 0.0.2\n",
      "92b4465 HEAD@{3}: commit: Добавить version.txt\n",
      "ba1451d HEAD@{4}: commit: Добавить new_file.txt\n",
      "8d58a49 HEAD@{5}: commit: Изменить цвет фона и ширину <body>\n",
      "52f8312 HEAD@{6}: commit: Обернуть First git repo в тэг <p>\n",
      "e4f345a HEAD@{7}: reset: moving to HEAD\n",
      "e4f345a HEAD@{8}: commit: Добавить коммит при помощи алиаса co\n",
      "36d8cc9 HEAD@{9}: checkout: moving from new-feature2 to master\n"
     ]
    }
   ],
   "source": [
    "git reflog -n 10"
   ]
  },
  {
   "cell_type": "markdown",
   "id": "50fab887-b570-4e5c-b181-cd73bd9a7734",
   "metadata": {},
   "source": [
    "Этот стэк позволяет быстро найти коммит, и изучить его при необходимости:"
   ]
  },
  {
   "cell_type": "code",
   "execution_count": 4,
   "id": "898630af-1461-4460-a869-0618835579cf",
   "metadata": {
    "tags": []
   },
   "outputs": [
    {
     "name": "stdout",
     "output_type": "stream",
     "text": [
      "commit e4f345a231fc2909a81f4736838417915f48366c\n",
      "Author: Nikita Eshkeev <neshkeev@yandex.ru>\n",
      "Date:   Thu Mar 16 20:25:53 2023 +0000\n",
      "\n",
      "    Добавить коммит при помощи алиаса co\n",
      "\n",
      "diff --git a/README.md b/README.md\n",
      "index d9a9cc0..888b474 100644\n",
      "--- a/README.md\n",
      "+++ b/README.md\n",
      "@@ -1 +1,2 @@\n",
      " Мой первый Git репозиторий\n",
      "+Проверяю алиас `co`, который у меня используется вместо `commit`\n"
     ]
    }
   ],
   "source": [
    "git show HEAD@{7}"
   ]
  },
  {
   "cell_type": "markdown",
   "id": "08cb57f6-53a3-485b-aec9-3c7ee2e4918e",
   "metadata": {},
   "source": [
    "## Ссылка на родительский коммит"
   ]
  },
  {
   "cell_type": "markdown",
   "id": "6e0d0c7d-21b3-4a27-9dff-bbcc81ad6ab3",
   "metadata": {},
   "source": [
    "Коммиты в репозитории Git образуют ацикличный направленный граф, в котором каждый новый коммит указывает на предыдущий. Получение информации о родителе на столько частая операция, что в Git существует специальный символ для получения коммита родителя:"
   ]
  },
  {
   "cell_type": "code",
   "execution_count": 5,
   "id": "2c98590d-da76-4cf4-9d87-9b65112cdd46",
   "metadata": {
    "tags": []
   },
   "outputs": [
    {
     "name": "stdout",
     "output_type": "stream",
     "text": [
      "205cdcd (HEAD -> master, tag: 0.1.0) Изменить версию на 0.1.0 в файле version.txt\n",
      "92b4465 Добавить version.txt\n"
     ]
    }
   ],
   "source": [
    "git log -n 2 HEAD --oneline"
   ]
  },
  {
   "cell_type": "code",
   "execution_count": 6,
   "id": "8b2640a5-8aa2-4a23-a08b-4f57b36c9828",
   "metadata": {
    "tags": []
   },
   "outputs": [
    {
     "name": "stdout",
     "output_type": "stream",
     "text": [
      "commit 92b44651c276030ed3ae8e0648a227be464e45a6\n",
      "Author: Nikita Eshkeev <neshkeev@yandex.ru>\n",
      "Date:   Thu Mar 16 20:26:17 2023 +0000\n",
      "\n",
      "    Добавить version.txt\n",
      "\n",
      " version.txt | 1 +\n",
      " 1 file changed, 1 insertion(+)\n"
     ]
    }
   ],
   "source": [
    "git show HEAD^ --stat"
   ]
  },
  {
   "cell_type": "markdown",
   "id": "135d84c2-de0e-4540-be03-566aa0a945ce",
   "metadata": {},
   "source": [
    "Символ `^` можно использовать с любым объектом который имеет нотацию ссылки на коммит: ветки, тэги, HEAD"
   ]
  },
  {
   "cell_type": "code",
   "execution_count": 7,
   "id": "05940989-1c37-414e-a2ff-bc30078fd4e8",
   "metadata": {
    "tags": []
   },
   "outputs": [
    {
     "name": "stdout",
     "output_type": "stream",
     "text": [
      "commit 92b44651c276030ed3ae8e0648a227be464e45a6\n",
      "Author: Nikita Eshkeev <neshkeev@yandex.ru>\n",
      "Date:   Thu Mar 16 20:26:17 2023 +0000\n",
      "\n",
      "    Добавить version.txt\n"
     ]
    }
   ],
   "source": [
    "git log -n 1 master^"
   ]
  },
  {
   "cell_type": "code",
   "execution_count": 8,
   "id": "b85a2f78-ae60-4c6e-8cb3-618091308a81",
   "metadata": {
    "tags": []
   },
   "outputs": [
    {
     "name": "stdout",
     "output_type": "stream",
     "text": [
      "commit 92b44651c276030ed3ae8e0648a227be464e45a6\n",
      "Author: Nikita Eshkeev <neshkeev@yandex.ru>\n",
      "Date:   Thu Mar 16 20:26:17 2023 +0000\n",
      "\n",
      "    Добавить version.txt\n"
     ]
    }
   ],
   "source": [
    "git log -n 1 0.1.0^"
   ]
  },
  {
   "cell_type": "markdown",
   "id": "ac59a6b4-ed36-41ad-badc-84963236e046",
   "metadata": {},
   "source": [
    "При этом результат применения операции `^` так же является ссылкой на коммит, а значит к нему снова можно применить этот символ `^`:"
   ]
  },
  {
   "cell_type": "code",
   "execution_count": 9,
   "id": "6f9d78e0-8fb0-4735-aefa-aa906a374b62",
   "metadata": {
    "tags": []
   },
   "outputs": [
    {
     "name": "stdout",
     "output_type": "stream",
     "text": [
      "commit ba1451df549be02175ff17fdf7fbd6dd1d1be825\n",
      "Author: Nikita Eshkeev <neshkeev@yandex.ru>\n",
      "Date:   Thu Mar 16 20:26:07 2023 +0000\n",
      "\n",
      "    Добавить new_file.txt\n"
     ]
    }
   ],
   "source": [
    "git log -n 1 master^^"
   ]
  },
  {
   "cell_type": "code",
   "execution_count": 10,
   "id": "be405235-57dc-47a6-a846-558a5cbccb8b",
   "metadata": {
    "tags": []
   },
   "outputs": [
    {
     "name": "stdout",
     "output_type": "stream",
     "text": [
      "commit 36d8cc9779e0f3e448214e92a03e417bef380499\n",
      "Author: Nikita Eshkeev <neshkeev@yandex.ru>\n",
      "Date:   Thu Mar 16 20:25:30 2023 +0000\n",
      "\n",
      "    Изменить заголовок index.html\n"
     ]
    }
   ],
   "source": [
    "git log -n 1 HEAD^^^^^^"
   ]
  },
  {
   "cell_type": "markdown",
   "id": "efe28ae2-d72f-4248-bce7-5e7df5d535dd",
   "metadata": {
    "tags": []
   },
   "source": [
    "## Задание"
   ]
  },
  {
   "cell_type": "markdown",
   "id": "a15a767a-391e-4b52-86af-5c3e67430a19",
   "metadata": {},
   "source": [
    "1. Получить восьмой коммит с конца, на который когда-либо указывал `HEAD`\n",
    "1. Получить третий родительский коммит для ветки `new-feature`"
   ]
  }
 ],
 "metadata": {
  "kernelspec": {
   "display_name": "Bash",
   "language": "bash",
   "name": "bash"
  },
  "language_info": {
   "codemirror_mode": "shell",
   "file_extension": ".sh",
   "mimetype": "text/x-sh",
   "name": "bash"
  }
 },
 "nbformat": 4,
 "nbformat_minor": 5
}
