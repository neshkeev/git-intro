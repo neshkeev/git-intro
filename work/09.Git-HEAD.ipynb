{
 "cells": [
  {
   "cell_type": "markdown",
   "id": "f7c8ca09-4872-4946-ac0d-2bced213ea52",
   "metadata": {},
   "source": [
    "# Основы работы с Git - Указатель HEAD"
   ]
  },
  {
   "cell_type": "code",
   "execution_count": null,
   "id": "a2afbd6f-6919-4c53-b640-bcc6e3bcc278",
   "metadata": {
    "tags": []
   },
   "outputs": [],
   "source": [
    "cd ~/repo"
   ]
  },
  {
   "cell_type": "code",
   "execution_count": null,
   "id": "3c87acfc-eb61-4e1d-a1af-7e5951d5dee5",
   "metadata": {},
   "outputs": [],
   "source": [
    "rm -rf ~/repo/.ipynb_checkpoints"
   ]
  },
  {
   "cell_type": "markdown",
   "id": "facce2e1-b699-410a-9ace-6aaae5602171",
   "metadata": {},
   "source": [
    "## Мотивация"
   ]
  },
  {
   "cell_type": "markdown",
   "id": "f9fb19b9-3e77-4bf8-bfce-98714a485ce0",
   "metadata": {},
   "source": [
    "Объект `HEAD` указывает на коммит, на который указывает текущая ветка, что позволяет его использовать в местах, где обычно используется ветка (например, при создании новых веток). `HEAD` можно рассматривать как некоторый аналог `this` в `java` или `C++` или `self` в `Python`."
   ]
  },
  {
   "cell_type": "code",
   "execution_count": null,
   "id": "cac687e6-1d07-4af0-956b-1eca362f4f56",
   "metadata": {
    "tags": []
   },
   "outputs": [],
   "source": [
    "git log -n 1 HEAD"
   ]
  },
  {
   "cell_type": "markdown",
   "id": "22972f18-7440-4b2f-8070-a1230136c8d6",
   "metadata": {
    "tags": []
   },
   "source": [
    "### Список коммитов на которые указывал HEAD"
   ]
  },
  {
   "cell_type": "markdown",
   "id": "141affe5-0f8d-4ac8-b6b4-89aefc76cd5e",
   "metadata": {},
   "source": [
    "Git поддерживает список коммитов на которые указывал `HEAD` в виде стека, т.е. на вершите стэка находится текущий коммит. Этот стек можно посмотреть при помощи команды `git reflog`:"
   ]
  },
  {
   "cell_type": "code",
   "execution_count": null,
   "id": "3153c235-5961-468c-86ce-9ced36081609",
   "metadata": {
    "tags": []
   },
   "outputs": [],
   "source": [
    "git log -n 1 HEAD"
   ]
  },
  {
   "cell_type": "code",
   "execution_count": null,
   "id": "c8725f51-f9b6-4256-bd27-593ebd8380b1",
   "metadata": {
    "tags": []
   },
   "outputs": [],
   "source": [
    "git reflog -n 10"
   ]
  },
  {
   "cell_type": "markdown",
   "id": "50fab887-b570-4e5c-b181-cd73bd9a7734",
   "metadata": {},
   "source": [
    "Этот стэк позволяет быстро найти коммит, и изучить его при необходимости:"
   ]
  },
  {
   "cell_type": "code",
   "execution_count": null,
   "id": "898630af-1461-4460-a869-0618835579cf",
   "metadata": {
    "tags": []
   },
   "outputs": [],
   "source": [
    "git show HEAD@{7}"
   ]
  },
  {
   "cell_type": "markdown",
   "id": "08cb57f6-53a3-485b-aec9-3c7ee2e4918e",
   "metadata": {},
   "source": [
    "## Ссылка на родительский коммит"
   ]
  },
  {
   "cell_type": "markdown",
   "id": "6e0d0c7d-21b3-4a27-9dff-bbcc81ad6ab3",
   "metadata": {},
   "source": [
    "Коммиты в репозитории Git образуют ацикличный направленный граф, в котором каждый новый коммит указывает на предыдущий. Получение информации о родителе настолько частая операция, что в Git существует специальный символ для получения коммита родителя:"
   ]
  },
  {
   "cell_type": "code",
   "execution_count": null,
   "id": "2c98590d-da76-4cf4-9d87-9b65112cdd46",
   "metadata": {
    "tags": []
   },
   "outputs": [],
   "source": [
    "git log -n 2 HEAD --oneline"
   ]
  },
  {
   "cell_type": "code",
   "execution_count": null,
   "id": "8b2640a5-8aa2-4a23-a08b-4f57b36c9828",
   "metadata": {
    "tags": []
   },
   "outputs": [],
   "source": [
    "git show HEAD^ --stat"
   ]
  },
  {
   "cell_type": "markdown",
   "id": "135d84c2-de0e-4540-be03-566aa0a945ce",
   "metadata": {},
   "source": [
    "Символ `^` можно использовать с любым объектом который имеет нотацию ссылки на коммит: ветки, теги, HEAD"
   ]
  },
  {
   "cell_type": "code",
   "execution_count": null,
   "id": "05940989-1c37-414e-a2ff-bc30078fd4e8",
   "metadata": {
    "tags": []
   },
   "outputs": [],
   "source": [
    "git log -n 1 master^"
   ]
  },
  {
   "cell_type": "code",
   "execution_count": null,
   "id": "b85a2f78-ae60-4c6e-8cb3-618091308a81",
   "metadata": {
    "tags": []
   },
   "outputs": [],
   "source": [
    "git log -n 1 0.1.0^"
   ]
  },
  {
   "cell_type": "markdown",
   "id": "ac59a6b4-ed36-41ad-badc-84963236e046",
   "metadata": {},
   "source": [
    "При этом результат применения операции `^` так же является ссылкой на коммит, а значит к нему снова можно применить этот символ `^`:"
   ]
  },
  {
   "cell_type": "code",
   "execution_count": null,
   "id": "69656d85-d31a-46c5-836f-5ac5cf8d9a6e",
   "metadata": {
    "tags": []
   },
   "outputs": [],
   "source": [
    "git log -n 3 master"
   ]
  },
  {
   "cell_type": "code",
   "execution_count": null,
   "id": "6f9d78e0-8fb0-4735-aefa-aa906a374b62",
   "metadata": {
    "tags": []
   },
   "outputs": [],
   "source": [
    "git log -n 1 master^^"
   ]
  },
  {
   "cell_type": "code",
   "execution_count": null,
   "id": "be405235-57dc-47a6-a846-558a5cbccb8b",
   "metadata": {
    "tags": []
   },
   "outputs": [],
   "source": [
    "git log -n 1 HEAD^^^^^^"
   ]
  },
  {
   "cell_type": "markdown",
   "id": "efe28ae2-d72f-4248-bce7-5e7df5d535dd",
   "metadata": {
    "tags": []
   },
   "source": [
    "## Задание"
   ]
  },
  {
   "cell_type": "markdown",
   "id": "a15a767a-391e-4b52-86af-5c3e67430a19",
   "metadata": {},
   "source": [
    "1. Получить восьмой коммит с конца, на который когда-либо указывал `HEAD`;\n",
    "1. Получить третий родительский коммит для ветки `new-feature`."
   ]
  },
  {
   "cell_type": "code",
   "execution_count": null,
   "id": "8e3ddc1f-10c0-49e5-b346-845db995798c",
   "metadata": {},
   "outputs": [],
   "source": []
  }
 ],
 "metadata": {
  "kernelspec": {
   "display_name": "Bash",
   "language": "bash",
   "name": "bash"
  },
  "language_info": {
   "codemirror_mode": "shell",
   "file_extension": ".sh",
   "mimetype": "text/x-sh",
   "name": "bash"
  }
 },
 "nbformat": 4,
 "nbformat_minor": 5
}
