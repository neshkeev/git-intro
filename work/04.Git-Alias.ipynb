{
 "cells": [
  {
   "cell_type": "markdown",
   "id": "abe19f0d-35a5-419f-b0ef-92b8e7d2a0ec",
   "metadata": {},
   "source": [
    "# Основы работы с Git"
   ]
  },
  {
   "cell_type": "code",
   "execution_count": 11,
   "id": "9c536923-af0c-4bb6-9b4f-08189639d562",
   "metadata": {
    "tags": []
   },
   "outputs": [],
   "source": [
    "cd ~/repo"
   ]
  },
  {
   "cell_type": "markdown",
   "id": "7f7fccb1-3973-45f0-92db-582411ea0e92",
   "metadata": {
    "tags": []
   },
   "source": [
    "## Алиасы"
   ]
  },
  {
   "cell_type": "markdown",
   "id": "8238c90d-de58-4b41-ae7a-dfdded0f7ef3",
   "metadata": {},
   "source": [
    "Алиасы позволяют сократить длинные команды при вводе или назначить новое имя какой-то команде с некоторым набором ключей."
   ]
  },
  {
   "cell_type": "markdown",
   "id": "81e8ed8b-6b8f-49de-a793-4c452a50c293",
   "metadata": {
    "tags": []
   },
   "source": [
    "### Создание алиаса"
   ]
  },
  {
   "cell_type": "markdown",
   "id": "39b6d576-16d3-46af-b92b-6e3691af0203",
   "metadata": {
    "tags": []
   },
   "source": [
    "Команде `commit` можно задать аббревеатуру `co` для быстрого набора в терминале:"
   ]
  },
  {
   "cell_type": "code",
   "execution_count": 12,
   "id": "464e7213-0624-4c10-bae3-bde623369889",
   "metadata": {
    "tags": []
   },
   "outputs": [],
   "source": [
    "git config alias.co 'commit'"
   ]
  },
  {
   "cell_type": "markdown",
   "id": "5f6e9c71-ff2d-43f0-a3bd-3e08cf721874",
   "metadata": {},
   "source": [
    "Теперь можно использовать `co` вместо `commit`"
   ]
  },
  {
   "cell_type": "code",
   "execution_count": 13,
   "id": "7e0647fa-bd1d-4db3-95ce-62f2be8de78d",
   "metadata": {
    "tags": []
   },
   "outputs": [
    {
     "name": "stdout",
     "output_type": "stream",
     "text": [
      "index.html  README.md  styles.css\n"
     ]
    }
   ],
   "source": [
    "ls"
   ]
  },
  {
   "cell_type": "code",
   "execution_count": 14,
   "id": "822ea0f6-f6d3-4474-98ed-38c2edb6e5fa",
   "metadata": {
    "tags": []
   },
   "outputs": [],
   "source": [
    "echo 'Проверяю алиас `co`, который у меня используется вместо `commit`' >> README.md"
   ]
  },
  {
   "cell_type": "code",
   "execution_count": 15,
   "id": "f9553877-98e8-451e-bd28-e7f47d5c48c8",
   "metadata": {
    "tags": []
   },
   "outputs": [
    {
     "name": "stdout",
     "output_type": "stream",
     "text": [
      "On branch master\n",
      "Changes not staged for commit:\n",
      "  (use \"git add <file>...\" to update what will be committed)\n",
      "  (use \"git restore <file>...\" to discard changes in working directory)\n",
      "\tmodified:   README.md\n",
      "\n",
      "no changes added to commit (use \"git add\" and/or \"git commit -a\")\n"
     ]
    }
   ],
   "source": [
    "git status"
   ]
  },
  {
   "cell_type": "code",
   "execution_count": 16,
   "id": "0dde738a-cbcb-466c-aad8-d723a813da96",
   "metadata": {
    "tags": []
   },
   "outputs": [],
   "source": [
    "git add README.md"
   ]
  },
  {
   "cell_type": "code",
   "execution_count": 17,
   "id": "d9d8120f-9968-418b-9e21-c21d69d56b2b",
   "metadata": {
    "tags": []
   },
   "outputs": [
    {
     "name": "stdout",
     "output_type": "stream",
     "text": [
      "[master 1baad12] Добавить коммит при помощи алиаса co\n",
      " 1 file changed, 1 insertion(+)\n"
     ]
    }
   ],
   "source": [
    "git co -m \"Добавить коммит при помощи алиаса co\""
   ]
  },
  {
   "cell_type": "markdown",
   "id": "54daddf8-41be-423f-b44c-0ef04bc3a9e1",
   "metadata": {},
   "source": [
    "### Задание"
   ]
  },
  {
   "cell_type": "markdown",
   "id": "99ea1a2c-cfc1-4008-af8c-254781593f29",
   "metadata": {},
   "source": [
    "1. Добавить алиасы для:\n",
    "    - `status`\n",
    "    - `checkout`\n",
    "1. Проверить алиасы"
   ]
  },
  {
   "cell_type": "markdown",
   "id": "0f0ae289-448d-4f7e-8552-25744b8148e5",
   "metadata": {},
   "source": [
    "## Область видимости алиаса"
   ]
  },
  {
   "cell_type": "markdown",
   "id": "fd9459ea-484c-447c-94b2-787a1ea74b7b",
   "metadata": {
    "tags": []
   },
   "source": [
    "По умолчанию алиасы создаются только на уровне одного проекта. Их можно увидеть в файле `./.git/config`:"
   ]
  },
  {
   "cell_type": "code",
   "execution_count": 18,
   "id": "d9994469-a398-446a-b51e-37d3ccc039f9",
   "metadata": {
    "tags": []
   },
   "outputs": [
    {
     "name": "stdout",
     "output_type": "stream",
     "text": [
      "[core]\n",
      "\trepositoryformatversion = 0\n",
      "\tfilemode = true\n",
      "\tbare = false\n",
      "\tlogallrefupdates = true\n",
      "[alias]\n",
      "\tco = commit\n"
     ]
    }
   ],
   "source": [
    "cat ./.git/config"
   ]
  },
  {
   "cell_type": "markdown",
   "id": "47af7ae4-b2b6-4a80-bb5c-ba25dc3d4cf1",
   "metadata": {},
   "source": [
    "Так алиас не будет доступен при работе с другим проектом. Для того, чтобы создать алиас глобальным, необходимо указать ключ `--global` при создании алиаса:"
   ]
  },
  {
   "cell_type": "code",
   "execution_count": 19,
   "id": "170b753f-dbea-40bd-8dd6-1f15672ecd0b",
   "metadata": {
    "tags": []
   },
   "outputs": [],
   "source": [
    "git config --global alias.co 'commit'"
   ]
  },
  {
   "cell_type": "markdown",
   "id": "a82d941e-8e5e-4537-9648-3c8ceb3d1a2d",
   "metadata": {
    "tags": []
   },
   "source": [
    "Глобально алиасы хранятся в файле `\"${HOME}\"/.gitconfig`"
   ]
  },
  {
   "cell_type": "code",
   "execution_count": 20,
   "id": "9f39f6c7-bba3-4a69-a1bc-9b9bf972139f",
   "metadata": {
    "tags": []
   },
   "outputs": [
    {
     "name": "stdout",
     "output_type": "stream",
     "text": [
      "[user]\n",
      "\tname = Nikita Eshkeev\n",
      "\temail = neshkeev@yandex.ru\n",
      "[alias]\n",
      "\tco = commit\n"
     ]
    }
   ],
   "source": [
    "cat \"${HOME}\"/.gitconfig"
   ]
  },
  {
   "cell_type": "markdown",
   "id": "9827604c-2a54-4240-a3c8-f5272cd608ca",
   "metadata": {},
   "source": [
    "Глобальные алиасы доступны в любом проекте на данной машине. Обычно файл `\"${HOME}\"/.gitconfig` хранят на GitHub для того, чтобы можно было копировать этот файл на другие машины, для удобной работы с Git в любом месте. Например, мои алиасы можно посмотреть [тут](https://github.com/neshkeev/dotfiles/blob/master/gitconfig). Но я не рекомендую вам просто копировать их себе, т.к. вам могут быть удобны другие мнемоники. Поэтому рекомендую самостоятельно наполнять этот файл алиасами"
   ]
  },
  {
   "cell_type": "markdown",
   "id": "79d9094f-2a9e-461b-9d60-d077689a45bb",
   "metadata": {
    "tags": []
   },
   "source": [
    "### Задание"
   ]
  },
  {
   "cell_type": "markdown",
   "id": "0ec9d6ed-5944-462e-b956-6908508a1964",
   "metadata": {
    "tags": []
   },
   "source": [
    "1. Сделайте алиасы из предыдущего задания глобальными\n",
    "1. Подтвердите, что алиасы сохранились"
   ]
  }
 ],
 "metadata": {
  "kernelspec": {
   "display_name": "Bash",
   "language": "bash",
   "name": "bash"
  },
  "language_info": {
   "codemirror_mode": "shell",
   "file_extension": ".sh",
   "mimetype": "text/x-sh",
   "name": "bash"
  }
 },
 "nbformat": 4,
 "nbformat_minor": 5
}
