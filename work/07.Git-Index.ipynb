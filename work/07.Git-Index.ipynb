{
 "cells": [
  {
   "cell_type": "markdown",
   "id": "8176d389-745d-49aa-bd7e-82bc857f4647",
   "metadata": {},
   "source": [
    "# Основы работы с Git - Индекс"
   ]
  },
  {
   "cell_type": "code",
   "execution_count": null,
   "id": "50dbf9f1-7b05-4ea7-ae5e-8724e5af3a40",
   "metadata": {
    "tags": []
   },
   "outputs": [],
   "source": [
    "cd ~/repo"
   ]
  },
  {
   "cell_type": "markdown",
   "id": "292a5322-ac8d-4b47-ac1f-f79f0fb2dcd0",
   "metadata": {},
   "source": [
    "## Мотивация"
   ]
  },
  {
   "cell_type": "markdown",
   "id": "b5ca86d6-cb8a-41a9-aa99-cd9a17710a9f",
   "metadata": {},
   "source": [
    "Постоянная фиксация изменений позволяет отслеживать как менялся файл с течением времени. Но для того, чтобы зафиксировать изменения, их для начала необходимо подготовить: Git не требует, чтобы все измененные файлы были зафиксированы сразу. Программист готовит список изменений для фиксации при помощи индекса (index area), который еще называют стейджинг или подготовительное пространство (staging area). Подготовка списка изменений для фиксации выполняется при помощи команды `git add`, с которой мы уже частично знакомы."
   ]
  },
  {
   "cell_type": "markdown",
   "id": "90c5670b-9511-4a0a-8c4d-13e82b4c2576",
   "metadata": {},
   "source": [
    "### Добавление файла в индекс"
   ]
  },
  {
   "cell_type": "markdown",
   "id": "ac56ea68-329f-49b5-b878-68df73d70ef4",
   "metadata": {},
   "source": [
    "Каждый файл на файловой системе с точки зрения Git может находиться в двух статусах:\n",
    "\n",
    "1. Неотслеживаемый (untracked) - Git ничего не делает с этим файлом;\n",
    "1. Отслеживаемый (tracked) - файл полностью управляется Git.\n",
    "\n",
    "В свою очередь отслеживаемые файлы могут находиться в трех состояниях:\n",
    "\n",
    "1. Измененный (modified) - локальный файл имеет отличия от зафиксированной его копии;\n",
    "1. Готовый (staged, indexed) - локальный файл с изменениями готов быть зафиксирован в репозитории;\n",
    "1. Зафиксированный, чистый (clean) - состояние локального файла совпадает с зафиксированной копией файла."
   ]
  },
  {
   "cell_type": "markdown",
   "id": "b8feddfd-5617-473d-ad73-51530c4c0033",
   "metadata": {},
   "source": [
    "Изначально новый файл является неотслеживаемым:"
   ]
  },
  {
   "cell_type": "code",
   "execution_count": null,
   "id": "0b7e976f-4566-4372-afe5-00a7c24f7e38",
   "metadata": {
    "tags": []
   },
   "outputs": [],
   "source": [
    "echo \"Проект не содержит никаких дополнительных зависимостей\" > NOTICE.txt"
   ]
  },
  {
   "cell_type": "code",
   "execution_count": null,
   "id": "b15f876b-92a8-42c3-96c0-fc322afa5d8a",
   "metadata": {
    "tags": []
   },
   "outputs": [],
   "source": [
    "git status"
   ]
  },
  {
   "cell_type": "markdown",
   "id": "e0ba4b24-26e9-4ec5-b155-2a021bdf4edc",
   "metadata": {},
   "source": [
    "Чтобы сделать файл отслеживаемым, необходимо добавить его в индекс:"
   ]
  },
  {
   "cell_type": "code",
   "execution_count": null,
   "id": "8f00827b-3bd2-493e-a65d-747a1af45e30",
   "metadata": {
    "tags": []
   },
   "outputs": [],
   "source": [
    "git add NOTICE.txt"
   ]
  },
  {
   "cell_type": "code",
   "execution_count": null,
   "id": "0db100c9-e5ff-4b73-94af-8011af037c0d",
   "metadata": {
    "tags": []
   },
   "outputs": [],
   "source": [
    "git status"
   ]
  },
  {
   "cell_type": "markdown",
   "id": "463e1a22-1cda-408a-822f-6e3021600357",
   "metadata": {},
   "source": [
    "Файл уже готов к фиксации, но нет необходимости выполнять фиксацию сразу. С файлом можно продолжать работать, например, можно добавить информацию о времени старта проекта:"
   ]
  },
  {
   "cell_type": "code",
   "execution_count": null,
   "id": "46606091-30a8-47f5-88fe-f0ed8230d3f8",
   "metadata": {
    "tags": []
   },
   "outputs": [],
   "source": [
    "echo \"Проект был начат $(date +%D) для исследования возможностей самой мощной системы контроля версий Git\" >> NOTICE.txt"
   ]
  },
  {
   "cell_type": "markdown",
   "id": "5c056dce-9341-4192-8325-67c4bca1609f",
   "metadata": {},
   "source": [
    "Файл был изменен, самое время посмотреть статус репозитория:"
   ]
  },
  {
   "cell_type": "code",
   "execution_count": null,
   "id": "16070789-8888-4a0c-b2a9-9f94aebf6793",
   "metadata": {
    "tags": []
   },
   "outputs": [],
   "source": [
    "git status"
   ]
  },
  {
   "cell_type": "markdown",
   "id": "f7f68059-a003-4ebc-aa0b-2b221d172cdc",
   "metadata": {
    "tags": []
   },
   "source": [
    "Один и тот же файл отображается два раза:\n",
    "\n",
    "1. `new file:   NOTICE.txt` - версия файла, которая готова к фиксации;\n",
    "1. `modified:   NOTICE.txt` - рабочая версия файла, которая отличается от готовой к фиксации версии файла."
   ]
  },
  {
   "cell_type": "markdown",
   "id": "acd63e33-8ea2-4ebe-947f-7f003161dcec",
   "metadata": {},
   "source": [
    "Самое время посмотреть на изменения в файле:"
   ]
  },
  {
   "cell_type": "code",
   "execution_count": null,
   "id": "bfbb75b8-e06b-4f2d-9340-7a5ed7670803",
   "metadata": {
    "tags": []
   },
   "outputs": [],
   "source": [
    "git diff NOTICE.txt"
   ]
  },
  {
   "cell_type": "markdown",
   "id": "b42b582a-75fa-44fc-b312-f4d19566ff2b",
   "metadata": {},
   "source": [
    "Знак плюс (`+`) в начале строки сигнализирует о том, что эта строка была добавлена. Но почему только одна строка имеет знак плюс? Были добавлены две строки. Все потому, что Git четко разделяет изменения, которые готовы к фиксации (находятся в индексе) и изменения, которые не готовы к фиксации."
   ]
  },
  {
   "cell_type": "markdown",
   "id": "035168f7-65d1-46cf-9c63-ea55d8de8f8f",
   "metadata": {},
   "source": [
    "Чтобы посмотреть изменения которые готовы к фиксации, необходимо передать ключ `--cached` команде `git diff`:"
   ]
  },
  {
   "cell_type": "code",
   "execution_count": null,
   "id": "6bb0ff56-039c-4563-9f3c-a85ef303d0e8",
   "metadata": {
    "tags": []
   },
   "outputs": [],
   "source": [
    "git diff --cached"
   ]
  },
  {
   "cell_type": "markdown",
   "id": "d4bbe20d-1193-4df4-b014-3322660b4e75",
   "metadata": {
    "tags": []
   },
   "source": [
    "Можно заметить, что к фиксации готова всего одна строка, хотя и в самом файле находятся две строки."
   ]
  },
  {
   "cell_type": "markdown",
   "id": "afe6398a-e308-4133-aec7-ef94b4328379",
   "metadata": {
    "tags": []
   },
   "source": [
    "Удалим первую строчку в файле `NOTICE.txt`:"
   ]
  },
  {
   "cell_type": "code",
   "execution_count": null,
   "id": "25906a01-9f7b-4d94-94ad-587f0652496b",
   "metadata": {
    "tags": []
   },
   "outputs": [],
   "source": [
    "cat NOTICE.txt"
   ]
  },
  {
   "cell_type": "code",
   "execution_count": null,
   "id": "950cd6f2-fe4c-456f-b744-8d62a251bd9c",
   "metadata": {
    "tags": []
   },
   "outputs": [],
   "source": [
    "sed -i '1d' NOTICE.txt"
   ]
  },
  {
   "cell_type": "code",
   "execution_count": null,
   "id": "4da5c989-3130-4743-9289-19dd2c2839c5",
   "metadata": {
    "tags": []
   },
   "outputs": [],
   "source": [
    "cat NOTICE.txt"
   ]
  },
  {
   "cell_type": "markdown",
   "id": "96e36dad-1e10-47f1-bdc1-793dc282ea90",
   "metadata": {
    "tags": []
   },
   "source": [
    "Проверим статус репозитория:"
   ]
  },
  {
   "cell_type": "code",
   "execution_count": null,
   "id": "d4cb078d-3d80-4b4d-9e60-e8c9052f1985",
   "metadata": {
    "tags": []
   },
   "outputs": [],
   "source": [
    "git status"
   ]
  },
  {
   "cell_type": "markdown",
   "id": "62bf1fe0-83b2-4425-aeda-5510c3467472",
   "metadata": {},
   "source": [
    "По прежнему можно видеть, что файл `NOTICE.txt` отображается два раза. Посмотрим на изменения, которые готовы к фиксации:"
   ]
  },
  {
   "cell_type": "code",
   "execution_count": null,
   "id": "af5b861c-4ae2-49b6-9dc2-e1de59f043c5",
   "metadata": {
    "tags": []
   },
   "outputs": [],
   "source": [
    "git diff --cached"
   ]
  },
  {
   "cell_type": "markdown",
   "id": "bc005199-1f06-4473-903f-a3631c7fe82b",
   "metadata": {
    "tags": []
   },
   "source": [
    "Не смотря на то, что первая строка была физически удалена из файла, версия файла с этой строкой все еще готова к фиксации!"
   ]
  },
  {
   "cell_type": "markdown",
   "id": "f2694fce-0ab6-4e62-a313-28b2115a5256",
   "metadata": {},
   "source": [
    "Посмотрим изменения в рабочей версии файла:"
   ]
  },
  {
   "cell_type": "code",
   "execution_count": null,
   "id": "22534a6b-ca84-43a9-838d-b3d8c69b0c0f",
   "metadata": {
    "tags": []
   },
   "outputs": [],
   "source": [
    "git diff"
   ]
  },
  {
   "cell_type": "markdown",
   "id": "798b17e2-f53a-46b7-a4ae-4b943fd9b294",
   "metadata": {
    "tags": []
   },
   "source": [
    "Знак минус (`-`) в начале строки означает, что строка была удалена из файла"
   ]
  },
  {
   "cell_type": "markdown",
   "id": "e6c1b4e8-8d50-489c-bb78-f835a23b3a13",
   "metadata": {
    "tags": []
   },
   "source": [
    "Зафиксируем изменения:"
   ]
  },
  {
   "cell_type": "code",
   "execution_count": null,
   "id": "b73e46f5-1f1f-487e-9299-e9a8ad916b0d",
   "metadata": {
    "tags": []
   },
   "outputs": [],
   "source": [
    "git commit -m \"Добавить файл NOTICE.txt\""
   ]
  },
  {
   "cell_type": "markdown",
   "id": "c7b811f8-b1c9-4086-83d2-31a827268004",
   "metadata": {},
   "source": [
    "Проверим статус рабочего каталога:"
   ]
  },
  {
   "cell_type": "code",
   "execution_count": null,
   "id": "aa82dd31-cc54-434b-8339-c4fc26dee2c9",
   "metadata": {
    "tags": []
   },
   "outputs": [],
   "source": [
    "git status"
   ]
  },
  {
   "cell_type": "markdown",
   "id": "f02bac60-760d-4597-aff4-fa5efa2e6bb0",
   "metadata": {},
   "source": [
    "Не смотря на то, что изменения в файле были зафиксированы, файл по прежнему имеет изменения с точки зрения Git:"
   ]
  },
  {
   "cell_type": "code",
   "execution_count": null,
   "id": "be6ed3bc-5469-456d-93e2-344429f78726",
   "metadata": {
    "tags": []
   },
   "outputs": [],
   "source": [
    "git diff"
   ]
  },
  {
   "cell_type": "markdown",
   "id": "76746a8c-15e2-46a8-be35-228abd96c948",
   "metadata": {
    "tags": []
   },
   "source": [
    "### Добавление множества файл в индекс"
   ]
  },
  {
   "cell_type": "markdown",
   "id": "0fe90296-0e58-4846-8cf4-577b92a97264",
   "metadata": {},
   "source": [
    "Команда `git add` может принимать любое колличество файлов в виде аргументов:"
   ]
  },
  {
   "cell_type": "code",
   "execution_count": null,
   "id": "945f3b68-8eea-4b7c-b6b6-3e78bdd58fcb",
   "metadata": {
    "tags": []
   },
   "outputs": [],
   "source": [
    "touch first second"
   ]
  },
  {
   "cell_type": "code",
   "execution_count": null,
   "id": "82f64588-dcfb-46b6-a9a0-159ef75cc55b",
   "metadata": {
    "tags": []
   },
   "outputs": [],
   "source": [
    "git add NOTICE.txt first second"
   ]
  },
  {
   "cell_type": "code",
   "execution_count": null,
   "id": "a9682cbb-8937-4ab8-a42c-8512575e59ac",
   "metadata": {
    "tags": []
   },
   "outputs": [],
   "source": [
    "git status"
   ]
  },
  {
   "cell_type": "markdown",
   "id": "c8f4d200-66a4-46e6-a621-551246c51fc1",
   "metadata": {
    "tags": []
   },
   "source": [
    "### Удаление файла из индекса"
   ]
  },
  {
   "cell_type": "markdown",
   "id": "a4c9a9c8-a915-49ea-9533-2bf883b3e94e",
   "metadata": {},
   "source": [
    "В случае, если необходимо убрать файл из индекса, можно удалить файл из индекса, чтобы не фиксировать его изменения:"
   ]
  },
  {
   "cell_type": "code",
   "execution_count": null,
   "id": "c231a623-8c60-4374-b88c-2dec6b1ab470",
   "metadata": {
    "tags": []
   },
   "outputs": [],
   "source": [
    "git reset HEAD -- NOTICE.txt"
   ]
  },
  {
   "cell_type": "code",
   "execution_count": null,
   "id": "be3fa1ce-495f-43ba-a6ab-a317e3a9efbd",
   "metadata": {
    "tags": []
   },
   "outputs": [],
   "source": [
    "git status"
   ]
  },
  {
   "cell_type": "code",
   "execution_count": null,
   "id": "4551c42a-5050-40ca-8862-9dcf10afe366",
   "metadata": {
    "tags": []
   },
   "outputs": [],
   "source": [
    "cat NOTICE.txt"
   ]
  },
  {
   "cell_type": "code",
   "execution_count": null,
   "id": "017e8274-2eff-4a7c-b3b2-96ce8bf6ef81",
   "metadata": {
    "tags": []
   },
   "outputs": [],
   "source": [
    "git diff NOTICE.txt"
   ]
  },
  {
   "cell_type": "markdown",
   "id": "85650267-91a5-4d49-8297-c52ca3b50647",
   "metadata": {},
   "source": [
    "Можно удалить все файлы из индекса:"
   ]
  },
  {
   "cell_type": "code",
   "execution_count": null,
   "id": "d1db111a-84bb-454f-8cf8-4edc5ec8e1b2",
   "metadata": {
    "tags": []
   },
   "outputs": [],
   "source": [
    "git reset HEAD"
   ]
  },
  {
   "cell_type": "code",
   "execution_count": null,
   "id": "3429a3dd-cf6a-4fc4-8260-b041e51ae9dd",
   "metadata": {
    "tags": []
   },
   "outputs": [],
   "source": [
    "git status"
   ]
  },
  {
   "cell_type": "markdown",
   "id": "544c4aaf-be77-46b8-9b89-46c07fafd5df",
   "metadata": {},
   "source": [
    "Заметьте, что новые файлы `first` и `second` вернулись в раздел неотслеживаемых файлов."
   ]
  },
  {
   "cell_type": "markdown",
   "id": "d1baeed6-7276-4c72-83b6-a5cb6bc8766b",
   "metadata": {},
   "source": [
    "### Добавление части содержимого файла в индекс"
   ]
  },
  {
   "cell_type": "markdown",
   "id": "db3998f4-c5f0-45fa-a1af-ad08836d1643",
   "metadata": {},
   "source": [
    "Используя ключ `-p` команды `git add` можно добавить часть содержимого файла в индекс. Для демонстрации выполните:\n",
    "\n",
    "1. `docker compose exec -it manager bash`\n",
    "1. `cd ~/repo`\n",
    "1. `git add -p NOTICE.txt`\n",
    "\n",
    "и следуйте подсказкам на экране"
   ]
  },
  {
   "cell_type": "markdown",
   "id": "0acd72a3-b5d6-4be2-821d-4cd12aaf4fdd",
   "metadata": {
    "tags": []
   },
   "source": [
    "### Интерактивное добавление файлов в индекс"
   ]
  },
  {
   "cell_type": "markdown",
   "id": "1249ebf3-a216-4c8c-a143-ae4785d347a1",
   "metadata": {
    "tags": []
   },
   "source": [
    "Используя ключ `-i` команды `git add` можно добавить часть файлов в индекс. Для демонстрации выполните:\n",
    "\n",
    "1. `docker compose exec -it manager bash`\n",
    "1. `cd ~/repo`\n",
    "1. `git add -i`\n",
    "\n",
    "и следуйте подсказкам на экране"
   ]
  },
  {
   "cell_type": "markdown",
   "id": "37d84516-0971-4456-b36d-75636049df8b",
   "metadata": {
    "tags": []
   },
   "source": [
    "### Добавить все файлы в индекс"
   ]
  },
  {
   "cell_type": "markdown",
   "id": "ebd4b164-a8a9-47f2-9fc5-8bf0edf60afb",
   "metadata": {},
   "source": [
    "Если в качестве параметра команде `git add` передать директорию, то все файлы с изменениями из нее (включая вложенные) будут добавлены в индекс. Например, директория `.` имеет особый смысл на файловой системе - текущая директория, а директория `..` означает родительскую директорию. Чтобы добавить все файлы с изменениями в индекс, можно передать `.` в качестве параметра команде `git add`:"
   ]
  },
  {
   "cell_type": "code",
   "execution_count": null,
   "id": "9ebf8a74-dab8-4c2f-aea6-9ab11da048e2",
   "metadata": {
    "tags": []
   },
   "outputs": [],
   "source": [
    "git add ."
   ]
  },
  {
   "cell_type": "code",
   "execution_count": null,
   "id": "25b2ab54-cc09-464e-9b28-f0574b81b03d",
   "metadata": {
    "tags": []
   },
   "outputs": [],
   "source": [
    "git status"
   ]
  },
  {
   "cell_type": "markdown",
   "id": "e1322e4a-966b-42f6-8f46-a0c579614d91",
   "metadata": {},
   "source": [
    "Тот же эффект можно достичь и при использовании ключа `-a`/`--all`:"
   ]
  },
  {
   "cell_type": "code",
   "execution_count": null,
   "id": "237d9a07-743e-4989-a558-00ba57d96cd5",
   "metadata": {
    "tags": []
   },
   "outputs": [],
   "source": [
    "git reset HEAD"
   ]
  },
  {
   "cell_type": "code",
   "execution_count": null,
   "id": "c2baca78-2452-4201-b5cd-08ebad4eccfd",
   "metadata": {
    "tags": []
   },
   "outputs": [],
   "source": [
    "git status"
   ]
  },
  {
   "cell_type": "code",
   "execution_count": null,
   "id": "7b6a6074-b329-4df5-af20-e8867a936a1a",
   "metadata": {
    "tags": []
   },
   "outputs": [],
   "source": [
    "git add --all"
   ]
  },
  {
   "cell_type": "code",
   "execution_count": null,
   "id": "434cd5da-400c-466a-a237-834688b7ad0b",
   "metadata": {
    "tags": []
   },
   "outputs": [],
   "source": [
    "git status"
   ]
  },
  {
   "cell_type": "markdown",
   "id": "f3a4dd58-beb3-48e9-b663-e5262faf5250",
   "metadata": {},
   "source": [
    "Фиксируем изменения:"
   ]
  },
  {
   "cell_type": "code",
   "execution_count": null,
   "id": "5cea7cc1-ceab-434d-a3a7-5d9266525b02",
   "metadata": {
    "tags": []
   },
   "outputs": [],
   "source": [
    "git commit -m \"Зафиксировать изменения после git add --all\""
   ]
  },
  {
   "cell_type": "markdown",
   "id": "fee95f34-d328-47c2-8056-38e51daa9d51",
   "metadata": {
    "tags": []
   },
   "source": [
    "## Задание"
   ]
  },
  {
   "cell_type": "markdown",
   "id": "99bd1324-8c16-4c30-83cf-e6aa0a0a0580",
   "metadata": {},
   "source": [
    "1. Добавить информацию о текущем городе в `NOTICE.txt`;\n",
    "1. Добавить описание команды `git add` в новый файл `doc/git-add-help.txt` (новая директория);\n",
    "1. Добавить описание команды `git status` в новый файл `doc/git-status-help.txt` (новая директория);\n",
    "1. Добавить `NOTICE.txt` в индекс;\n",
    "1. Добавить директорию `doc/` в индекс;\n",
    "1. Создать новую директорию `new_dir`;\n",
    "1. Что происходит при добавлении `new_dir` в индекс?\n",
    "1. Убрать из индекса `doc/git-status-help.txt`;\n",
    "1. Добавить информацию об авторе в `NOTICE.txt`;\n",
    "1. Выполнить фиксацию всех изменений в одном коммите."
   ]
  },
  {
   "cell_type": "markdown",
   "id": "5d63dce4-2e87-4377-bfe8-16ac43b5233d",
   "metadata": {},
   "source": [
    "## Команда `git cherry-pick`"
   ]
  },
  {
   "cell_type": "markdown",
   "id": "c04bb308-a1b3-4aef-b43e-09dfd5ec92a7",
   "metadata": {},
   "source": [
    "Команда `git cherry-pick` позволяет скопировать коммит из одной ветки, в другую."
   ]
  },
  {
   "cell_type": "code",
   "execution_count": null,
   "id": "bd0ea4d4-04a8-49eb-b601-c37d275d987f",
   "metadata": {
    "tags": []
   },
   "outputs": [],
   "source": [
    "git checkout -b cherry-pick-demo master"
   ]
  },
  {
   "cell_type": "code",
   "execution_count": null,
   "id": "9a291593-5fcb-4114-886d-fc48849c6dd2",
   "metadata": {
    "tags": []
   },
   "outputs": [],
   "source": [
    "echo \"Эта строка появится в коммите в ветке master через cherry-pick\" > cherry-pick.txt"
   ]
  },
  {
   "cell_type": "code",
   "execution_count": null,
   "id": "7d5b7c3f-e4f0-473b-bf02-d69c7486596a",
   "metadata": {
    "tags": []
   },
   "outputs": [],
   "source": [
    "git add cherry-pick.txt && git commit -m \"Добавить cherry-pick.txt\""
   ]
  },
  {
   "cell_type": "code",
   "execution_count": null,
   "id": "def66f6d-5987-454e-be6f-96ff06bc9b8e",
   "metadata": {
    "tags": []
   },
   "outputs": [],
   "source": [
    "echo \"Эта строка появится в коммите в ветке master через cherry-pick\" > cherry-pick2.txt"
   ]
  },
  {
   "cell_type": "code",
   "execution_count": null,
   "id": "8a2fb2a2-fcab-42b9-bf89-21f053ea1940",
   "metadata": {
    "tags": []
   },
   "outputs": [],
   "source": [
    "git add cherry-pick2.txt && git commit -m \"Добавить cherry-pick2.txt\""
   ]
  },
  {
   "cell_type": "code",
   "execution_count": null,
   "id": "693f2f82-fb61-4753-aec8-88bb5b219ac3",
   "metadata": {
    "tags": []
   },
   "outputs": [],
   "source": [
    "git log -n 2 cherry-pick-demo"
   ]
  },
  {
   "cell_type": "code",
   "execution_count": null,
   "id": "13ab403f-95cb-437e-b694-3bdad15046dc",
   "metadata": {
    "tags": []
   },
   "outputs": [],
   "source": [
    "git checkout master"
   ]
  },
  {
   "cell_type": "code",
   "execution_count": null,
   "id": "2e504dc2-bd1e-4de8-bb46-4498ef116bae",
   "metadata": {
    "tags": []
   },
   "outputs": [],
   "source": [
    "git cherry-pick cherry-pick-demo"
   ]
  },
  {
   "cell_type": "code",
   "execution_count": null,
   "id": "be69b382-cfe2-472f-96e3-9d5f8dd84784",
   "metadata": {
    "tags": []
   },
   "outputs": [],
   "source": [
    "git log -n 2 master"
   ]
  },
  {
   "cell_type": "markdown",
   "id": "75466baa-897b-47c2-bcb4-8fb6e2da5f06",
   "metadata": {},
   "source": [
    "Команда `git cherry-pick` в отличии от `git merge` выполняет копирование только одно коммита за раз. Поэтому необходимо выполнять команду `git cherry-pick` столько раз, сколько коммитов необходимо скопировать. При этом для каждого скопированного коммита каждый раз физически создается новый коммит."
   ]
  },
  {
   "cell_type": "code",
   "execution_count": null,
   "id": "da7ad486-f2c6-4770-9522-473212b65364",
   "metadata": {
    "tags": []
   },
   "outputs": [],
   "source": [
    "git cherry-pick cherry-pick-demo^"
   ]
  },
  {
   "cell_type": "markdown",
   "id": "8cac7de5-cd3f-41d7-a8d8-599cc303ce6d",
   "metadata": {
    "tags": []
   },
   "source": [
    "Символ `^` означает ссылку на родительский (предыдущий) коммит"
   ]
  },
  {
   "cell_type": "code",
   "execution_count": null,
   "id": "99c3b51a-fc55-44cf-a198-8d99cc6e002b",
   "metadata": {
    "tags": []
   },
   "outputs": [],
   "source": [
    "git log -n 2 master"
   ]
  },
  {
   "cell_type": "code",
   "execution_count": null,
   "id": "8c5b4d40-4743-4793-9045-9ae55b10073d",
   "metadata": {
    "tags": []
   },
   "outputs": [],
   "source": [
    "cat cherry-pick.txt"
   ]
  },
  {
   "cell_type": "code",
   "execution_count": null,
   "id": "44b0be3b-a912-4ce0-b6b4-af90c75b737f",
   "metadata": {
    "tags": []
   },
   "outputs": [],
   "source": [
    "cat cherry-pick2.txt"
   ]
  },
  {
   "cell_type": "code",
   "execution_count": null,
   "id": "a7070845-f0be-476f-82ec-b321608d263d",
   "metadata": {
    "tags": []
   },
   "outputs": [],
   "source": [
    "git branch -D cherry-pick-demo"
   ]
  },
  {
   "cell_type": "markdown",
   "id": "83b855dd-dab7-4bab-b1db-a9122ce7e628",
   "metadata": {
    "tags": []
   },
   "source": [
    "## Команда `git revert`"
   ]
  },
  {
   "cell_type": "markdown",
   "id": "ed205042-64e1-4ac9-bbe6-7c814e78f814",
   "metadata": {},
   "source": [
    "Удалять коммиты можно при помощи команды `git reset`, при этом коммиты физически не удаляются, ветка просто начинает указывать на другой коммит. При работе в команде такой трюк не подойдет, т.к. у каждого члена команды на компьютере находится своя копия репозитория, и вам необходимо попросить каждого из них выполнить `git reset`, что не всегда возмжно. В случае если нужно удалить изменения, которые были добавлены в некотором коммите, можно применить обратный патч: git проанализирует коммит, увидит какие строки были добавлены, какие были удалены и автоматически сгенерирует обратные изменения."
   ]
  },
  {
   "cell_type": "code",
   "execution_count": null,
   "id": "93348578-35eb-4d22-86a1-16932a26f9df",
   "metadata": {
    "tags": []
   },
   "outputs": [],
   "source": [
    "git checkout -b revert-demo master"
   ]
  },
  {
   "cell_type": "code",
   "execution_count": null,
   "id": "618a2479-73ca-4bf3-a7d4-bfa7cb7af9bf",
   "metadata": {
    "tags": []
   },
   "outputs": [],
   "source": [
    "git log -n 2 revert-demo"
   ]
  },
  {
   "cell_type": "code",
   "execution_count": null,
   "id": "384bb879-e475-4403-a389-8110d63b44f2",
   "metadata": {
    "tags": []
   },
   "outputs": [],
   "source": [
    "git show HEAD^"
   ]
  },
  {
   "cell_type": "code",
   "execution_count": null,
   "id": "17679683-ddf9-4344-ba8e-498a0d482b8f",
   "metadata": {
    "tags": []
   },
   "outputs": [],
   "source": [
    "git revert --no-edit HEAD^"
   ]
  },
  {
   "cell_type": "code",
   "execution_count": null,
   "id": "2788d124-3b39-4c22-b4ec-71d7205cd3c4",
   "metadata": {
    "tags": []
   },
   "outputs": [],
   "source": [
    "git show"
   ]
  },
  {
   "cell_type": "code",
   "execution_count": null,
   "id": "85ea5ee6-8f5f-4923-aae0-d0567b3c80e6",
   "metadata": {
    "tags": []
   },
   "outputs": [],
   "source": [
    "git log -n 3 revert-demo"
   ]
  },
  {
   "cell_type": "code",
   "execution_count": null,
   "id": "e9249544-9a47-4611-afc3-13a54a70e8be",
   "metadata": {
    "tags": []
   },
   "outputs": [],
   "source": [
    "git checkout master"
   ]
  },
  {
   "cell_type": "code",
   "execution_count": null,
   "id": "57dce66c-7c7b-48bf-8597-000d73660c2b",
   "metadata": {
    "tags": []
   },
   "outputs": [],
   "source": [
    "git branch -D revert-demo"
   ]
  },
  {
   "cell_type": "code",
   "execution_count": null,
   "id": "6085b74b-927f-4c53-be07-56eeb954d445",
   "metadata": {},
   "outputs": [],
   "source": []
  }
 ],
 "metadata": {
  "kernelspec": {
   "display_name": "Bash",
   "language": "bash",
   "name": "bash"
  },
  "language_info": {
   "codemirror_mode": "shell",
   "file_extension": ".sh",
   "mimetype": "text/x-sh",
   "name": "bash"
  }
 },
 "nbformat": 4,
 "nbformat_minor": 5
}
