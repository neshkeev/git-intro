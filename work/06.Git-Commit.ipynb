{
 "cells": [
  {
   "cell_type": "markdown",
   "id": "8176d389-745d-49aa-bd7e-82bc857f4647",
   "metadata": {},
   "source": [
    "# Основы работы с Git - Фиксация изменений (Commit)"
   ]
  },
  {
   "cell_type": "code",
   "execution_count": null,
   "id": "50dbf9f1-7b05-4ea7-ae5e-8724e5af3a40",
   "metadata": {
    "tags": []
   },
   "outputs": [],
   "source": [
    "cd ~/repo"
   ]
  },
  {
   "cell_type": "code",
   "execution_count": null,
   "id": "30179b83-27ed-44a1-ab2c-8ac79e7340c3",
   "metadata": {},
   "outputs": [],
   "source": [
    "rm -rf ~/repo/.ipynb_checkpoints"
   ]
  },
  {
   "cell_type": "markdown",
   "id": "292a5322-ac8d-4b47-ac1f-f79f0fb2dcd0",
   "metadata": {},
   "source": [
    "## Мотивация"
   ]
  },
  {
   "cell_type": "markdown",
   "id": "b5ca86d6-cb8a-41a9-aa99-cd9a17710a9f",
   "metadata": {},
   "source": [
    "Самая важная функция Git - это история изменений. Необходимо ответственно подходить к процессу фиксации изменений, чтобы в будущем можно было легко понять какую ценность несет конкретная запись в истории. Фиксации изменений обычно называют коммитами (от английского слова `commit`). Мы уже частично познакомились с этой операцией, далее разберем ее детальнее."
   ]
  },
  {
   "cell_type": "markdown",
   "id": "90c5670b-9511-4a0a-8c4d-13e82b4c2576",
   "metadata": {},
   "source": [
    "### Стандатный процесс внесения изменений"
   ]
  },
  {
   "cell_type": "markdown",
   "id": "ac56ea68-329f-49b5-b878-68df73d70ef4",
   "metadata": {},
   "source": [
    "Каждый файл на файловой системе с точки зрения Git может находиться в двух статусах:\n",
    "\n",
    "1. Неотслеживаемый (untracked) - Git ничего не делает с этим файлом;\n",
    "1. Отслеживаемый (tracked) - файл полностью управляется Git.\n",
    "\n",
    "В свою очередь отслеживаемые файлы могут находиться в трех состояниях:\n",
    "\n",
    "1. Измененный (modified) - локальный файл имеет отличия от зафиксированной его копии;\n",
    "1. Готовый (staged, indexed) - локальный файл с изменениями готов быть зафиксирован в репозитории;\n",
    "1. Зафиксированный, чистый (clean) - состояние локального файла совпадает с зафиксированной копией файла."
   ]
  },
  {
   "cell_type": "markdown",
   "id": "b8feddfd-5617-473d-ad73-51530c4c0033",
   "metadata": {},
   "source": [
    "Изначально новый файл является неотслеживаемым:"
   ]
  },
  {
   "cell_type": "code",
   "execution_count": null,
   "id": "0b7e976f-4566-4372-afe5-00a7c24f7e38",
   "metadata": {
    "tags": []
   },
   "outputs": [],
   "source": [
    "echo 0.0.1 > version.txt"
   ]
  },
  {
   "cell_type": "code",
   "execution_count": null,
   "id": "b15f876b-92a8-42c3-96c0-fc322afa5d8a",
   "metadata": {
    "tags": []
   },
   "outputs": [],
   "source": [
    "git status"
   ]
  },
  {
   "cell_type": "markdown",
   "id": "e0ba4b24-26e9-4ec5-b155-2a021bdf4edc",
   "metadata": {},
   "source": [
    "Чтобы сделать файл отслеживаемым, необходимо выполнить команду:"
   ]
  },
  {
   "cell_type": "code",
   "execution_count": null,
   "id": "8f00827b-3bd2-493e-a65d-747a1af45e30",
   "metadata": {
    "tags": []
   },
   "outputs": [],
   "source": [
    "git add version.txt"
   ]
  },
  {
   "cell_type": "code",
   "execution_count": null,
   "id": "0db100c9-e5ff-4b73-94af-8011af037c0d",
   "metadata": {
    "tags": []
   },
   "outputs": [],
   "source": [
    "git status"
   ]
  },
  {
   "cell_type": "markdown",
   "id": "463e1a22-1cda-408a-822f-6e3021600357",
   "metadata": {},
   "source": [
    "Файл готов к фиксации. Фиксируем:"
   ]
  },
  {
   "cell_type": "code",
   "execution_count": null,
   "id": "c42fd56c-eb41-4df9-82e9-b5cc643b1aaa",
   "metadata": {
    "tags": []
   },
   "outputs": [],
   "source": [
    "git commit -m \"Добавить version.txt\""
   ]
  },
  {
   "cell_type": "markdown",
   "id": "9009930d-a449-40c8-818b-1a7bb95e6e3f",
   "metadata": {},
   "source": [
    "Ключ `-m` в команде `git commit` позволяет записать сообщение при фиксации изменения. Далее это сообщение можно будет увидеть, просматривая историю изменений:"
   ]
  },
  {
   "cell_type": "code",
   "execution_count": null,
   "id": "94a81a5f-89fe-458e-94c4-c64479fd49b5",
   "metadata": {},
   "outputs": [],
   "source": [
    "git log -n 1"
   ]
  },
  {
   "cell_type": "markdown",
   "id": "327528a3-2b7b-447e-9a80-4da893266bec",
   "metadata": {
    "tags": []
   },
   "source": [
    "### Объединение команд `git add` и `git commit`"
   ]
  },
  {
   "cell_type": "markdown",
   "id": "5f04b065-de2b-491e-8c72-67a91c4d95e6",
   "metadata": {},
   "source": [
    "Команды `git add` и `git commit` часто идут одна за другой, поэтому используя ключ `-a` для команды `git commit` можно объединить их:"
   ]
  },
  {
   "cell_type": "code",
   "execution_count": null,
   "id": "19d48588-c9d5-404f-8a1f-b345ec138b41",
   "metadata": {
    "tags": []
   },
   "outputs": [],
   "source": [
    "echo 0.0.2 > version.txt"
   ]
  },
  {
   "cell_type": "code",
   "execution_count": null,
   "id": "709b6f68-5eeb-40aa-a34f-9b5b0fb8d5e3",
   "metadata": {
    "tags": []
   },
   "outputs": [],
   "source": [
    "git status"
   ]
  },
  {
   "cell_type": "code",
   "execution_count": null,
   "id": "c9d4c92c-5ec4-41ea-89db-7970591afe9b",
   "metadata": {
    "tags": []
   },
   "outputs": [],
   "source": [
    "git diff"
   ]
  },
  {
   "cell_type": "code",
   "execution_count": null,
   "id": "ee942a4e-0ac6-4396-ad0f-3989e64a62a2",
   "metadata": {
    "tags": []
   },
   "outputs": [],
   "source": [
    "git commit -am \"Изменить версию на 0.0.2\""
   ]
  },
  {
   "cell_type": "code",
   "execution_count": null,
   "id": "24aa9a4a-2f19-4b3b-9955-7ca655d3135b",
   "metadata": {
    "tags": []
   },
   "outputs": [],
   "source": [
    "git log -n 1"
   ]
  },
  {
   "cell_type": "markdown",
   "id": "6e7fc6bc-5e80-4a1b-9387-cc8076d7f70d",
   "metadata": {},
   "source": [
    "**Внимание:** При использовании ключа `-a` будут зафиксированы все изменения в рабочей директории, поэтому нужно всегда проверять состояние рабочего каталога командой `git status` перед тем как выполнить фиксацию (коммит)"
   ]
  },
  {
   "cell_type": "markdown",
   "id": "6a2c9483-7224-4aab-9e80-062c96c5eed9",
   "metadata": {
    "tags": []
   },
   "source": [
    "### Изменить содержание коммита"
   ]
  },
  {
   "cell_type": "markdown",
   "id": "10e99302-7129-4ec7-9e96-ddc46556dad9",
   "metadata": {},
   "source": [
    "Иногда может возникнуть желание добавить файл в коммит или изменить текст коммита. Для этих целей можно использовать ключ `--amend`."
   ]
  },
  {
   "cell_type": "markdown",
   "id": "c65cc3cc-0354-4d1f-812d-78b9fd2b3385",
   "metadata": {
    "tags": []
   },
   "source": [
    "Задача:\n",
    "\n",
    "> добавить текст \"в файле version.txt\" к сообщению последнего коммита"
   ]
  },
  {
   "cell_type": "code",
   "execution_count": null,
   "id": "abd0f04c-613f-4d9b-84ed-cf848d47aebd",
   "metadata": {
    "tags": []
   },
   "outputs": [],
   "source": [
    "git commit --amend -m \"Изменить версию на 0.0.2 в файле version.txt\""
   ]
  },
  {
   "cell_type": "code",
   "execution_count": null,
   "id": "1422a97e-974c-466e-9ff2-309e76a55338",
   "metadata": {
    "tags": []
   },
   "outputs": [],
   "source": [
    "git log -n 1"
   ]
  },
  {
   "cell_type": "markdown",
   "id": "aa0b25ea-f7fb-4f58-a18a-55c77dff4c89",
   "metadata": {
    "tags": []
   },
   "source": [
    "Задача:\n",
    "\n",
    "> Изменить версию на 0.1.0 как в файле version.txt так и в тексте коммита"
   ]
  },
  {
   "cell_type": "code",
   "execution_count": null,
   "id": "51a7422c-bf3d-4d70-bf23-149014cac63c",
   "metadata": {
    "tags": []
   },
   "outputs": [],
   "source": [
    "echo 0.1.0 > version.txt"
   ]
  },
  {
   "cell_type": "code",
   "execution_count": null,
   "id": "d7cdb4c9-2fa4-4883-ab95-7d5efe9e0376",
   "metadata": {
    "tags": []
   },
   "outputs": [],
   "source": [
    "git status"
   ]
  },
  {
   "cell_type": "code",
   "execution_count": null,
   "id": "b719d037-6507-45e5-bcdb-c047a8638f93",
   "metadata": {
    "tags": []
   },
   "outputs": [],
   "source": [
    "git diff"
   ]
  },
  {
   "cell_type": "code",
   "execution_count": null,
   "id": "c25351f9-c37a-4dd2-9a8e-bf99f5ecaf23",
   "metadata": {
    "tags": []
   },
   "outputs": [],
   "source": [
    "git commit -a --amend -m \"Изменить версию на 0.1.0 в файле version.txt\""
   ]
  },
  {
   "cell_type": "code",
   "execution_count": null,
   "id": "16142811-0d2e-4c99-af09-5649075360e4",
   "metadata": {
    "tags": []
   },
   "outputs": [],
   "source": [
    "git log -n 1 master"
   ]
  },
  {
   "cell_type": "code",
   "execution_count": null,
   "id": "ea069660-fd51-46d4-9998-754f009c6ea1",
   "metadata": {
    "tags": []
   },
   "outputs": [],
   "source": [
    "cat version.txt"
   ]
  },
  {
   "cell_type": "markdown",
   "id": "61f83b7e-f866-4962-bf0c-a445e8c4e6e1",
   "metadata": {
    "tags": []
   },
   "source": [
    "### Ограничения ключа `--amend`"
   ]
  },
  {
   "cell_type": "markdown",
   "id": "2ccb1440-809f-4f04-862a-60f6dd07511a",
   "metadata": {},
   "source": [
    "При помощи ключа `--amend` можно изменить лишь самый последний коммит. Предыдущий и более ранние коммиты таким способом изменить не удастся. Для этого необходимо воспользоваться командой `git rebase`, которую мы разберем позднее."
   ]
  },
  {
   "cell_type": "markdown",
   "id": "fee95f34-d328-47c2-8056-38e51daa9d51",
   "metadata": {
    "tags": []
   },
   "source": [
    "## Задание"
   ]
  },
  {
   "cell_type": "markdown",
   "id": "99bd1324-8c16-4c30-83cf-e6aa0a0a0580",
   "metadata": {},
   "source": [
    "1. Создайте файл `athor.txt` (**ВНИМАНИЕ**: умышленная опечатка);\n",
    "1. Добавить строку \"<ИМЯ ФАМИЛИЯ>\" в конец `athor.txt`;\n",
    "1. Зафиксируйте изменения с сообщением \"Добавить athor.txt\";\n",
    "1. Переименуйте `athor.txt` в `author.txt`;\n",
    "1. Исправьте опечатку в сообщении последнего коммита."
   ]
  },
  {
   "cell_type": "code",
   "execution_count": null,
   "id": "a874dc71-698e-48ab-8f1b-941f10874617",
   "metadata": {},
   "outputs": [],
   "source": []
  }
 ],
 "metadata": {
  "kernelspec": {
   "display_name": "Bash",
   "language": "bash",
   "name": "bash"
  },
  "language_info": {
   "codemirror_mode": "shell",
   "file_extension": ".sh",
   "mimetype": "text/x-sh",
   "name": "bash"
  }
 },
 "nbformat": 4,
 "nbformat_minor": 5
}
