{
 "cells": [
  {
   "cell_type": "markdown",
   "id": "8176d389-745d-49aa-bd7e-82bc857f4647",
   "metadata": {},
   "source": [
    "# Основы работы с Git - Теги"
   ]
  },
  {
   "cell_type": "code",
   "execution_count": null,
   "id": "50dbf9f1-7b05-4ea7-ae5e-8724e5af3a40",
   "metadata": {
    "tags": []
   },
   "outputs": [],
   "source": [
    "cd ~/repo"
   ]
  },
  {
   "cell_type": "code",
   "execution_count": null,
   "id": "34b2ca81-24a9-4b02-8c7d-e345d968bbc7",
   "metadata": {},
   "outputs": [],
   "source": [
    "rm -rf ~/repo/.ipynb_checkpoints"
   ]
  },
  {
   "cell_type": "markdown",
   "id": "292a5322-ac8d-4b47-ac1f-f79f0fb2dcd0",
   "metadata": {},
   "source": [
    "## Мотивация"
   ]
  },
  {
   "cell_type": "markdown",
   "id": "b5ca86d6-cb8a-41a9-aa99-cd9a17710a9f",
   "metadata": {},
   "source": [
    "Тег используется для того, чтобы создать неизменяемую ссылку на коммит. Обычно перед каждым новым релизом программного обеспечения создается тег, имя которого совпадает с версией релиза."
   ]
  },
  {
   "cell_type": "markdown",
   "id": "90c5670b-9511-4a0a-8c4d-13e82b4c2576",
   "metadata": {},
   "source": [
    "### Создание тэгов"
   ]
  },
  {
   "cell_type": "markdown",
   "id": "ee3919a0-ffa6-44a2-a1b9-c35cbfb9ba11",
   "metadata": {
    "tags": []
   },
   "source": [
    "Тег можно создать при помощи команды `git tag`:"
   ]
  },
  {
   "cell_type": "code",
   "execution_count": null,
   "id": "c97c3ffa-8f46-4a60-86b6-d5f8c84cbcd6",
   "metadata": {
    "tags": []
   },
   "outputs": [],
   "source": [
    "git log -n 1"
   ]
  },
  {
   "cell_type": "code",
   "execution_count": null,
   "id": "918cf736-a121-4ca1-9060-5aabe38e3dde",
   "metadata": {
    "tags": []
   },
   "outputs": [],
   "source": [
    "git tag -a 0.1.0 -m \"Релиз версии 0.1.0\""
   ]
  },
  {
   "cell_type": "markdown",
   "id": "e3569284-0360-495d-9c88-3b71a9b5b56f",
   "metadata": {},
   "source": [
    "### Посмотр списка тэгов"
   ]
  },
  {
   "cell_type": "markdown",
   "id": "842904e9-f393-48c2-8a5c-37eab3c1ecf7",
   "metadata": {},
   "source": [
    "Посмотреть список тэгов можно при помощи команды:"
   ]
  },
  {
   "cell_type": "code",
   "execution_count": null,
   "id": "0707b257-f91a-4402-bd6d-7690888aec19",
   "metadata": {
    "tags": []
   },
   "outputs": [],
   "source": [
    "git tag -l"
   ]
  },
  {
   "cell_type": "code",
   "execution_count": null,
   "id": "7aadd433-77ee-4759-9acf-5f6c13b5c266",
   "metadata": {
    "tags": []
   },
   "outputs": [],
   "source": [
    "git log -n 5 master"
   ]
  },
  {
   "cell_type": "code",
   "execution_count": null,
   "id": "26cc0b76-3dbf-4d86-a3e6-45763cf00c49",
   "metadata": {
    "tags": []
   },
   "outputs": [],
   "source": [
    "git log -n 5 0.1.0"
   ]
  },
  {
   "cell_type": "code",
   "execution_count": null,
   "id": "ac5e5a1e-858b-42a5-88db-724164f01643",
   "metadata": {
    "tags": []
   },
   "outputs": [],
   "source": [
    "touch tag-demo.txt"
   ]
  },
  {
   "cell_type": "code",
   "execution_count": null,
   "id": "cecd197d-8cf7-4821-8c9c-872111c6a680",
   "metadata": {
    "tags": []
   },
   "outputs": [],
   "source": [
    "git add tag-demo.txt && git commit -m \"Master идет вперед, тег остается на месте\""
   ]
  },
  {
   "cell_type": "code",
   "execution_count": null,
   "id": "8b067a4c-6f5e-467c-812b-b9e612ea2d8e",
   "metadata": {
    "tags": []
   },
   "outputs": [],
   "source": [
    "git log -n 3 master"
   ]
  },
  {
   "cell_type": "code",
   "execution_count": null,
   "id": "d243db60-6915-4a04-9f76-fd614157b96b",
   "metadata": {
    "tags": []
   },
   "outputs": [],
   "source": [
    "git log -n 3 0.1.0"
   ]
  },
  {
   "cell_type": "code",
   "execution_count": null,
   "id": "cccbf65c-744a-44f6-927d-19e6ca63ec34",
   "metadata": {
    "tags": []
   },
   "outputs": [],
   "source": [
    "git checkout -b stable-release 0.1.0"
   ]
  },
  {
   "cell_type": "code",
   "execution_count": null,
   "id": "a73804b4-3953-471f-b39b-b906a79b7782",
   "metadata": {
    "tags": []
   },
   "outputs": [],
   "source": [
    "git log -n 1"
   ]
  },
  {
   "cell_type": "code",
   "execution_count": null,
   "id": "e8242f56-c49b-45d2-b5cf-6e021319f6bc",
   "metadata": {
    "tags": []
   },
   "outputs": [],
   "source": [
    "git checkout 0.1.0"
   ]
  },
  {
   "cell_type": "code",
   "execution_count": null,
   "id": "507fd519-cc0c-4c05-8b43-1b4562a6655e",
   "metadata": {
    "tags": []
   },
   "outputs": [],
   "source": [
    "git branch"
   ]
  },
  {
   "cell_type": "code",
   "execution_count": null,
   "id": "bf38d3c7-c278-4fd6-8498-ba75acb8c7da",
   "metadata": {
    "tags": []
   },
   "outputs": [],
   "source": [
    "git checkout master"
   ]
  },
  {
   "cell_type": "markdown",
   "id": "08275e0d-cf7c-483d-8231-09e881f6f2af",
   "metadata": {},
   "source": [
    "## Описание тэгов"
   ]
  },
  {
   "cell_type": "markdown",
   "id": "05f7ee00-72b2-4a0d-994f-14e4a987197b",
   "metadata": {},
   "source": [
    "Теги являются неизменяемыми ссылками на коммиты в репозитории. Этим они очень похожи на ветки, но в отличии от ветки, когда появляется новый коммит, тег остается на текущем коммите, а ветка начинает укаызвать уже на новый коммит. Теги позволяют в любой момент вернуться к состоянию на момент релиза в репозитории.\n",
    "\n",
    "Теги можно использовать в любом контексте, где используются ветки, например, при создании новой ветки."
   ]
  },
  {
   "cell_type": "markdown",
   "id": "fee95f34-d328-47c2-8056-38e51daa9d51",
   "metadata": {
    "tags": []
   },
   "source": [
    "## Задание"
   ]
  },
  {
   "cell_type": "markdown",
   "id": "99bd1324-8c16-4c30-83cf-e6aa0a0a0580",
   "metadata": {},
   "source": [
    "1. Изменить версию в файле `version.txt` на `0.1.1`;\n",
    "1. Зафиксировать изменения с сообщением \"Переключить версию на 0.1.1\";\n",
    "1. Создать тег для новой версии;\n",
    "1. Убедиться, что тег появился;\n",
    "1. Создать новый коммит;\n",
    "1. Убедиться, что ветка указывает на новый коммит, а тег по прежнему указывает на предыдущий коммит."
   ]
  },
  {
   "cell_type": "code",
   "execution_count": null,
   "id": "86735912-bdf2-4ac3-a648-95f7d5f11726",
   "metadata": {},
   "outputs": [],
   "source": []
  }
 ],
 "metadata": {
  "kernelspec": {
   "display_name": "Bash",
   "language": "bash",
   "name": "bash"
  },
  "language_info": {
   "codemirror_mode": "shell",
   "file_extension": ".sh",
   "mimetype": "text/x-sh",
   "name": "bash"
  }
 },
 "nbformat": 4,
 "nbformat_minor": 5
}
