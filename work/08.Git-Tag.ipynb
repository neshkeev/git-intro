{
 "cells": [
  {
   "cell_type": "markdown",
   "id": "8176d389-745d-49aa-bd7e-82bc857f4647",
   "metadata": {},
   "source": [
    "# Основы работы с Git"
   ]
  },
  {
   "cell_type": "code",
   "execution_count": 1,
   "id": "50dbf9f1-7b05-4ea7-ae5e-8724e5af3a40",
   "metadata": {
    "tags": []
   },
   "outputs": [],
   "source": [
    "cd ~/repo"
   ]
  },
  {
   "cell_type": "markdown",
   "id": "292a5322-ac8d-4b47-ac1f-f79f0fb2dcd0",
   "metadata": {},
   "source": [
    "## Тэги"
   ]
  },
  {
   "cell_type": "markdown",
   "id": "b5ca86d6-cb8a-41a9-aa99-cd9a17710a9f",
   "metadata": {},
   "source": [
    "Тэг используется для того, чтобы создать неизменяемую ссылку на коммит. Обычно перед каждым новым релизом программного обеспечения создается тэг, имя которого совпадает с версией релиза."
   ]
  },
  {
   "cell_type": "markdown",
   "id": "90c5670b-9511-4a0a-8c4d-13e82b4c2576",
   "metadata": {},
   "source": [
    "### Создание тэгов"
   ]
  },
  {
   "cell_type": "markdown",
   "id": "ee3919a0-ffa6-44a2-a1b9-c35cbfb9ba11",
   "metadata": {
    "tags": []
   },
   "source": [
    "Тэг можно создать при помощи команды `git tag`:"
   ]
  },
  {
   "cell_type": "code",
   "execution_count": 2,
   "id": "c97c3ffa-8f46-4a60-86b6-d5f8c84cbcd6",
   "metadata": {
    "tags": []
   },
   "outputs": [
    {
     "name": "stdout",
     "output_type": "stream",
     "text": [
      "commit 205cdcd24351287b0985af5a70c93104e2dcd1be (HEAD -> master)\n",
      "Author: Nikita Eshkeev <neshkeev@yandex.ru>\n",
      "Date:   Thu Mar 16 20:26:18 2023 +0000\n",
      "\n",
      "    Изменить версию на 0.1.0 в файле version.txt\n"
     ]
    }
   ],
   "source": [
    "git log -n 1"
   ]
  },
  {
   "cell_type": "code",
   "execution_count": 3,
   "id": "918cf736-a121-4ca1-9060-5aabe38e3dde",
   "metadata": {
    "tags": []
   },
   "outputs": [],
   "source": [
    "git tag -a 0.1.0 -m \"Релиз версии 0.1.0\""
   ]
  },
  {
   "cell_type": "markdown",
   "id": "e3569284-0360-495d-9c88-3b71a9b5b56f",
   "metadata": {},
   "source": [
    "### Посмотр списка тэгов"
   ]
  },
  {
   "cell_type": "markdown",
   "id": "842904e9-f393-48c2-8a5c-37eab3c1ecf7",
   "metadata": {},
   "source": [
    "Посмотреть список тэгов можно при помощи команды:"
   ]
  },
  {
   "cell_type": "code",
   "execution_count": 4,
   "id": "0707b257-f91a-4402-bd6d-7690888aec19",
   "metadata": {
    "tags": []
   },
   "outputs": [
    {
     "name": "stdout",
     "output_type": "stream",
     "text": [
      "0.1.0\n"
     ]
    }
   ],
   "source": [
    "git tag -l"
   ]
  },
  {
   "cell_type": "markdown",
   "id": "08275e0d-cf7c-483d-8231-09e881f6f2af",
   "metadata": {},
   "source": [
    "## Описание тэгов"
   ]
  },
  {
   "cell_type": "markdown",
   "id": "05f7ee00-72b2-4a0d-994f-14e4a987197b",
   "metadata": {},
   "source": [
    "Тэги являются неизменяемыми ссылками на коммиты в репозитории. Этим они очень похожи на ветки, но в отличии от ветки, когда появляется новый коммит, тэг остается на текущем коммите, а ветка начинает укаызвать уже на новый коммит. Тэги позволяют в любой момент вернуться к состоянию на момент релиза в репозитории.\n",
    "\n",
    "Тэги можно использовать в любом месте, где используются ветки, например, при создании новой ветки."
   ]
  },
  {
   "cell_type": "markdown",
   "id": "fee95f34-d328-47c2-8056-38e51daa9d51",
   "metadata": {
    "tags": []
   },
   "source": [
    "## Задание"
   ]
  },
  {
   "cell_type": "markdown",
   "id": "99bd1324-8c16-4c30-83cf-e6aa0a0a0580",
   "metadata": {},
   "source": [
    "1. Изменит версию в файле version.txt на 0.1.1\n",
    "1. Зафиксировать изменения с сообщением \"Переключить версию на 0.1.1\"\n",
    "1. Создать тэг для новой версии\n",
    "1. Убедиться, что тэг появился"
   ]
  }
 ],
 "metadata": {
  "kernelspec": {
   "display_name": "Bash",
   "language": "bash",
   "name": "bash"
  },
  "language_info": {
   "codemirror_mode": "shell",
   "file_extension": ".sh",
   "mimetype": "text/x-sh",
   "name": "bash"
  }
 },
 "nbformat": 4,
 "nbformat_minor": 5
}
