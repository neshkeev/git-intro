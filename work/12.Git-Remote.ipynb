{
 "cells": [
  {
   "cell_type": "markdown",
   "id": "23ba8d36-fed0-4652-98b6-7cbe81b2e682",
   "metadata": {},
   "source": [
    "# Основы работы с Git"
   ]
  },
  {
   "cell_type": "code",
   "execution_count": 1,
   "id": "af04291b-7d7f-45ea-b30d-6b9633c2cc0a",
   "metadata": {
    "tags": []
   },
   "outputs": [],
   "source": [
    "cd ~/repo"
   ]
  },
  {
   "cell_type": "code",
   "execution_count": null,
   "id": "eb07bea9-61f2-4160-b4f1-3af0df7b9376",
   "metadata": {},
   "outputs": [],
   "source": []
  }
 ],
 "metadata": {
  "kernelspec": {
   "display_name": "Bash",
   "language": "bash",
   "name": "bash"
  },
  "language_info": {
   "codemirror_mode": "shell",
   "file_extension": ".sh",
   "mimetype": "text/x-sh",
   "name": "bash"
  }
 },
 "nbformat": 4,
 "nbformat_minor": 5
}
