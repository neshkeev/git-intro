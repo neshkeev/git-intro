{
 "cells": [
  {
   "cell_type": "markdown",
   "id": "23ba8d36-fed0-4652-98b6-7cbe81b2e682",
   "metadata": {},
   "source": [
    "# Основы работы с Git - Общий репозиторий"
   ]
  },
  {
   "cell_type": "markdown",
   "id": "3c991fd5-8f73-4096-b649-d98562f4b596",
   "metadata": {
    "tags": []
   },
   "source": [
    "## Совместная работа над проектом"
   ]
  },
  {
   "cell_type": "markdown",
   "id": "1b497918-261f-454a-8f57-df783ea648b0",
   "metadata": {},
   "source": [
    "Можно выделить много положительных факторов использования git даже при работе над проектом в одиночку на одном компьютере, но git прекрасно подходит для работы над проектом несколькими членами команды. В таких сценариях, как правило, существует один репозиторий (его называют удаленным или remote) где-нибудь в облаке (GitHub, GitLab), и каждый член команды копирует себе полную его копию на свой рабочий компьютер. Для синхронизации каждый член команды периодически обновляет свой локальный репозиторий, и выкладывает свои изменения в этот общий репозиторий."
   ]
  },
  {
   "cell_type": "markdown",
   "id": "a04f4871-3c66-4ce6-8610-9533cc009ce8",
   "metadata": {
    "tags": []
   },
   "source": [
    "## Удаленный репозиторий"
   ]
  },
  {
   "cell_type": "markdown",
   "id": "21d240f6-53c8-4528-a7f3-8ef56ec978cd",
   "metadata": {},
   "source": [
    "В демонстрационных целях предлагается создать \"удаленный\" репозиторий на локальном диске:"
   ]
  },
  {
   "cell_type": "code",
   "execution_count": null,
   "id": "ed23f9b1-e08f-4ed9-ae96-799cab04e473",
   "metadata": {
    "tags": []
   },
   "outputs": [],
   "source": [
    "mkdir ~/remote"
   ]
  },
  {
   "cell_type": "code",
   "execution_count": null,
   "id": "d29b055b-66a7-4a83-b861-3101a5475b23",
   "metadata": {
    "tags": []
   },
   "outputs": [],
   "source": [
    "cd ~/remote"
   ]
  },
  {
   "cell_type": "code",
   "execution_count": null,
   "id": "a32682cf-b091-4400-b613-8be43c571edc",
   "metadata": {
    "tags": []
   },
   "outputs": [],
   "source": [
    "git init --bare origin.git"
   ]
  },
  {
   "cell_type": "code",
   "execution_count": null,
   "id": "a6c2429d-fcc5-4805-b416-5ec6a3a2055e",
   "metadata": {
    "tags": []
   },
   "outputs": [],
   "source": [
    "ls -la ~/remote/origin.git"
   ]
  },
  {
   "cell_type": "markdown",
   "id": "5ca1e143-0c2a-46f1-adfa-dbbfb3b148e8",
   "metadata": {
    "tags": []
   },
   "source": [
    "Этот репозиторий будет доступен для скачивания по URI `/home/jovyan/remote/origin.git`"
   ]
  },
  {
   "cell_type": "markdown",
   "id": "d9660e53-62c4-4077-9d36-444471747279",
   "metadata": {
    "tags": []
   },
   "source": [
    "## Локальный репозиторий"
   ]
  },
  {
   "cell_type": "markdown",
   "id": "fcc68bc7-868e-4b92-9c8c-152c11aa9716",
   "metadata": {},
   "source": [
    "Чтобы получить локальную копию удаленного git репозитория необходимо выполнить команду `git clone`"
   ]
  },
  {
   "cell_type": "code",
   "execution_count": null,
   "id": "e99acf9b-363d-4520-ab77-54e17f129cff",
   "metadata": {
    "tags": []
   },
   "outputs": [],
   "source": [
    "cd ~"
   ]
  },
  {
   "cell_type": "markdown",
   "id": "2d398e71-b0ee-4378-81a3-a35d8daa1a6a",
   "metadata": {
    "tags": []
   },
   "source": [
    "Скачать репозиторий из `/home/jovyan/remote/` в `./local`:"
   ]
  },
  {
   "cell_type": "code",
   "execution_count": null,
   "id": "223cef50-edd4-4b41-a265-56b4d07794a4",
   "metadata": {
    "tags": []
   },
   "outputs": [],
   "source": [
    "git clone /home/jovyan/remote/origin.git local"
   ]
  },
  {
   "cell_type": "code",
   "execution_count": null,
   "id": "9b7be058-81f8-482e-86e8-3ebb1a43e86b",
   "metadata": {
    "tags": []
   },
   "outputs": [],
   "source": [
    "cd local"
   ]
  },
  {
   "cell_type": "code",
   "execution_count": null,
   "id": "881cd480-17ea-44ff-a8bb-44a73b1fbd56",
   "metadata": {
    "tags": []
   },
   "outputs": [],
   "source": [
    "git status"
   ]
  },
  {
   "cell_type": "markdown",
   "id": "adebf0de-dbc9-4bb2-88ea-1fd26d3d0b92",
   "metadata": {
    "tags": []
   },
   "source": [
    "## Загрузка локального репозитория в удаленный репозиторий"
   ]
  },
  {
   "cell_type": "markdown",
   "id": "5303fec1-739b-4bfd-a2e5-b1e58963bc6d",
   "metadata": {},
   "source": [
    "У нас уже есть локальный репозиторий в директории ~/repo, можно его отправить в удаленный репозиторий при помощи команды `git push`:"
   ]
  },
  {
   "cell_type": "code",
   "execution_count": null,
   "id": "e54c81a6-d17b-4839-8246-9e7c3cbcf3e5",
   "metadata": {
    "tags": []
   },
   "outputs": [],
   "source": [
    "cd ~/repo"
   ]
  },
  {
   "cell_type": "code",
   "execution_count": null,
   "id": "0c0ac64e-3659-4712-a4ef-4bfab5015fc1",
   "metadata": {
    "tags": []
   },
   "outputs": [],
   "source": [
    "git status"
   ]
  },
  {
   "cell_type": "markdown",
   "id": "628e6bda-6761-4a98-8c8b-de8eecce486b",
   "metadata": {},
   "source": [
    "Для начала нужно указать адрес удаленного репозитория при помощи команды `git remote`:"
   ]
  },
  {
   "cell_type": "code",
   "execution_count": null,
   "id": "402ed158-98d8-497f-b498-69b6385bb770",
   "metadata": {
    "tags": []
   },
   "outputs": [],
   "source": [
    "git remote -v"
   ]
  },
  {
   "cell_type": "code",
   "execution_count": null,
   "id": "ef724c26-6a39-4e0c-a6f0-2a1996540a2b",
   "metadata": {
    "tags": []
   },
   "outputs": [],
   "source": [
    "git remote add origin /home/jovyan/remote/origin.git"
   ]
  },
  {
   "cell_type": "code",
   "execution_count": null,
   "id": "8e0feff1-2db1-4543-8c1c-9c04d872903e",
   "metadata": {
    "tags": []
   },
   "outputs": [],
   "source": [
    "git remote -v"
   ]
  },
  {
   "cell_type": "markdown",
   "id": "e8612e71-bd7f-454b-94a2-7669ed19449f",
   "metadata": {},
   "source": [
    "У локального репозитория может быть много удаленных репозиторий (GitHub, GitLab). При помощи команды `git remote` можно добавить их всех, но каждого должен быть свой алиас. Если у локального репозитория всего один удаленный репозиторий, то традиционно его называют `origin`."
   ]
  },
  {
   "cell_type": "markdown",
   "id": "5622235d-2a0a-437d-adb6-54477427d96d",
   "metadata": {
    "tags": []
   },
   "source": [
    "Загрузить локальный репозиторий на удаленный сервер можно при помощи команды `git push`:"
   ]
  },
  {
   "cell_type": "code",
   "execution_count": null,
   "id": "7d33502c-14b7-4b21-84fd-9b521b94cd2a",
   "metadata": {
    "tags": []
   },
   "outputs": [],
   "source": [
    "git branch"
   ]
  },
  {
   "cell_type": "code",
   "execution_count": null,
   "id": "738432d8-fa13-4f07-886c-bed2717a7a08",
   "metadata": {
    "tags": []
   },
   "outputs": [],
   "source": [
    "git push origin master -u"
   ]
  },
  {
   "cell_type": "markdown",
   "id": "463b289d-f1b1-4ce8-b202-1f299947968a",
   "metadata": {
    "tags": []
   },
   "source": [
    "Ключ `-u` настроит маппинг между локальной веткой и удаленной веткой"
   ]
  },
  {
   "cell_type": "code",
   "execution_count": null,
   "id": "2c42b346-9e93-4c29-a547-4ff0cbab6dee",
   "metadata": {
    "tags": []
   },
   "outputs": [],
   "source": [
    "git log -n 1 master"
   ]
  },
  {
   "cell_type": "markdown",
   "id": "2e7922ce-7027-4b85-b4bd-95475a4ee1f6",
   "metadata": {},
   "source": [
    "После успешной загрузки в локальном репозитории создалась новая ветка `origin/master`, т.к. всего одна локальная ветка была загружена в удаленный репозиторий"
   ]
  },
  {
   "cell_type": "markdown",
   "id": "9d6b0b9a-4399-4535-9fa5-858f103399a8",
   "metadata": {
    "tags": []
   },
   "source": [
    "Если необходимо отправить все локальные ветки, то можно указать ключ `--all`:"
   ]
  },
  {
   "cell_type": "code",
   "execution_count": null,
   "id": "6e4e36e6-7998-406c-998f-29632f7a654a",
   "metadata": {
    "tags": []
   },
   "outputs": [],
   "source": [
    "git push origin --all -u"
   ]
  },
  {
   "cell_type": "markdown",
   "id": "2aea22eb-5205-4ebe-9a1f-33b2b5905270",
   "metadata": {
    "tags": []
   },
   "source": [
    "Если в дополнение к веткам необходимо отправить еще и тэги, то можно использовать ключ `--tags`:"
   ]
  },
  {
   "cell_type": "code",
   "execution_count": null,
   "id": "17352f3e-4d27-4554-bdab-d674d32b8f9f",
   "metadata": {
    "tags": []
   },
   "outputs": [],
   "source": [
    "git tag -l"
   ]
  },
  {
   "cell_type": "code",
   "execution_count": null,
   "id": "24989efa-4c3a-4741-be09-4f624383e4ca",
   "metadata": {
    "tags": []
   },
   "outputs": [],
   "source": [
    "git push origin --tags"
   ]
  },
  {
   "cell_type": "markdown",
   "id": "0a2bd943-afcf-41f2-b56d-54f7d85ff4a4",
   "metadata": {
    "tags": []
   },
   "source": [
    "## Синхронизация локального репозитория"
   ]
  },
  {
   "cell_type": "markdown",
   "id": "23e3c9e0-57cd-4485-a672-e52e8eddb3cb",
   "metadata": {},
   "source": [
    "Текущее состояние:\n",
    "\n",
    "1. `~/remote/origin.git` - удаленный репозиторий\n",
    "1. `~/repo` - первый локальный репозиторий\n",
    "1. `~/local` - второй локальный репозиторий\n",
    "\n",
    "Необходимо синхронизировать `~/local` локальный репозиторий"
   ]
  },
  {
   "cell_type": "code",
   "execution_count": null,
   "id": "39d8abcc-078c-463d-bde3-93e1ba9f7732",
   "metadata": {
    "tags": []
   },
   "outputs": [],
   "source": [
    "cd ~/local"
   ]
  },
  {
   "cell_type": "code",
   "execution_count": null,
   "id": "f9dbd7af-c469-4806-aa15-860725df8c14",
   "metadata": {
    "tags": []
   },
   "outputs": [],
   "source": [
    "git remote -v"
   ]
  },
  {
   "cell_type": "code",
   "execution_count": null,
   "id": "b53ee956-54bd-4bdc-8dd6-9dfdb81a50c6",
   "metadata": {
    "tags": []
   },
   "outputs": [],
   "source": [
    "git fetch origin"
   ]
  },
  {
   "cell_type": "markdown",
   "id": "1c115d39-4ac0-4223-b85c-ef03d41af804",
   "metadata": {},
   "source": [
    "По умолчанию `git branch` показывает только локальные ветки, поэтому следующая команда ничего не вернет:"
   ]
  },
  {
   "cell_type": "code",
   "execution_count": null,
   "id": "d1bd89d6-89c8-4beb-ab58-863d4bff9eac",
   "metadata": {
    "tags": []
   },
   "outputs": [],
   "source": [
    "git branch"
   ]
  },
  {
   "cell_type": "markdown",
   "id": "8dc11d83-eb50-404a-aa36-dcb725208289",
   "metadata": {},
   "source": [
    "Если нужно посмотреть все ветки, включая и удаленные, то необходимо передать ключ `-a`:"
   ]
  },
  {
   "cell_type": "code",
   "execution_count": null,
   "id": "6474e5cf-cff4-4a5e-a6a8-6f456d29843f",
   "metadata": {
    "tags": []
   },
   "outputs": [],
   "source": [
    "git branch -a"
   ]
  },
  {
   "cell_type": "markdown",
   "id": "500ed7fb-3fd1-4346-9eb5-6de1493109de",
   "metadata": {},
   "source": [
    "Все изменения сейчас в удаленных (remote) ветках. Чтобы создать локальную ветку на базе удаленной достаточно лишь переключиться на неё:"
   ]
  },
  {
   "cell_type": "code",
   "execution_count": null,
   "id": "872d97b1-48ab-4cfc-80c0-bf84977156c2",
   "metadata": {
    "tags": []
   },
   "outputs": [],
   "source": [
    "git checkout master"
   ]
  },
  {
   "cell_type": "code",
   "execution_count": null,
   "id": "255cc1d4-e44b-4c5c-adc5-21150931a198",
   "metadata": {
    "tags": []
   },
   "outputs": [],
   "source": [
    "git log -n 5"
   ]
  },
  {
   "cell_type": "markdown",
   "id": "1f27187b-dff4-4da8-9cdf-366658e7c3de",
   "metadata": {
    "tags": []
   },
   "source": [
    "При это можно использовать удаленные ветки там, где ожидаются объекты, имеющие нотацию указателя на коммит:"
   ]
  },
  {
   "cell_type": "code",
   "execution_count": null,
   "id": "13a00c25-3adc-4210-9c55-d53a130ca857",
   "metadata": {
    "tags": []
   },
   "outputs": [],
   "source": [
    "git log -n 2 origin/new-feature"
   ]
  },
  {
   "cell_type": "markdown",
   "id": "1a3a24fb-27c8-48cd-aa59-13523bca156b",
   "metadata": {
    "tags": []
   },
   "source": [
    "## Создание новой ветки в удаленном репозитории"
   ]
  },
  {
   "cell_type": "markdown",
   "id": "0f46ff83-3f10-4030-a47f-9ab39ada0941",
   "metadata": {},
   "source": [
    "На базе любой локальной ветки можно создать новую ветку в удаленном репозитории при помощи команды `git push`"
   ]
  },
  {
   "cell_type": "code",
   "execution_count": null,
   "id": "56f20e35-8c4c-4298-8baf-811266a2d785",
   "metadata": {
    "tags": []
   },
   "outputs": [],
   "source": [
    "pwd"
   ]
  },
  {
   "cell_type": "code",
   "execution_count": null,
   "id": "b5693eb3-284d-49a6-a3c5-5f7dfd5dce89",
   "metadata": {
    "tags": []
   },
   "outputs": [],
   "source": [
    "git checkout -b local-branch origin/new-feature"
   ]
  },
  {
   "cell_type": "code",
   "execution_count": null,
   "id": "192ef950-dee7-4f05-88a4-e48086790efe",
   "metadata": {
    "tags": []
   },
   "outputs": [],
   "source": [
    "git push origin HEAD:local-branch"
   ]
  },
  {
   "cell_type": "markdown",
   "id": "a9e136bd-37a6-45dd-aeb0-a3f5475e50d3",
   "metadata": {},
   "source": [
    "Параметры `git push` следующие:\n",
    "\n",
    "1. `origin` - алиас удаленного репозитория, в котором необходимо создать новую ветку;\n",
    "1. `HEAD` - указатель на текущую активную ветку;\n",
    "1. `local-branch` - имя новой ветки на удаленном репозитории. Не обязательно должен совпадать с именем текущей ветки;\n",
    "1. `HEAD:local-branch` нужно читать так: необходимо привести удаленную (remote) ветку в состояние с локальной веткой, на которую указывает `HEAD`."
   ]
  },
  {
   "cell_type": "code",
   "execution_count": null,
   "id": "12d6101c-c80c-4da9-af54-dd56f44f2675",
   "metadata": {
    "tags": []
   },
   "outputs": [],
   "source": [
    "git log -n 1"
   ]
  },
  {
   "cell_type": "code",
   "execution_count": null,
   "id": "65751a3f-e1e2-4c92-bd31-ceeba5735182",
   "metadata": {
    "tags": []
   },
   "outputs": [],
   "source": [
    "git branch -a"
   ]
  },
  {
   "cell_type": "markdown",
   "id": "ab054f5b-580a-482e-a117-c887afa50c37",
   "metadata": {
    "tags": []
   },
   "source": [
    "## Удаление ветки в удаленном репозитории"
   ]
  },
  {
   "cell_type": "markdown",
   "id": "19ed32c6-44eb-4f94-866f-d065e820278d",
   "metadata": {},
   "source": [
    "Команда `git push` позволяет удалить ветку в удаленном репозитории:"
   ]
  },
  {
   "cell_type": "code",
   "execution_count": null,
   "id": "1b4fdb44-f41a-4b72-8d49-69a793cd3403",
   "metadata": {
    "tags": []
   },
   "outputs": [],
   "source": [
    "git push origin :local-branch"
   ]
  },
  {
   "cell_type": "markdown",
   "id": "43351beb-3179-4215-96ba-b9fcaacdaa19",
   "metadata": {},
   "source": [
    "Отличие от создания ветки в том, что перед двоеточием (`:`) находится пустота, т.е. фактически git воспринимает инструцию буквально: необходимо состояние `local-branch` на удаленном репозитории синхронизировать с тем, что стоит до двоеточия (`:`), в данном случае пустота."
   ]
  },
  {
   "cell_type": "markdown",
   "id": "343e3154-ddb3-4d13-9bbb-399323686798",
   "metadata": {
    "tags": []
   },
   "source": [
    "Также удалить ветку можно при помощи ключа `--delete`:"
   ]
  },
  {
   "cell_type": "code",
   "execution_count": null,
   "id": "399b150a-c0d4-4240-8653-e3aaaa28fdda",
   "metadata": {
    "tags": []
   },
   "outputs": [],
   "source": [
    "git push origin HEAD:local-branch # создать ветку для удаления"
   ]
  },
  {
   "cell_type": "code",
   "execution_count": null,
   "id": "7aa7a0cb-328f-4632-a34b-438632100629",
   "metadata": {
    "tags": []
   },
   "outputs": [],
   "source": [
    "git push origin local-branch --delete"
   ]
  },
  {
   "cell_type": "markdown",
   "id": "d22d7c7a-aab0-4aad-b58b-28b0c364d274",
   "metadata": {},
   "source": [
    "### Задание"
   ]
  },
  {
   "cell_type": "markdown",
   "id": "ae23a39c-fbb5-4085-a776-0371ecc362f8",
   "metadata": {
    "tags": []
   },
   "source": [
    "1. Создать новую верку `license-proposal` в локальном репозитории `~/local`;\n",
    "1. Добавить файл `LICENSE.txt` с текстом лицензии [Apache 2.0](https://www.apache.org/licenses/LICENSE-2.0.txt);\n",
    "1. Создать коммит с файлом `LICENSE.txt`;\n",
    "1. Загрузить ветку `license-proposal` в удаленный (remote) репозиторий;\n",
    "1. Скачать ветку `license-proposal` в локальный репозиторий `~/repo`;\n",
    "1. Объединить коммит с `LICENSE.txt` из ветки `license-proposal` в `master`;\n",
    "1. Залить master в удаленный репозиторий;\n",
    "1. Удалить ветку `license-proposal` в удаленном репозитории."
   ]
  },
  {
   "cell_type": "code",
   "execution_count": null,
   "id": "36197a93-24ec-42de-bb0d-a96a70d098e9",
   "metadata": {},
   "outputs": [],
   "source": []
  }
 ],
 "metadata": {
  "kernelspec": {
   "display_name": "Bash",
   "language": "bash",
   "name": "bash"
  },
  "language_info": {
   "codemirror_mode": "shell",
   "file_extension": ".sh",
   "mimetype": "text/x-sh",
   "name": "bash"
  }
 },
 "nbformat": 4,
 "nbformat_minor": 5
}
