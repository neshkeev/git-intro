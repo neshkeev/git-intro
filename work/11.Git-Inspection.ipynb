{
 "cells": [
  {
   "cell_type": "markdown",
   "id": "b63dc65a-77f8-454a-83bf-38aaa6c91c7f",
   "metadata": {
    "tags": []
   },
   "source": [
    "# Основы работы с Git"
   ]
  },
  {
   "cell_type": "code",
   "execution_count": 2,
   "id": "8e762246-5ca5-4313-b11c-bfc3c2562546",
   "metadata": {
    "tags": []
   },
   "outputs": [],
   "source": [
    "cd ~/repo"
   ]
  },
  {
   "cell_type": "code",
   "execution_count": 3,
   "id": "f3b9d431-b0e3-4cc5-a6b2-6d3d0184ef2d",
   "metadata": {
    "tags": []
   },
   "outputs": [
    {
     "name": "stdout",
     "output_type": "stream",
     "text": [
      "Switched to branch 'master'\n"
     ]
    }
   ],
   "source": [
    "git checkout master"
   ]
  },
  {
   "cell_type": "code",
   "execution_count": 47,
   "id": "974fd4b8-c053-4264-bb13-823c991ae156",
   "metadata": {
    "tags": []
   },
   "outputs": [],
   "source": [
    "sed -i 's,black,black;,;s,%},%;\\n},;/font-size/s,15,30,;s,\\r,,;' styles.css"
   ]
  },
  {
   "cell_type": "code",
   "execution_count": 48,
   "id": "4805d226-68d4-485d-a99f-d4a9cb1b46b2",
   "metadata": {
    "tags": []
   },
   "outputs": [],
   "source": [
    "sed -i '/title/s,$,\\n    <link rel=\"stylesheet\" href=\"styles.css\">,;/First git repo/s,First git repo,Lorem ipsum dolor sit amet\\, consectetur adipiscing elit\\, sed do,' index.html"
   ]
  },
  {
   "cell_type": "code",
   "execution_count": 49,
   "id": "9d0a284f-dd25-4ed0-b9e3-ece156507c1f",
   "metadata": {
    "tags": []
   },
   "outputs": [
    {
     "name": "stdout",
     "output_type": "stream",
     "text": [
      "[master a68afc3] Использовать styles.css в index.html\n",
      " 2 files changed, 7 insertions(+), 5 deletions(-)\n"
     ]
    }
   ],
   "source": [
    "git commit -am \"Использовать styles.css в index.html\""
   ]
  },
  {
   "cell_type": "code",
   "execution_count": 50,
   "id": "b3d6f372-2f0e-4dbf-8e6d-e8936ccf23e8",
   "metadata": {
    "tags": []
   },
   "outputs": [
    {
     "name": "stdout",
     "output_type": "stream",
     "text": [
      "commit a68afc379b1f7218f0759cd36f766e22a18a0e14 (HEAD -> master)\n",
      "Author: Nikita Eshkeev <neshkeev@yandex.ru>\n",
      "Date:   Fri Mar 17 21:15:33 2023 +0000\n",
      "\n",
      "    Использовать styles.css в index.html\n"
     ]
    }
   ],
   "source": [
    "git log -n 1"
   ]
  },
  {
   "cell_type": "code",
   "execution_count": 51,
   "id": "2d12d48f-e7df-4f40-aab9-aa61f3650386",
   "metadata": {
    "tags": []
   },
   "outputs": [
    {
     "name": "stdout",
     "output_type": "stream",
     "text": [
      "On branch master\n",
      "Untracked files:\n",
      "  (use \"git add <file>...\" to include in what will be committed)\n",
      "\t.ipynb_checkpoints/\n",
      "\n",
      "nothing added to commit but untracked files present (use \"git add\" to track)\n",
      "[master 28ba2ad] Установить 90% значение width в styles.css\n",
      " 1 file changed, 1 insertion(+), 1 deletion(-)\n",
      "[master 4fae7fe] Установить 80% значение width в styles.css\n",
      " 1 file changed, 1 insertion(+), 1 deletion(-)\n",
      "[master 31834c2] Установить 70% значение width в styles.css\n",
      " 1 file changed, 1 insertion(+), 1 deletion(-)\n",
      "[master eec6f5f] Установить 60% значение width в styles.css\n",
      " 1 file changed, 1 insertion(+), 1 deletion(-)\n",
      "[master 0189734] Установить 50% значение width в styles.css\n",
      " 1 file changed, 1 insertion(+), 1 deletion(-)\n",
      "[master c627f9d] Установить 40% значение width в styles.css\n",
      " 1 file changed, 1 insertion(+), 1 deletion(-)\n",
      "[master 13cdfb7] Установить 30% значение width в styles.css\n",
      " 1 file changed, 1 insertion(+), 1 deletion(-)\n",
      "[master 2c74b8f] Установить 20% значение width в styles.css\n",
      " 1 file changed, 1 insertion(+), 1 deletion(-)\n",
      "[master 3329447] Установить 10% значение width в styles.css\n",
      " 1 file changed, 1 insertion(+), 1 deletion(-)\n"
     ]
    }
   ],
   "source": [
    "for i in {10..1}; do\n",
    "  sed -i \"/width/s,[0-9]\\+%,$((i*10))%,\" styles.css\n",
    "  git commit -am \"Установить $((i*10))% значение width в styles.css\"\n",
    "done"
   ]
  },
  {
   "cell_type": "markdown",
   "id": "18328687-9e85-4916-9fda-3041b200ba1a",
   "metadata": {},
   "source": [
    "## Бинарный поиск"
   ]
  },
  {
   "cell_type": "markdown",
   "id": "958e60cb-8f0e-406e-8e87-2e2f18856d3c",
   "metadata": {},
   "source": [
    "Git позволяет за логарифмическое время находить коммиты, которые вызывали некоторое поведение, при помощи бинарного поиска. Например, можно найти с какого коммита начала проявляться некоторая ошибка в логике проекта."
   ]
  },
  {
   "cell_type": "markdown",
   "id": "f36980a2-90c1-4f1a-a0d8-11e6c01e5483",
   "metadata": {},
   "source": [
    "Задача:\n",
    "> При просмотре index.html в браузере, текст не помещается на одну строку. Ранее он помещался в одну строку, нужно найти коммит, который испортил html разметку."
   ]
  },
  {
   "cell_type": "markdown",
   "id": "90fc6850-eff6-4fa2-a18e-f72233bb2c3e",
   "metadata": {},
   "source": [
    "Проект может включать множество файлов стилей и заметки, а значит просто просматривать все файлы один за одним может быть не очень эффективно. Для целей поиска коммита в котором было внесено нежелательное изменение используют команду `git bisect`. Любая ветка образует собой связный список коммитов, а значит точно есть коммит, в котором все было хорошо, и есть коммит (обычно текущий), в котором наблюдается нежелательное поведение."
   ]
  },
  {
   "cell_type": "code",
   "execution_count": 52,
   "id": "8644bc8c-53ce-40b7-b75f-2b9cd793fbe7",
   "metadata": {
    "tags": []
   },
   "outputs": [],
   "source": [
    "git bisect start"
   ]
  },
  {
   "cell_type": "code",
   "execution_count": 54,
   "id": "d2249cdc-37ef-4481-b5f5-ab4452c74480",
   "metadata": {
    "tags": []
   },
   "outputs": [],
   "source": [
    "git bisect bad # в HEAD наблюдается нежелательное поведение"
   ]
  },
  {
   "cell_type": "code",
   "execution_count": 55,
   "id": "e02076be-213f-481c-a3b3-00db22c133ae",
   "metadata": {
    "tags": []
   },
   "outputs": [
    {
     "name": "stdout",
     "output_type": "stream",
     "text": [
      "Bisecting: 4 revisions left to test after this (roughly 2 steps)\n",
      "[eec6f5f5ba25fdf895aff8b72bb79635c7505c47] Установить 60% значение width в styles.css\n"
     ]
    }
   ],
   "source": [
    "git bisect good HEAD@{9} # здесь все было нормально "
   ]
  },
  {
   "cell_type": "code",
   "execution_count": 56,
   "id": "b1a958e3-7e55-48c3-a0c9-f54e7a3c6b6f",
   "metadata": {
    "tags": []
   },
   "outputs": [
    {
     "name": "stdout",
     "output_type": "stream",
     "text": [
      "Bisecting: 1 revision left to test after this (roughly 1 step)\n",
      "[4fae7fe9ad027855c6632754c1c7c58828af13ac] Установить 80% значение width в styles.css\n"
     ]
    }
   ],
   "source": [
    "git bisect bad"
   ]
  },
  {
   "cell_type": "code",
   "execution_count": 57,
   "id": "b11443b3-30cd-4e5d-bb43-af50d36833ed",
   "metadata": {
    "tags": []
   },
   "outputs": [
    {
     "name": "stdout",
     "output_type": "stream",
     "text": [
      "Bisecting: 0 revisions left to test after this (roughly 0 steps)\n",
      "[28ba2adb5812cbe4c09168f83874335423d0ff0e] Установить 90% значение width в styles.css\n"
     ]
    }
   ],
   "source": [
    "git bisect bad"
   ]
  },
  {
   "cell_type": "code",
   "execution_count": 58,
   "id": "772ecccd-4edb-4bca-a4b3-3e57f473e579",
   "metadata": {
    "tags": []
   },
   "outputs": [
    {
     "name": "stdout",
     "output_type": "stream",
     "text": [
      "4fae7fe9ad027855c6632754c1c7c58828af13ac is the first bad commit\n",
      "commit 4fae7fe9ad027855c6632754c1c7c58828af13ac\n",
      "Author: Nikita Eshkeev <neshkeev@yandex.ru>\n",
      "Date:   Fri Mar 17 21:15:38 2023 +0000\n",
      "\n",
      "    Установить 80% значение width в styles.css\n",
      "\n",
      " styles.css | 2 +-\n",
      " 1 file changed, 1 insertion(+), 1 deletion(-)\n"
     ]
    }
   ],
   "source": [
    "git bisect good"
   ]
  },
  {
   "cell_type": "code",
   "execution_count": 60,
   "id": "9df3b615-f155-4c2f-bd18-2c051c577086",
   "metadata": {
    "tags": []
   },
   "outputs": [
    {
     "name": "stdout",
     "output_type": "stream",
     "text": [
      "commit 4fae7fe9ad027855c6632754c1c7c58828af13ac (refs/bisect/bad)\n",
      "Author: Nikita Eshkeev <neshkeev@yandex.ru>\n",
      "Date:   Fri Mar 17 21:15:38 2023 +0000\n",
      "\n",
      "    Установить 80% значение width в styles.css\n",
      "\n",
      "diff --git a/styles.css b/styles.css\n",
      "index acad967..57fc645 100755\n",
      "--- a/styles.css\n",
      "+++ b/styles.css\n",
      "@@ -1,5 +1,5 @@\n",
      " body {\n",
      "     background-color: black;\n",
      "     font-size: 30px;\n",
      "-    width: 90%;\n",
      "+    width: 80%;\n",
      " }\n",
      "\\ No newline at end of file\n"
     ]
    }
   ],
   "source": [
    "git show $(cat .git/refs/bisect/bad)"
   ]
  },
  {
   "cell_type": "code",
   "execution_count": 61,
   "id": "2a2acb6a-3cad-4cf0-aba8-40ca13f8e4c0",
   "metadata": {
    "tags": []
   },
   "outputs": [
    {
     "name": "stdout",
     "output_type": "stream",
     "text": [
      "Previous HEAD position was 28ba2ad Установить 90% значение width в styles.css\n",
      "Switched to branch 'master'\n"
     ]
    }
   ],
   "source": [
    "git bisect reset"
   ]
  },
  {
   "cell_type": "markdown",
   "id": "ecf58bf2-edb3-48b6-9088-01ae4e0493e6",
   "metadata": {},
   "source": [
    "Существуют более придвинутые техники использования команды `git bisect` в автоматическом режиме. Более подробно можно ознакомиться с ними в [документации](https://git-scm.com/docs/git-bisect#_examples) "
   ]
  },
  {
   "cell_type": "markdown",
   "id": "4acf7263-dbd8-48ab-893e-54306877a579",
   "metadata": {
    "tags": []
   },
   "source": [
    "### Задание"
   ]
  },
  {
   "cell_type": "markdown",
   "id": "02eb1e7d-54c7-405d-8130-25a7d97084da",
   "metadata": {},
   "source": [
    "Найти коммит в котором появился черный фон в index.html"
   ]
  },
  {
   "cell_type": "markdown",
   "id": "391f6771-cf51-423d-b1f2-368d4530f25d",
   "metadata": {},
   "source": [
    "## Команда `git annotate`"
   ]
  },
  {
   "cell_type": "markdown",
   "id": "9704a239-8eaf-4881-977c-47bfc5cc374a",
   "metadata": {},
   "source": [
    "Команда `git annotate` позволяет посмотреть какая строчка в файле в каком коммите была изменена:"
   ]
  },
  {
   "cell_type": "code",
   "execution_count": 63,
   "id": "42f4d229-3b36-444b-bc31-e1f34a61227c",
   "metadata": {
    "tags": []
   },
   "outputs": [
    {
     "name": "stdout",
     "output_type": "stream",
     "text": [
      "a68afc37\t(Nikita Eshkeev\t2023-03-17 21:15:33 +0000\t1)body {\n",
      "a68afc37\t(Nikita Eshkeev\t2023-03-17 21:15:33 +0000\t2)    background-color: black;\n",
      "a68afc37\t(Nikita Eshkeev\t2023-03-17 21:15:33 +0000\t3)    font-size: 30px;\n",
      "33294470\t(Nikita Eshkeev\t2023-03-17 21:15:38 +0000\t4)    width: 10%;\n",
      "a68afc37\t(Nikita Eshkeev\t2023-03-17 21:15:33 +0000\t5)}\n"
     ]
    }
   ],
   "source": [
    "git annotate HEAD -- styles.css"
   ]
  },
  {
   "cell_type": "markdown",
   "id": "47367264-9e8b-406f-9c75-5ab82cc3b0d0",
   "metadata": {},
   "source": [
    "Можно заметить, что в команде участвует `HEAD`, что говорит о том, что изменения отсчитываются относительно HEAD. Вместо HEAD можно использовать любой объект, который имеет нотацию ветки или коммита:"
   ]
  },
  {
   "cell_type": "code",
   "execution_count": 64,
   "id": "c6a59344-8c2a-4c7c-bea0-dbd346baad09",
   "metadata": {
    "tags": []
   },
   "outputs": [
    {
     "name": "stdout",
     "output_type": "stream",
     "text": [
      "a68afc37\t(Nikita Eshkeev\t2023-03-17 21:15:33 +0000\t1)body {\n",
      "a68afc37\t(Nikita Eshkeev\t2023-03-17 21:15:33 +0000\t2)    background-color: black;\n",
      "a68afc37\t(Nikita Eshkeev\t2023-03-17 21:15:33 +0000\t3)    font-size: 30px;\n",
      "2c74b8fd\t(Nikita Eshkeev\t2023-03-17 21:15:38 +0000\t4)    width: 20%;\n",
      "a68afc37\t(Nikita Eshkeev\t2023-03-17 21:15:33 +0000\t5)}\n"
     ]
    }
   ],
   "source": [
    "git annotate HEAD^ -- styles.css"
   ]
  },
  {
   "cell_type": "code",
   "execution_count": 72,
   "id": "005a4403-0f51-4465-9915-befe6186b065",
   "metadata": {
    "tags": []
   },
   "outputs": [
    {
     "name": "stdout",
     "output_type": "stream",
     "text": [
      "75b5b46f\t(Nikita Eshkeev\t2023-03-17 20:22:38 +0000\t1)body {\n",
      "75b5b46f\t(Nikita Eshkeev\t2023-03-17 20:22:38 +0000\t2)    background-color: #ccc;\n",
      "75b5b46f\t(Nikita Eshkeev\t2023-03-17 20:22:38 +0000\t3)    font-size: 15px;\n",
      "75b5b46f\t(Nikita Eshkeev\t2023-03-17 20:22:38 +0000\t4)}\n"
     ]
    }
   ],
   "source": [
    "git annotate new-feature -- styles.css"
   ]
  },
  {
   "cell_type": "code",
   "execution_count": 70,
   "id": "01bb8d83-a16b-4a2d-8ded-f68248cd9a5f",
   "metadata": {
    "tags": []
   },
   "outputs": [],
   "source": [
    "commit=$(git annotate HEAD -- styles.css | head -n 1 | awk '{print $1}')"
   ]
  },
  {
   "cell_type": "code",
   "execution_count": 71,
   "id": "87555c20-45f1-4bba-8249-f4fdfe07b514",
   "metadata": {
    "tags": []
   },
   "outputs": [
    {
     "name": "stdout",
     "output_type": "stream",
     "text": [
      "a68afc37\n"
     ]
    }
   ],
   "source": [
    "echo \"$commit\""
   ]
  },
  {
   "cell_type": "code",
   "execution_count": 73,
   "id": "100b93dc-5d8f-479a-8263-c2a7b29336c7",
   "metadata": {
    "tags": []
   },
   "outputs": [
    {
     "name": "stdout",
     "output_type": "stream",
     "text": [
      "a68afc37\t(Nikita Eshkeev\t2023-03-17 21:15:33 +0000\t1)body {\n",
      "a68afc37\t(Nikita Eshkeev\t2023-03-17 21:15:33 +0000\t2)    background-color: black;\n",
      "a68afc37\t(Nikita Eshkeev\t2023-03-17 21:15:33 +0000\t3)    font-size: 30px;\n",
      "a68afc37\t(Nikita Eshkeev\t2023-03-17 21:15:33 +0000\t4)    width: 100%;\n",
      "a68afc37\t(Nikita Eshkeev\t2023-03-17 21:15:33 +0000\t5)}\n"
     ]
    }
   ],
   "source": [
    "git annotate \"$commit\" -- styles.css"
   ]
  },
  {
   "cell_type": "code",
   "execution_count": 74,
   "id": "48aa9996-e1b8-4866-a3b0-0fb4e621257e",
   "metadata": {
    "tags": []
   },
   "outputs": [
    {
     "name": "stdout",
     "output_type": "stream",
     "text": [
      "75b5b46f\t(Nikita Eshkeev\t2023-03-17 20:22:38 +0000\t1)body {\n",
      "e75edfbf\t(Nikita Eshkeev\t2023-03-17 20:23:24 +0000\t2)    background-color: black\n",
      "75b5b46f\t(Nikita Eshkeev\t2023-03-17 20:22:38 +0000\t3)    font-size: 15px;\n",
      "e75edfbf\t(Nikita Eshkeev\t2023-03-17 20:23:24 +0000\t4)    width: 100%}\n"
     ]
    }
   ],
   "source": [
    "git annotate \"$commit\"^ -- styles.css"
   ]
  },
  {
   "cell_type": "markdown",
   "id": "a24685de-4f9b-4480-a593-8801eb845aee",
   "metadata": {},
   "source": [
    "### Задание"
   ]
  },
  {
   "cell_type": "markdown",
   "id": "9c069803-bad0-4ba2-8d1a-ab5cb427ee1b",
   "metadata": {},
   "source": [
    "Проанализировать файл `index.html` при помощи `git annotate`"
   ]
  },
  {
   "cell_type": "markdown",
   "id": "ade89c43-e07e-4a49-9086-15d85a6c0dbd",
   "metadata": {
    "tags": []
   },
   "source": [
    "## Blame"
   ]
  },
  {
   "cell_type": "markdown",
   "id": "7fa8aef8-cdd8-4e57-8266-1ad0b9ab6ceb",
   "metadata": {
    "tags": []
   },
   "source": [
    "Команда `git blame` позволяет узнать какой автор и когда изменял конкретную строку или диапазон строк:"
   ]
  },
  {
   "cell_type": "code",
   "execution_count": 77,
   "id": "13f8225d-570e-4d4c-99b6-e3768e064ed8",
   "metadata": {
    "tags": []
   },
   "outputs": [
    {
     "name": "stdout",
     "output_type": "stream",
     "text": [
      "a68afc37 (Nikita Eshkeev 2023-03-17 21:15:33 +0000 2)     background-color: black;\n",
      "a68afc37 (Nikita Eshkeev 2023-03-17 21:15:33 +0000 3)     font-size: 30px;\n",
      "33294470 (Nikita Eshkeev 2023-03-17 21:15:38 +0000 4)     width: 10%;\n"
     ]
    }
   ],
   "source": [
    "git blame HEAD -L 2,4 -- styles.css"
   ]
  },
  {
   "cell_type": "code",
   "execution_count": 78,
   "id": "188e5a9b-fc23-4786-ae37-5614a72781e9",
   "metadata": {
    "tags": []
   },
   "outputs": [
    {
     "name": "stdout",
     "output_type": "stream",
     "text": [
      "c627f9d7 (Nikita Eshkeev 2023-03-17 21:15:38 +0000 4)     width: 40%;\n"
     ]
    }
   ],
   "source": [
    "git blame HEAD^^^ -L 4,4 -- styles.css"
   ]
  },
  {
   "cell_type": "markdown",
   "id": "04cb1995-e038-410b-b85d-6a966b847539",
   "metadata": {
    "tags": []
   },
   "source": [
    "### Задание"
   ]
  },
  {
   "cell_type": "markdown",
   "id": "5d167482-2544-4888-86e0-83a37935300a",
   "metadata": {
    "tags": []
   },
   "source": [
    "Проанализировать кто менял и когда менял строчки 5-7 в файле `index.html`"
   ]
  }
 ],
 "metadata": {
  "kernelspec": {
   "display_name": "Bash",
   "language": "bash",
   "name": "bash"
  },
  "language_info": {
   "codemirror_mode": "shell",
   "file_extension": ".sh",
   "mimetype": "text/x-sh",
   "name": "bash"
  }
 },
 "nbformat": 4,
 "nbformat_minor": 5
}
