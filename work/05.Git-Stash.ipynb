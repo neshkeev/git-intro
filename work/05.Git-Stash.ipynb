{
 "cells": [
  {
   "cell_type": "markdown",
   "id": "8176d389-745d-49aa-bd7e-82bc857f4647",
   "metadata": {},
   "source": [
    "# Основы работы с Git - Откладывание работы"
   ]
  },
  {
   "cell_type": "code",
   "execution_count": null,
   "id": "50dbf9f1-7b05-4ea7-ae5e-8724e5af3a40",
   "metadata": {
    "tags": []
   },
   "outputs": [],
   "source": [
    "cd ~/repo"
   ]
  },
  {
   "cell_type": "markdown",
   "id": "292a5322-ac8d-4b47-ac1f-f79f0fb2dcd0",
   "metadata": {},
   "source": [
    "## Мотивация"
   ]
  },
  {
   "cell_type": "markdown",
   "id": "b5ca86d6-cb8a-41a9-aa99-cd9a17710a9f",
   "metadata": {},
   "source": [
    "Иногда бывает нужно внести небольшое изменение в стабильную версию кода в репозитории, а потом вернуться обратно к текущей задаче. В таком случае нет необходимости фиксировать изменения в виде коммита, создавать новую ветку и переключаться на нее. Достаточно лишь\n",
    "\n",
    "1. \"отложить\" (stash) текущие изменения,\n",
    "2. внести изменение в стабильную версию кода,\n",
    "3. вернуться к отложенным изменениям.\n",
    "\n",
    "Для этих целей идеально подойдет команда `git stash` "
   ]
  },
  {
   "cell_type": "markdown",
   "id": "81edc5a2-bfd9-4637-9125-e11227a6beed",
   "metadata": {},
   "source": [
    "### Внесение изменений в `styles.css`"
   ]
  },
  {
   "cell_type": "markdown",
   "id": "b6a0f3e2-039e-4991-8d05-38e738935ccb",
   "metadata": {},
   "source": [
    "*Примечание:* Вносить изменения можно при помощи встроенного редактора. Необходимо выбрать файл правой кнопкой мыши и выбрать *Open With -> Editor*"
   ]
  },
  {
   "cell_type": "code",
   "execution_count": null,
   "id": "a178abba-0b42-406e-a36f-d29424fed683",
   "metadata": {},
   "outputs": [],
   "source": [
    "git checkout -- styles.css"
   ]
  },
  {
   "cell_type": "code",
   "execution_count": null,
   "id": "7a054597-b2ce-4a6b-b87d-80fb107c21cd",
   "metadata": {
    "tags": []
   },
   "outputs": [],
   "source": [
    "sed -i '/background-color:/s,\\(.*:\\).*,\\1 black;,' styles.css"
   ]
  },
  {
   "cell_type": "code",
   "execution_count": null,
   "id": "9b358ff1-cea1-470e-8e31-fca200fc54b6",
   "metadata": {
    "tags": []
   },
   "outputs": [],
   "source": [
    "sed -i '/}/s,^,    width: 100%;\\n,' styles.css"
   ]
  },
  {
   "cell_type": "code",
   "execution_count": null,
   "id": "1f136197-36db-40e7-ab86-0c68afa0f928",
   "metadata": {
    "tags": []
   },
   "outputs": [],
   "source": [
    "cat styles.css"
   ]
  },
  {
   "cell_type": "code",
   "execution_count": null,
   "id": "599182f8-b850-445c-a8bf-afa0f22a1c43",
   "metadata": {
    "tags": []
   },
   "outputs": [],
   "source": [
    "git status"
   ]
  },
  {
   "cell_type": "code",
   "execution_count": null,
   "id": "3e9f835c-74c2-4234-b116-125b550de83e",
   "metadata": {
    "tags": []
   },
   "outputs": [],
   "source": [
    "git diff"
   ]
  },
  {
   "cell_type": "markdown",
   "id": "f1f84026-b67c-4555-ac77-fcf8e11fa361",
   "metadata": {},
   "source": [
    "### Новая задача"
   ]
  },
  {
   "cell_type": "markdown",
   "id": "4733e05f-b850-40ce-84ef-f1ee321b09ab",
   "metadata": {},
   "source": [
    "> Заключить в тэг `<p>` текст `First git repo` в тэге `<body>`"
   ]
  },
  {
   "cell_type": "markdown",
   "id": "aa031b88-fdb5-4edf-979a-63315c40e96f",
   "metadata": {},
   "source": [
    "### Отложить текущие изменения"
   ]
  },
  {
   "cell_type": "code",
   "execution_count": null,
   "id": "c7c10618-183f-487c-beb4-7a28a7f9c375",
   "metadata": {
    "tags": []
   },
   "outputs": [],
   "source": [
    "git stash"
   ]
  },
  {
   "cell_type": "code",
   "execution_count": null,
   "id": "3df055c5-d794-48f4-b057-7ccbabc2f8d8",
   "metadata": {
    "tags": []
   },
   "outputs": [],
   "source": [
    "git status"
   ]
  },
  {
   "cell_type": "code",
   "execution_count": null,
   "id": "f4db3cfc-d64e-4465-a855-1d62e0c66cbb",
   "metadata": {
    "tags": []
   },
   "outputs": [],
   "source": [
    "cat styles.css"
   ]
  },
  {
   "cell_type": "markdown",
   "id": "83fb730c-cf5f-481f-9608-8783abd2af8c",
   "metadata": {
    "tags": []
   },
   "source": [
    "### Выполнить новую задачу"
   ]
  },
  {
   "cell_type": "code",
   "execution_count": null,
   "id": "5f63b56d-8f02-4c6f-8f2c-1da4e3feb8f6",
   "metadata": {
    "tags": []
   },
   "outputs": [],
   "source": [
    "sed -i '/First git repo/s,First git repo,<p>\\0</p>,' index.html"
   ]
  },
  {
   "cell_type": "code",
   "execution_count": null,
   "id": "127689cd-2447-4364-b421-522d1047319c",
   "metadata": {
    "tags": []
   },
   "outputs": [],
   "source": [
    "cat index.html"
   ]
  },
  {
   "cell_type": "code",
   "execution_count": null,
   "id": "47e01f0e-f741-47db-b5ac-a016efb50fd6",
   "metadata": {
    "tags": []
   },
   "outputs": [],
   "source": [
    "git status"
   ]
  },
  {
   "cell_type": "code",
   "execution_count": null,
   "id": "d4349247-2d86-491d-a1e9-54788b4bca70",
   "metadata": {
    "tags": []
   },
   "outputs": [],
   "source": [
    "git diff"
   ]
  },
  {
   "cell_type": "code",
   "execution_count": null,
   "id": "ab2e4512-808d-4632-bfd0-c8dbfc085574",
   "metadata": {
    "tags": []
   },
   "outputs": [],
   "source": [
    "git add index.html"
   ]
  },
  {
   "cell_type": "code",
   "execution_count": null,
   "id": "cda422c3-2e65-48a8-8976-ec018e3a1bd2",
   "metadata": {
    "tags": []
   },
   "outputs": [],
   "source": [
    "git commit -m \"Обернуть First git repo в тэг <p>\""
   ]
  },
  {
   "cell_type": "code",
   "execution_count": null,
   "id": "88161b0f-0f08-4133-88ad-6fefde499d37",
   "metadata": {
    "tags": []
   },
   "outputs": [],
   "source": [
    "git status"
   ]
  },
  {
   "cell_type": "markdown",
   "id": "637ad7a7-1f95-46fd-bc35-e7d5d0c47ceb",
   "metadata": {
    "tags": []
   },
   "source": [
    "### Вернуть отложенные изменения"
   ]
  },
  {
   "cell_type": "markdown",
   "id": "8581c852-3290-4226-b2df-7d821f13177d",
   "metadata": {},
   "source": [
    "Посмотреть список отложенных изменений можно при помощи команды:"
   ]
  },
  {
   "cell_type": "code",
   "execution_count": null,
   "id": "3b49fc3e-3fef-4995-89dd-8e9b5080a040",
   "metadata": {
    "tags": []
   },
   "outputs": [],
   "source": [
    "git stash list"
   ]
  },
  {
   "cell_type": "markdown",
   "id": "85e5fd09-ff84-4fc0-9134-2e2acecc46ac",
   "metadata": {
    "tags": []
   },
   "source": [
    "Вернуть отложенные изменения можно при помощи команды `git stash pop`:"
   ]
  },
  {
   "cell_type": "code",
   "execution_count": null,
   "id": "72f19aa7-a669-437d-b329-bcd4289bb3a8",
   "metadata": {
    "tags": []
   },
   "outputs": [],
   "source": [
    "git stash pop"
   ]
  },
  {
   "cell_type": "code",
   "execution_count": null,
   "id": "8ac6442b-f04c-4104-9e94-60b07bab8432",
   "metadata": {
    "tags": []
   },
   "outputs": [],
   "source": [
    "git status"
   ]
  },
  {
   "cell_type": "code",
   "execution_count": null,
   "id": "2b8721ed-448e-4572-b101-35298d9ee28e",
   "metadata": {
    "tags": []
   },
   "outputs": [],
   "source": [
    "git diff"
   ]
  },
  {
   "cell_type": "markdown",
   "id": "a47b4634-c7da-4be6-882e-b21ac38a3854",
   "metadata": {
    "tags": []
   },
   "source": [
    "### Завершить работу с `styles.css`"
   ]
  },
  {
   "cell_type": "code",
   "execution_count": null,
   "id": "acb21128-ad21-4bd0-b17c-ee716734c814",
   "metadata": {
    "tags": []
   },
   "outputs": [],
   "source": [
    "git add styles.css"
   ]
  },
  {
   "cell_type": "code",
   "execution_count": null,
   "id": "beb636c4-af7e-40ca-804a-adf1f9395b73",
   "metadata": {
    "tags": []
   },
   "outputs": [],
   "source": [
    "git commit -m \"Изменить цвет фона и ширину <body>\""
   ]
  },
  {
   "cell_type": "markdown",
   "id": "bae4222a-d5aa-4b53-ac33-1aa3857f0727",
   "metadata": {},
   "source": [
    "## Описание команды `git stash`"
   ]
  },
  {
   "cell_type": "markdown",
   "id": "c5b6ece4-60dc-4595-9446-84f7f2aee613",
   "metadata": {},
   "source": [
    "Команду `git stash` можно вызывать несколько раз, при этом отложенные изменения сохраняются в стека. Команда `git stash pop` получает самое последнее отложенное изменение, а команда `git stash list` позволяет посмотреть состояние стека и изучить все отложенные изменения."
   ]
  },
  {
   "cell_type": "markdown",
   "id": "9083b1e9-3ed5-496a-849a-f0f7da9d01bd",
   "metadata": {},
   "source": [
    "### Особенности работы команды `git stash`"
   ]
  },
  {
   "cell_type": "markdown",
   "id": "28f2c04f-77fd-489d-93cc-60acf99fe20d",
   "metadata": {},
   "source": [
    "Git может отложить только те изменения, про которые он знает, т.е. если создать новый файл, то команда `git stash` не спрячет его:"
   ]
  },
  {
   "cell_type": "code",
   "execution_count": null,
   "id": "7385cd5f-8076-4ee8-ac16-cefaa538c081",
   "metadata": {
    "tags": []
   },
   "outputs": [],
   "source": [
    "touch new_file.txt"
   ]
  },
  {
   "cell_type": "code",
   "execution_count": null,
   "id": "b79815b4-109b-40eb-a8c6-f89246f27f66",
   "metadata": {
    "tags": []
   },
   "outputs": [],
   "source": [
    "git status"
   ]
  },
  {
   "cell_type": "code",
   "execution_count": null,
   "id": "909e80d4-39b6-49bb-804d-80598eabc135",
   "metadata": {
    "tags": []
   },
   "outputs": [],
   "source": [
    "git stash"
   ]
  },
  {
   "cell_type": "code",
   "execution_count": null,
   "id": "8a8c994b-3a18-409a-bbc1-26b66dad27a3",
   "metadata": {
    "tags": []
   },
   "outputs": [],
   "source": [
    "git stash list"
   ]
  },
  {
   "cell_type": "code",
   "execution_count": null,
   "id": "60eac3cf-d3cc-4f4c-b664-972bf37e75cd",
   "metadata": {
    "tags": []
   },
   "outputs": [],
   "source": [
    "git status"
   ]
  },
  {
   "cell_type": "code",
   "execution_count": null,
   "id": "26956eea-3f03-4478-9cd1-79f34fbcebae",
   "metadata": {
    "tags": []
   },
   "outputs": [],
   "source": [
    "git stash pop || true"
   ]
  },
  {
   "cell_type": "code",
   "execution_count": null,
   "id": "2d947453-16ee-4af6-a35b-057042524215",
   "metadata": {
    "tags": []
   },
   "outputs": [],
   "source": [
    "git add new_file.txt"
   ]
  },
  {
   "cell_type": "code",
   "execution_count": null,
   "id": "bbc1cb43-ea06-4fba-a358-91369d22932c",
   "metadata": {
    "tags": []
   },
   "outputs": [],
   "source": [
    "git commit -m \"Добавить new_file.txt\""
   ]
  },
  {
   "cell_type": "markdown",
   "id": "fee95f34-d328-47c2-8056-38e51daa9d51",
   "metadata": {
    "tags": []
   },
   "source": [
    "## Задание"
   ]
  },
  {
   "cell_type": "code",
   "execution_count": null,
   "id": "ae3556b7-4011-471e-aa2b-0904ab52d162",
   "metadata": {
    "tags": []
   },
   "outputs": [],
   "source": [
    "pwd"
   ]
  },
  {
   "cell_type": "code",
   "execution_count": null,
   "id": "8779d5e4-2248-4240-83eb-cb23e9e76b95",
   "metadata": {
    "tags": []
   },
   "outputs": [],
   "source": [
    "ls -l"
   ]
  },
  {
   "cell_type": "markdown",
   "id": "99bd1324-8c16-4c30-83cf-e6aa0a0a0580",
   "metadata": {},
   "source": [
    "1. Добавить `<div><label>Hello, World</label></div>` после тэга `<p>` в `/home/jovyan/repo/index.html`;\n",
    "1. Добавить строку \"Copyright <ИМЯ ФАМИЛИЯ>\" в конец `README.md`;\n",
    "1. Отложить изменения;\n",
    "1. Исправить заголовок `index.html` на `\"Hello, Stash!\"`;\n",
    "1. Зафиксировать изменения в заголовке;\n",
    "1. Восстановить отложенные изменения;\n",
    "1. Зафиксировать отложенные изменения."
   ]
  },
  {
   "cell_type": "code",
   "execution_count": null,
   "id": "5d6d1fea-31f9-42ee-8411-7772a4099eca",
   "metadata": {},
   "outputs": [],
   "source": []
  }
 ],
 "metadata": {
  "kernelspec": {
   "display_name": "Bash",
   "language": "bash",
   "name": "bash"
  },
  "language_info": {
   "codemirror_mode": "shell",
   "file_extension": ".sh",
   "mimetype": "text/x-sh",
   "name": "bash"
  }
 },
 "nbformat": 4,
 "nbformat_minor": 5
}
